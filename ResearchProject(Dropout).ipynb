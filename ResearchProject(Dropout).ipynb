{
  "nbformat": 4,
  "nbformat_minor": 0,
  "metadata": {
    "colab": {
      "name": "ResearchProject(Dropout).ipynb",
      "provenance": []
    },
    "kernelspec": {
      "name": "python3",
      "display_name": "Python 3"
    }
  },
  "cells": [
    {
      "cell_type": "code",
      "metadata": {
        "id": "6eMON3WFTtDL",
        "colab_type": "code",
        "colab": {}
      },
      "source": [
        ""
      ],
      "execution_count": null,
      "outputs": []
    },
    {
      "cell_type": "markdown",
      "metadata": {
        "id": "oOdOOm3SunmD",
        "colab_type": "text"
      },
      "source": [
        "\n",
        "# **Building A Movie Recommandation System With Pytorch(Dropout)**\n",
        "In this project, we are trying to predict the ratings that a user will give to an unseen movie, based on the ratings he gave to other movies. We will use the movielens dataset.The Main folder, which is ml-100k contains informations about 100 000 movies. We will use AutoEncoders to create our recommandation system. Let's start by importing the required libraries.\n",
        "\n",
        "\n",
        "\n"
      ]
    },
    {
      "cell_type": "code",
      "metadata": {
        "id": "WHjISKiVSRpf",
        "colab_type": "code",
        "colab": {}
      },
      "source": [
        "# AutoEncoders\n",
        "\n",
        "# Importing the libraries\n",
        "\n",
        "import numpy as np\n",
        "import pandas as pd\n",
        "import torch\n",
        "import torch.nn as nn\n",
        "import torch.nn.parallel\n",
        "import torch.optim as optim\n",
        "import torch.utils.data\n",
        "from torch.autograd import Variable\n",
        "from torchvision import datasets, transforms\n",
        "from torch.utils.data import Dataset\n",
        "import time\n",
        "\n",
        "import matplotlib.pyplot as plt\n"
      ],
      "execution_count": null,
      "outputs": []
    },
    {
      "cell_type": "code",
      "metadata": {
        "id": "O9kM0xA6ncI6",
        "colab_type": "code",
        "colab": {
          "resources": {
            "http://localhost:8080/nbextensions/google.colab/files.js": {
              "data": "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",
              "ok": true,
              "headers": [
                [
                  "content-type",
                  "application/javascript"
                ]
              ],
              "status": 200,
              "status_text": ""
            }
          },
          "base_uri": "https://localhost:8080/",
          "height": 72
        },
        "outputId": "cc6f57cf-8dc2-4655-f4ed-59fbf912d20e"
      },
      "source": [
        "from google.colab import files\n",
        "uploaded = files.upload()"
      ],
      "execution_count": null,
      "outputs": [
        {
          "output_type": "display_data",
          "data": {
            "text/html": [
              "\n",
              "     <input type=\"file\" id=\"files-9dc30424-de15-42f5-86ee-599c0af36b4c\" name=\"files[]\" multiple disabled\n",
              "        style=\"border:none\" />\n",
              "     <output id=\"result-9dc30424-de15-42f5-86ee-599c0af36b4c\">\n",
              "      Upload widget is only available when the cell has been executed in the\n",
              "      current browser session. Please rerun this cell to enable.\n",
              "      </output>\n",
              "      <script src=\"/nbextensions/google.colab/files.js\"></script> "
            ],
            "text/plain": [
              "<IPython.core.display.HTML object>"
            ]
          },
          "metadata": {
            "tags": []
          }
        },
        {
          "output_type": "stream",
          "text": [
            "Saving u1.base to u1.base\n"
          ],
          "name": "stdout"
        }
      ]
    },
    {
      "cell_type": "code",
      "metadata": {
        "id": "qZqjzECzoDeV",
        "colab_type": "code",
        "colab": {
          "resources": {
            "http://localhost:8080/nbextensions/google.colab/files.js": {
              "data": "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",
              "ok": true,
              "headers": [
                [
                  "content-type",
                  "application/javascript"
                ]
              ],
              "status": 200,
              "status_text": ""
            }
          },
          "base_uri": "https://localhost:8080/",
          "height": 38
        },
        "outputId": "4c642b61-7344-4421-9ef5-da45dd7e5226"
      },
      "source": [
        "from google.colab import files\n",
        "uploaded = files.upload()"
      ],
      "execution_count": null,
      "outputs": [
        {
          "output_type": "display_data",
          "data": {
            "text/html": [
              "\n",
              "     <input type=\"file\" id=\"files-f1854373-3eb1-4b62-8b5d-b568989be653\" name=\"files[]\" multiple disabled\n",
              "        style=\"border:none\" />\n",
              "     <output id=\"result-f1854373-3eb1-4b62-8b5d-b568989be653\">\n",
              "      Upload widget is only available when the cell has been executed in the\n",
              "      current browser session. Please rerun this cell to enable.\n",
              "      </output>\n",
              "      <script src=\"/nbextensions/google.colab/files.js\"></script> "
            ],
            "text/plain": [
              "<IPython.core.display.HTML object>"
            ]
          },
          "metadata": {
            "tags": []
          }
        }
      ]
    },
    {
      "cell_type": "code",
      "metadata": {
        "id": "Ml-How0bwVfM",
        "colab_type": "code",
        "colab": {}
      },
      "source": [
        ""
      ],
      "execution_count": null,
      "outputs": []
    },
    {
      "cell_type": "markdown",
      "metadata": {
        "colab_type": "text",
        "id": "JZxFQyEowV6y"
      },
      "source": [
        "# Dropout(0.2)\n",
        "\n",
        "* TRAINING LOSS: 0.9615\n",
        "* TEST LOSS: 0.9626\n",
        "* RMSE: 0.9811"
      ]
    },
    {
      "cell_type": "code",
      "metadata": {
        "colab_type": "code",
        "id": "MEVuBjmPwV6z",
        "colab": {}
      },
      "source": [
        "training = ['user_id', 'movie_id', 'rating', 'timestamp' ] #Create each column\n",
        "test = ['user_id', 'movie_id', 'rating', 'timestamp' ]     #Create each column"
      ],
      "execution_count": null,
      "outputs": []
    },
    {
      "cell_type": "code",
      "metadata": {
        "colab_type": "code",
        "id": "I8O3MUnbwV65",
        "colab": {}
      },
      "source": [
        "# Preparing the training set and the test set \n",
        "training_set = pd.read_csv('u1.base', names=training, delimiter = '\\t') # Read the file\n",
        "test_set = pd.read_csv('u1.test', names=test, delimiter = '\\t') #Read the file"
      ],
      "execution_count": null,
      "outputs": []
    },
    {
      "cell_type": "code",
      "metadata": {
        "colab_type": "code",
        "id": "OFf3_je-wV67",
        "colab": {}
      },
      "source": [
        "#Drop 'timestamp' column\n",
        "training_set= training_set.drop([\"timestamp\"], axis=1)"
      ],
      "execution_count": null,
      "outputs": []
    },
    {
      "cell_type": "code",
      "metadata": {
        "colab_type": "code",
        "id": "og-FZeMkwV6-",
        "colab": {}
      },
      "source": [
        "#Drop 'timestamp' column\n",
        "test_set= test_set.drop([\"timestamp\"], axis=1)"
      ],
      "execution_count": null,
      "outputs": []
    },
    {
      "cell_type": "code",
      "metadata": {
        "colab_type": "code",
        "id": "KZxFFiGZwV7B",
        "colab": {
          "base_uri": "https://localhost:8080/",
          "height": 204
        },
        "outputId": "ce72843d-ce74-4e81-8f40-7d5d0d168a7a"
      },
      "source": [
        "# Visualizing the first elements of the training_set\n",
        "training_set.head()"
      ],
      "execution_count": null,
      "outputs": [
        {
          "output_type": "execute_result",
          "data": {
            "text/html": [
              "<div>\n",
              "<style scoped>\n",
              "    .dataframe tbody tr th:only-of-type {\n",
              "        vertical-align: middle;\n",
              "    }\n",
              "\n",
              "    .dataframe tbody tr th {\n",
              "        vertical-align: top;\n",
              "    }\n",
              "\n",
              "    .dataframe thead th {\n",
              "        text-align: right;\n",
              "    }\n",
              "</style>\n",
              "<table border=\"1\" class=\"dataframe\">\n",
              "  <thead>\n",
              "    <tr style=\"text-align: right;\">\n",
              "      <th></th>\n",
              "      <th>user_id</th>\n",
              "      <th>movie_id</th>\n",
              "      <th>rating</th>\n",
              "    </tr>\n",
              "  </thead>\n",
              "  <tbody>\n",
              "    <tr>\n",
              "      <th>0</th>\n",
              "      <td>1</td>\n",
              "      <td>1</td>\n",
              "      <td>5</td>\n",
              "    </tr>\n",
              "    <tr>\n",
              "      <th>1</th>\n",
              "      <td>1</td>\n",
              "      <td>2</td>\n",
              "      <td>3</td>\n",
              "    </tr>\n",
              "    <tr>\n",
              "      <th>2</th>\n",
              "      <td>1</td>\n",
              "      <td>3</td>\n",
              "      <td>4</td>\n",
              "    </tr>\n",
              "    <tr>\n",
              "      <th>3</th>\n",
              "      <td>1</td>\n",
              "      <td>4</td>\n",
              "      <td>3</td>\n",
              "    </tr>\n",
              "    <tr>\n",
              "      <th>4</th>\n",
              "      <td>1</td>\n",
              "      <td>5</td>\n",
              "      <td>3</td>\n",
              "    </tr>\n",
              "  </tbody>\n",
              "</table>\n",
              "</div>"
            ],
            "text/plain": [
              "   user_id  movie_id  rating\n",
              "0        1         1       5\n",
              "1        1         2       3\n",
              "2        1         3       4\n",
              "3        1         4       3\n",
              "4        1         5       3"
            ]
          },
          "metadata": {
            "tags": []
          },
          "execution_count": 66
        }
      ]
    },
    {
      "cell_type": "code",
      "metadata": {
        "colab_type": "code",
        "id": "gtnpu41ywV7E",
        "colab": {}
      },
      "source": [
        "# Converting the training and test sets into numpy arrays\n",
        "training_set = np.array(training_set, dtype = 'int')\n",
        "test_set = np.array(test_set, dtype = 'int')"
      ],
      "execution_count": null,
      "outputs": []
    },
    {
      "cell_type": "code",
      "metadata": {
        "colab_type": "code",
        "id": "5KBoDz3ewV7G",
        "colab": {}
      },
      "source": [
        "# Getting the number of users and movies\n",
        "nb_users = int(max(max(training_set[:, 0]), max(test_set[:, 0])))\n",
        "nb_movies = int(max(max(training_set[:, 1]), max(test_set[:, 1])))"
      ],
      "execution_count": null,
      "outputs": []
    },
    {
      "cell_type": "code",
      "metadata": {
        "colab_type": "code",
        "id": "atwxpkfawV7L",
        "colab": {
          "base_uri": "https://localhost:8080/",
          "height": 51
        },
        "outputId": "0157ed5a-658d-4d50-917a-e45f47bab089"
      },
      "source": [
        "print(\"Number of users: {}\".format(nb_users))\n",
        "print(\"Number of movies: {}\".format(nb_movies))"
      ],
      "execution_count": null,
      "outputs": [
        {
          "output_type": "stream",
          "text": [
            "Number of users: 943\n",
            "Number of movies: 1682\n"
          ],
          "name": "stdout"
        }
      ]
    },
    {
      "cell_type": "code",
      "metadata": {
        "colab_type": "code",
        "id": "gffKKYAMwV7N",
        "colab": {}
      },
      "source": [
        "def convert(data):\n",
        "    # Initializing an empty list that will take the list of ratings given by a specific user\n",
        "    new_data = []\n",
        "    # Looping over all the users\n",
        "    for id_users in range(1, nb_users + 1):\n",
        "        # We get the id of the movies rated by the current user\n",
        "        id_movies = data[:, 1][data[:, 0] == id_users]\n",
        "        # We get the id of the ratings given by the current_user\n",
        "        id_ratings = data[:, 2][data[:, 0] == id_users]\n",
        "        # \n",
        "        ratings = np.zeros(nb_movies)\n",
        "        # For movies rated by the current user, we replace 0 with the rating\n",
        "        # The first element of ratings is at index 0. However, id_movies start at index 1.\n",
        "        # Therefore, ratings[id_movies - 1] will correspond to the location of the movie we're considering\n",
        "        ratings[id_movies - 1] = id_ratings\n",
        "        new_data.append(list(ratings))\n",
        "    return new_data"
      ],
      "execution_count": null,
      "outputs": []
    },
    {
      "cell_type": "code",
      "metadata": {
        "colab_type": "code",
        "id": "VY1F6nSiwV7Q",
        "colab": {}
      },
      "source": [
        "# Applying the convert function to the training and test set.\n",
        "training_set = convert(training_set)\n",
        "test_set = convert(test_set)"
      ],
      "execution_count": null,
      "outputs": []
    },
    {
      "cell_type": "code",
      "metadata": {
        "colab_type": "code",
        "id": "sipA8_lRwV7T",
        "colab": {}
      },
      "source": [
        "# Convert the data into Torch tensors\n",
        "training_set = torch.FloatTensor(training_set)\n",
        "test_set = torch.FloatTensor(test_set)"
      ],
      "execution_count": null,
      "outputs": []
    },
    {
      "cell_type": "code",
      "metadata": {
        "colab_type": "code",
        "id": "vdI42S5ZwV7W",
        "colab": {}
      },
      "source": [
        "class SAE(nn.Module):\n",
        "    # Initializing the class\n",
        "    def __init__(self, ):\n",
        "        # making the class get all the functions from the parent class nn.Module\n",
        "        super(SAE, self).__init__()\n",
        "        # Creating the first encoding layer. The number of input corresponds to the number of movies\n",
        "        #  Decide to encode it into 20 outputs\n",
        "        self.fc1 = nn.Linear(nb_movies, 20)\n",
        "        # Batch Normalization.\n",
        "        self.do1 = nn.Dropout(0.2)\n",
        "        # Creating the second encoding layer. From 20 inputs to 10 outputs\n",
        "        self.fc2 = nn.Linear(20, 10)\n",
        "        self.do2 = nn.Dropout(0.2)\n",
        "        # Creating the first decoding layer. From 10 inputs to 20 outputs\n",
        "        self.fc3 = nn.Linear(10, 20)\n",
        "        self.do3 = nn.Dropout(0.2)\n",
        "        # Creating the second hidden layer. From 20 inputs to nb_movies outputs\n",
        "        self.fc4 = nn.Linear(20, nb_movies)\n",
        "        # Creating the activation fucntion which will fire up specific neurons \n",
        "        self.activation = nn.Sigmoid()\n",
        "        \n",
        "        # Creating the function for forward propagation\n",
        "    def forward(self, x):\n",
        "        # x = self.do1(self.bn1(self.activation(self.fc1(x))))\n",
        "        # x = self.do2(self.bn2(self.activation(self.fc2(x))))\n",
        "        # x = self.do3(self.bn3(self.activation(self.fc3(x))))\n",
        "\n",
        "        x = self.do1(self.activation(self.fc1(x)))\n",
        "        x = self.do2(self.activation(self.fc2(x)))\n",
        "        x = self.do3(self.activation(self.fc3(x)))\n",
        "        # With autoencoder, we don't need an activation function for the last decoding part\n",
        "        x = self.fc4(x)\n",
        "        return x\n",
        "\n",
        "          \n",
        "    def predict(self, x): # x: visible nodes\n",
        "        x = self.forward(x)\n",
        "        return x\n",
        "  \n",
        "\n",
        "\n",
        "  "
      ],
      "execution_count": null,
      "outputs": []
    },
    {
      "cell_type": "code",
      "metadata": {
        "colab_type": "code",
        "id": "MVDfKdQvwV7Y",
        "colab": {}
      },
      "source": [
        " #Creating an instance of our SAE class\n",
        "sae = SAE()\n",
        "\n",
        "\n",
        " #Defining a criterion which specifies the metric to minimize.\n",
        " #In this case, we want to minimize the MSE (Mean Squared Error)\n",
        "\n",
        "criterion = nn.MSELoss()\n",
        "\n",
        "# Defining the algorithm used to minimize the loss function. \n",
        "#In this case, we'll use RMSprop\n",
        "\n",
        "optimizer = optim.RMSprop(sae.parameters(), lr = 0.01, weight_decay = 0.5)\n"
      ],
      "execution_count": null,
      "outputs": []
    },
    {
      "cell_type": "code",
      "metadata": {
        "colab_type": "code",
        "id": "XeuDCRMrwV7a",
        "colab": {
          "base_uri": "https://localhost:8080/",
          "height": 1000
        },
        "outputId": "be03e3f4-d9bd-4bcf-cb58-4bea2a475ec5"
      },
      "source": [
        "\n",
        "#time\n",
        "time_start = time.time()\n",
        "# Setting the number of epochs\n",
        "nb_epoch = 200\n",
        "\n",
        "# storing the  traning loss calculations\n",
        "flosses = [] \n",
        "\n",
        "# Iterating over each epoch\n",
        "for epoch in range(1, nb_epoch + 1):\n",
        "    # Initializing the train_loss which will be updated\n",
        "    train_loss = 0\n",
        "    # Initializing a counter\n",
        "    s = 0.\n",
        "    # Iterating over each user\n",
        "    for id_user in range(nb_users):\n",
        "        # The input corresponds to the ratings given by the current user for each movie\n",
        "        input = Variable(training_set[id_user]).unsqueeze(0)\n",
        "        target = input.clone()\n",
        "        # We don't consider movies NOT rated by the current user. So we specify a conditional statement\n",
        "        if torch.sum(target.data > 0) > 0:\n",
        "            # We use our SAE to get the output from the \n",
        "            output = sae(input)\n",
        "            target.require_grad = False\n",
        "            output[target == 0] = 0\n",
        "            # Defining our loss function, comparing the output with the target\n",
        "            loss = criterion(output, target)\n",
        "            mean_corrector = nb_movies/float(torch.sum(target.data > 0) + 1e-10)\n",
        "            # Computing the gradients necessary to adjust the weights\n",
        "            loss.backward()\n",
        "            # Updating the train_loss\n",
        "            train_loss += np.sqrt(loss.data*mean_corrector)\n",
        "            s += 1.\n",
        "            # Updating the weights of the neural network\n",
        "            optimizer.step()\n",
        "\n",
        "    epoch_loss = train_loss / len(training_set[id_user])\n",
        "    flosses.append(epoch_loss)  \n",
        "    print('epoch: '+str(epoch)+' loss: '+str(train_loss/s))\n",
        "time_end = time.time()\n",
        "print('Stacked-Autoencoder(SAE) Training Time : ' +str(round((time_end-time_start)/60,0))+' Minutes. ')"
      ],
      "execution_count": null,
      "outputs": [
        {
          "output_type": "stream",
          "text": [
            "epoch: 1 loss: tensor(1.7916)\n",
            "epoch: 2 loss: tensor(1.1567)\n",
            "epoch: 3 loss: tensor(1.1115)\n",
            "epoch: 4 loss: tensor(1.0983)\n",
            "epoch: 5 loss: tensor(1.0885)\n",
            "epoch: 6 loss: tensor(1.0860)\n",
            "epoch: 7 loss: tensor(1.0798)\n",
            "epoch: 8 loss: tensor(1.0753)\n",
            "epoch: 9 loss: tensor(1.0719)\n",
            "epoch: 10 loss: tensor(1.0744)\n",
            "epoch: 11 loss: tensor(1.0808)\n",
            "epoch: 12 loss: tensor(1.0728)\n",
            "epoch: 13 loss: tensor(1.0772)\n",
            "epoch: 14 loss: tensor(1.0758)\n",
            "epoch: 15 loss: tensor(1.0781)\n",
            "epoch: 16 loss: tensor(1.0849)\n",
            "epoch: 17 loss: tensor(1.0686)\n",
            "epoch: 18 loss: tensor(1.0581)\n",
            "epoch: 19 loss: tensor(1.0749)\n",
            "epoch: 20 loss: tensor(1.0633)\n",
            "epoch: 21 loss: tensor(1.0657)\n",
            "epoch: 22 loss: tensor(1.0718)\n",
            "epoch: 23 loss: tensor(1.0690)\n",
            "epoch: 24 loss: tensor(1.0718)\n",
            "epoch: 25 loss: tensor(1.0698)\n",
            "epoch: 26 loss: tensor(1.0727)\n",
            "epoch: 27 loss: tensor(1.0672)\n",
            "epoch: 28 loss: tensor(1.0664)\n",
            "epoch: 29 loss: tensor(1.0621)\n",
            "epoch: 30 loss: tensor(1.0741)\n",
            "epoch: 31 loss: tensor(1.0683)\n",
            "epoch: 32 loss: tensor(1.0572)\n",
            "epoch: 33 loss: tensor(1.0599)\n",
            "epoch: 34 loss: tensor(1.0645)\n",
            "epoch: 35 loss: tensor(1.0573)\n",
            "epoch: 36 loss: tensor(1.0625)\n",
            "epoch: 37 loss: tensor(1.0588)\n",
            "epoch: 38 loss: tensor(1.0622)\n",
            "epoch: 39 loss: tensor(1.0631)\n",
            "epoch: 40 loss: tensor(1.0652)\n",
            "epoch: 41 loss: tensor(1.0566)\n",
            "epoch: 42 loss: tensor(1.0592)\n",
            "epoch: 43 loss: tensor(1.0609)\n",
            "epoch: 44 loss: tensor(1.0560)\n",
            "epoch: 45 loss: tensor(1.0560)\n",
            "epoch: 46 loss: tensor(1.0560)\n",
            "epoch: 47 loss: tensor(1.0580)\n",
            "epoch: 48 loss: tensor(1.0580)\n",
            "epoch: 49 loss: tensor(1.0541)\n",
            "epoch: 50 loss: tensor(1.0500)\n",
            "epoch: 51 loss: tensor(1.0554)\n",
            "epoch: 52 loss: tensor(1.0496)\n",
            "epoch: 53 loss: tensor(1.0481)\n",
            "epoch: 54 loss: tensor(1.0486)\n",
            "epoch: 55 loss: tensor(1.0419)\n",
            "epoch: 56 loss: tensor(1.0442)\n",
            "epoch: 57 loss: tensor(1.0523)\n",
            "epoch: 58 loss: tensor(1.0410)\n",
            "epoch: 59 loss: tensor(1.0474)\n",
            "epoch: 60 loss: tensor(1.0423)\n",
            "epoch: 61 loss: tensor(1.0394)\n",
            "epoch: 62 loss: tensor(1.0444)\n",
            "epoch: 63 loss: tensor(1.0300)\n",
            "epoch: 64 loss: tensor(1.0397)\n",
            "epoch: 65 loss: tensor(1.0361)\n",
            "epoch: 66 loss: tensor(1.0390)\n",
            "epoch: 67 loss: tensor(1.0345)\n",
            "epoch: 68 loss: tensor(1.0345)\n",
            "epoch: 69 loss: tensor(1.0297)\n",
            "epoch: 70 loss: tensor(1.0261)\n",
            "epoch: 71 loss: tensor(1.0279)\n",
            "epoch: 72 loss: tensor(1.0200)\n",
            "epoch: 73 loss: tensor(1.0235)\n",
            "epoch: 74 loss: tensor(1.0235)\n",
            "epoch: 75 loss: tensor(1.0223)\n",
            "epoch: 76 loss: tensor(1.0245)\n",
            "epoch: 77 loss: tensor(1.0227)\n",
            "epoch: 78 loss: tensor(1.0238)\n",
            "epoch: 79 loss: tensor(1.0231)\n",
            "epoch: 80 loss: tensor(1.0247)\n",
            "epoch: 81 loss: tensor(1.0248)\n",
            "epoch: 82 loss: tensor(1.0258)\n",
            "epoch: 83 loss: tensor(1.0208)\n",
            "epoch: 84 loss: tensor(1.0166)\n",
            "epoch: 85 loss: tensor(1.0153)\n",
            "epoch: 86 loss: tensor(1.0195)\n",
            "epoch: 87 loss: tensor(1.0184)\n",
            "epoch: 88 loss: tensor(1.0189)\n",
            "epoch: 89 loss: tensor(1.0103)\n",
            "epoch: 90 loss: tensor(1.0120)\n",
            "epoch: 91 loss: tensor(1.0126)\n",
            "epoch: 92 loss: tensor(1.0150)\n",
            "epoch: 93 loss: tensor(1.0099)\n",
            "epoch: 94 loss: tensor(1.0085)\n",
            "epoch: 95 loss: tensor(1.0037)\n",
            "epoch: 96 loss: tensor(1.0051)\n",
            "epoch: 97 loss: tensor(1.0009)\n",
            "epoch: 98 loss: tensor(1.0042)\n",
            "epoch: 99 loss: tensor(1.0060)\n",
            "epoch: 100 loss: tensor(1.0027)\n",
            "epoch: 101 loss: tensor(1.0043)\n",
            "epoch: 102 loss: tensor(0.9998)\n",
            "epoch: 103 loss: tensor(1.0060)\n",
            "epoch: 104 loss: tensor(1.0021)\n",
            "epoch: 105 loss: tensor(1.0040)\n",
            "epoch: 106 loss: tensor(1.0003)\n",
            "epoch: 107 loss: tensor(0.9999)\n",
            "epoch: 108 loss: tensor(1.0010)\n",
            "epoch: 109 loss: tensor(0.9997)\n",
            "epoch: 110 loss: tensor(1.0075)\n",
            "epoch: 111 loss: tensor(1.0053)\n",
            "epoch: 112 loss: tensor(1.0002)\n",
            "epoch: 113 loss: tensor(1.0005)\n",
            "epoch: 114 loss: tensor(0.9998)\n",
            "epoch: 115 loss: tensor(0.9934)\n",
            "epoch: 116 loss: tensor(1.0055)\n",
            "epoch: 117 loss: tensor(0.9989)\n",
            "epoch: 118 loss: tensor(1.0017)\n",
            "epoch: 119 loss: tensor(0.9985)\n",
            "epoch: 120 loss: tensor(0.9995)\n",
            "epoch: 121 loss: tensor(0.9891)\n",
            "epoch: 122 loss: tensor(0.9960)\n",
            "epoch: 123 loss: tensor(1.0008)\n",
            "epoch: 124 loss: tensor(1.0003)\n",
            "epoch: 125 loss: tensor(0.9939)\n",
            "epoch: 126 loss: tensor(0.9958)\n",
            "epoch: 127 loss: tensor(0.9928)\n",
            "epoch: 128 loss: tensor(0.9966)\n",
            "epoch: 129 loss: tensor(0.9899)\n",
            "epoch: 130 loss: tensor(0.9914)\n",
            "epoch: 131 loss: tensor(0.9926)\n",
            "epoch: 132 loss: tensor(0.9852)\n",
            "epoch: 133 loss: tensor(0.9910)\n",
            "epoch: 134 loss: tensor(0.9880)\n",
            "epoch: 135 loss: tensor(0.9869)\n",
            "epoch: 136 loss: tensor(0.9881)\n",
            "epoch: 137 loss: tensor(0.9873)\n",
            "epoch: 138 loss: tensor(0.9871)\n",
            "epoch: 139 loss: tensor(0.9859)\n",
            "epoch: 140 loss: tensor(0.9876)\n",
            "epoch: 141 loss: tensor(0.9810)\n",
            "epoch: 142 loss: tensor(0.9817)\n",
            "epoch: 143 loss: tensor(0.9811)\n",
            "epoch: 144 loss: tensor(0.9816)\n",
            "epoch: 145 loss: tensor(0.9816)\n",
            "epoch: 146 loss: tensor(0.9822)\n",
            "epoch: 147 loss: tensor(0.9775)\n",
            "epoch: 148 loss: tensor(0.9815)\n",
            "epoch: 149 loss: tensor(0.9730)\n",
            "epoch: 150 loss: tensor(0.9798)\n",
            "epoch: 151 loss: tensor(0.9765)\n",
            "epoch: 152 loss: tensor(0.9832)\n",
            "epoch: 153 loss: tensor(0.9784)\n",
            "epoch: 154 loss: tensor(0.9774)\n",
            "epoch: 155 loss: tensor(0.9756)\n",
            "epoch: 156 loss: tensor(0.9738)\n",
            "epoch: 157 loss: tensor(0.9770)\n",
            "epoch: 158 loss: tensor(0.9775)\n",
            "epoch: 159 loss: tensor(0.9723)\n",
            "epoch: 160 loss: tensor(0.9761)\n",
            "epoch: 161 loss: tensor(0.9739)\n",
            "epoch: 162 loss: tensor(0.9750)\n",
            "epoch: 163 loss: tensor(0.9726)\n",
            "epoch: 164 loss: tensor(0.9722)\n",
            "epoch: 165 loss: tensor(0.9730)\n",
            "epoch: 166 loss: tensor(0.9731)\n",
            "epoch: 167 loss: tensor(0.9700)\n",
            "epoch: 168 loss: tensor(0.9732)\n",
            "epoch: 169 loss: tensor(0.9724)\n",
            "epoch: 170 loss: tensor(0.9715)\n",
            "epoch: 171 loss: tensor(0.9728)\n",
            "epoch: 172 loss: tensor(0.9726)\n",
            "epoch: 173 loss: tensor(0.9674)\n",
            "epoch: 174 loss: tensor(0.9677)\n",
            "epoch: 175 loss: tensor(0.9674)\n",
            "epoch: 176 loss: tensor(0.9708)\n",
            "epoch: 177 loss: tensor(0.9686)\n",
            "epoch: 178 loss: tensor(0.9716)\n",
            "epoch: 179 loss: tensor(0.9640)\n",
            "epoch: 180 loss: tensor(0.9685)\n",
            "epoch: 181 loss: tensor(0.9680)\n",
            "epoch: 182 loss: tensor(0.9620)\n",
            "epoch: 183 loss: tensor(0.9652)\n",
            "epoch: 184 loss: tensor(0.9645)\n",
            "epoch: 185 loss: tensor(0.9653)\n",
            "epoch: 186 loss: tensor(0.9719)\n",
            "epoch: 187 loss: tensor(0.9697)\n",
            "epoch: 188 loss: tensor(0.9658)\n",
            "epoch: 189 loss: tensor(0.9609)\n",
            "epoch: 190 loss: tensor(0.9600)\n",
            "epoch: 191 loss: tensor(0.9658)\n",
            "epoch: 192 loss: tensor(0.9668)\n",
            "epoch: 193 loss: tensor(0.9635)\n",
            "epoch: 194 loss: tensor(0.9611)\n",
            "epoch: 195 loss: tensor(0.9645)\n",
            "epoch: 196 loss: tensor(0.9636)\n",
            "epoch: 197 loss: tensor(0.9619)\n",
            "epoch: 198 loss: tensor(0.9601)\n",
            "epoch: 199 loss: tensor(0.9633)\n",
            "epoch: 200 loss: tensor(0.9615)\n",
            "Stacked-Autoencoder(SAE) Training Time : 5.0 Minutes. \n"
          ],
          "name": "stdout"
        }
      ]
    },
    {
      "cell_type": "code",
      "metadata": {
        "colab_type": "code",
        "id": "Uy8g6TONwV7d",
        "colab": {
          "base_uri": "https://localhost:8080/",
          "height": 295
        },
        "outputId": "9006ad8b-3adb-4979-b704-cb1a1c208ee9"
      },
      "source": [
        "epochs = range(1,201)\n",
        "plt.plot(epochs, flosses, 'g', label='Dropout value = 0.2') # 'g' = color green\n",
        "plt.title('Dropout - epoch =200')\n",
        "plt.xlabel('Epochs')\n",
        "plt.ylabel('Training  Loss')\n",
        "\n",
        "plt.legend()\n",
        "plt.show()"
      ],
      "execution_count": null,
      "outputs": [
        {
          "output_type": "display_data",
          "data": {
            "image/png": "[encoded data removed]",
            "text/plain": [
              "<Figure size 432x288 with 1 Axes>"
            ]
          },
          "metadata": {
            "tags": [],
            "needs_background": "light"
          }
        }
      ]
    },
    {
      "cell_type": "code",
      "metadata": {
        "colab_type": "code",
        "id": "0mFtrjFmwV7g",
        "colab": {
          "base_uri": "https://localhost:8080/",
          "height": 34
        },
        "outputId": "ebcee236-290b-4818-c54b-b65bce9ccd33"
      },
      "source": [
        "# Initializing the test_loss\n",
        "sae.eval()\n",
        "with torch.no_grad():\n",
        "  test_loss = 0\n",
        "  s = 0.\n",
        "  for id_user in range(nb_users):\n",
        "      input = Variable(training_set[id_user]).unsqueeze(0)\n",
        "      target = Variable(test_set[id_user]).unsqueeze(0)\n",
        "      if torch.sum(target.data > 0) > 0:\n",
        "          output = sae(input)\n",
        "          target.require_grad = False\n",
        "          output[(target == 0)] = 0\n",
        "          loss = criterion(output, target)\n",
        "  \n",
        "          mean_corrector = nb_movies/float(torch.sum(target.data > 0) + 1e-10)\n",
        "          test_loss += np.sqrt(loss.data*mean_corrector)\n",
        "          s += 1.\n",
        "          pred = sae(target)\n",
        "  print('test_loss: '+str(test_loss/s))\n",
        "\n",
        "\n",
        "\n"
      ],
      "execution_count": null,
      "outputs": [
        {
          "output_type": "stream",
          "text": [
            "test_loss: tensor(0.9626)\n"
          ],
          "name": "stdout"
        }
      ]
    },
    {
      "cell_type": "code",
      "metadata": {
        "colab_type": "code",
        "id": "akOIlZSIwV7j",
        "colab": {}
      },
      "source": [
        "from math import sqrt\n"
      ],
      "execution_count": null,
      "outputs": []
    },
    {
      "cell_type": "code",
      "metadata": {
        "colab_type": "code",
        "id": "JyRh8duRwV7l",
        "colab": {
          "base_uri": "https://localhost:8080/",
          "height": 34
        },
        "outputId": "74dda3b8-c9ba-4e90-b752-4135eb0edc15"
      },
      "source": [
        "RMSE = sqrt(0.9626)\n",
        "\n",
        "RMSE"
      ],
      "execution_count": null,
      "outputs": [
        {
          "output_type": "execute_result",
          "data": {
            "text/plain": [
              "0.9811218069128828"
            ]
          },
          "metadata": {
            "tags": []
          },
          "execution_count": 81
        }
      ]
    },
    {
      "cell_type": "code",
      "metadata": {
        "colab_type": "code",
        "id": "4Ii_w0J4wV7n",
        "colab": {}
      },
      "source": [
        ""
      ],
      "execution_count": null,
      "outputs": []
    },
    {
      "cell_type": "markdown",
      "metadata": {
        "id": "ZQe2KN_AvjJx",
        "colab_type": "text"
      },
      "source": [
        "# Dropout(0.2)-Applied only enocoder layers\n",
        "\n",
        "* TRAINING LOSS: 0.9338\n",
        "* TEST LOSS: 0.9572\n",
        "* RMSE: 0.9783"
      ]
    },
    {
      "cell_type": "code",
      "metadata": {
        "id": "-sMFWkXK2sjp",
        "colab_type": "code",
        "colab": {}
      },
      "source": [
        "training = ['user_id', 'movie_id', 'rating', 'timestamp' ] #Create each column\n",
        "test = ['user_id', 'movie_id', 'rating', 'timestamp' ]     #Create each column"
      ],
      "execution_count": null,
      "outputs": []
    },
    {
      "cell_type": "code",
      "metadata": {
        "id": "XTAgirYi2inu",
        "colab_type": "code",
        "colab": {}
      },
      "source": [
        "# Preparing the training set and the test set \n",
        "training_set = pd.read_csv('u1.base', names=training, delimiter = '\\t') # Read the file\n",
        "test_set = pd.read_csv('u1.test', names=test, delimiter = '\\t') #Read the file"
      ],
      "execution_count": null,
      "outputs": []
    },
    {
      "cell_type": "code",
      "metadata": {
        "id": "O19NYNPjR9ep",
        "colab_type": "code",
        "colab": {}
      },
      "source": [
        "#Drop 'timestamp' column\n",
        "training_set= training_set.drop([\"timestamp\"], axis=1)"
      ],
      "execution_count": null,
      "outputs": []
    },
    {
      "cell_type": "code",
      "metadata": {
        "id": "OZJv2_-rR-J3",
        "colab_type": "code",
        "colab": {}
      },
      "source": [
        "#Drop 'timestamp' column\n",
        "test_set= test_set.drop([\"timestamp\"], axis=1)"
      ],
      "execution_count": null,
      "outputs": []
    },
    {
      "cell_type": "code",
      "metadata": {
        "id": "3eIY02qj0tlY",
        "colab_type": "code",
        "colab": {
          "base_uri": "https://localhost:8080/",
          "height": 204
        },
        "outputId": "55d2a650-f1c6-4a65-d855-539dcf2ef565"
      },
      "source": [
        "# Visualizing the first elements of the training_set\n",
        "training_set.head()"
      ],
      "execution_count": null,
      "outputs": [
        {
          "output_type": "execute_result",
          "data": {
            "text/html": [
              "<div>\n",
              "<style scoped>\n",
              "    .dataframe tbody tr th:only-of-type {\n",
              "        vertical-align: middle;\n",
              "    }\n",
              "\n",
              "    .dataframe tbody tr th {\n",
              "        vertical-align: top;\n",
              "    }\n",
              "\n",
              "    .dataframe thead th {\n",
              "        text-align: right;\n",
              "    }\n",
              "</style>\n",
              "<table border=\"1\" class=\"dataframe\">\n",
              "  <thead>\n",
              "    <tr style=\"text-align: right;\">\n",
              "      <th></th>\n",
              "      <th>user_id</th>\n",
              "      <th>movie_id</th>\n",
              "      <th>rating</th>\n",
              "    </tr>\n",
              "  </thead>\n",
              "  <tbody>\n",
              "    <tr>\n",
              "      <th>0</th>\n",
              "      <td>1</td>\n",
              "      <td>1</td>\n",
              "      <td>5</td>\n",
              "    </tr>\n",
              "    <tr>\n",
              "      <th>1</th>\n",
              "      <td>1</td>\n",
              "      <td>2</td>\n",
              "      <td>3</td>\n",
              "    </tr>\n",
              "    <tr>\n",
              "      <th>2</th>\n",
              "      <td>1</td>\n",
              "      <td>3</td>\n",
              "      <td>4</td>\n",
              "    </tr>\n",
              "    <tr>\n",
              "      <th>3</th>\n",
              "      <td>1</td>\n",
              "      <td>4</td>\n",
              "      <td>3</td>\n",
              "    </tr>\n",
              "    <tr>\n",
              "      <th>4</th>\n",
              "      <td>1</td>\n",
              "      <td>5</td>\n",
              "      <td>3</td>\n",
              "    </tr>\n",
              "  </tbody>\n",
              "</table>\n",
              "</div>"
            ],
            "text/plain": [
              "   user_id  movie_id  rating\n",
              "0        1         1       5\n",
              "1        1         2       3\n",
              "2        1         3       4\n",
              "3        1         4       3\n",
              "4        1         5       3"
            ]
          },
          "metadata": {
            "tags": []
          },
          "execution_count": 8
        }
      ]
    },
    {
      "cell_type": "code",
      "metadata": {
        "id": "6Ss0o3S01S7W",
        "colab_type": "code",
        "colab": {}
      },
      "source": [
        "# Converting the training and test sets into numpy arrays\n",
        "training_set = np.array(training_set, dtype = 'int')\n",
        "test_set = np.array(test_set, dtype = 'int')"
      ],
      "execution_count": null,
      "outputs": []
    },
    {
      "cell_type": "code",
      "metadata": {
        "id": "MMwVu2i-1cUz",
        "colab_type": "code",
        "colab": {}
      },
      "source": [
        "# Getting the number of users and movies\n",
        "nb_users = int(max(max(training_set[:, 0]), max(test_set[:, 0])))\n",
        "nb_movies = int(max(max(training_set[:, 1]), max(test_set[:, 1])))"
      ],
      "execution_count": null,
      "outputs": []
    },
    {
      "cell_type": "code",
      "metadata": {
        "id": "yyQtN8gg1fPn",
        "colab_type": "code",
        "colab": {
          "base_uri": "https://localhost:8080/",
          "height": 51
        },
        "outputId": "9d8e613b-3f5b-46de-9258-e428ef56ef89"
      },
      "source": [
        "print(\"Number of users: {}\".format(nb_users))\n",
        "print(\"Number of movies: {}\".format(nb_movies))"
      ],
      "execution_count": null,
      "outputs": [
        {
          "output_type": "stream",
          "text": [
            "Number of users: 943\n",
            "Number of movies: 1682\n"
          ],
          "name": "stdout"
        }
      ]
    },
    {
      "cell_type": "code",
      "metadata": {
        "id": "gFG9B7JH1m5k",
        "colab_type": "code",
        "colab": {}
      },
      "source": [
        "def convert(data):\n",
        "    # Initializing an empty list that will take the list of ratings given by a specific user\n",
        "    new_data = []\n",
        "    # Looping over all the users\n",
        "    for id_users in range(1, nb_users + 1):\n",
        "        # We get the id of the movies rated by the current user\n",
        "        id_movies = data[:, 1][data[:, 0] == id_users]\n",
        "        # We get the id of the ratings given by the current_user\n",
        "        id_ratings = data[:, 2][data[:, 0] == id_users]\n",
        "        # \n",
        "        ratings = np.zeros(nb_movies)\n",
        "        # For movies rated by the current user, we replace 0 with the rating\n",
        "        # The first element of ratings is at index 0. However, id_movies start at index 1.\n",
        "        # Therefore, ratings[id_movies - 1] will correspond to the location of the movie we're considering\n",
        "        ratings[id_movies - 1] = id_ratings\n",
        "        new_data.append(list(ratings))\n",
        "    return new_data"
      ],
      "execution_count": null,
      "outputs": []
    },
    {
      "cell_type": "code",
      "metadata": {
        "colab_type": "code",
        "id": "upg5gJ0On0Q-",
        "colab": {}
      },
      "source": [
        "# Applying the convert function to the training and test set.\n",
        "training_set = convert(training_set)\n",
        "test_set = convert(test_set)"
      ],
      "execution_count": null,
      "outputs": []
    },
    {
      "cell_type": "code",
      "metadata": {
        "colab_type": "code",
        "id": "IXYenOehn0RB",
        "colab": {}
      },
      "source": [
        "# Convert the data into Torch tensors\n",
        "training_set = torch.FloatTensor(training_set)\n",
        "test_set = torch.FloatTensor(test_set)"
      ],
      "execution_count": null,
      "outputs": []
    },
    {
      "cell_type": "code",
      "metadata": {
        "colab_type": "code",
        "id": "uysToQPboWH1",
        "colab": {}
      },
      "source": [
        "class SAE(nn.Module):\n",
        "    # Initializing the class\n",
        "    def __init__(self, ):\n",
        "        # making the class get all the functions from the parent class nn.Module\n",
        "        super(SAE, self).__init__()\n",
        "        # Creating the first encoding layer. The number of input corresponds to the number of movies\n",
        "        #  Decide to encode it into 20 outputs\n",
        "        self.fc1 = nn.Linear(nb_movies, 20)\n",
        "        self.do1 = nn.Dropout(0.2)\n",
        "        # Creating the second encoding layer. From 20 inputs to 10 outputs\n",
        "        self.fc2 = nn.Linear(20, 10)\n",
        "        self.do2 = nn.Dropout(0.2)\n",
        "        # Creating the first decoding layer. From 10 inputs to 20 outputs\n",
        "        self.fc3 = nn.Linear(10, 20)\n",
        "        # Creating the second hidden layer. From 20 inputs to nb_movies outputs\n",
        "        self.fc4 = nn.Linear(20, nb_movies)\n",
        "        # Creating the activation fucntion which will fire up specific neurons \n",
        "        self.activation = nn.Sigmoid()\n",
        "        \n",
        "        # Creating the function for forward propagation\n",
        "    def forward(self, x):\n",
        "        # x = self.do1(self.bn1(self.activation(self.fc1(x))))\n",
        "        # x = self.do2(self.bn2(self.activation(self.fc2(x))))\n",
        "        # x = self.do3(self.bn3(self.activation(self.fc3(x))))\n",
        "\n",
        "        x = self.do1(self.activation(self.fc1(x)))\n",
        "        x = self.do2(self.activation(self.fc2(x)))\n",
        "        x = self.activation(self.fc3(x))\n",
        "        # With autoencoder, we don't need an activation function for the last decoding part\n",
        "        x = self.fc4(x)\n",
        "        return x\n",
        "\n",
        "          \n",
        "    def predict(self, x): # x: visible nodes\n",
        "        x = self.forward(x)\n",
        "        return x\n",
        "  \n",
        "\n",
        "\n",
        "  "
      ],
      "execution_count": null,
      "outputs": []
    },
    {
      "cell_type": "code",
      "metadata": {
        "colab_type": "code",
        "id": "8DeqfnSfoWH6",
        "colab": {}
      },
      "source": [
        " #Creating an instance of our SAE class\n",
        "sae = SAE()\n",
        "\n",
        "\n",
        " #Defining a criterion which specifies the metric to minimize.\n",
        " #In this case, we want to minimize the MSE (Mean Squared Error)\n",
        "\n",
        "criterion = nn.MSELoss()\n",
        "\n",
        "# Defining the algorithm used to minimize the loss function. \n",
        "#In this case, we'll use RMSprop\n",
        "\n",
        "optimizer = optim.RMSprop(sae.parameters(), lr = 0.01, weight_decay = 0.5)\n"
      ],
      "execution_count": null,
      "outputs": []
    },
    {
      "cell_type": "code",
      "metadata": {
        "id": "NOAd0dp03sZg",
        "colab_type": "code",
        "colab": {
          "base_uri": "https://localhost:8080/",
          "height": 1000
        },
        "outputId": "ce4002f4-fef9-44fc-de71-4f78f0cf7dc9"
      },
      "source": [
        "\n",
        "#time\n",
        "time_start = time.time()\n",
        "# Setting the number of epochs\n",
        "nb_epoch = 200\n",
        "\n",
        "# storing the  traning loss calculations\n",
        "dlosses = [] \n",
        "\n",
        "# Iterating over each epoch\n",
        "for epoch in range(1, nb_epoch + 1):\n",
        "    # Initializing the train_loss which will be updated\n",
        "    train_loss = 0\n",
        "    # Initializing a counter\n",
        "    s = 0.\n",
        "    # Iterating over each user\n",
        "    for id_user in range(nb_users):\n",
        "        # The input corresponds to the ratings given by the current user for each movie\n",
        "        input = Variable(training_set[id_user]).unsqueeze(0)\n",
        "        target = input.clone()\n",
        "        # We don't consider movies NOT rated by the current user. So we specify a conditional statement\n",
        "        if torch.sum(target.data > 0) > 0:\n",
        "            # We use our SAE to get the output from the \n",
        "            output = sae(input)\n",
        "            target.require_grad = False\n",
        "            output[target == 0] = 0\n",
        "            # Defining our loss function, comparing the output with the target\n",
        "            loss = criterion(output, target)\n",
        "            mean_corrector = nb_movies/float(torch.sum(target.data > 0) + 1e-10)\n",
        "            # Computing the gradients necessary to adjust the weights\n",
        "            loss.backward()\n",
        "            # Updating the train_loss\n",
        "            train_loss += np.sqrt(loss.data*mean_corrector)\n",
        "            s += 1.\n",
        "            # Updating the weights of the neural network\n",
        "            optimizer.step()\n",
        "\n",
        "    epoch_loss = train_loss / len(training_set[id_user])\n",
        "    dlosses.append(epoch_loss)  \n",
        "    print('epoch: '+str(epoch)+' loss: '+str(train_loss/s))\n",
        "time_end = time.time()\n",
        "print('Stacked-Autoencoder(SAE) Training Time : ' +str(round((time_end-time_start)/60,0))+' Minutes. ')"
      ],
      "execution_count": null,
      "outputs": [
        {
          "output_type": "stream",
          "text": [
            "epoch: 1 loss: tensor(1.7733)\n",
            "epoch: 2 loss: tensor(1.0972)\n",
            "epoch: 3 loss: tensor(1.0533)\n",
            "epoch: 4 loss: tensor(1.0387)\n",
            "epoch: 5 loss: tensor(1.0308)\n",
            "epoch: 6 loss: tensor(1.0264)\n",
            "epoch: 7 loss: tensor(1.0236)\n",
            "epoch: 8 loss: tensor(1.0218)\n",
            "epoch: 9 loss: tensor(1.0213)\n",
            "epoch: 10 loss: tensor(1.0198)\n",
            "epoch: 11 loss: tensor(1.0192)\n",
            "epoch: 12 loss: tensor(1.0183)\n",
            "epoch: 13 loss: tensor(1.0178)\n",
            "epoch: 14 loss: tensor(1.0175)\n",
            "epoch: 15 loss: tensor(1.0183)\n",
            "epoch: 16 loss: tensor(1.0170)\n",
            "epoch: 17 loss: tensor(1.0165)\n",
            "epoch: 18 loss: tensor(1.0167)\n",
            "epoch: 19 loss: tensor(1.0167)\n",
            "epoch: 20 loss: tensor(1.0164)\n",
            "epoch: 21 loss: tensor(1.0163)\n",
            "epoch: 22 loss: tensor(1.0167)\n",
            "epoch: 23 loss: tensor(1.0161)\n",
            "epoch: 24 loss: tensor(1.0153)\n",
            "epoch: 25 loss: tensor(1.0162)\n",
            "epoch: 26 loss: tensor(1.0161)\n",
            "epoch: 27 loss: tensor(1.0155)\n",
            "epoch: 28 loss: tensor(1.0154)\n",
            "epoch: 29 loss: tensor(1.0157)\n",
            "epoch: 30 loss: tensor(1.0159)\n",
            "epoch: 31 loss: tensor(1.0152)\n",
            "epoch: 32 loss: tensor(1.0162)\n",
            "epoch: 33 loss: tensor(1.0155)\n",
            "epoch: 34 loss: tensor(1.0158)\n",
            "epoch: 35 loss: tensor(1.0158)\n",
            "epoch: 36 loss: tensor(1.0152)\n",
            "epoch: 37 loss: tensor(1.0151)\n",
            "epoch: 38 loss: tensor(1.0156)\n",
            "epoch: 39 loss: tensor(1.0157)\n",
            "epoch: 40 loss: tensor(1.0155)\n",
            "epoch: 41 loss: tensor(1.0153)\n",
            "epoch: 42 loss: tensor(1.0154)\n",
            "epoch: 43 loss: tensor(1.0153)\n",
            "epoch: 44 loss: tensor(1.0152)\n",
            "epoch: 45 loss: tensor(1.0153)\n",
            "epoch: 46 loss: tensor(1.0153)\n",
            "epoch: 47 loss: tensor(1.0140)\n",
            "epoch: 48 loss: tensor(1.0138)\n",
            "epoch: 49 loss: tensor(1.0127)\n",
            "epoch: 50 loss: tensor(1.0117)\n",
            "epoch: 51 loss: tensor(1.0105)\n",
            "epoch: 52 loss: tensor(1.0087)\n",
            "epoch: 53 loss: tensor(1.0074)\n",
            "epoch: 54 loss: tensor(1.0049)\n",
            "epoch: 55 loss: tensor(1.0053)\n",
            "epoch: 56 loss: tensor(1.0029)\n",
            "epoch: 57 loss: tensor(1.0028)\n",
            "epoch: 58 loss: tensor(1.0030)\n",
            "epoch: 59 loss: tensor(0.9996)\n",
            "epoch: 60 loss: tensor(1.0020)\n",
            "epoch: 61 loss: tensor(0.9958)\n",
            "epoch: 62 loss: tensor(0.9987)\n",
            "epoch: 63 loss: tensor(0.9941)\n",
            "epoch: 64 loss: tensor(0.9962)\n",
            "epoch: 65 loss: tensor(0.9915)\n",
            "epoch: 66 loss: tensor(0.9920)\n",
            "epoch: 67 loss: tensor(0.9874)\n",
            "epoch: 68 loss: tensor(0.9868)\n",
            "epoch: 69 loss: tensor(0.9847)\n",
            "epoch: 70 loss: tensor(0.9862)\n",
            "epoch: 71 loss: tensor(0.9881)\n",
            "epoch: 72 loss: tensor(0.9863)\n",
            "epoch: 73 loss: tensor(0.9858)\n",
            "epoch: 74 loss: tensor(0.9821)\n",
            "epoch: 75 loss: tensor(0.9819)\n",
            "epoch: 76 loss: tensor(0.9811)\n",
            "epoch: 77 loss: tensor(0.9759)\n",
            "epoch: 78 loss: tensor(0.9771)\n",
            "epoch: 79 loss: tensor(0.9748)\n",
            "epoch: 80 loss: tensor(0.9753)\n",
            "epoch: 81 loss: tensor(0.9759)\n",
            "epoch: 82 loss: tensor(0.9745)\n",
            "epoch: 83 loss: tensor(0.9748)\n",
            "epoch: 84 loss: tensor(0.9738)\n",
            "epoch: 85 loss: tensor(0.9742)\n",
            "epoch: 86 loss: tensor(0.9720)\n",
            "epoch: 87 loss: tensor(0.9725)\n",
            "epoch: 88 loss: tensor(0.9703)\n",
            "epoch: 89 loss: tensor(0.9717)\n",
            "epoch: 90 loss: tensor(0.9694)\n",
            "epoch: 91 loss: tensor(0.9704)\n",
            "epoch: 92 loss: tensor(0.9686)\n",
            "epoch: 93 loss: tensor(0.9699)\n",
            "epoch: 94 loss: tensor(0.9666)\n",
            "epoch: 95 loss: tensor(0.9669)\n",
            "epoch: 96 loss: tensor(0.9698)\n",
            "epoch: 97 loss: tensor(0.9686)\n",
            "epoch: 98 loss: tensor(0.9686)\n",
            "epoch: 99 loss: tensor(0.9662)\n",
            "epoch: 100 loss: tensor(0.9659)\n",
            "epoch: 101 loss: tensor(0.9655)\n",
            "epoch: 102 loss: tensor(0.9639)\n",
            "epoch: 103 loss: tensor(0.9638)\n",
            "epoch: 104 loss: tensor(0.9645)\n",
            "epoch: 105 loss: tensor(0.9703)\n",
            "epoch: 106 loss: tensor(0.9681)\n",
            "epoch: 107 loss: tensor(0.9696)\n",
            "epoch: 108 loss: tensor(0.9688)\n",
            "epoch: 109 loss: tensor(0.9699)\n",
            "epoch: 110 loss: tensor(0.9677)\n",
            "epoch: 111 loss: tensor(0.9673)\n",
            "epoch: 112 loss: tensor(0.9629)\n",
            "epoch: 113 loss: tensor(0.9642)\n",
            "epoch: 114 loss: tensor(0.9624)\n",
            "epoch: 115 loss: tensor(0.9629)\n",
            "epoch: 116 loss: tensor(0.9634)\n",
            "epoch: 117 loss: tensor(0.9604)\n",
            "epoch: 118 loss: tensor(0.9593)\n",
            "epoch: 119 loss: tensor(0.9597)\n",
            "epoch: 120 loss: tensor(0.9596)\n",
            "epoch: 121 loss: tensor(0.9564)\n",
            "epoch: 122 loss: tensor(0.9572)\n",
            "epoch: 123 loss: tensor(0.9565)\n",
            "epoch: 124 loss: tensor(0.9542)\n",
            "epoch: 125 loss: tensor(0.9563)\n",
            "epoch: 126 loss: tensor(0.9544)\n",
            "epoch: 127 loss: tensor(0.9523)\n",
            "epoch: 128 loss: tensor(0.9543)\n",
            "epoch: 129 loss: tensor(0.9530)\n",
            "epoch: 130 loss: tensor(0.9517)\n",
            "epoch: 131 loss: tensor(0.9520)\n",
            "epoch: 132 loss: tensor(0.9512)\n",
            "epoch: 133 loss: tensor(0.9495)\n",
            "epoch: 134 loss: tensor(0.9503)\n",
            "epoch: 135 loss: tensor(0.9474)\n",
            "epoch: 136 loss: tensor(0.9468)\n",
            "epoch: 137 loss: tensor(0.9487)\n",
            "epoch: 138 loss: tensor(0.9453)\n",
            "epoch: 139 loss: tensor(0.9471)\n",
            "epoch: 140 loss: tensor(0.9445)\n",
            "epoch: 141 loss: tensor(0.9490)\n",
            "epoch: 142 loss: tensor(0.9503)\n",
            "epoch: 143 loss: tensor(0.9485)\n",
            "epoch: 144 loss: tensor(0.9474)\n",
            "epoch: 145 loss: tensor(0.9471)\n",
            "epoch: 146 loss: tensor(0.9491)\n",
            "epoch: 147 loss: tensor(0.9463)\n",
            "epoch: 148 loss: tensor(0.9444)\n",
            "epoch: 149 loss: tensor(0.9469)\n",
            "epoch: 150 loss: tensor(0.9443)\n",
            "epoch: 151 loss: tensor(0.9463)\n",
            "epoch: 152 loss: tensor(0.9447)\n",
            "epoch: 153 loss: tensor(0.9415)\n",
            "epoch: 154 loss: tensor(0.9430)\n",
            "epoch: 155 loss: tensor(0.9416)\n",
            "epoch: 156 loss: tensor(0.9410)\n",
            "epoch: 157 loss: tensor(0.9438)\n",
            "epoch: 158 loss: tensor(0.9400)\n",
            "epoch: 159 loss: tensor(0.9425)\n",
            "epoch: 160 loss: tensor(0.9429)\n",
            "epoch: 161 loss: tensor(0.9393)\n",
            "epoch: 162 loss: tensor(0.9405)\n",
            "epoch: 163 loss: tensor(0.9400)\n",
            "epoch: 164 loss: tensor(0.9413)\n",
            "epoch: 165 loss: tensor(0.9391)\n",
            "epoch: 166 loss: tensor(0.9396)\n",
            "epoch: 167 loss: tensor(0.9390)\n",
            "epoch: 168 loss: tensor(0.9380)\n",
            "epoch: 169 loss: tensor(0.9384)\n",
            "epoch: 170 loss: tensor(0.9437)\n",
            "epoch: 171 loss: tensor(0.9402)\n",
            "epoch: 172 loss: tensor(0.9396)\n",
            "epoch: 173 loss: tensor(0.9368)\n",
            "epoch: 174 loss: tensor(0.9378)\n",
            "epoch: 175 loss: tensor(0.9365)\n",
            "epoch: 176 loss: tensor(0.9363)\n",
            "epoch: 177 loss: tensor(0.9375)\n",
            "epoch: 178 loss: tensor(0.9369)\n",
            "epoch: 179 loss: tensor(0.9370)\n",
            "epoch: 180 loss: tensor(0.9349)\n",
            "epoch: 181 loss: tensor(0.9355)\n",
            "epoch: 182 loss: tensor(0.9341)\n",
            "epoch: 183 loss: tensor(0.9347)\n",
            "epoch: 184 loss: tensor(0.9350)\n",
            "epoch: 185 loss: tensor(0.9340)\n",
            "epoch: 186 loss: tensor(0.9340)\n",
            "epoch: 187 loss: tensor(0.9338)\n",
            "epoch: 188 loss: tensor(0.9356)\n",
            "epoch: 189 loss: tensor(0.9338)\n",
            "epoch: 190 loss: tensor(0.9318)\n",
            "epoch: 191 loss: tensor(0.9321)\n",
            "epoch: 192 loss: tensor(0.9328)\n",
            "epoch: 193 loss: tensor(0.9338)\n",
            "epoch: 194 loss: tensor(0.9323)\n",
            "epoch: 195 loss: tensor(0.9337)\n",
            "epoch: 196 loss: tensor(0.9343)\n",
            "epoch: 197 loss: tensor(0.9347)\n",
            "epoch: 198 loss: tensor(0.9339)\n",
            "epoch: 199 loss: tensor(0.9333)\n",
            "epoch: 200 loss: tensor(0.9338)\n",
            "Stacked-Autoencoder(SAE) Training Time : 5.0 Minutes. \n"
          ],
          "name": "stdout"
        }
      ]
    },
    {
      "cell_type": "code",
      "metadata": {
        "id": "Hjzm4_-Hp-BL",
        "colab_type": "code",
        "colab": {
          "base_uri": "https://localhost:8080/",
          "height": 295
        },
        "outputId": "101b8c97-1dda-4383-9c2f-04a423501246"
      },
      "source": [
        "epochs = range(1,201)\n",
        "plt.plot(epochs, dlosses, 'r', label=' dropout = 0.2 (Applied only enocoder layers) ') # 'g' = color green\n",
        "plt.title('Dropout - epoch =200')\n",
        "plt.xlabel('Epochs')\n",
        "plt.ylabel('Training  Loss')\n",
        "\n",
        "plt.legend()\n",
        "plt.show()"
      ],
      "execution_count": null,
      "outputs": [
        {
          "output_type": "display_data",
          "data": {
            "image/png": "[encoded data removed]",
            "text/plain": [
              "<Figure size 432x288 with 1 Axes>"
            ]
          },
          "metadata": {
            "tags": [],
            "needs_background": "light"
          }
        }
      ]
    },
    {
      "cell_type": "code",
      "metadata": {
        "id": "o-x5uFR-qB2r",
        "colab_type": "code",
        "colab": {
          "base_uri": "https://localhost:8080/",
          "height": 34
        },
        "outputId": "a37693ea-23c4-4f5c-faff-5d09bc5470c7"
      },
      "source": [
        "# Initializing the test_loss\n",
        "sae.eval()\n",
        "with torch.no_grad():\n",
        "  test_loss = 0\n",
        "  s = 0.\n",
        "  for id_user in range(nb_users):\n",
        "      input = Variable(training_set[id_user]).unsqueeze(0)\n",
        "      target = Variable(test_set[id_user]).unsqueeze(0)\n",
        "      if torch.sum(target.data > 0) > 0:\n",
        "          output = sae(input)\n",
        "          target.require_grad = False\n",
        "          output[(target == 0)] = 0\n",
        "          loss = criterion(output, target)\n",
        "  \n",
        "          mean_corrector = nb_movies/float(torch.sum(target.data > 0) + 1e-10)\n",
        "          test_loss += np.sqrt(loss.data*mean_corrector)\n",
        "          s += 1.\n",
        "          pred = sae(target)\n",
        "  print('test_loss: '+str(test_loss/s))\n",
        "\n",
        "\n",
        "\n"
      ],
      "execution_count": null,
      "outputs": [
        {
          "output_type": "stream",
          "text": [
            "test_loss: tensor(0.9572)\n"
          ],
          "name": "stdout"
        }
      ]
    },
    {
      "cell_type": "code",
      "metadata": {
        "id": "_TI01_6XF5a7",
        "colab_type": "code",
        "colab": {}
      },
      "source": [
        "from math import sqrt\n"
      ],
      "execution_count": null,
      "outputs": []
    },
    {
      "cell_type": "code",
      "metadata": {
        "id": "oDDia2UdE3gU",
        "colab_type": "code",
        "colab": {
          "base_uri": "https://localhost:8080/",
          "height": 34
        },
        "outputId": "7bd10402-520b-451b-b00e-a2cb5f795eb9"
      },
      "source": [
        "RMSE = sqrt(0.9572)\n",
        "\n",
        "RMSE"
      ],
      "execution_count": null,
      "outputs": [
        {
          "output_type": "execute_result",
          "data": {
            "text/plain": [
              "0.9783659846908007"
            ]
          },
          "metadata": {
            "tags": []
          },
          "execution_count": 24
        }
      ]
    },
    {
      "cell_type": "code",
      "metadata": {
        "id": "6dL7jNuBw_-y",
        "colab_type": "code",
        "colab": {}
      },
      "source": [
        ""
      ],
      "execution_count": null,
      "outputs": []
    },
    {
      "cell_type": "code",
      "metadata": {
        "colab_type": "code",
        "id": "dG143XnNwV7p",
        "colab": {
          "base_uri": "https://localhost:8080/",
          "height": 295
        },
        "outputId": "c9793d0c-d9d3-4b93-d089-6f288d936383"
      },
      "source": [
        "epochs = range(1,201)\n",
        "plt.plot(epochs, flosses, 'g', label='Dropout value = 0.2') # 'g' = color green\n",
        "plt.plot(epochs, dlosses, 'r', label=' Dropout value = 0.2 (Applied only enocoder layers) ') # 'g' = color green\n",
        "plt.title('Dropout - epoch =200')\n",
        "plt.xlabel('Epochs')\n",
        "plt.ylabel('Training  Loss')\n",
        "\n",
        "plt.legend()\n",
        "plt.show()\n",
        "\n"
      ],
      "execution_count": null,
      "outputs": [
        {
          "output_type": "display_data",
          "data": {
            "image/png": "[encoded data removed]",
            "text/plain": [
              "<Figure size 432x288 with 1 Axes>"
            ]
          },
          "metadata": {
            "tags": [],
            "needs_background": "light"
          }
        }
      ]
    },
    {
      "cell_type": "markdown",
      "metadata": {
        "id": "zfm74nucW6RF",
        "colab_type": "text"
      },
      "source": [
        "# Other results"
      ]
    },
    {
      "cell_type": "markdown",
      "metadata": {
        "id": "3vGOzsGG1iyy",
        "colab_type": "text"
      },
      "source": [
        "# Dropout (0.4)\n",
        "\n",
        "* TRAINING LOSS: 0.9983\n",
        "* TEST LOSS: 0.9902\n",
        "* RMSE: 0.9950"
      ]
    },
    {
      "cell_type": "code",
      "metadata": {
        "id": "P1ADub-7bzlG",
        "colab_type": "code",
        "colab": {}
      },
      "source": [
        ""
      ],
      "execution_count": null,
      "outputs": []
    },
    {
      "cell_type": "code",
      "metadata": {
        "colab_type": "code",
        "id": "ETfYydEWb0hJ",
        "colab": {}
      },
      "source": [
        "training = ['user_id', 'movie_id', 'rating', 'timestamp' ] #Create each column\n",
        "test = ['user_id', 'movie_id', 'rating', 'timestamp' ]     #Create each column"
      ],
      "execution_count": null,
      "outputs": []
    },
    {
      "cell_type": "code",
      "metadata": {
        "colab_type": "code",
        "id": "4q8rVUDSb0hL",
        "colab": {}
      },
      "source": [
        "# Preparing the training set and the test set \n",
        "training_set = pd.read_csv('u1.base', names=training, delimiter = '\\t') # Read the file\n",
        "test_set = pd.read_csv('u1.test', names=test, delimiter = '\\t') #Read the file"
      ],
      "execution_count": null,
      "outputs": []
    },
    {
      "cell_type": "code",
      "metadata": {
        "colab_type": "code",
        "id": "b-C9c2x0b0hO",
        "colab": {}
      },
      "source": [
        "#Drop 'timestamp' column\n",
        "training_set= training_set.drop([\"timestamp\"], axis=1)"
      ],
      "execution_count": null,
      "outputs": []
    },
    {
      "cell_type": "code",
      "metadata": {
        "colab_type": "code",
        "id": "dyJKDWOIb0hR",
        "colab": {}
      },
      "source": [
        "#Drop 'timestamp' column\n",
        "test_set= test_set.drop([\"timestamp\"], axis=1)"
      ],
      "execution_count": null,
      "outputs": []
    },
    {
      "cell_type": "code",
      "metadata": {
        "colab_type": "code",
        "id": "53sbKGDvb0hT",
        "colab": {
          "base_uri": "https://localhost:8080/",
          "height": 204
        },
        "outputId": "b5e4b472-ae50-4196-d46b-6bba2a910ca5"
      },
      "source": [
        "# Visualizing the first elements of the training_set\n",
        "training_set.head()"
      ],
      "execution_count": null,
      "outputs": [
        {
          "output_type": "execute_result",
          "data": {
            "text/html": [
              "<div>\n",
              "<style scoped>\n",
              "    .dataframe tbody tr th:only-of-type {\n",
              "        vertical-align: middle;\n",
              "    }\n",
              "\n",
              "    .dataframe tbody tr th {\n",
              "        vertical-align: top;\n",
              "    }\n",
              "\n",
              "    .dataframe thead th {\n",
              "        text-align: right;\n",
              "    }\n",
              "</style>\n",
              "<table border=\"1\" class=\"dataframe\">\n",
              "  <thead>\n",
              "    <tr style=\"text-align: right;\">\n",
              "      <th></th>\n",
              "      <th>user_id</th>\n",
              "      <th>movie_id</th>\n",
              "      <th>rating</th>\n",
              "    </tr>\n",
              "  </thead>\n",
              "  <tbody>\n",
              "    <tr>\n",
              "      <th>0</th>\n",
              "      <td>1</td>\n",
              "      <td>1</td>\n",
              "      <td>5</td>\n",
              "    </tr>\n",
              "    <tr>\n",
              "      <th>1</th>\n",
              "      <td>1</td>\n",
              "      <td>2</td>\n",
              "      <td>3</td>\n",
              "    </tr>\n",
              "    <tr>\n",
              "      <th>2</th>\n",
              "      <td>1</td>\n",
              "      <td>3</td>\n",
              "      <td>4</td>\n",
              "    </tr>\n",
              "    <tr>\n",
              "      <th>3</th>\n",
              "      <td>1</td>\n",
              "      <td>4</td>\n",
              "      <td>3</td>\n",
              "    </tr>\n",
              "    <tr>\n",
              "      <th>4</th>\n",
              "      <td>1</td>\n",
              "      <td>5</td>\n",
              "      <td>3</td>\n",
              "    </tr>\n",
              "  </tbody>\n",
              "</table>\n",
              "</div>"
            ],
            "text/plain": [
              "   user_id  movie_id  rating\n",
              "0        1         1       5\n",
              "1        1         2       3\n",
              "2        1         3       4\n",
              "3        1         4       3\n",
              "4        1         5       3"
            ]
          },
          "metadata": {
            "tags": []
          },
          "execution_count": 8
        }
      ]
    },
    {
      "cell_type": "code",
      "metadata": {
        "colab_type": "code",
        "id": "Xy_troJ_b0hV",
        "colab": {}
      },
      "source": [
        "# Converting the training and test sets into numpy arrays\n",
        "training_set = np.array(training_set, dtype = 'int')\n",
        "test_set = np.array(test_set, dtype = 'int')"
      ],
      "execution_count": null,
      "outputs": []
    },
    {
      "cell_type": "code",
      "metadata": {
        "colab_type": "code",
        "id": "BDcdIHw4b0hX",
        "colab": {}
      },
      "source": [
        "# Getting the number of users and movies\n",
        "nb_users = int(max(max(training_set[:, 0]), max(test_set[:, 0])))\n",
        "nb_movies = int(max(max(training_set[:, 1]), max(test_set[:, 1])))"
      ],
      "execution_count": null,
      "outputs": []
    },
    {
      "cell_type": "code",
      "metadata": {
        "colab_type": "code",
        "id": "KbkoHRcob0hZ",
        "colab": {
          "base_uri": "https://localhost:8080/",
          "height": 51
        },
        "outputId": "abbf6904-ffa4-4b30-a9c6-77e6f66ebcbd"
      },
      "source": [
        "print(\"Number of users: {}\".format(nb_users))\n",
        "print(\"Number of movies: {}\".format(nb_movies))"
      ],
      "execution_count": null,
      "outputs": [
        {
          "output_type": "stream",
          "text": [
            "Number of users: 943\n",
            "Number of movies: 1682\n"
          ],
          "name": "stdout"
        }
      ]
    },
    {
      "cell_type": "code",
      "metadata": {
        "colab_type": "code",
        "id": "KLGZ8ig8b0hc",
        "colab": {}
      },
      "source": [
        "def convert(data):\n",
        "    # Initializing an empty list that will take the list of ratings given by a specific user\n",
        "    new_data = []\n",
        "    # Looping over all the users\n",
        "    for id_users in range(1, nb_users + 1):\n",
        "        # We get the id of the movies rated by the current user\n",
        "        id_movies = data[:, 1][data[:, 0] == id_users]\n",
        "        # We get the id of the ratings given by the current_user\n",
        "        id_ratings = data[:, 2][data[:, 0] == id_users]\n",
        "        # \n",
        "        ratings = np.zeros(nb_movies)\n",
        "        # For movies rated by the current user, we replace 0 with the rating\n",
        "        # The first element of ratings is at index 0. However, id_movies start at index 1.\n",
        "        # Therefore, ratings[id_movies - 1] will correspond to the location of the movie we're considering\n",
        "        ratings[id_movies - 1] = id_ratings\n",
        "        new_data.append(list(ratings))\n",
        "    return new_data"
      ],
      "execution_count": null,
      "outputs": []
    },
    {
      "cell_type": "code",
      "metadata": {
        "colab_type": "code",
        "id": "S4Y4hbZnb0he",
        "colab": {}
      },
      "source": [
        "# Applying the convert function to the training and test set.\n",
        "training_set = convert(training_set)\n",
        "test_set = convert(test_set)"
      ],
      "execution_count": null,
      "outputs": []
    },
    {
      "cell_type": "code",
      "metadata": {
        "colab_type": "code",
        "id": "SU6AzxpFb0hh",
        "colab": {}
      },
      "source": [
        "# Convert the data into Torch tensors\n",
        "training_set = torch.FloatTensor(training_set)\n",
        "test_set = torch.FloatTensor(test_set)"
      ],
      "execution_count": null,
      "outputs": []
    },
    {
      "cell_type": "code",
      "metadata": {
        "colab_type": "code",
        "id": "abjghbNKb0hk",
        "colab": {}
      },
      "source": [
        "class SAE(nn.Module):\n",
        "    # Initializing the class\n",
        "    def __init__(self, ):\n",
        "        # making the class get all the functions from the parent class nn.Module\n",
        "        super(SAE, self).__init__()\n",
        "        # Creating the first encoding layer. The number of input corresponds to the number of movies\n",
        "        #  Decide to encode it into 20 outputs\n",
        "        self.fc1 = nn.Linear(nb_movies, 20)\n",
        "        self.do1 = nn.Dropout(0.4)\n",
        "        # Creating the second encoding layer. From 20 inputs to 10 outputs\n",
        "        self.fc2 = nn.Linear(20, 10)\n",
        "        self.do2 = nn.Dropout(0.4)\n",
        "        # Creating the first decoding layer. From 10 inputs to 20 outputs\n",
        "        self.fc3 = nn.Linear(10, 20)\n",
        "        self.do3 = nn.Dropout(0.4)\n",
        "        # Creating the second hidden layer. From 20 inputs to nb_movies outputs\n",
        "        self.fc4 = nn.Linear(20, nb_movies)\n",
        "        # Creating the activation fucntion which will fire up specific neurons \n",
        "        self.activation = nn.Sigmoid()\n",
        "        \n",
        "        # Creating the function for forward propagation\n",
        "    def forward(self, x):\n",
        "        # x = self.do1(self.bn1(self.activation(self.fc1(x))))\n",
        "        # x = self.do2(self.bn2(self.activation(self.fc2(x))))\n",
        "        # x = self.do3(self.bn3(self.activation(self.fc3(x))))\n",
        "\n",
        "        x = self.do1(self.activation(self.fc1(x)))\n",
        "        x = self.do2(self.activation(self.fc2(x)))\n",
        "        x = self.do3(self.activation(self.fc3(x)))\n",
        "        # With autoencoder, we don't need an activation function for the last decoding part\n",
        "        x = self.fc4(x)\n",
        "        return x\n",
        "\n",
        "          \n",
        "    def predict(self, x): # x: visible nodes\n",
        "        x = self.forward(x)\n",
        "        return x\n",
        "  \n",
        "\n",
        "\n",
        "  "
      ],
      "execution_count": null,
      "outputs": []
    },
    {
      "cell_type": "code",
      "metadata": {
        "colab_type": "code",
        "id": "dNDzD9hkb0hm",
        "colab": {}
      },
      "source": [
        " #Creating an instance of our SAE class\n",
        "sae = SAE()\n",
        "\n",
        "\n",
        " #Defining a criterion which specifies the metric to minimize.\n",
        " #In this case, we want to minimize the MSE (Mean Squared Error)\n",
        "\n",
        "criterion = nn.MSELoss()\n",
        "\n",
        "# Defining the algorithm used to minimize the loss function. \n",
        "#In this case, we'll use RMSprop\n",
        "\n",
        "optimizer = optim.RMSprop(sae.parameters(), lr = 0.01, weight_decay = 0.5)\n"
      ],
      "execution_count": null,
      "outputs": []
    },
    {
      "cell_type": "code",
      "metadata": {
        "colab_type": "code",
        "id": "PtoBZF0Fb0hp",
        "colab": {
          "base_uri": "https://localhost:8080/",
          "height": 1000
        },
        "outputId": "27b6f49c-ed82-4de1-c48a-1a3dfecbfdf6"
      },
      "source": [
        "\n",
        "#time\n",
        "time_start = time.time()\n",
        "# Setting the number of epochs\n",
        "nb_epoch = 200\n",
        "\n",
        "# storing the  traning loss calculations\n",
        "elosses = [] \n",
        "\n",
        "# Iterating over each epoch\n",
        "for epoch in range(1, nb_epoch + 1):\n",
        "    # Initializing the train_loss which will be updated\n",
        "    train_loss = 0\n",
        "    # Initializing a counter\n",
        "    s = 0.\n",
        "    # Iterating over each user\n",
        "    for id_user in range(nb_users):\n",
        "        # The input corresponds to the ratings given by the current user for each movie\n",
        "        input = Variable(training_set[id_user]).unsqueeze(0)\n",
        "        target = input.clone()\n",
        "        # We don't consider movies NOT rated by the current user. So we specify a conditional statement\n",
        "        if torch.sum(target.data > 0) > 0:\n",
        "            # We use our SAE to get the output from the \n",
        "            output = sae(input)\n",
        "            target.require_grad = False\n",
        "            output[target == 0] = 0\n",
        "            # Defining our loss function, comparing the output with the target\n",
        "            loss = criterion(output, target)\n",
        "            mean_corrector = nb_movies/float(torch.sum(target.data > 0) + 1e-10)\n",
        "            # Computing the gradients necessary to adjust the weights\n",
        "            loss.backward()\n",
        "            # Updating the train_loss\n",
        "            train_loss += np.sqrt(loss.data*mean_corrector)\n",
        "            s += 1.\n",
        "            # Updating the weights of the neural network\n",
        "            optimizer.step()\n",
        "\n",
        "    epoch_loss = train_loss / len(training_set[id_user])\n",
        "    elosses.append(epoch_loss)  \n",
        "    print('epoch: '+str(epoch)+' loss: '+str(train_loss/s))\n",
        "time_end = time.time()\n",
        "print('Stacked-Autoencoder(SAE) Training Time : ' +str(round((time_end-time_start)/60,0))+' Minutes. ')"
      ],
      "execution_count": null,
      "outputs": [
        {
          "output_type": "stream",
          "text": [
            "epoch: 1 loss: tensor(1.8733)\n",
            "epoch: 2 loss: tensor(1.2340)\n",
            "epoch: 3 loss: tensor(1.1814)\n",
            "epoch: 4 loss: tensor(1.1809)\n",
            "epoch: 5 loss: tensor(1.1672)\n",
            "epoch: 6 loss: tensor(1.1652)\n",
            "epoch: 7 loss: tensor(1.1545)\n",
            "epoch: 8 loss: tensor(1.1706)\n",
            "epoch: 9 loss: tensor(1.1591)\n",
            "epoch: 10 loss: tensor(1.1550)\n",
            "epoch: 11 loss: tensor(1.1450)\n",
            "epoch: 12 loss: tensor(1.1440)\n",
            "epoch: 13 loss: tensor(1.1353)\n",
            "epoch: 14 loss: tensor(1.1388)\n",
            "epoch: 15 loss: tensor(1.1347)\n",
            "epoch: 16 loss: tensor(1.1397)\n",
            "epoch: 17 loss: tensor(1.1278)\n",
            "epoch: 18 loss: tensor(1.1167)\n",
            "epoch: 19 loss: tensor(1.1235)\n",
            "epoch: 20 loss: tensor(1.1213)\n",
            "epoch: 21 loss: tensor(1.1275)\n",
            "epoch: 22 loss: tensor(1.1136)\n",
            "epoch: 23 loss: tensor(1.1114)\n",
            "epoch: 24 loss: tensor(1.1242)\n",
            "epoch: 25 loss: tensor(1.1186)\n",
            "epoch: 26 loss: tensor(1.1136)\n",
            "epoch: 27 loss: tensor(1.1081)\n",
            "epoch: 28 loss: tensor(1.1084)\n",
            "epoch: 29 loss: tensor(1.1074)\n",
            "epoch: 30 loss: tensor(1.1178)\n",
            "epoch: 31 loss: tensor(1.1040)\n",
            "epoch: 32 loss: tensor(1.1171)\n",
            "epoch: 33 loss: tensor(1.1104)\n",
            "epoch: 34 loss: tensor(1.1149)\n",
            "epoch: 35 loss: tensor(1.1019)\n",
            "epoch: 36 loss: tensor(1.0963)\n",
            "epoch: 37 loss: tensor(1.1033)\n",
            "epoch: 38 loss: tensor(1.0958)\n",
            "epoch: 39 loss: tensor(1.1008)\n",
            "epoch: 40 loss: tensor(1.0922)\n",
            "epoch: 41 loss: tensor(1.0863)\n",
            "epoch: 42 loss: tensor(1.0892)\n",
            "epoch: 43 loss: tensor(1.0980)\n",
            "epoch: 44 loss: tensor(1.0914)\n",
            "epoch: 45 loss: tensor(1.0888)\n",
            "epoch: 46 loss: tensor(1.0889)\n",
            "epoch: 47 loss: tensor(1.0874)\n",
            "epoch: 48 loss: tensor(1.0843)\n",
            "epoch: 49 loss: tensor(1.0784)\n",
            "epoch: 50 loss: tensor(1.0811)\n",
            "epoch: 51 loss: tensor(1.0803)\n",
            "epoch: 52 loss: tensor(1.0760)\n",
            "epoch: 53 loss: tensor(1.0788)\n",
            "epoch: 54 loss: tensor(1.0817)\n",
            "epoch: 55 loss: tensor(1.0851)\n",
            "epoch: 56 loss: tensor(1.0797)\n",
            "epoch: 57 loss: tensor(1.0746)\n",
            "epoch: 58 loss: tensor(1.0802)\n",
            "epoch: 59 loss: tensor(1.0822)\n",
            "epoch: 60 loss: tensor(1.0770)\n",
            "epoch: 61 loss: tensor(1.0776)\n",
            "epoch: 62 loss: tensor(1.0757)\n",
            "epoch: 63 loss: tensor(1.0657)\n",
            "epoch: 64 loss: tensor(1.0699)\n",
            "epoch: 65 loss: tensor(1.0789)\n",
            "epoch: 66 loss: tensor(1.0778)\n",
            "epoch: 67 loss: tensor(1.0720)\n",
            "epoch: 68 loss: tensor(1.0775)\n",
            "epoch: 69 loss: tensor(1.0745)\n",
            "epoch: 70 loss: tensor(1.0652)\n",
            "epoch: 71 loss: tensor(1.0689)\n",
            "epoch: 72 loss: tensor(1.0732)\n",
            "epoch: 73 loss: tensor(1.0750)\n",
            "epoch: 74 loss: tensor(1.0672)\n",
            "epoch: 75 loss: tensor(1.0648)\n",
            "epoch: 76 loss: tensor(1.0691)\n",
            "epoch: 77 loss: tensor(1.0638)\n",
            "epoch: 78 loss: tensor(1.0665)\n",
            "epoch: 79 loss: tensor(1.0715)\n",
            "epoch: 80 loss: tensor(1.0742)\n",
            "epoch: 81 loss: tensor(1.0664)\n",
            "epoch: 82 loss: tensor(1.0587)\n",
            "epoch: 83 loss: tensor(1.0575)\n",
            "epoch: 84 loss: tensor(1.0557)\n",
            "epoch: 85 loss: tensor(1.0602)\n",
            "epoch: 86 loss: tensor(1.0675)\n",
            "epoch: 87 loss: tensor(1.0610)\n",
            "epoch: 88 loss: tensor(1.0543)\n",
            "epoch: 89 loss: tensor(1.0568)\n",
            "epoch: 90 loss: tensor(1.0635)\n",
            "epoch: 91 loss: tensor(1.0612)\n",
            "epoch: 92 loss: tensor(1.0589)\n",
            "epoch: 93 loss: tensor(1.0649)\n",
            "epoch: 94 loss: tensor(1.0589)\n",
            "epoch: 95 loss: tensor(1.0632)\n",
            "epoch: 96 loss: tensor(1.0642)\n",
            "epoch: 97 loss: tensor(1.0595)\n",
            "epoch: 98 loss: tensor(1.0598)\n",
            "epoch: 99 loss: tensor(1.0588)\n",
            "epoch: 100 loss: tensor(1.0609)\n",
            "epoch: 101 loss: tensor(1.0545)\n",
            "epoch: 102 loss: tensor(1.0526)\n",
            "epoch: 103 loss: tensor(1.0511)\n",
            "epoch: 104 loss: tensor(1.0609)\n",
            "epoch: 105 loss: tensor(1.0550)\n",
            "epoch: 106 loss: tensor(1.0541)\n",
            "epoch: 107 loss: tensor(1.0555)\n",
            "epoch: 108 loss: tensor(1.0550)\n",
            "epoch: 109 loss: tensor(1.0486)\n",
            "epoch: 110 loss: tensor(1.0584)\n",
            "epoch: 111 loss: tensor(1.0565)\n",
            "epoch: 112 loss: tensor(1.0552)\n",
            "epoch: 113 loss: tensor(1.0532)\n",
            "epoch: 114 loss: tensor(1.0489)\n",
            "epoch: 115 loss: tensor(1.0512)\n",
            "epoch: 116 loss: tensor(1.0470)\n",
            "epoch: 117 loss: tensor(1.0479)\n",
            "epoch: 118 loss: tensor(1.0458)\n",
            "epoch: 119 loss: tensor(1.0514)\n",
            "epoch: 120 loss: tensor(1.0490)\n",
            "epoch: 121 loss: tensor(1.0494)\n",
            "epoch: 122 loss: tensor(1.0475)\n",
            "epoch: 123 loss: tensor(1.0416)\n",
            "epoch: 124 loss: tensor(1.0404)\n",
            "epoch: 125 loss: tensor(1.0403)\n",
            "epoch: 126 loss: tensor(1.0381)\n",
            "epoch: 127 loss: tensor(1.0378)\n",
            "epoch: 128 loss: tensor(1.0382)\n",
            "epoch: 129 loss: tensor(1.0340)\n",
            "epoch: 130 loss: tensor(1.0333)\n",
            "epoch: 131 loss: tensor(1.0355)\n",
            "epoch: 132 loss: tensor(1.0316)\n",
            "epoch: 133 loss: tensor(1.0343)\n",
            "epoch: 134 loss: tensor(1.0279)\n",
            "epoch: 135 loss: tensor(1.0324)\n",
            "epoch: 136 loss: tensor(1.0249)\n",
            "epoch: 137 loss: tensor(1.0264)\n",
            "epoch: 138 loss: tensor(1.0256)\n",
            "epoch: 139 loss: tensor(1.0276)\n",
            "epoch: 140 loss: tensor(1.0285)\n",
            "epoch: 141 loss: tensor(1.0232)\n",
            "epoch: 142 loss: tensor(1.0228)\n",
            "epoch: 143 loss: tensor(1.0166)\n",
            "epoch: 144 loss: tensor(1.0225)\n",
            "epoch: 145 loss: tensor(1.0220)\n",
            "epoch: 146 loss: tensor(1.0181)\n",
            "epoch: 147 loss: tensor(1.0280)\n",
            "epoch: 148 loss: tensor(1.0190)\n",
            "epoch: 149 loss: tensor(1.0172)\n",
            "epoch: 150 loss: tensor(1.0167)\n",
            "epoch: 151 loss: tensor(1.0173)\n",
            "epoch: 152 loss: tensor(1.0213)\n",
            "epoch: 153 loss: tensor(1.0198)\n",
            "epoch: 154 loss: tensor(1.0149)\n",
            "epoch: 155 loss: tensor(1.0165)\n",
            "epoch: 156 loss: tensor(1.0160)\n",
            "epoch: 157 loss: tensor(1.0067)\n",
            "epoch: 158 loss: tensor(1.0161)\n",
            "epoch: 159 loss: tensor(1.0128)\n",
            "epoch: 160 loss: tensor(1.0115)\n",
            "epoch: 161 loss: tensor(1.0155)\n",
            "epoch: 162 loss: tensor(1.0168)\n",
            "epoch: 163 loss: tensor(1.0197)\n",
            "epoch: 164 loss: tensor(1.0153)\n",
            "epoch: 165 loss: tensor(1.0173)\n",
            "epoch: 166 loss: tensor(1.0141)\n",
            "epoch: 167 loss: tensor(1.0072)\n",
            "epoch: 168 loss: tensor(1.0085)\n",
            "epoch: 169 loss: tensor(1.0096)\n",
            "epoch: 170 loss: tensor(1.0048)\n",
            "epoch: 171 loss: tensor(1.0075)\n",
            "epoch: 172 loss: tensor(1.0072)\n",
            "epoch: 173 loss: tensor(1.0045)\n",
            "epoch: 174 loss: tensor(1.0101)\n",
            "epoch: 175 loss: tensor(1.0025)\n",
            "epoch: 176 loss: tensor(1.0041)\n",
            "epoch: 177 loss: tensor(1.0099)\n",
            "epoch: 178 loss: tensor(1.0092)\n",
            "epoch: 179 loss: tensor(1.0058)\n",
            "epoch: 180 loss: tensor(1.0072)\n",
            "epoch: 181 loss: tensor(1.0065)\n",
            "epoch: 182 loss: tensor(1.0085)\n",
            "epoch: 183 loss: tensor(1.0073)\n",
            "epoch: 184 loss: tensor(1.0042)\n",
            "epoch: 185 loss: tensor(1.0011)\n",
            "epoch: 186 loss: tensor(1.0051)\n",
            "epoch: 187 loss: tensor(0.9975)\n",
            "epoch: 188 loss: tensor(1.0003)\n",
            "epoch: 189 loss: tensor(0.9985)\n",
            "epoch: 190 loss: tensor(0.9955)\n",
            "epoch: 191 loss: tensor(0.9940)\n",
            "epoch: 192 loss: tensor(0.9991)\n",
            "epoch: 193 loss: tensor(0.9945)\n",
            "epoch: 194 loss: tensor(0.9956)\n",
            "epoch: 195 loss: tensor(0.9950)\n",
            "epoch: 196 loss: tensor(0.9899)\n",
            "epoch: 197 loss: tensor(0.9981)\n",
            "epoch: 198 loss: tensor(0.9902)\n",
            "epoch: 199 loss: tensor(0.9926)\n",
            "epoch: 200 loss: tensor(0.9983)\n",
            "Stacked-Autoencoder(SAE) Training Time : 5.0 Minutes. \n"
          ],
          "name": "stdout"
        }
      ]
    },
    {
      "cell_type": "code",
      "metadata": {
        "colab_type": "code",
        "id": "bOy7plmFb0hr",
        "colab": {
          "base_uri": "https://localhost:8080/",
          "height": 295
        },
        "outputId": "fa6d5e83-aaad-403a-eb3f-028c2a44c6de"
      },
      "source": [
        "epochs = range(1,201)\n",
        "plt.plot(epochs, elosses, 'r', label=' Dropout value =0.4 ') # 'g' = color green\n",
        "plt.title('Dropout - epoch =200')\n",
        "plt.xlabel('Epochs')\n",
        "plt.ylabel('Training  Loss')\n",
        "\n",
        "plt.legend()\n",
        "plt.show()"
      ],
      "execution_count": null,
      "outputs": [
        {
          "output_type": "display_data",
          "data": {
            "image/png": "[encoded data removed]",
            "text/plain": [
              "<Figure size 432x288 with 1 Axes>"
            ]
          },
          "metadata": {
            "tags": [],
            "needs_background": "light"
          }
        }
      ]
    },
    {
      "cell_type": "code",
      "metadata": {
        "colab_type": "code",
        "id": "BvOk4tMKb0hu",
        "colab": {
          "base_uri": "https://localhost:8080/",
          "height": 34
        },
        "outputId": "6dec3c11-7cac-40a6-9a75-45db574ca108"
      },
      "source": [
        "# Initializing the test_loss\n",
        "sae.eval()\n",
        "with torch.no_grad():\n",
        "  test_loss = 0\n",
        "  s = 0.\n",
        "  for id_user in range(nb_users):\n",
        "      input = Variable(training_set[id_user]).unsqueeze(0)\n",
        "      target = Variable(test_set[id_user]).unsqueeze(0)\n",
        "      if torch.sum(target.data > 0) > 0:\n",
        "          output = sae(input)\n",
        "          target.require_grad = False\n",
        "          output[(target == 0)] = 0\n",
        "          loss = criterion(output, target)\n",
        "  \n",
        "          mean_corrector = nb_movies/float(torch.sum(target.data > 0) + 1e-10)\n",
        "          test_loss += np.sqrt(loss.data*mean_corrector)\n",
        "          s += 1.\n",
        "          pred = sae(target)\n",
        "  print('test_loss: '+str(test_loss/s))\n",
        "\n",
        "\n",
        "\n"
      ],
      "execution_count": null,
      "outputs": [
        {
          "output_type": "stream",
          "text": [
            "test_loss: tensor(0.9902)\n"
          ],
          "name": "stdout"
        }
      ]
    },
    {
      "cell_type": "code",
      "metadata": {
        "colab_type": "code",
        "id": "t19V0J0Lb0hw",
        "colab": {}
      },
      "source": [
        "from math import sqrt\n"
      ],
      "execution_count": null,
      "outputs": []
    },
    {
      "cell_type": "code",
      "metadata": {
        "colab_type": "code",
        "id": "BydX5yZfb0hy",
        "colab": {
          "base_uri": "https://localhost:8080/",
          "height": 34
        },
        "outputId": "e4a72ce0-3f52-40ae-ffb3-fa2631bd2c42"
      },
      "source": [
        "RMSE = sqrt(0.9902)\n",
        "\n",
        "RMSE"
      ],
      "execution_count": null,
      "outputs": [
        {
          "output_type": "execute_result",
          "data": {
            "text/plain": [
              "0.9950879358127099"
            ]
          },
          "metadata": {
            "tags": []
          },
          "execution_count": 21
        }
      ]
    }
  ]
}