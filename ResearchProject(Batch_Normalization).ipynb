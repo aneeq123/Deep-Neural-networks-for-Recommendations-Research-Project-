{
  "nbformat": 4,
  "nbformat_minor": 0,
  "metadata": {
    "colab": {
      "name": "ResearchProject(Batch Normalization).ipynb",
      "provenance": []
    },
    "kernelspec": {
      "name": "python3",
      "display_name": "Python 3"
    }
  },
  "cells": [
    {
      "cell_type": "code",
      "metadata": {
        "id": "G208cjNPsdP4",
        "colab_type": "code",
        "colab": {}
      },
      "source": [
        ""
      ],
      "execution_count": null,
      "outputs": []
    },
    {
      "cell_type": "markdown",
      "metadata": {
        "id": "Uvu7ivtuse9Y",
        "colab_type": "text"
      },
      "source": [
        "# **Building A Movie Recommandation System With Pytorch(Batch Normalization)**\n",
        "In this project, we are trying to predict the ratings that a user will give to an unseen movie, based on the ratings he gave to other movies. We will use the movielens dataset.The Main folder, which is ml-100k contains informations about 100 000 movies. We will use AutoEncoders to create our recommandation system. Let's start by importing the required libraries.\n"
      ]
    },
    {
      "cell_type": "code",
      "metadata": {
        "id": "6OaoIf9R_Bf_",
        "colab_type": "code",
        "colab": {}
      },
      "source": [
        "# AutoEncoders\n",
        "\n",
        "# Importing the libraries\n",
        "\n",
        "import numpy as np\n",
        "import pandas as pd\n",
        "import torch\n",
        "import torch.nn as nn\n",
        "import torch.nn.parallel\n",
        "import torch.optim as optim\n",
        "import torch.utils.data\n",
        "from torch.autograd import Variable\n",
        "from torchvision import datasets, transforms\n",
        "from torch.utils.data import Dataset\n",
        "import time\n",
        "\n",
        "import matplotlib.pyplot as plt\n"
      ],
      "execution_count": null,
      "outputs": []
    },
    {
      "cell_type": "code",
      "metadata": {
        "id": "O9kM0xA6ncI6",
        "colab_type": "code",
        "colab": {
          "resources": {
            "http://localhost:8080/nbextensions/google.colab/files.js": {
              "data": "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",
              "ok": true,
              "headers": [
                [
                  "content-type",
                  "application/javascript"
                ]
              ],
              "status": 200,
              "status_text": ""
            }
          },
          "base_uri": "https://localhost:8080/",
          "height": 72
        },
        "outputId": "d0fafe71-cde3-435c-a487-1920292a9953"
      },
      "source": [
        "from google.colab import files\n",
        "uploaded = files.upload()"
      ],
      "execution_count": null,
      "outputs": [
        {
          "output_type": "display_data",
          "data": {
            "text/html": [
              "\n",
              "     <input type=\"file\" id=\"files-63e6dcec-c29e-4a38-8548-c030e6c35ac8\" name=\"files[]\" multiple disabled\n",
              "        style=\"border:none\" />\n",
              "     <output id=\"result-63e6dcec-c29e-4a38-8548-c030e6c35ac8\">\n",
              "      Upload widget is only available when the cell has been executed in the\n",
              "      current browser session. Please rerun this cell to enable.\n",
              "      </output>\n",
              "      <script src=\"/nbextensions/google.colab/files.js\"></script> "
            ],
            "text/plain": [
              "<IPython.core.display.HTML object>"
            ]
          },
          "metadata": {
            "tags": []
          }
        },
        {
          "output_type": "stream",
          "text": [
            "Saving u1.base to u1.base\n"
          ],
          "name": "stdout"
        }
      ]
    },
    {
      "cell_type": "code",
      "metadata": {
        "id": "qZqjzECzoDeV",
        "colab_type": "code",
        "colab": {
          "resources": {
            "http://localhost:8080/nbextensions/google.colab/files.js": {
              "data": "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",
              "ok": true,
              "headers": [
                [
                  "content-type",
                  "application/javascript"
                ]
              ],
              "status": 200,
              "status_text": ""
            }
          },
          "base_uri": "https://localhost:8080/",
          "height": 72
        },
        "outputId": "0f35d30b-7c3c-4dab-8b24-8113ce638179"
      },
      "source": [
        "from google.colab import files\n",
        "uploaded = files.upload()"
      ],
      "execution_count": null,
      "outputs": [
        {
          "output_type": "display_data",
          "data": {
            "text/html": [
              "\n",
              "     <input type=\"file\" id=\"files-445b5eb3-55ff-41f5-9e57-d5175a3d081d\" name=\"files[]\" multiple disabled\n",
              "        style=\"border:none\" />\n",
              "     <output id=\"result-445b5eb3-55ff-41f5-9e57-d5175a3d081d\">\n",
              "      Upload widget is only available when the cell has been executed in the\n",
              "      current browser session. Please rerun this cell to enable.\n",
              "      </output>\n",
              "      <script src=\"/nbextensions/google.colab/files.js\"></script> "
            ],
            "text/plain": [
              "<IPython.core.display.HTML object>"
            ]
          },
          "metadata": {
            "tags": []
          }
        },
        {
          "output_type": "stream",
          "text": [
            "Saving u1.test to u1.test\n"
          ],
          "name": "stdout"
        }
      ]
    },
    {
      "cell_type": "markdown",
      "metadata": {
        "id": "9L82ZWs_i6Kq",
        "colab_type": "text"
      },
      "source": [
        "# Batch Size 200\n",
        "\n",
        "\n",
        "*   TRAINING LOSS: 0.0714\n",
        "*   TEST LOSS: 0.0796\n",
        "*   RMSE LOSS:0.2821\n",
        "\n",
        "\n",
        "\n",
        "\n"
      ]
    },
    {
      "cell_type": "code",
      "metadata": {
        "colab_type": "code",
        "id": "YF9WpDRuZBZz",
        "colab": {}
      },
      "source": [
        "training = ['user_id', 'movie_id', 'rating', 'timestamp' ] #Create each column\n",
        "test = ['user_id', 'movie_id', 'rating', 'timestamp' ]     #Create each column"
      ],
      "execution_count": null,
      "outputs": []
    },
    {
      "cell_type": "code",
      "metadata": {
        "colab_type": "code",
        "id": "ibD8DQ6GZBZ7",
        "colab": {}
      },
      "source": [
        "# Preparing the training set and the test set \n",
        "training_set = pd.read_csv('u1.base', names=training, delimiter = '\\t') # Read the file\n",
        "test_set = pd.read_csv('u1.test', names=test, delimiter = '\\t') #Read the file"
      ],
      "execution_count": null,
      "outputs": []
    },
    {
      "cell_type": "code",
      "metadata": {
        "colab_type": "code",
        "id": "LwkZejB_ZBZ_",
        "colab": {}
      },
      "source": [
        "#Drop 'timestamp' column\n",
        "training_set= training_set.drop([\"timestamp\"], axis=1)"
      ],
      "execution_count": null,
      "outputs": []
    },
    {
      "cell_type": "code",
      "metadata": {
        "colab_type": "code",
        "id": "8_2vgZ5wZBaF",
        "colab": {}
      },
      "source": [
        "#Drop 'timestamp' column\n",
        "test_set= test_set.drop([\"timestamp\"], axis=1)"
      ],
      "execution_count": null,
      "outputs": []
    },
    {
      "cell_type": "code",
      "metadata": {
        "colab_type": "code",
        "id": "9oa1iefEZBaI",
        "colab": {
          "base_uri": "https://localhost:8080/",
          "height": 204
        },
        "outputId": "dafbf329-2352-4b61-9ec8-010d503893a6"
      },
      "source": [
        "# Visualizing the first elements of the training_set\n",
        "training_set.head()"
      ],
      "execution_count": null,
      "outputs": [
        {
          "output_type": "execute_result",
          "data": {
            "text/html": [
              "<div>\n",
              "<style scoped>\n",
              "    .dataframe tbody tr th:only-of-type {\n",
              "        vertical-align: middle;\n",
              "    }\n",
              "\n",
              "    .dataframe tbody tr th {\n",
              "        vertical-align: top;\n",
              "    }\n",
              "\n",
              "    .dataframe thead th {\n",
              "        text-align: right;\n",
              "    }\n",
              "</style>\n",
              "<table border=\"1\" class=\"dataframe\">\n",
              "  <thead>\n",
              "    <tr style=\"text-align: right;\">\n",
              "      <th></th>\n",
              "      <th>user_id</th>\n",
              "      <th>movie_id</th>\n",
              "      <th>rating</th>\n",
              "    </tr>\n",
              "  </thead>\n",
              "  <tbody>\n",
              "    <tr>\n",
              "      <th>0</th>\n",
              "      <td>1</td>\n",
              "      <td>1</td>\n",
              "      <td>5</td>\n",
              "    </tr>\n",
              "    <tr>\n",
              "      <th>1</th>\n",
              "      <td>1</td>\n",
              "      <td>2</td>\n",
              "      <td>3</td>\n",
              "    </tr>\n",
              "    <tr>\n",
              "      <th>2</th>\n",
              "      <td>1</td>\n",
              "      <td>3</td>\n",
              "      <td>4</td>\n",
              "    </tr>\n",
              "    <tr>\n",
              "      <th>3</th>\n",
              "      <td>1</td>\n",
              "      <td>4</td>\n",
              "      <td>3</td>\n",
              "    </tr>\n",
              "    <tr>\n",
              "      <th>4</th>\n",
              "      <td>1</td>\n",
              "      <td>5</td>\n",
              "      <td>3</td>\n",
              "    </tr>\n",
              "  </tbody>\n",
              "</table>\n",
              "</div>"
            ],
            "text/plain": [
              "   user_id  movie_id  rating\n",
              "0        1         1       5\n",
              "1        1         2       3\n",
              "2        1         3       4\n",
              "3        1         4       3\n",
              "4        1         5       3"
            ]
          },
          "metadata": {
            "tags": []
          },
          "execution_count": 9
        }
      ]
    },
    {
      "cell_type": "code",
      "metadata": {
        "colab_type": "code",
        "id": "YbTWeULHZBaN",
        "colab": {
          "base_uri": "https://localhost:8080/",
          "height": 34
        },
        "outputId": "3994594b-42d1-42cb-8984-5f5f1cfb0faf"
      },
      "source": [
        "training_set.shape"
      ],
      "execution_count": null,
      "outputs": [
        {
          "output_type": "execute_result",
          "data": {
            "text/plain": [
              "(80000, 3)"
            ]
          },
          "metadata": {
            "tags": []
          },
          "execution_count": 10
        }
      ]
    },
    {
      "cell_type": "code",
      "metadata": {
        "colab_type": "code",
        "id": "PB0-QL6aZBaT",
        "colab": {
          "base_uri": "https://localhost:8080/",
          "height": 34
        },
        "outputId": "9eae97f2-3fa6-4323-90a7-e779aa220fe1"
      },
      "source": [
        "test_set.shape"
      ],
      "execution_count": null,
      "outputs": [
        {
          "output_type": "execute_result",
          "data": {
            "text/plain": [
              "(20000, 3)"
            ]
          },
          "metadata": {
            "tags": []
          },
          "execution_count": 11
        }
      ]
    },
    {
      "cell_type": "code",
      "metadata": {
        "colab_type": "code",
        "id": "OVo2f6olZBaY",
        "colab": {}
      },
      "source": [
        "# Converting the training and test sets into numpy arrays\n",
        "training_set = np.array(training_set, dtype = 'int')\n",
        "test_set = np.array(test_set, dtype = 'int')"
      ],
      "execution_count": null,
      "outputs": []
    },
    {
      "cell_type": "code",
      "metadata": {
        "colab_type": "code",
        "id": "dMo1nEarZBab",
        "colab": {}
      },
      "source": [
        "# Getting the number of users and movies\n",
        "nb_users = int(max(max(training_set[:, 0]), max(test_set[:, 0])))\n",
        "nb_movies = int(max(max(training_set[:, 1]), max(test_set[:, 1])))"
      ],
      "execution_count": null,
      "outputs": []
    },
    {
      "cell_type": "code",
      "metadata": {
        "colab_type": "code",
        "id": "kOzxn7YsZBaf",
        "colab": {
          "base_uri": "https://localhost:8080/",
          "height": 51
        },
        "outputId": "acbd08e9-d189-4807-e6b5-e7c042bd077c"
      },
      "source": [
        "print(\"Number of users: {}\".format(nb_users))\n",
        "print(\"Number of movies: {}\".format(nb_movies))"
      ],
      "execution_count": null,
      "outputs": [
        {
          "output_type": "stream",
          "text": [
            "Number of users: 943\n",
            "Number of movies: 1682\n"
          ],
          "name": "stdout"
        }
      ]
    },
    {
      "cell_type": "code",
      "metadata": {
        "colab_type": "code",
        "id": "JoL2L9nEZBal",
        "colab": {}
      },
      "source": [
        "def convert(data):\n",
        "    # Initializing an empty list that will take the list of ratings given by a specific user\n",
        "    new_data = []\n",
        "    # Looping over all the users\n",
        "    for id_users in range(1, nb_users + 1):\n",
        "        # We get the id of the movies rated by the current user\n",
        "        id_movies = data[:, 1][data[:, 0] == id_users]\n",
        "        # We get the id of the ratings given by the current_user\n",
        "        id_ratings = data[:, 2][data[:, 0] == id_users]\n",
        "        # \n",
        "        ratings = np.zeros(nb_movies)\n",
        "        # For movies rated by the current user, we replace 0 with the rating\n",
        "        # The first element of ratings is at index 0. However, id_movies start at index 1.\n",
        "        # Therefore, ratings[id_movies - 1] will correspond to the location of the movie we're considering\n",
        "        ratings[id_movies - 1] = id_ratings\n",
        "        new_data.append(list(ratings))\n",
        "    return new_data"
      ],
      "execution_count": null,
      "outputs": []
    },
    {
      "cell_type": "code",
      "metadata": {
        "colab_type": "code",
        "id": "Uuc0MoBeZBao",
        "colab": {}
      },
      "source": [
        "# Applying the convert function to the training and test set.\n",
        "training_set = convert(training_set)\n",
        "test_set = convert(test_set)"
      ],
      "execution_count": null,
      "outputs": []
    },
    {
      "cell_type": "code",
      "metadata": {
        "colab_type": "code",
        "id": "3UNBoV0UZBas",
        "colab": {}
      },
      "source": [
        "# Convert the data into Torch tensors\n",
        "training_set = torch.FloatTensor(training_set)\n",
        "test_set = torch.FloatTensor(test_set)"
      ],
      "execution_count": null,
      "outputs": []
    },
    {
      "cell_type": "code",
      "metadata": {
        "id": "UCbbELuyud34",
        "colab_type": "code",
        "colab": {}
      },
      "source": [
        "batch_size  = 200\n",
        "\n",
        "''' Dataset Class'''\n",
        "class DatasetR(Dataset):\n",
        "    \"\"\"Youtube-VOS dataset.\"\"\"\n",
        "\n",
        "    def __init__(self, training_set, nb_users, transform=None):\n",
        "        super(DatasetR, self).__init__()\n",
        "        \"\"\"\n",
        "        Args:\n",
        "            root_dir (string): Directory with all the images.\n",
        "            transform (callable, optional): Optional transform to be applied\n",
        "                on a sample.\n",
        "        \"\"\"\n",
        "        self.training_set = training_set\n",
        "        self.nb_users = nb_users\n",
        "    def __len__(self):\n",
        "        return self.nb_users\n",
        "\n",
        "    def __getitem__(self, idx):\n",
        "        #print(idx)\n",
        "        sample = self.training_set[idx]\n",
        "\n",
        "\n",
        "        #sample = torch.Tensor(sample)\n",
        "\n",
        "\n",
        "        return sample"
      ],
      "execution_count": null,
      "outputs": []
    },
    {
      "cell_type": "code",
      "metadata": {
        "id": "x8VM5oJJaHiJ",
        "colab_type": "code",
        "colab": {}
      },
      "source": [
        "class SAE(nn.Module):\n",
        "    # Initializing the class\n",
        "    def __init__(self, ):\n",
        "        # making the class get all the functions from the parent class nn.Module\n",
        "        super(SAE, self).__init__()\n",
        "        # Creating the first encoding layer. The number of input corresponds to the number of movies\n",
        "        #  Decide to encode it into 20 outputs\n",
        "        self.fc1 = nn.Linear(nb_movies, 20)\n",
        "        # Batch Normalization.\n",
        "        self.bn1 = nn.BatchNorm1d(20)\n",
        "        # Creating the second encoding layer. From 20 inputs to 10 outputs\n",
        "        self.fc2 = nn.Linear(20, 10)\n",
        "        # Batch Normalization.\n",
        "        self.bn2 = nn.BatchNorm1d(10)\n",
        "        # Creating the first decoding layer. From 10 inputs to 20 outputs\n",
        "        self.fc3 = nn.Linear(10, 20)\n",
        "        # Batch Normalization\n",
        "        self.bn3 = nn.BatchNorm1d(20)\n",
        "        # Creating the second hidden layer. From 20 inputs to nb_movies outputs\n",
        "        self.fc4 = nn.Linear(20, nb_movies)\n",
        "        # Creating the activation fucntion which will fire up specific neurons \n",
        "        self.activation = nn.Sigmoid()\n",
        "        \n",
        "        # Creating the function for forward propagation\n",
        "    def forward(self, x):\n",
        "        # x = self.do1(self.bn1(self.activation(self.fc1(x))))\n",
        "        # x = self.do2(self.bn2(self.activation(self.fc2(x))))\n",
        "        # x = self.do3(self.bn3(self.activation(self.fc3(x))))\n",
        "\n",
        "        x = self.bn1(self.activation(self.fc1(x)))\n",
        "        x = self.bn2(self.activation(self.fc2(x)))\n",
        "        x = self.bn3(self.activation(self.fc3(x)))\n",
        "        # With autoencoder, we don't need an activation function for the last decoding part\n",
        "        x = self.fc4(x)\n",
        "        return x\n",
        "\n",
        "          \n",
        "    def predict(self, x): # x: visible nodes\n",
        "        x = self.forward(x)\n",
        "        return x"
      ],
      "execution_count": null,
      "outputs": []
    },
    {
      "cell_type": "code",
      "metadata": {
        "id": "Vx-9-Azza36n",
        "colab_type": "code",
        "colab": {}
      },
      "source": [
        " #Creating an instance of our SAE class\n",
        "sae = SAE()\n",
        "\n",
        "dataset = DatasetR(training_set = training_set, nb_users = nb_users)\n",
        "train_loader = torch.utils.data.DataLoader(dataset, batch_size = batch_size, shuffle=True, num_workers=4, drop_last=True)\n",
        "\n",
        "\n",
        "datasetTest = DatasetR(training_set = test_set, nb_users = nb_users)\n",
        "test_loader = torch.utils.data.DataLoader(datasetTest, batch_size = batch_size, shuffle=True, num_workers=4, drop_last=True)\n",
        "\n",
        "\n",
        "\n",
        "\n",
        " #Defining a criterion which specifies the metric to minimize. In this case, we want to minimize the MSE (Mean Squared Error)\n",
        "criterion = nn.MSELoss()\n",
        "\n",
        "# Defining the algorithm used to minimize the loss function. In this case, we'll use RMSprop\n",
        "optimizer = optim.RMSprop(sae.parameters(), lr = 0.01, weight_decay = 0.5)"
      ],
      "execution_count": null,
      "outputs": []
    },
    {
      "cell_type": "code",
      "metadata": {
        "id": "IYmH11gZbkki",
        "colab_type": "code",
        "colab": {
          "base_uri": "https://localhost:8080/",
          "height": 1000
        },
        "outputId": "2e10925b-0eed-4cdf-fc2b-471415b7458c"
      },
      "source": [
        "# Setting the number of epochs\n",
        "\n",
        "losses = []\n",
        "\n",
        "time_start = time.time()\n",
        "\n",
        "nb_epoch = 200\n",
        "\n",
        "# Iterating over each epoch\n",
        "\n",
        "for epoch in range(1, nb_epoch + 1):\n",
        "\n",
        "    #sae.train()\n",
        "\n",
        "    # Initializing the train_loss which will be updated\n",
        "\n",
        "    train_loss = 0\n",
        "\n",
        "    # Initializing a counter\n",
        "\n",
        "    s = 0.\n",
        "\n",
        "    # Iterating over each user\n",
        "\n",
        "    #for id_user in range(nb_users):\n",
        "\n",
        "    for batch_idx, (sample) in enumerate(train_loader):\n",
        "\n",
        "        # The input corresponds to the ratings given by the current user for each movie\n",
        "\n",
        "        input = Variable(sample)\n",
        "\n",
        "        target = input.clone()\n",
        "\n",
        "        # We don't consider movies NOT rated by the current user. So we specify a conditional statement\n",
        "\n",
        "        if torch.sum(target.data > 0) > 0:\n",
        "\n",
        "            # We use our SAE to get the output from the \n",
        "\n",
        "            #print('input:  '+ str(input.shape))\n",
        "\n",
        "            output = sae(input)\n",
        "\n",
        "            #print(output.shape)\n",
        "\n",
        "            target.require_grad = False\n",
        "\n",
        "            output[target == 0] = 0\n",
        "\n",
        "            # Defining our loss function, comparing the output with the target\n",
        "\n",
        "            loss = criterion(output, target)\n",
        "\n",
        "            mean_corrector = nb_movies/float(torch.sum(target.data > 0) + 1e-10)\n",
        "\n",
        "            # Computing the gradients necessary to adjust the weights\n",
        "\n",
        "            loss.backward()\n",
        "\n",
        "            # Updating the train_loss\n",
        "\n",
        "            train_loss += np.sqrt(loss.data*mean_corrector)\n",
        "\n",
        "            s += 1.\n",
        "\n",
        "            # Updating the weights of the neural network\n",
        "\n",
        "            optimizer.step()\n",
        "\n",
        "    epoch_loss = train_loss / len(train_loader)\n",
        "    losses.append(epoch_loss)  \n",
        "    print('epoch: '+str(epoch)+' loss: '+str(train_loss/s))\n",
        "time_end = time.time()\n",
        "print('Stacked-Autoencoder(SAE) Training Time : ' +str(round((time_end-time_start)/60,0))+' Minutes. ')\n",
        "\n"
      ],
      "execution_count": null,
      "outputs": [
        {
          "output_type": "stream",
          "text": [
            "epoch: 1 loss: tensor(0.2623)\n",
            "epoch: 2 loss: tensor(0.2606)\n",
            "epoch: 3 loss: tensor(0.2590)\n",
            "epoch: 4 loss: tensor(0.2564)\n",
            "epoch: 5 loss: tensor(0.2547)\n",
            "epoch: 6 loss: tensor(0.2541)\n",
            "epoch: 7 loss: tensor(0.2533)\n",
            "epoch: 8 loss: tensor(0.2520)\n",
            "epoch: 9 loss: tensor(0.2507)\n",
            "epoch: 10 loss: tensor(0.2477)\n",
            "epoch: 11 loss: tensor(0.2466)\n",
            "epoch: 12 loss: tensor(0.2427)\n",
            "epoch: 13 loss: tensor(0.2393)\n",
            "epoch: 14 loss: tensor(0.2340)\n",
            "epoch: 15 loss: tensor(0.2289)\n",
            "epoch: 16 loss: tensor(0.2219)\n",
            "epoch: 17 loss: tensor(0.2148)\n",
            "epoch: 18 loss: tensor(0.2051)\n",
            "epoch: 19 loss: tensor(0.1974)\n",
            "epoch: 20 loss: tensor(0.1881)\n",
            "epoch: 21 loss: tensor(0.1792)\n",
            "epoch: 22 loss: tensor(0.1706)\n",
            "epoch: 23 loss: tensor(0.1627)\n",
            "epoch: 24 loss: tensor(0.1560)\n",
            "epoch: 25 loss: tensor(0.1498)\n",
            "epoch: 26 loss: tensor(0.1440)\n",
            "epoch: 27 loss: tensor(0.1389)\n",
            "epoch: 28 loss: tensor(0.1355)\n",
            "epoch: 29 loss: tensor(0.1319)\n",
            "epoch: 30 loss: tensor(0.1276)\n",
            "epoch: 31 loss: tensor(0.1244)\n",
            "epoch: 32 loss: tensor(0.1217)\n",
            "epoch: 33 loss: tensor(0.1191)\n",
            "epoch: 34 loss: tensor(0.1168)\n",
            "epoch: 35 loss: tensor(0.1140)\n",
            "epoch: 36 loss: tensor(0.1117)\n",
            "epoch: 37 loss: tensor(0.1087)\n",
            "epoch: 38 loss: tensor(0.1077)\n",
            "epoch: 39 loss: tensor(0.1056)\n",
            "epoch: 40 loss: tensor(0.1046)\n",
            "epoch: 41 loss: tensor(0.1027)\n",
            "epoch: 42 loss: tensor(0.1013)\n",
            "epoch: 43 loss: tensor(0.1002)\n",
            "epoch: 44 loss: tensor(0.0996)\n",
            "epoch: 45 loss: tensor(0.0972)\n",
            "epoch: 46 loss: tensor(0.0968)\n",
            "epoch: 47 loss: tensor(0.0961)\n",
            "epoch: 48 loss: tensor(0.0957)\n",
            "epoch: 49 loss: tensor(0.0951)\n",
            "epoch: 50 loss: tensor(0.0925)\n",
            "epoch: 51 loss: tensor(0.0919)\n",
            "epoch: 52 loss: tensor(0.0910)\n",
            "epoch: 53 loss: tensor(0.0908)\n",
            "epoch: 54 loss: tensor(0.0910)\n",
            "epoch: 55 loss: tensor(0.0890)\n",
            "epoch: 56 loss: tensor(0.0899)\n",
            "epoch: 57 loss: tensor(0.0878)\n",
            "epoch: 58 loss: tensor(0.0880)\n",
            "epoch: 59 loss: tensor(0.0863)\n",
            "epoch: 60 loss: tensor(0.0858)\n",
            "epoch: 61 loss: tensor(0.0848)\n",
            "epoch: 62 loss: tensor(0.0862)\n",
            "epoch: 63 loss: tensor(0.0848)\n",
            "epoch: 64 loss: tensor(0.0841)\n",
            "epoch: 65 loss: tensor(0.0851)\n",
            "epoch: 66 loss: tensor(0.0843)\n",
            "epoch: 67 loss: tensor(0.0835)\n",
            "epoch: 68 loss: tensor(0.0826)\n",
            "epoch: 69 loss: tensor(0.0824)\n",
            "epoch: 70 loss: tensor(0.0824)\n",
            "epoch: 71 loss: tensor(0.0825)\n",
            "epoch: 72 loss: tensor(0.0825)\n",
            "epoch: 73 loss: tensor(0.0821)\n",
            "epoch: 74 loss: tensor(0.0820)\n",
            "epoch: 75 loss: tensor(0.0826)\n",
            "epoch: 76 loss: tensor(0.0818)\n",
            "epoch: 77 loss: tensor(0.0808)\n",
            "epoch: 78 loss: tensor(0.0824)\n",
            "epoch: 79 loss: tensor(0.0810)\n",
            "epoch: 80 loss: tensor(0.0821)\n",
            "epoch: 81 loss: tensor(0.0803)\n",
            "epoch: 82 loss: tensor(0.0802)\n",
            "epoch: 83 loss: tensor(0.0799)\n",
            "epoch: 84 loss: tensor(0.0794)\n",
            "epoch: 85 loss: tensor(0.0797)\n",
            "epoch: 86 loss: tensor(0.0789)\n",
            "epoch: 87 loss: tensor(0.0791)\n",
            "epoch: 88 loss: tensor(0.0791)\n",
            "epoch: 89 loss: tensor(0.0785)\n",
            "epoch: 90 loss: tensor(0.0788)\n",
            "epoch: 91 loss: tensor(0.0783)\n",
            "epoch: 92 loss: tensor(0.0792)\n",
            "epoch: 93 loss: tensor(0.0790)\n",
            "epoch: 94 loss: tensor(0.0779)\n",
            "epoch: 95 loss: tensor(0.0777)\n",
            "epoch: 96 loss: tensor(0.0776)\n",
            "epoch: 97 loss: tensor(0.0772)\n",
            "epoch: 98 loss: tensor(0.0774)\n",
            "epoch: 99 loss: tensor(0.0767)\n",
            "epoch: 100 loss: tensor(0.0764)\n",
            "epoch: 101 loss: tensor(0.0768)\n",
            "epoch: 102 loss: tensor(0.0766)\n",
            "epoch: 103 loss: tensor(0.0766)\n",
            "epoch: 104 loss: tensor(0.0777)\n",
            "epoch: 105 loss: tensor(0.0770)\n",
            "epoch: 106 loss: tensor(0.0768)\n",
            "epoch: 107 loss: tensor(0.0773)\n",
            "epoch: 108 loss: tensor(0.0754)\n",
            "epoch: 109 loss: tensor(0.0754)\n",
            "epoch: 110 loss: tensor(0.0758)\n",
            "epoch: 111 loss: tensor(0.0757)\n",
            "epoch: 112 loss: tensor(0.0754)\n",
            "epoch: 113 loss: tensor(0.0749)\n",
            "epoch: 114 loss: tensor(0.0756)\n",
            "epoch: 115 loss: tensor(0.0765)\n",
            "epoch: 116 loss: tensor(0.0760)\n",
            "epoch: 117 loss: tensor(0.0763)\n",
            "epoch: 118 loss: tensor(0.0750)\n",
            "epoch: 119 loss: tensor(0.0746)\n",
            "epoch: 120 loss: tensor(0.0741)\n",
            "epoch: 121 loss: tensor(0.0743)\n",
            "epoch: 122 loss: tensor(0.0755)\n",
            "epoch: 123 loss: tensor(0.0751)\n",
            "epoch: 124 loss: tensor(0.0747)\n",
            "epoch: 125 loss: tensor(0.0751)\n",
            "epoch: 126 loss: tensor(0.0759)\n",
            "epoch: 127 loss: tensor(0.0754)\n",
            "epoch: 128 loss: tensor(0.0745)\n",
            "epoch: 129 loss: tensor(0.0737)\n",
            "epoch: 130 loss: tensor(0.0738)\n",
            "epoch: 131 loss: tensor(0.0733)\n",
            "epoch: 132 loss: tensor(0.0731)\n",
            "epoch: 133 loss: tensor(0.0726)\n",
            "epoch: 134 loss: tensor(0.0732)\n",
            "epoch: 135 loss: tensor(0.0737)\n",
            "epoch: 136 loss: tensor(0.0744)\n",
            "epoch: 137 loss: tensor(0.0757)\n",
            "epoch: 138 loss: tensor(0.0752)\n",
            "epoch: 139 loss: tensor(0.0743)\n",
            "epoch: 140 loss: tensor(0.0733)\n",
            "epoch: 141 loss: tensor(0.0730)\n",
            "epoch: 142 loss: tensor(0.0725)\n",
            "epoch: 143 loss: tensor(0.0722)\n",
            "epoch: 144 loss: tensor(0.0719)\n",
            "epoch: 145 loss: tensor(0.0730)\n",
            "epoch: 146 loss: tensor(0.0732)\n",
            "epoch: 147 loss: tensor(0.0743)\n",
            "epoch: 148 loss: tensor(0.0737)\n",
            "epoch: 149 loss: tensor(0.0736)\n",
            "epoch: 150 loss: tensor(0.0734)\n",
            "epoch: 151 loss: tensor(0.0727)\n",
            "epoch: 152 loss: tensor(0.0718)\n",
            "epoch: 153 loss: tensor(0.0719)\n",
            "epoch: 154 loss: tensor(0.0718)\n",
            "epoch: 155 loss: tensor(0.0719)\n",
            "epoch: 156 loss: tensor(0.0725)\n",
            "epoch: 157 loss: tensor(0.0723)\n",
            "epoch: 158 loss: tensor(0.0737)\n",
            "epoch: 159 loss: tensor(0.0735)\n",
            "epoch: 160 loss: tensor(0.0736)\n",
            "epoch: 161 loss: tensor(0.0729)\n",
            "epoch: 162 loss: tensor(0.0718)\n",
            "epoch: 163 loss: tensor(0.0722)\n",
            "epoch: 164 loss: tensor(0.0723)\n",
            "epoch: 165 loss: tensor(0.0719)\n",
            "epoch: 166 loss: tensor(0.0716)\n",
            "epoch: 167 loss: tensor(0.0721)\n",
            "epoch: 168 loss: tensor(0.0722)\n",
            "epoch: 169 loss: tensor(0.0722)\n",
            "epoch: 170 loss: tensor(0.0727)\n",
            "epoch: 171 loss: tensor(0.0726)\n",
            "epoch: 172 loss: tensor(0.0720)\n",
            "epoch: 173 loss: tensor(0.0709)\n",
            "epoch: 174 loss: tensor(0.0715)\n",
            "epoch: 175 loss: tensor(0.0719)\n",
            "epoch: 176 loss: tensor(0.0714)\n",
            "epoch: 177 loss: tensor(0.0715)\n",
            "epoch: 178 loss: tensor(0.0714)\n",
            "epoch: 179 loss: tensor(0.0725)\n",
            "epoch: 180 loss: tensor(0.0727)\n",
            "epoch: 181 loss: tensor(0.0720)\n",
            "epoch: 182 loss: tensor(0.0719)\n",
            "epoch: 183 loss: tensor(0.0705)\n",
            "epoch: 184 loss: tensor(0.0708)\n",
            "epoch: 185 loss: tensor(0.0710)\n",
            "epoch: 186 loss: tensor(0.0711)\n",
            "epoch: 187 loss: tensor(0.0711)\n",
            "epoch: 188 loss: tensor(0.0708)\n",
            "epoch: 189 loss: tensor(0.0716)\n",
            "epoch: 190 loss: tensor(0.0723)\n",
            "epoch: 191 loss: tensor(0.0719)\n",
            "epoch: 192 loss: tensor(0.0714)\n",
            "epoch: 193 loss: tensor(0.0708)\n",
            "epoch: 194 loss: tensor(0.0711)\n",
            "epoch: 195 loss: tensor(0.0703)\n",
            "epoch: 196 loss: tensor(0.0715)\n",
            "epoch: 197 loss: tensor(0.0707)\n",
            "epoch: 198 loss: tensor(0.0715)\n",
            "epoch: 199 loss: tensor(0.0714)\n",
            "epoch: 200 loss: tensor(0.0714)\n",
            "Stacked-Autoencoder(SAE) Training Time : 1.0 Minutes. \n"
          ],
          "name": "stdout"
        }
      ]
    },
    {
      "cell_type": "code",
      "metadata": {
        "id": "uRLFVb7x1F79",
        "colab_type": "code",
        "colab": {
          "base_uri": "https://localhost:8080/",
          "height": 295
        },
        "outputId": "7e074751-af75-44af-f500-6fa9380b66c1"
      },
      "source": [
        "epochs = range(1,201)\n",
        "plt.plot(epochs, losses, 'g', label='batch size = 200 ') # 'g' = color green\n",
        "plt.title('Batch Normalization- epoch = 200')\n",
        "plt.xlabel('Epochs')\n",
        "plt.ylabel('Training Loss')\n",
        "\n",
        "plt.legend()\n",
        "plt.show()"
      ],
      "execution_count": null,
      "outputs": [
        {
          "output_type": "display_data",
          "data": {
            "image/png": "[encoded data removed]",
            "text/plain": [
              "<Figure size 432x288 with 1 Axes>"
            ]
          },
          "metadata": {
            "tags": [],
            "needs_background": "light"
          }
        }
      ]
    },
    {
      "cell_type": "code",
      "metadata": {
        "id": "e8ly1CyN1Od0",
        "colab_type": "code",
        "colab": {
          "base_uri": "https://localhost:8080/",
          "height": 34
        },
        "outputId": "25f32e76-83ca-41e0-de6b-0c6192f1c1b2"
      },
      "source": [
        "with torch.no_grad():\n",
        "  sae.eval()\n",
        "  test_loss = 0\n",
        "  s = 0.\n",
        "  for input1,target1 in zip(train_loader,test_loader):\n",
        "      input = Variable(input1)\n",
        "      target = Variable(target1)\n",
        "      if torch.sum(target.data > 0) > 0:\n",
        "          output = sae(input)\n",
        "          target.require_grad = False\n",
        "          output[(target == 0)] = 0\n",
        "          loss = criterion(output, target)\n",
        "          mean_corrector = nb_movies/float(torch.sum(target.data > 0) + 1e-10)\n",
        "          test_loss += np.sqrt(loss.data*mean_corrector)\n",
        "          s += 1.\n",
        "  print('test_loss: '+str(test_loss/s))"
      ],
      "execution_count": null,
      "outputs": [
        {
          "output_type": "stream",
          "text": [
            "test_loss: tensor(0.0796)\n"
          ],
          "name": "stdout"
        }
      ]
    },
    {
      "cell_type": "code",
      "metadata": {
        "id": "TO5zWvqxGrCR",
        "colab_type": "code",
        "colab": {}
      },
      "source": [
        ""
      ],
      "execution_count": null,
      "outputs": []
    },
    {
      "cell_type": "code",
      "metadata": {
        "id": "_TI01_6XF5a7",
        "colab_type": "code",
        "colab": {}
      },
      "source": [
        "from math import sqrt\n"
      ],
      "execution_count": null,
      "outputs": []
    },
    {
      "cell_type": "code",
      "metadata": {
        "id": "oDDia2UdE3gU",
        "colab_type": "code",
        "colab": {
          "base_uri": "https://localhost:8080/",
          "height": 34
        },
        "outputId": "23a68a1f-bb8e-45b8-fe12-1abb61962ba2"
      },
      "source": [
        "RMSE = sqrt(0.0796)\n",
        "\n",
        "RMSE"
      ],
      "execution_count": null,
      "outputs": [
        {
          "output_type": "execute_result",
          "data": {
            "text/plain": [
              "0.2821347195933177"
            ]
          },
          "metadata": {
            "tags": []
          },
          "execution_count": 54
        }
      ]
    },
    {
      "cell_type": "markdown",
      "metadata": {
        "id": "mTLLK812Fybb",
        "colab_type": "text"
      },
      "source": [
        "# Batch size 500\n",
        "\n",
        "*   TRAINING LOSS: 0.0583\n",
        "*   TEST LOSS: 0.0619\n",
        "*   RMSE LOSS:0.2487\n"
      ]
    },
    {
      "cell_type": "code",
      "metadata": {
        "id": "dLit7sr0F9DP",
        "colab_type": "code",
        "colab": {}
      },
      "source": [
        ""
      ],
      "execution_count": null,
      "outputs": []
    },
    {
      "cell_type": "code",
      "metadata": {
        "colab_type": "code",
        "id": "i9WW0gYtF9y8",
        "colab": {}
      },
      "source": [
        "training = ['user_id', 'movie_id', 'rating', 'timestamp' ] #Create each column\n",
        "test = ['user_id', 'movie_id', 'rating', 'timestamp' ]     #Create each column"
      ],
      "execution_count": null,
      "outputs": []
    },
    {
      "cell_type": "code",
      "metadata": {
        "colab_type": "code",
        "id": "0nmCpQl4F9zA",
        "colab": {}
      },
      "source": [
        "# Preparing the training set and the test set \n",
        "training_set = pd.read_csv('u1.base', names=training, delimiter = '\\t') # Read the file\n",
        "test_set = pd.read_csv('u1.test', names=test, delimiter = '\\t') #Read the file"
      ],
      "execution_count": null,
      "outputs": []
    },
    {
      "cell_type": "code",
      "metadata": {
        "colab_type": "code",
        "id": "l0yf7LciF9zD",
        "colab": {}
      },
      "source": [
        "#Drop 'timestamp' column\n",
        "training_set= training_set.drop([\"timestamp\"], axis=1)"
      ],
      "execution_count": null,
      "outputs": []
    },
    {
      "cell_type": "code",
      "metadata": {
        "colab_type": "code",
        "id": "FOrgdwIiF9zF",
        "colab": {}
      },
      "source": [
        "#Drop 'timestamp' column\n",
        "test_set= test_set.drop([\"timestamp\"], axis=1)"
      ],
      "execution_count": null,
      "outputs": []
    },
    {
      "cell_type": "code",
      "metadata": {
        "colab_type": "code",
        "id": "BJ8Aui0cF9zJ",
        "colab": {
          "base_uri": "https://localhost:8080/",
          "height": 204
        },
        "outputId": "ee9b0c02-ee48-4c76-82d1-06eaf3600c6e"
      },
      "source": [
        "# Visualizing the first elements of the training_set\n",
        "training_set.head()"
      ],
      "execution_count": null,
      "outputs": [
        {
          "output_type": "execute_result",
          "data": {
            "text/html": [
              "<div>\n",
              "<style scoped>\n",
              "    .dataframe tbody tr th:only-of-type {\n",
              "        vertical-align: middle;\n",
              "    }\n",
              "\n",
              "    .dataframe tbody tr th {\n",
              "        vertical-align: top;\n",
              "    }\n",
              "\n",
              "    .dataframe thead th {\n",
              "        text-align: right;\n",
              "    }\n",
              "</style>\n",
              "<table border=\"1\" class=\"dataframe\">\n",
              "  <thead>\n",
              "    <tr style=\"text-align: right;\">\n",
              "      <th></th>\n",
              "      <th>user_id</th>\n",
              "      <th>movie_id</th>\n",
              "      <th>rating</th>\n",
              "    </tr>\n",
              "  </thead>\n",
              "  <tbody>\n",
              "    <tr>\n",
              "      <th>0</th>\n",
              "      <td>1</td>\n",
              "      <td>1</td>\n",
              "      <td>5</td>\n",
              "    </tr>\n",
              "    <tr>\n",
              "      <th>1</th>\n",
              "      <td>1</td>\n",
              "      <td>2</td>\n",
              "      <td>3</td>\n",
              "    </tr>\n",
              "    <tr>\n",
              "      <th>2</th>\n",
              "      <td>1</td>\n",
              "      <td>3</td>\n",
              "      <td>4</td>\n",
              "    </tr>\n",
              "    <tr>\n",
              "      <th>3</th>\n",
              "      <td>1</td>\n",
              "      <td>4</td>\n",
              "      <td>3</td>\n",
              "    </tr>\n",
              "    <tr>\n",
              "      <th>4</th>\n",
              "      <td>1</td>\n",
              "      <td>5</td>\n",
              "      <td>3</td>\n",
              "    </tr>\n",
              "  </tbody>\n",
              "</table>\n",
              "</div>"
            ],
            "text/plain": [
              "   user_id  movie_id  rating\n",
              "0        1         1       5\n",
              "1        1         2       3\n",
              "2        1         3       4\n",
              "3        1         4       3\n",
              "4        1         5       3"
            ]
          },
          "metadata": {
            "tags": []
          },
          "execution_count": 59
        }
      ]
    },
    {
      "cell_type": "code",
      "metadata": {
        "colab_type": "code",
        "id": "n6XywK6eF9zM",
        "colab": {
          "base_uri": "https://localhost:8080/",
          "height": 34
        },
        "outputId": "ce046020-6889-4eb5-a6d2-9df0b10391ca"
      },
      "source": [
        "training_set.shape"
      ],
      "execution_count": null,
      "outputs": [
        {
          "output_type": "execute_result",
          "data": {
            "text/plain": [
              "(80000, 3)"
            ]
          },
          "metadata": {
            "tags": []
          },
          "execution_count": 60
        }
      ]
    },
    {
      "cell_type": "code",
      "metadata": {
        "colab_type": "code",
        "id": "b2dmEeYhF9zP",
        "colab": {
          "base_uri": "https://localhost:8080/",
          "height": 34
        },
        "outputId": "e035ac69-d465-4b49-846d-cef328586393"
      },
      "source": [
        "test_set.shape"
      ],
      "execution_count": null,
      "outputs": [
        {
          "output_type": "execute_result",
          "data": {
            "text/plain": [
              "(20000, 3)"
            ]
          },
          "metadata": {
            "tags": []
          },
          "execution_count": 61
        }
      ]
    },
    {
      "cell_type": "code",
      "metadata": {
        "colab_type": "code",
        "id": "M3MAecZHF9zR",
        "colab": {}
      },
      "source": [
        "# Converting the training and test sets into numpy arrays\n",
        "training_set = np.array(training_set, dtype = 'int')\n",
        "test_set = np.array(test_set, dtype = 'int')"
      ],
      "execution_count": null,
      "outputs": []
    },
    {
      "cell_type": "code",
      "metadata": {
        "colab_type": "code",
        "id": "1h0A4saYF9zU",
        "colab": {}
      },
      "source": [
        "# Getting the number of users and movies\n",
        "nb_users = int(max(max(training_set[:, 0]), max(test_set[:, 0])))\n",
        "nb_movies = int(max(max(training_set[:, 1]), max(test_set[:, 1])))"
      ],
      "execution_count": null,
      "outputs": []
    },
    {
      "cell_type": "code",
      "metadata": {
        "colab_type": "code",
        "id": "m1WzM9btF9zX",
        "colab": {
          "base_uri": "https://localhost:8080/",
          "height": 51
        },
        "outputId": "d5889568-cfbe-497e-c045-0176abacfa87"
      },
      "source": [
        "print(\"Number of users: {}\".format(nb_users))\n",
        "print(\"Number of movies: {}\".format(nb_movies))"
      ],
      "execution_count": null,
      "outputs": [
        {
          "output_type": "stream",
          "text": [
            "Number of users: 943\n",
            "Number of movies: 1682\n"
          ],
          "name": "stdout"
        }
      ]
    },
    {
      "cell_type": "code",
      "metadata": {
        "colab_type": "code",
        "id": "exT9EnREF9zb",
        "colab": {}
      },
      "source": [
        "def convert(data):\n",
        "    # Initializing an empty list that will take the list of ratings given by a specific user\n",
        "    new_data = []\n",
        "    # Looping over all the users\n",
        "    for id_users in range(1, nb_users + 1):\n",
        "        # We get the id of the movies rated by the current user\n",
        "        id_movies = data[:, 1][data[:, 0] == id_users]\n",
        "        # We get the id of the ratings given by the current_user\n",
        "        id_ratings = data[:, 2][data[:, 0] == id_users]\n",
        "        # \n",
        "        ratings = np.zeros(nb_movies)\n",
        "        # For movies rated by the current user, we replace 0 with the rating\n",
        "        # The first element of ratings is at index 0. However, id_movies start at index 1.\n",
        "        # Therefore, ratings[id_movies - 1] will correspond to the location of the movie we're considering\n",
        "        ratings[id_movies - 1] = id_ratings\n",
        "        new_data.append(list(ratings))\n",
        "    return new_data"
      ],
      "execution_count": null,
      "outputs": []
    },
    {
      "cell_type": "code",
      "metadata": {
        "colab_type": "code",
        "id": "JiF2U1OPF9zd",
        "colab": {}
      },
      "source": [
        "# Applying the convert function to the training and test set.\n",
        "training_set = convert(training_set)\n",
        "test_set = convert(test_set)"
      ],
      "execution_count": null,
      "outputs": []
    },
    {
      "cell_type": "code",
      "metadata": {
        "colab_type": "code",
        "id": "_R2n7atnF9zg",
        "colab": {}
      },
      "source": [
        "# Convert the data into Torch tensors\n",
        "training_set = torch.FloatTensor(training_set)\n",
        "test_set = torch.FloatTensor(test_set)"
      ],
      "execution_count": null,
      "outputs": []
    },
    {
      "cell_type": "code",
      "metadata": {
        "colab_type": "code",
        "id": "opaC9JCtF9zj",
        "colab": {}
      },
      "source": [
        "batch_size  = 500\n",
        "\n",
        "''' Dataset Class'''\n",
        "class DatasetR(Dataset):\n",
        "    \"\"\"Youtube-VOS dataset.\"\"\"\n",
        "\n",
        "    def __init__(self, training_set, nb_users, transform=None):\n",
        "        super(DatasetR, self).__init__()\n",
        "        \"\"\"\n",
        "        Args:\n",
        "            root_dir (string): Directory with all the images.\n",
        "            transform (callable, optional): Optional transform to be applied\n",
        "                on a sample.\n",
        "        \"\"\"\n",
        "        self.training_set = training_set\n",
        "        self.nb_users = nb_users\n",
        "    def __len__(self):\n",
        "        return self.nb_users\n",
        "\n",
        "    def __getitem__(self, idx):\n",
        "        #print(idx)\n",
        "        sample = self.training_set[idx]\n",
        "\n",
        "\n",
        "        #sample = torch.Tensor(sample)\n",
        "\n",
        "\n",
        "        return sample"
      ],
      "execution_count": null,
      "outputs": []
    },
    {
      "cell_type": "code",
      "metadata": {
        "colab_type": "code",
        "id": "isVpFutIF9zl",
        "colab": {}
      },
      "source": [
        "class SAE(nn.Module):\n",
        "    # Initializing the class\n",
        "    def __init__(self, ):\n",
        "        # making the class get all the functions from the parent class nn.Module\n",
        "        super(SAE, self).__init__()\n",
        "        # Creating the first encoding layer. The number of input corresponds to the number of movies\n",
        "        #  Decide to encode it into 20 outputs\n",
        "        self.fc1 = nn.Linear(nb_movies, 20)\n",
        "        # Batch Normalization.\n",
        "        self.bn1 = nn.BatchNorm1d(20)\n",
        "        # Creating the second encoding layer. From 20 inputs to 10 outputs\n",
        "        self.fc2 = nn.Linear(20, 10)\n",
        "        # Batch Normalization.\n",
        "        self.bn2 = nn.BatchNorm1d(10)\n",
        "        # Creating the first decoding layer. From 10 inputs to 20 outputs\n",
        "        self.fc3 = nn.Linear(10, 20)\n",
        "        # Batch Normalization\n",
        "        self.bn3 = nn.BatchNorm1d(20)\n",
        "        # Creating the second hidden layer. From 20 inputs to nb_movies outputs\n",
        "        self.fc4 = nn.Linear(20, nb_movies)\n",
        "        # Creating the activation fucntion which will fire up specific neurons \n",
        "        self.activation = nn.Sigmoid()\n",
        "        \n",
        "        # Creating the function for forward propagation\n",
        "    def forward(self, x):\n",
        "        # x = self.do1(self.bn1(self.activation(self.fc1(x))))\n",
        "        # x = self.do2(self.bn2(self.activation(self.fc2(x))))\n",
        "        # x = self.do3(self.bn3(self.activation(self.fc3(x))))\n",
        "\n",
        "        x = self.bn1(self.activation(self.fc1(x)))\n",
        "        x = self.bn2(self.activation(self.fc2(x)))\n",
        "        x = self.bn3(self.activation(self.fc3(x)))\n",
        "        # With autoencoder, we don't need an activation function for the last decoding part\n",
        "        x = self.fc4(x)\n",
        "        return x\n",
        "\n",
        "          \n",
        "    def predict(self, x): # x: visible nodes\n",
        "        x = self.forward(x)\n",
        "        return x"
      ],
      "execution_count": null,
      "outputs": []
    },
    {
      "cell_type": "code",
      "metadata": {
        "colab_type": "code",
        "id": "EXKD2bJsF9zq",
        "colab": {}
      },
      "source": [
        " #Creating an instance of our SAE class\n",
        "sae = SAE()\n",
        "\n",
        "dataset = DatasetR(training_set = training_set, nb_users = nb_users)\n",
        "train_loader = torch.utils.data.DataLoader(dataset, batch_size = batch_size, shuffle=True, num_workers=4, drop_last=True)\n",
        "\n",
        "\n",
        "datasetTest = DatasetR(training_set = test_set, nb_users = nb_users)\n",
        "test_loader = torch.utils.data.DataLoader(datasetTest, batch_size = batch_size, shuffle=True, num_workers=4, drop_last=True)\n",
        "\n",
        "\n",
        "\n",
        "\n",
        " #Defining a criterion which specifies the metric to minimize. In this case, we want to minimize the MSE (Mean Squared Error)\n",
        "criterion = nn.MSELoss()\n",
        "\n",
        "# Defining the algorithm used to minimize the loss function. In this case, we'll use RMSprop\n",
        "optimizer = optim.RMSprop(sae.parameters(), lr = 0.01, weight_decay = 0.5)"
      ],
      "execution_count": null,
      "outputs": []
    },
    {
      "cell_type": "code",
      "metadata": {
        "colab_type": "code",
        "id": "bcPyiCYxF9zt",
        "colab": {
          "base_uri": "https://localhost:8080/",
          "height": 1000
        },
        "outputId": "f9287828-beb6-47f2-ebcf-86980010e2fc"
      },
      "source": [
        "# Setting the number of epochs\n",
        "\n",
        "alosses = []\n",
        "\n",
        "time_start = time.time()\n",
        "\n",
        "nb_epoch = 200\n",
        "\n",
        "# Iterating over each epoch\n",
        "\n",
        "for epoch in range(1, nb_epoch + 1):\n",
        "\n",
        "    #sae.train()\n",
        "\n",
        "    # Initializing the train_loss which will be updated\n",
        "\n",
        "    train_loss = 0\n",
        "\n",
        "    # Initializing a counter\n",
        "\n",
        "    s = 0.\n",
        "\n",
        "    # Iterating over each user\n",
        "\n",
        "    #for id_user in range(nb_users):\n",
        "\n",
        "    for batch_idx, (sample) in enumerate(train_loader):\n",
        "\n",
        "        # The input corresponds to the ratings given by the current user for each movie\n",
        "\n",
        "        input = Variable(sample)\n",
        "\n",
        "        target = input.clone()\n",
        "\n",
        "        # We don't consider movies NOT rated by the current user. So we specify a conditional statement\n",
        "\n",
        "        if torch.sum(target.data > 0) > 0:\n",
        "\n",
        "            # We use our SAE to get the output from the \n",
        "\n",
        "            #print('input:  '+ str(input.shape))\n",
        "\n",
        "            output = sae(input)\n",
        "\n",
        "            #print(output.shape)\n",
        "\n",
        "            target.require_grad = False\n",
        "\n",
        "            output[target == 0] = 0\n",
        "\n",
        "            # Defining our loss function, comparing the output with the target\n",
        "\n",
        "            loss = criterion(output, target)\n",
        "\n",
        "            mean_corrector = nb_movies/float(torch.sum(target.data > 0) + 1e-10)\n",
        "\n",
        "            # Computing the gradients necessary to adjust the weights\n",
        "\n",
        "            loss.backward()\n",
        "\n",
        "            # Updating the train_loss\n",
        "\n",
        "            train_loss += np.sqrt(loss.data*mean_corrector)\n",
        "\n",
        "            s += 1.\n",
        "\n",
        "            # Updating the weights of the neural network\n",
        "\n",
        "            optimizer.step()\n",
        "\n",
        "    epoch_loss = train_loss / len(train_loader)\n",
        "    alosses.append(epoch_loss)  \n",
        "    print('epoch: '+str(epoch)+' loss: '+str(train_loss/s))\n",
        "time_end = time.time()\n",
        "print('Stacked-Autoencoder(SAE) Training Time : ' +str(round((time_end-time_start)/60,0))+' Minutes. ')\n",
        "\n"
      ],
      "execution_count": null,
      "outputs": [
        {
          "output_type": "stream",
          "text": [
            "epoch: 1 loss: tensor(0.1695)\n",
            "epoch: 2 loss: tensor(0.1658)\n",
            "epoch: 3 loss: tensor(0.1659)\n",
            "epoch: 4 loss: tensor(0.1651)\n",
            "epoch: 5 loss: tensor(0.1645)\n",
            "epoch: 6 loss: tensor(0.1638)\n",
            "epoch: 7 loss: tensor(0.1649)\n",
            "epoch: 8 loss: tensor(0.1642)\n",
            "epoch: 9 loss: tensor(0.1637)\n",
            "epoch: 10 loss: tensor(0.1650)\n",
            "epoch: 11 loss: tensor(0.1640)\n",
            "epoch: 12 loss: tensor(0.1625)\n",
            "epoch: 13 loss: tensor(0.1633)\n",
            "epoch: 14 loss: tensor(0.1605)\n",
            "epoch: 15 loss: tensor(0.1611)\n",
            "epoch: 16 loss: tensor(0.1632)\n",
            "epoch: 17 loss: tensor(0.1615)\n",
            "epoch: 18 loss: tensor(0.1621)\n",
            "epoch: 19 loss: tensor(0.1600)\n",
            "epoch: 20 loss: tensor(0.1607)\n",
            "epoch: 21 loss: tensor(0.1610)\n",
            "epoch: 22 loss: tensor(0.1610)\n",
            "epoch: 23 loss: tensor(0.1606)\n",
            "epoch: 24 loss: tensor(0.1598)\n",
            "epoch: 25 loss: tensor(0.1598)\n",
            "epoch: 26 loss: tensor(0.1604)\n",
            "epoch: 27 loss: tensor(0.1611)\n",
            "epoch: 28 loss: tensor(0.1607)\n",
            "epoch: 29 loss: tensor(0.1598)\n",
            "epoch: 30 loss: tensor(0.1597)\n",
            "epoch: 31 loss: tensor(0.1613)\n",
            "epoch: 32 loss: tensor(0.1607)\n",
            "epoch: 33 loss: tensor(0.1587)\n",
            "epoch: 34 loss: tensor(0.1589)\n",
            "epoch: 35 loss: tensor(0.1579)\n",
            "epoch: 36 loss: tensor(0.1601)\n",
            "epoch: 37 loss: tensor(0.1580)\n",
            "epoch: 38 loss: tensor(0.1567)\n",
            "epoch: 39 loss: tensor(0.1587)\n",
            "epoch: 40 loss: tensor(0.1576)\n",
            "epoch: 41 loss: tensor(0.1555)\n",
            "epoch: 42 loss: tensor(0.1567)\n",
            "epoch: 43 loss: tensor(0.1567)\n",
            "epoch: 44 loss: tensor(0.1559)\n",
            "epoch: 45 loss: tensor(0.1546)\n",
            "epoch: 46 loss: tensor(0.1535)\n",
            "epoch: 47 loss: tensor(0.1535)\n",
            "epoch: 48 loss: tensor(0.1528)\n",
            "epoch: 49 loss: tensor(0.1529)\n",
            "epoch: 50 loss: tensor(0.1527)\n",
            "epoch: 51 loss: tensor(0.1526)\n",
            "epoch: 52 loss: tensor(0.1502)\n",
            "epoch: 53 loss: tensor(0.1508)\n",
            "epoch: 54 loss: tensor(0.1491)\n",
            "epoch: 55 loss: tensor(0.1480)\n",
            "epoch: 56 loss: tensor(0.1487)\n",
            "epoch: 57 loss: tensor(0.1477)\n",
            "epoch: 58 loss: tensor(0.1464)\n",
            "epoch: 59 loss: tensor(0.1459)\n",
            "epoch: 60 loss: tensor(0.1450)\n",
            "epoch: 61 loss: tensor(0.1425)\n",
            "epoch: 62 loss: tensor(0.1417)\n",
            "epoch: 63 loss: tensor(0.1420)\n",
            "epoch: 64 loss: tensor(0.1415)\n",
            "epoch: 65 loss: tensor(0.1392)\n",
            "epoch: 66 loss: tensor(0.1378)\n",
            "epoch: 67 loss: tensor(0.1353)\n",
            "epoch: 68 loss: tensor(0.1351)\n",
            "epoch: 69 loss: tensor(0.1355)\n",
            "epoch: 70 loss: tensor(0.1324)\n",
            "epoch: 71 loss: tensor(0.1329)\n",
            "epoch: 72 loss: tensor(0.1302)\n",
            "epoch: 73 loss: tensor(0.1295)\n",
            "epoch: 74 loss: tensor(0.1291)\n",
            "epoch: 75 loss: tensor(0.1257)\n",
            "epoch: 76 loss: tensor(0.1244)\n",
            "epoch: 77 loss: tensor(0.1235)\n",
            "epoch: 78 loss: tensor(0.1216)\n",
            "epoch: 79 loss: tensor(0.1195)\n",
            "epoch: 80 loss: tensor(0.1207)\n",
            "epoch: 81 loss: tensor(0.1177)\n",
            "epoch: 82 loss: tensor(0.1156)\n",
            "epoch: 83 loss: tensor(0.1146)\n",
            "epoch: 84 loss: tensor(0.1140)\n",
            "epoch: 85 loss: tensor(0.1109)\n",
            "epoch: 86 loss: tensor(0.1103)\n",
            "epoch: 87 loss: tensor(0.1098)\n",
            "epoch: 88 loss: tensor(0.1074)\n",
            "epoch: 89 loss: tensor(0.1073)\n",
            "epoch: 90 loss: tensor(0.1052)\n",
            "epoch: 91 loss: tensor(0.1050)\n",
            "epoch: 92 loss: tensor(0.1035)\n",
            "epoch: 93 loss: tensor(0.1023)\n",
            "epoch: 94 loss: tensor(0.1014)\n",
            "epoch: 95 loss: tensor(0.0998)\n",
            "epoch: 96 loss: tensor(0.0986)\n",
            "epoch: 97 loss: tensor(0.0976)\n",
            "epoch: 98 loss: tensor(0.0962)\n",
            "epoch: 99 loss: tensor(0.0958)\n",
            "epoch: 100 loss: tensor(0.0945)\n",
            "epoch: 101 loss: tensor(0.0932)\n",
            "epoch: 102 loss: tensor(0.0938)\n",
            "epoch: 103 loss: tensor(0.0921)\n",
            "epoch: 104 loss: tensor(0.0912)\n",
            "epoch: 105 loss: tensor(0.0901)\n",
            "epoch: 106 loss: tensor(0.0903)\n",
            "epoch: 107 loss: tensor(0.0895)\n",
            "epoch: 108 loss: tensor(0.0882)\n",
            "epoch: 109 loss: tensor(0.0868)\n",
            "epoch: 110 loss: tensor(0.0878)\n",
            "epoch: 111 loss: tensor(0.0865)\n",
            "epoch: 112 loss: tensor(0.0856)\n",
            "epoch: 113 loss: tensor(0.0835)\n",
            "epoch: 114 loss: tensor(0.0844)\n",
            "epoch: 115 loss: tensor(0.0833)\n",
            "epoch: 116 loss: tensor(0.0833)\n",
            "epoch: 117 loss: tensor(0.0831)\n",
            "epoch: 118 loss: tensor(0.0828)\n",
            "epoch: 119 loss: tensor(0.0809)\n",
            "epoch: 120 loss: tensor(0.0806)\n",
            "epoch: 121 loss: tensor(0.0801)\n",
            "epoch: 122 loss: tensor(0.0796)\n",
            "epoch: 123 loss: tensor(0.0804)\n",
            "epoch: 124 loss: tensor(0.0793)\n",
            "epoch: 125 loss: tensor(0.0786)\n",
            "epoch: 126 loss: tensor(0.0773)\n",
            "epoch: 127 loss: tensor(0.0767)\n",
            "epoch: 128 loss: tensor(0.0775)\n",
            "epoch: 129 loss: tensor(0.0762)\n",
            "epoch: 130 loss: tensor(0.0749)\n",
            "epoch: 131 loss: tensor(0.0747)\n",
            "epoch: 132 loss: tensor(0.0751)\n",
            "epoch: 133 loss: tensor(0.0742)\n",
            "epoch: 134 loss: tensor(0.0742)\n",
            "epoch: 135 loss: tensor(0.0729)\n",
            "epoch: 136 loss: tensor(0.0738)\n",
            "epoch: 137 loss: tensor(0.0727)\n",
            "epoch: 138 loss: tensor(0.0722)\n",
            "epoch: 139 loss: tensor(0.0729)\n",
            "epoch: 140 loss: tensor(0.0706)\n",
            "epoch: 141 loss: tensor(0.0719)\n",
            "epoch: 142 loss: tensor(0.0703)\n",
            "epoch: 143 loss: tensor(0.0700)\n",
            "epoch: 144 loss: tensor(0.0694)\n",
            "epoch: 145 loss: tensor(0.0699)\n",
            "epoch: 146 loss: tensor(0.0692)\n",
            "epoch: 147 loss: tensor(0.0682)\n",
            "epoch: 148 loss: tensor(0.0688)\n",
            "epoch: 149 loss: tensor(0.0687)\n",
            "epoch: 150 loss: tensor(0.0688)\n",
            "epoch: 151 loss: tensor(0.0691)\n",
            "epoch: 152 loss: tensor(0.0682)\n",
            "epoch: 153 loss: tensor(0.0684)\n",
            "epoch: 154 loss: tensor(0.0677)\n",
            "epoch: 155 loss: tensor(0.0671)\n",
            "epoch: 156 loss: tensor(0.0665)\n",
            "epoch: 157 loss: tensor(0.0672)\n",
            "epoch: 158 loss: tensor(0.0663)\n",
            "epoch: 159 loss: tensor(0.0666)\n",
            "epoch: 160 loss: tensor(0.0660)\n",
            "epoch: 161 loss: tensor(0.0665)\n",
            "epoch: 162 loss: tensor(0.0650)\n",
            "epoch: 163 loss: tensor(0.0653)\n",
            "epoch: 164 loss: tensor(0.0645)\n",
            "epoch: 165 loss: tensor(0.0645)\n",
            "epoch: 166 loss: tensor(0.0639)\n",
            "epoch: 167 loss: tensor(0.0640)\n",
            "epoch: 168 loss: tensor(0.0637)\n",
            "epoch: 169 loss: tensor(0.0635)\n",
            "epoch: 170 loss: tensor(0.0634)\n",
            "epoch: 171 loss: tensor(0.0622)\n",
            "epoch: 172 loss: tensor(0.0634)\n",
            "epoch: 173 loss: tensor(0.0621)\n",
            "epoch: 174 loss: tensor(0.0623)\n",
            "epoch: 175 loss: tensor(0.0630)\n",
            "epoch: 176 loss: tensor(0.0627)\n",
            "epoch: 177 loss: tensor(0.0625)\n",
            "epoch: 178 loss: tensor(0.0619)\n",
            "epoch: 179 loss: tensor(0.0617)\n",
            "epoch: 180 loss: tensor(0.0620)\n",
            "epoch: 181 loss: tensor(0.0611)\n",
            "epoch: 182 loss: tensor(0.0608)\n",
            "epoch: 183 loss: tensor(0.0613)\n",
            "epoch: 184 loss: tensor(0.0601)\n",
            "epoch: 185 loss: tensor(0.0614)\n",
            "epoch: 186 loss: tensor(0.0605)\n",
            "epoch: 187 loss: tensor(0.0609)\n",
            "epoch: 188 loss: tensor(0.0606)\n",
            "epoch: 189 loss: tensor(0.0593)\n",
            "epoch: 190 loss: tensor(0.0592)\n",
            "epoch: 191 loss: tensor(0.0594)\n",
            "epoch: 192 loss: tensor(0.0598)\n",
            "epoch: 193 loss: tensor(0.0596)\n",
            "epoch: 194 loss: tensor(0.0591)\n",
            "epoch: 195 loss: tensor(0.0592)\n",
            "epoch: 196 loss: tensor(0.0585)\n",
            "epoch: 197 loss: tensor(0.0589)\n",
            "epoch: 198 loss: tensor(0.0586)\n",
            "epoch: 199 loss: tensor(0.0585)\n",
            "epoch: 200 loss: tensor(0.0583)\n",
            "Stacked-Autoencoder(SAE) Training Time : 1.0 Minutes. \n"
          ],
          "name": "stdout"
        }
      ]
    },
    {
      "cell_type": "code",
      "metadata": {
        "colab_type": "code",
        "id": "VyRo9YUgF9zx",
        "colab": {
          "base_uri": "https://localhost:8080/",
          "height": 295
        },
        "outputId": "005a2a52-7fbf-4b49-d011-1771dbdfcef0"
      },
      "source": [
        "epochs = range(1,201)\n",
        "plt.plot(epochs, alosses, 'r', label='batch size = 500 ') # 'g' = color green\n",
        "plt.title('Batch Normalization- epoch = 200')\n",
        "plt.xlabel('Epochs')\n",
        "plt.ylabel('Training Loss')\n",
        "\n",
        "plt.legend()\n",
        "plt.show()"
      ],
      "execution_count": null,
      "outputs": [
        {
          "output_type": "display_data",
          "data": {
            "image/png": "[encoded data removed]",
            "text/plain": [
              "<Figure size 432x288 with 1 Axes>"
            ]
          },
          "metadata": {
            "tags": [],
            "needs_background": "light"
          }
        }
      ]
    },
    {
      "cell_type": "code",
      "metadata": {
        "colab_type": "code",
        "id": "KFz_Ct7lF9z0",
        "colab": {
          "base_uri": "https://localhost:8080/",
          "height": 34
        },
        "outputId": "5462d60d-79e7-4078-b3a8-cafa3b25cf4f"
      },
      "source": [
        "sae.eval()\n",
        "with torch.no_grad():\n",
        "  test_loss = 0\n",
        "  s = 0.\n",
        "  for input1,target1 in zip(train_loader,test_loader):\n",
        "      input = Variable(input1)\n",
        "      target = Variable(target1)\n",
        "      if torch.sum(target.data > 0) > 0:\n",
        "          output = sae(input)\n",
        "          target.require_grad = False\n",
        "          output[(target == 0)] = 0\n",
        "          loss = criterion(output, target)\n",
        "          mean_corrector = nb_movies/float(torch.sum(target.data > 0) + 1e-10)\n",
        "          test_loss += np.sqrt(loss.data*mean_corrector)\n",
        "          s += 1.\n",
        "  print('test_loss: '+str(test_loss/s))"
      ],
      "execution_count": null,
      "outputs": [
        {
          "output_type": "stream",
          "text": [
            "test_loss: tensor(0.0619)\n"
          ],
          "name": "stdout"
        }
      ]
    },
    {
      "cell_type": "code",
      "metadata": {
        "id": "tVxLdKIQKJkj",
        "colab_type": "code",
        "colab": {}
      },
      "source": [
        ""
      ],
      "execution_count": null,
      "outputs": []
    },
    {
      "cell_type": "code",
      "metadata": {
        "colab_type": "code",
        "id": "29gKOb3CKJ7b",
        "colab": {}
      },
      "source": [
        "from math import sqrt\n"
      ],
      "execution_count": null,
      "outputs": []
    },
    {
      "cell_type": "code",
      "metadata": {
        "colab_type": "code",
        "id": "d63DldRDKJ7f",
        "colab": {
          "base_uri": "https://localhost:8080/",
          "height": 34
        },
        "outputId": "7a8827e0-03cb-4e8c-9402-3518eee47ba2"
      },
      "source": [
        "RMSE = sqrt(0.0619)\n",
        "\n",
        "RMSE"
      ],
      "execution_count": null,
      "outputs": [
        {
          "output_type": "execute_result",
          "data": {
            "text/plain": [
              "0.24879710609249456"
            ]
          },
          "metadata": {
            "tags": []
          },
          "execution_count": 117
        }
      ]
    },
    {
      "cell_type": "code",
      "metadata": {
        "id": "CBf_xAh9KPDK",
        "colab_type": "code",
        "colab": {
          "base_uri": "https://localhost:8080/",
          "height": 295
        },
        "outputId": "5aff2ad4-3b86-48de-aded-2d4a2deecfef"
      },
      "source": [
        "epochs = range(1,201)\n",
        "plt.plot(epochs, losses, 'g', label='batch size = 200 ') # 'g' = color green\n",
        "plt.plot(epochs, alosses, 'r', label='batch size = 500 ') # 'g' = color green\n",
        "plt.title('Batch Normalization- epoch = 200')\n",
        "plt.xlabel('Epochs')\n",
        "plt.ylabel('Training Loss')\n",
        "\n",
        "plt.legend()\n",
        "plt.show()"
      ],
      "execution_count": null,
      "outputs": [
        {
          "output_type": "display_data",
          "data": {
            "image/png": "[encoded data removed]",
            "text/plain": [
              "<Figure size 432x288 with 1 Axes>"
            ]
          },
          "metadata": {
            "tags": [],
            "needs_background": "light"
          }
        }
      ]
    },
    {
      "cell_type": "markdown",
      "metadata": {
        "id": "3PlJ6uA5K1ZI",
        "colab_type": "text"
      },
      "source": [
        ""
      ]
    },
    {
      "cell_type": "code",
      "metadata": {
        "id": "ic6qgDwYK1vP",
        "colab_type": "code",
        "colab": {}
      },
      "source": [
        ""
      ],
      "execution_count": null,
      "outputs": []
    },
    {
      "cell_type": "markdown",
      "metadata": {
        "id": "IqfAgXs7tzem",
        "colab_type": "text"
      },
      "source": [
        "# Other Results"
      ]
    },
    {
      "cell_type": "markdown",
      "metadata": {
        "colab_type": "text",
        "id": "hKi7WVfkK2Hx"
      },
      "source": [
        "# Batch size 500 plus epoch size 500\n",
        "\n",
        "*   TRAINING LOSS: 0.0474\n",
        "*   TEST LOSS: 0.0512\n",
        "*   RMSE LOSS:0.2262\n"
      ]
    },
    {
      "cell_type": "code",
      "metadata": {
        "colab_type": "code",
        "id": "ozVM56SOK2Hz",
        "colab": {}
      },
      "source": [
        "training = ['user_id', 'movie_id', 'rating', 'timestamp' ] #Create each column\n",
        "test = ['user_id', 'movie_id', 'rating', 'timestamp' ]     #Create each column"
      ],
      "execution_count": null,
      "outputs": []
    },
    {
      "cell_type": "code",
      "metadata": {
        "colab_type": "code",
        "id": "yWV1rF41K2H2",
        "colab": {}
      },
      "source": [
        "# Preparing the training set and the test set \n",
        "training_set = pd.read_csv('u1.base', names=training, delimiter = '\\t') # Read the file\n",
        "test_set = pd.read_csv('u1.test', names=test, delimiter = '\\t') #Read the file"
      ],
      "execution_count": null,
      "outputs": []
    },
    {
      "cell_type": "code",
      "metadata": {
        "colab_type": "code",
        "id": "ZNHIszerK2H5",
        "colab": {}
      },
      "source": [
        "#Drop 'timestamp' column\n",
        "training_set= training_set.drop([\"timestamp\"], axis=1)"
      ],
      "execution_count": null,
      "outputs": []
    },
    {
      "cell_type": "code",
      "metadata": {
        "colab_type": "code",
        "id": "H9DLw7fBK2H7",
        "colab": {}
      },
      "source": [
        "#Drop 'timestamp' column\n",
        "test_set= test_set.drop([\"timestamp\"], axis=1)"
      ],
      "execution_count": null,
      "outputs": []
    },
    {
      "cell_type": "code",
      "metadata": {
        "colab_type": "code",
        "id": "V8lCGh6OK2IA",
        "colab": {
          "base_uri": "https://localhost:8080/",
          "height": 204
        },
        "outputId": "ac788788-961f-4351-d36b-3dda7d09f118"
      },
      "source": [
        "# Visualizing the first elements of the training_set\n",
        "training_set.head()"
      ],
      "execution_count": null,
      "outputs": [
        {
          "output_type": "execute_result",
          "data": {
            "text/html": [
              "<div>\n",
              "<style scoped>\n",
              "    .dataframe tbody tr th:only-of-type {\n",
              "        vertical-align: middle;\n",
              "    }\n",
              "\n",
              "    .dataframe tbody tr th {\n",
              "        vertical-align: top;\n",
              "    }\n",
              "\n",
              "    .dataframe thead th {\n",
              "        text-align: right;\n",
              "    }\n",
              "</style>\n",
              "<table border=\"1\" class=\"dataframe\">\n",
              "  <thead>\n",
              "    <tr style=\"text-align: right;\">\n",
              "      <th></th>\n",
              "      <th>user_id</th>\n",
              "      <th>movie_id</th>\n",
              "      <th>rating</th>\n",
              "    </tr>\n",
              "  </thead>\n",
              "  <tbody>\n",
              "    <tr>\n",
              "      <th>0</th>\n",
              "      <td>1</td>\n",
              "      <td>1</td>\n",
              "      <td>5</td>\n",
              "    </tr>\n",
              "    <tr>\n",
              "      <th>1</th>\n",
              "      <td>1</td>\n",
              "      <td>2</td>\n",
              "      <td>3</td>\n",
              "    </tr>\n",
              "    <tr>\n",
              "      <th>2</th>\n",
              "      <td>1</td>\n",
              "      <td>3</td>\n",
              "      <td>4</td>\n",
              "    </tr>\n",
              "    <tr>\n",
              "      <th>3</th>\n",
              "      <td>1</td>\n",
              "      <td>4</td>\n",
              "      <td>3</td>\n",
              "    </tr>\n",
              "    <tr>\n",
              "      <th>4</th>\n",
              "      <td>1</td>\n",
              "      <td>5</td>\n",
              "      <td>3</td>\n",
              "    </tr>\n",
              "  </tbody>\n",
              "</table>\n",
              "</div>"
            ],
            "text/plain": [
              "   user_id  movie_id  rating\n",
              "0        1         1       5\n",
              "1        1         2       3\n",
              "2        1         3       4\n",
              "3        1         4       3\n",
              "4        1         5       3"
            ]
          },
          "metadata": {
            "tags": []
          },
          "execution_count": 124
        }
      ]
    },
    {
      "cell_type": "code",
      "metadata": {
        "colab_type": "code",
        "id": "vtWsWON-K2ID",
        "colab": {
          "base_uri": "https://localhost:8080/",
          "height": 34
        },
        "outputId": "33414c0b-d39f-4495-848b-4ea4a3621a67"
      },
      "source": [
        "training_set.shape"
      ],
      "execution_count": null,
      "outputs": [
        {
          "output_type": "execute_result",
          "data": {
            "text/plain": [
              "(80000, 3)"
            ]
          },
          "metadata": {
            "tags": []
          },
          "execution_count": 125
        }
      ]
    },
    {
      "cell_type": "code",
      "metadata": {
        "colab_type": "code",
        "id": "_pipSJaPK2IF",
        "colab": {
          "base_uri": "https://localhost:8080/",
          "height": 34
        },
        "outputId": "0191cb2e-cd79-407a-9b4f-67a58c86d17d"
      },
      "source": [
        "test_set.shape"
      ],
      "execution_count": null,
      "outputs": [
        {
          "output_type": "execute_result",
          "data": {
            "text/plain": [
              "(20000, 3)"
            ]
          },
          "metadata": {
            "tags": []
          },
          "execution_count": 126
        }
      ]
    },
    {
      "cell_type": "code",
      "metadata": {
        "colab_type": "code",
        "id": "QkfTjRJfK2IH",
        "colab": {}
      },
      "source": [
        "# Converting the training and test sets into numpy arrays\n",
        "training_set = np.array(training_set, dtype = 'int')\n",
        "test_set = np.array(test_set, dtype = 'int')"
      ],
      "execution_count": null,
      "outputs": []
    },
    {
      "cell_type": "code",
      "metadata": {
        "colab_type": "code",
        "id": "T7PNqclLK2IJ",
        "colab": {}
      },
      "source": [
        "# Getting the number of users and movies\n",
        "nb_users = int(max(max(training_set[:, 0]), max(test_set[:, 0])))\n",
        "nb_movies = int(max(max(training_set[:, 1]), max(test_set[:, 1])))"
      ],
      "execution_count": null,
      "outputs": []
    },
    {
      "cell_type": "code",
      "metadata": {
        "colab_type": "code",
        "id": "VFMjxIwNK2IN",
        "colab": {
          "base_uri": "https://localhost:8080/",
          "height": 51
        },
        "outputId": "66fa755b-56e6-46bc-948b-8457e23b5880"
      },
      "source": [
        "print(\"Number of users: {}\".format(nb_users))\n",
        "print(\"Number of movies: {}\".format(nb_movies))"
      ],
      "execution_count": null,
      "outputs": [
        {
          "output_type": "stream",
          "text": [
            "Number of users: 943\n",
            "Number of movies: 1682\n"
          ],
          "name": "stdout"
        }
      ]
    },
    {
      "cell_type": "code",
      "metadata": {
        "colab_type": "code",
        "id": "anUGXfuMK2IP",
        "colab": {}
      },
      "source": [
        "def convert(data):\n",
        "    # Initializing an empty list that will take the list of ratings given by a specific user\n",
        "    new_data = []\n",
        "    # Looping over all the users\n",
        "    for id_users in range(1, nb_users + 1):\n",
        "        # We get the id of the movies rated by the current user\n",
        "        id_movies = data[:, 1][data[:, 0] == id_users]\n",
        "        # We get the id of the ratings given by the current_user\n",
        "        id_ratings = data[:, 2][data[:, 0] == id_users]\n",
        "        # \n",
        "        ratings = np.zeros(nb_movies)\n",
        "        # For movies rated by the current user, we replace 0 with the rating\n",
        "        # The first element of ratings is at index 0. However, id_movies start at index 1.\n",
        "        # Therefore, ratings[id_movies - 1] will correspond to the location of the movie we're considering\n",
        "        ratings[id_movies - 1] = id_ratings\n",
        "        new_data.append(list(ratings))\n",
        "    return new_data"
      ],
      "execution_count": null,
      "outputs": []
    },
    {
      "cell_type": "code",
      "metadata": {
        "colab_type": "code",
        "id": "q6NUahY2K2IT",
        "colab": {}
      },
      "source": [
        "# Applying the convert function to the training and test set.\n",
        "training_set = convert(training_set)\n",
        "test_set = convert(test_set)"
      ],
      "execution_count": null,
      "outputs": []
    },
    {
      "cell_type": "code",
      "metadata": {
        "colab_type": "code",
        "id": "51vcNKPSK2IV",
        "colab": {}
      },
      "source": [
        "# Convert the data into Torch tensors\n",
        "training_set = torch.FloatTensor(training_set)\n",
        "test_set = torch.FloatTensor(test_set)"
      ],
      "execution_count": null,
      "outputs": []
    },
    {
      "cell_type": "code",
      "metadata": {
        "colab_type": "code",
        "id": "qSvWjga6K2IY",
        "colab": {}
      },
      "source": [
        "batch_size  = 500\n",
        "\n",
        "''' Dataset Class'''\n",
        "class DatasetR(Dataset):\n",
        "    \"\"\"Youtube-VOS dataset.\"\"\"\n",
        "\n",
        "    def __init__(self, training_set, nb_users, transform=None):\n",
        "        super(DatasetR, self).__init__()\n",
        "        \"\"\"\n",
        "        Args:\n",
        "            root_dir (string): Directory with all the images.\n",
        "            transform (callable, optional): Optional transform to be applied\n",
        "                on a sample.\n",
        "        \"\"\"\n",
        "        self.training_set = training_set\n",
        "        self.nb_users = nb_users\n",
        "    def __len__(self):\n",
        "        return self.nb_users\n",
        "\n",
        "    def __getitem__(self, idx):\n",
        "        #print(idx)\n",
        "        sample = self.training_set[idx]\n",
        "\n",
        "\n",
        "        #sample = torch.Tensor(sample)\n",
        "\n",
        "\n",
        "        return sample"
      ],
      "execution_count": null,
      "outputs": []
    },
    {
      "cell_type": "code",
      "metadata": {
        "colab_type": "code",
        "id": "7fOGt_YsK2IZ",
        "colab": {}
      },
      "source": [
        "class SAE(nn.Module):\n",
        "    # Initializing the class\n",
        "    def __init__(self, ):\n",
        "        # making the class get all the functions from the parent class nn.Module\n",
        "        super(SAE, self).__init__()\n",
        "        # Creating the first encoding layer. The number of input corresponds to the number of movies\n",
        "        #  Decide to encode it into 20 outputs\n",
        "        self.fc1 = nn.Linear(nb_movies, 20)\n",
        "        # Batch Normalization.\n",
        "        self.bn1 = nn.BatchNorm1d(20)\n",
        "        # Creating the second encoding layer. From 20 inputs to 10 outputs\n",
        "        self.fc2 = nn.Linear(20, 10)\n",
        "        # Batch Normalization.\n",
        "        self.bn2 = nn.BatchNorm1d(10)\n",
        "        # Creating the first decoding layer. From 10 inputs to 20 outputs\n",
        "        self.fc3 = nn.Linear(10, 20)\n",
        "        # Batch Normalization\n",
        "        self.bn3 = nn.BatchNorm1d(20)\n",
        "        # Creating the second hidden layer. From 20 inputs to nb_movies outputs\n",
        "        self.fc4 = nn.Linear(20, nb_movies)\n",
        "        # Creating the activation fucntion which will fire up specific neurons \n",
        "        self.activation = nn.Sigmoid()\n",
        "        \n",
        "        # Creating the function for forward propagation\n",
        "    def forward(self, x):\n",
        "        # x = self.do1(self.bn1(self.activation(self.fc1(x))))\n",
        "        # x = self.do2(self.bn2(self.activation(self.fc2(x))))\n",
        "        # x = self.do3(self.bn3(self.activation(self.fc3(x))))\n",
        "\n",
        "        x = self.bn1(self.activation(self.fc1(x)))\n",
        "        x = self.bn2(self.activation(self.fc2(x)))\n",
        "        x = self.bn3(self.activation(self.fc3(x)))\n",
        "        # With autoencoder, we don't need an activation function for the last decoding part\n",
        "        x = self.fc4(x)\n",
        "        return x\n",
        "\n",
        "          \n",
        "    def predict(self, x): # x: visible nodes\n",
        "        x = self.forward(x)\n",
        "        return x"
      ],
      "execution_count": null,
      "outputs": []
    },
    {
      "cell_type": "code",
      "metadata": {
        "colab_type": "code",
        "id": "ED8XnzPoK2Ib",
        "colab": {}
      },
      "source": [
        " #Creating an instance of our SAE class\n",
        "sae = SAE()\n",
        "\n",
        "dataset = DatasetR(training_set = training_set, nb_users = nb_users)\n",
        "train_loader = torch.utils.data.DataLoader(dataset, batch_size = batch_size, shuffle=True, num_workers=4, drop_last=True)\n",
        "\n",
        "\n",
        "\n",
        "datasetTest = DatasetR(training_set = test_set, nb_users = nb_users)\n",
        "test_loader = torch.utils.data.DataLoader(datasetTest, batch_size = batch_size, shuffle=True, num_workers=4, drop_last=True)\n",
        "\n",
        "\n",
        "\n",
        "\n",
        " #Defining a criterion which specifies the metric to minimize. In this case, we want to minimize the MSE (Mean Squared Error)\n",
        "criterion = nn.MSELoss()\n",
        "\n",
        "# Defining the algorithm used to minimize the loss function. In this case, we'll use RMSprop\n",
        "optimizer = optim.RMSprop(sae.parameters(), lr = 0.01, weight_decay = 0.5)"
      ],
      "execution_count": null,
      "outputs": []
    },
    {
      "cell_type": "code",
      "metadata": {
        "colab_type": "code",
        "id": "5MpQHWdAK2Id",
        "colab": {
          "base_uri": "https://localhost:8080/",
          "height": 1000
        },
        "outputId": "4270ac26-e73a-44e5-96f9-62b6ec8c886f"
      },
      "source": [
        "# Setting the number of epochs\n",
        "\n",
        "blosses = []\n",
        "\n",
        "time_start = time.time()\n",
        "\n",
        "nb_epoch = 500\n",
        "\n",
        "# Iterating over each epoch\n",
        "\n",
        "for epoch in range(1, nb_epoch + 1):\n",
        "\n",
        "    #sae.train()\n",
        "\n",
        "    # Initializing the train_loss which will be updated\n",
        "\n",
        "    train_loss = 0\n",
        "\n",
        "    # Initializing a counter\n",
        "\n",
        "    s = 0.\n",
        "\n",
        "    # Iterating over each user\n",
        "\n",
        "    #for id_user in range(nb_users):\n",
        "\n",
        "    for batch_idx, (sample) in enumerate(train_loader):\n",
        "\n",
        "        # The input corresponds to the ratings given by the current user for each movie\n",
        "\n",
        "        input = Variable(sample)\n",
        "\n",
        "        target = input.clone()\n",
        "\n",
        "        # We don't consider movies NOT rated by the current user. So we specify a conditional statement\n",
        "\n",
        "        if torch.sum(target.data > 0) > 0:\n",
        "\n",
        "            # We use our SAE to get the output from the \n",
        "\n",
        "            #print('input:  '+ str(input.shape))\n",
        "\n",
        "            output = sae(input)\n",
        "\n",
        "            #print(output.shape)\n",
        "\n",
        "            target.require_grad = False\n",
        "\n",
        "            output[target == 0] = 0\n",
        "\n",
        "            # Defining our loss function, comparing the output with the target\n",
        "\n",
        "            loss = criterion(output, target)\n",
        "\n",
        "            mean_corrector = nb_movies/float(torch.sum(target.data > 0) + 1e-10)\n",
        "\n",
        "            # Computing the gradients necessary to adjust the weights\n",
        "\n",
        "            loss.backward()\n",
        "\n",
        "            # Updating the train_loss\n",
        "\n",
        "            train_loss += np.sqrt(loss.data*mean_corrector)\n",
        "\n",
        "            s += 1.\n",
        "\n",
        "            # Updating the weights of the neural network\n",
        "\n",
        "            optimizer.step()\n",
        "\n",
        "    epoch_loss = train_loss / len(train_loader)\n",
        "    blosses.append(epoch_loss)  \n",
        "    print('epoch: '+str(epoch)+' loss: '+str(train_loss/s))\n",
        "time_end = time.time()\n",
        "print('Stacked-Autoencoder(SAE) Training Time : ' +str(round((time_end-time_start)/60,0))+' Minutes. ')\n",
        "\n"
      ],
      "execution_count": null,
      "outputs": [
        {
          "output_type": "stream",
          "text": [
            "epoch: 1 loss: tensor(0.1690)\n",
            "epoch: 2 loss: tensor(0.1656)\n",
            "epoch: 3 loss: tensor(0.1659)\n",
            "epoch: 4 loss: tensor(0.1648)\n",
            "epoch: 5 loss: tensor(0.1640)\n",
            "epoch: 6 loss: tensor(0.1658)\n",
            "epoch: 7 loss: tensor(0.1651)\n",
            "epoch: 8 loss: tensor(0.1632)\n",
            "epoch: 9 loss: tensor(0.1652)\n",
            "epoch: 10 loss: tensor(0.1632)\n",
            "epoch: 11 loss: tensor(0.1622)\n",
            "epoch: 12 loss: tensor(0.1626)\n",
            "epoch: 13 loss: tensor(0.1615)\n",
            "epoch: 14 loss: tensor(0.1621)\n",
            "epoch: 15 loss: tensor(0.1627)\n",
            "epoch: 16 loss: tensor(0.1620)\n",
            "epoch: 17 loss: tensor(0.1625)\n",
            "epoch: 18 loss: tensor(0.1607)\n",
            "epoch: 19 loss: tensor(0.1610)\n",
            "epoch: 20 loss: tensor(0.1609)\n",
            "epoch: 21 loss: tensor(0.1615)\n",
            "epoch: 22 loss: tensor(0.1621)\n",
            "epoch: 23 loss: tensor(0.1602)\n",
            "epoch: 24 loss: tensor(0.1610)\n",
            "epoch: 25 loss: tensor(0.1613)\n",
            "epoch: 26 loss: tensor(0.1595)\n",
            "epoch: 27 loss: tensor(0.1602)\n",
            "epoch: 28 loss: tensor(0.1605)\n",
            "epoch: 29 loss: tensor(0.1591)\n",
            "epoch: 30 loss: tensor(0.1580)\n",
            "epoch: 31 loss: tensor(0.1593)\n",
            "epoch: 32 loss: tensor(0.1587)\n",
            "epoch: 33 loss: tensor(0.1573)\n",
            "epoch: 34 loss: tensor(0.1580)\n",
            "epoch: 35 loss: tensor(0.1588)\n",
            "epoch: 36 loss: tensor(0.1582)\n",
            "epoch: 37 loss: tensor(0.1572)\n",
            "epoch: 38 loss: tensor(0.1583)\n",
            "epoch: 39 loss: tensor(0.1572)\n",
            "epoch: 40 loss: tensor(0.1552)\n",
            "epoch: 41 loss: tensor(0.1565)\n",
            "epoch: 42 loss: tensor(0.1552)\n",
            "epoch: 43 loss: tensor(0.1571)\n",
            "epoch: 44 loss: tensor(0.1554)\n",
            "epoch: 45 loss: tensor(0.1547)\n",
            "epoch: 46 loss: tensor(0.1529)\n",
            "epoch: 47 loss: tensor(0.1521)\n",
            "epoch: 48 loss: tensor(0.1526)\n",
            "epoch: 49 loss: tensor(0.1518)\n",
            "epoch: 50 loss: tensor(0.1522)\n",
            "epoch: 51 loss: tensor(0.1512)\n",
            "epoch: 52 loss: tensor(0.1491)\n",
            "epoch: 53 loss: tensor(0.1497)\n",
            "epoch: 54 loss: tensor(0.1478)\n",
            "epoch: 55 loss: tensor(0.1474)\n",
            "epoch: 56 loss: tensor(0.1475)\n",
            "epoch: 57 loss: tensor(0.1457)\n",
            "epoch: 58 loss: tensor(0.1443)\n",
            "epoch: 59 loss: tensor(0.1436)\n",
            "epoch: 60 loss: tensor(0.1444)\n",
            "epoch: 61 loss: tensor(0.1413)\n",
            "epoch: 62 loss: tensor(0.1409)\n",
            "epoch: 63 loss: tensor(0.1402)\n",
            "epoch: 64 loss: tensor(0.1378)\n",
            "epoch: 65 loss: tensor(0.1366)\n",
            "epoch: 66 loss: tensor(0.1357)\n",
            "epoch: 67 loss: tensor(0.1362)\n",
            "epoch: 68 loss: tensor(0.1329)\n",
            "epoch: 69 loss: tensor(0.1321)\n",
            "epoch: 70 loss: tensor(0.1303)\n",
            "epoch: 71 loss: tensor(0.1296)\n",
            "epoch: 72 loss: tensor(0.1275)\n",
            "epoch: 73 loss: tensor(0.1266)\n",
            "epoch: 74 loss: tensor(0.1253)\n",
            "epoch: 75 loss: tensor(0.1240)\n",
            "epoch: 76 loss: tensor(0.1238)\n",
            "epoch: 77 loss: tensor(0.1209)\n",
            "epoch: 78 loss: tensor(0.1189)\n",
            "epoch: 79 loss: tensor(0.1195)\n",
            "epoch: 80 loss: tensor(0.1160)\n",
            "epoch: 81 loss: tensor(0.1146)\n",
            "epoch: 82 loss: tensor(0.1135)\n",
            "epoch: 83 loss: tensor(0.1129)\n",
            "epoch: 84 loss: tensor(0.1110)\n",
            "epoch: 85 loss: tensor(0.1106)\n",
            "epoch: 86 loss: tensor(0.1085)\n",
            "epoch: 87 loss: tensor(0.1069)\n",
            "epoch: 88 loss: tensor(0.1049)\n",
            "epoch: 89 loss: tensor(0.1060)\n",
            "epoch: 90 loss: tensor(0.1034)\n",
            "epoch: 91 loss: tensor(0.1029)\n",
            "epoch: 92 loss: tensor(0.1015)\n",
            "epoch: 93 loss: tensor(0.1000)\n",
            "epoch: 94 loss: tensor(0.0993)\n",
            "epoch: 95 loss: tensor(0.0966)\n",
            "epoch: 96 loss: tensor(0.0971)\n",
            "epoch: 97 loss: tensor(0.0951)\n",
            "epoch: 98 loss: tensor(0.0946)\n",
            "epoch: 99 loss: tensor(0.0936)\n",
            "epoch: 100 loss: tensor(0.0941)\n",
            "epoch: 101 loss: tensor(0.0910)\n",
            "epoch: 102 loss: tensor(0.0919)\n",
            "epoch: 103 loss: tensor(0.0912)\n",
            "epoch: 104 loss: tensor(0.0904)\n",
            "epoch: 105 loss: tensor(0.0879)\n",
            "epoch: 106 loss: tensor(0.0881)\n",
            "epoch: 107 loss: tensor(0.0877)\n",
            "epoch: 108 loss: tensor(0.0861)\n",
            "epoch: 109 loss: tensor(0.0856)\n",
            "epoch: 110 loss: tensor(0.0851)\n",
            "epoch: 111 loss: tensor(0.0841)\n",
            "epoch: 112 loss: tensor(0.0846)\n",
            "epoch: 113 loss: tensor(0.0837)\n",
            "epoch: 114 loss: tensor(0.0841)\n",
            "epoch: 115 loss: tensor(0.0822)\n",
            "epoch: 116 loss: tensor(0.0827)\n",
            "epoch: 117 loss: tensor(0.0815)\n",
            "epoch: 118 loss: tensor(0.0809)\n",
            "epoch: 119 loss: tensor(0.0805)\n",
            "epoch: 120 loss: tensor(0.0802)\n",
            "epoch: 121 loss: tensor(0.0804)\n",
            "epoch: 122 loss: tensor(0.0796)\n",
            "epoch: 123 loss: tensor(0.0778)\n",
            "epoch: 124 loss: tensor(0.0788)\n",
            "epoch: 125 loss: tensor(0.0770)\n",
            "epoch: 126 loss: tensor(0.0776)\n",
            "epoch: 127 loss: tensor(0.0770)\n",
            "epoch: 128 loss: tensor(0.0762)\n",
            "epoch: 129 loss: tensor(0.0763)\n",
            "epoch: 130 loss: tensor(0.0756)\n",
            "epoch: 131 loss: tensor(0.0745)\n",
            "epoch: 132 loss: tensor(0.0741)\n",
            "epoch: 133 loss: tensor(0.0744)\n",
            "epoch: 134 loss: tensor(0.0737)\n",
            "epoch: 135 loss: tensor(0.0742)\n",
            "epoch: 136 loss: tensor(0.0737)\n",
            "epoch: 137 loss: tensor(0.0726)\n",
            "epoch: 138 loss: tensor(0.0713)\n",
            "epoch: 139 loss: tensor(0.0724)\n",
            "epoch: 140 loss: tensor(0.0712)\n",
            "epoch: 141 loss: tensor(0.0716)\n",
            "epoch: 142 loss: tensor(0.0703)\n",
            "epoch: 143 loss: tensor(0.0695)\n",
            "epoch: 144 loss: tensor(0.0701)\n",
            "epoch: 145 loss: tensor(0.0696)\n",
            "epoch: 146 loss: tensor(0.0694)\n",
            "epoch: 147 loss: tensor(0.0697)\n",
            "epoch: 148 loss: tensor(0.0682)\n",
            "epoch: 149 loss: tensor(0.0691)\n",
            "epoch: 150 loss: tensor(0.0678)\n",
            "epoch: 151 loss: tensor(0.0687)\n",
            "epoch: 152 loss: tensor(0.0683)\n",
            "epoch: 153 loss: tensor(0.0677)\n",
            "epoch: 154 loss: tensor(0.0669)\n",
            "epoch: 155 loss: tensor(0.0681)\n",
            "epoch: 156 loss: tensor(0.0669)\n",
            "epoch: 157 loss: tensor(0.0669)\n",
            "epoch: 158 loss: tensor(0.0660)\n",
            "epoch: 159 loss: tensor(0.0661)\n",
            "epoch: 160 loss: tensor(0.0649)\n",
            "epoch: 161 loss: tensor(0.0652)\n",
            "epoch: 162 loss: tensor(0.0645)\n",
            "epoch: 163 loss: tensor(0.0654)\n",
            "epoch: 164 loss: tensor(0.0649)\n",
            "epoch: 165 loss: tensor(0.0648)\n",
            "epoch: 166 loss: tensor(0.0650)\n",
            "epoch: 167 loss: tensor(0.0644)\n",
            "epoch: 168 loss: tensor(0.0635)\n",
            "epoch: 169 loss: tensor(0.0641)\n",
            "epoch: 170 loss: tensor(0.0643)\n",
            "epoch: 171 loss: tensor(0.0633)\n",
            "epoch: 172 loss: tensor(0.0628)\n",
            "epoch: 173 loss: tensor(0.0625)\n",
            "epoch: 174 loss: tensor(0.0631)\n",
            "epoch: 175 loss: tensor(0.0612)\n",
            "epoch: 176 loss: tensor(0.0620)\n",
            "epoch: 177 loss: tensor(0.0617)\n",
            "epoch: 178 loss: tensor(0.0615)\n",
            "epoch: 179 loss: tensor(0.0620)\n",
            "epoch: 180 loss: tensor(0.0609)\n",
            "epoch: 181 loss: tensor(0.0610)\n",
            "epoch: 182 loss: tensor(0.0603)\n",
            "epoch: 183 loss: tensor(0.0618)\n",
            "epoch: 184 loss: tensor(0.0605)\n",
            "epoch: 185 loss: tensor(0.0612)\n",
            "epoch: 186 loss: tensor(0.0608)\n",
            "epoch: 187 loss: tensor(0.0605)\n",
            "epoch: 188 loss: tensor(0.0604)\n",
            "epoch: 189 loss: tensor(0.0588)\n",
            "epoch: 190 loss: tensor(0.0603)\n",
            "epoch: 191 loss: tensor(0.0607)\n",
            "epoch: 192 loss: tensor(0.0592)\n",
            "epoch: 193 loss: tensor(0.0601)\n",
            "epoch: 194 loss: tensor(0.0586)\n",
            "epoch: 195 loss: tensor(0.0597)\n",
            "epoch: 196 loss: tensor(0.0592)\n",
            "epoch: 197 loss: tensor(0.0589)\n",
            "epoch: 198 loss: tensor(0.0589)\n",
            "epoch: 199 loss: tensor(0.0582)\n",
            "epoch: 200 loss: tensor(0.0581)\n",
            "epoch: 201 loss: tensor(0.0591)\n",
            "epoch: 202 loss: tensor(0.0582)\n",
            "epoch: 203 loss: tensor(0.0588)\n",
            "epoch: 204 loss: tensor(0.0577)\n",
            "epoch: 205 loss: tensor(0.0583)\n",
            "epoch: 206 loss: tensor(0.0582)\n",
            "epoch: 207 loss: tensor(0.0580)\n",
            "epoch: 208 loss: tensor(0.0571)\n",
            "epoch: 209 loss: tensor(0.0564)\n",
            "epoch: 210 loss: tensor(0.0574)\n",
            "epoch: 211 loss: tensor(0.0562)\n",
            "epoch: 212 loss: tensor(0.0567)\n",
            "epoch: 213 loss: tensor(0.0576)\n",
            "epoch: 214 loss: tensor(0.0561)\n",
            "epoch: 215 loss: tensor(0.0570)\n",
            "epoch: 216 loss: tensor(0.0561)\n",
            "epoch: 217 loss: tensor(0.0570)\n",
            "epoch: 218 loss: tensor(0.0562)\n",
            "epoch: 219 loss: tensor(0.0568)\n",
            "epoch: 220 loss: tensor(0.0563)\n",
            "epoch: 221 loss: tensor(0.0563)\n",
            "epoch: 222 loss: tensor(0.0566)\n",
            "epoch: 223 loss: tensor(0.0564)\n",
            "epoch: 224 loss: tensor(0.0557)\n",
            "epoch: 225 loss: tensor(0.0551)\n",
            "epoch: 226 loss: tensor(0.0555)\n",
            "epoch: 227 loss: tensor(0.0554)\n",
            "epoch: 228 loss: tensor(0.0552)\n",
            "epoch: 229 loss: tensor(0.0548)\n",
            "epoch: 230 loss: tensor(0.0552)\n",
            "epoch: 231 loss: tensor(0.0557)\n",
            "epoch: 232 loss: tensor(0.0549)\n",
            "epoch: 233 loss: tensor(0.0557)\n",
            "epoch: 234 loss: tensor(0.0550)\n",
            "epoch: 235 loss: tensor(0.0554)\n",
            "epoch: 236 loss: tensor(0.0551)\n",
            "epoch: 237 loss: tensor(0.0541)\n",
            "epoch: 238 loss: tensor(0.0541)\n",
            "epoch: 239 loss: tensor(0.0558)\n",
            "epoch: 240 loss: tensor(0.0547)\n",
            "epoch: 241 loss: tensor(0.0535)\n",
            "epoch: 242 loss: tensor(0.0537)\n",
            "epoch: 243 loss: tensor(0.0539)\n",
            "epoch: 244 loss: tensor(0.0535)\n",
            "epoch: 245 loss: tensor(0.0546)\n",
            "epoch: 246 loss: tensor(0.0554)\n",
            "epoch: 247 loss: tensor(0.0541)\n",
            "epoch: 248 loss: tensor(0.0531)\n",
            "epoch: 249 loss: tensor(0.0545)\n",
            "epoch: 250 loss: tensor(0.0531)\n",
            "epoch: 251 loss: tensor(0.0529)\n",
            "epoch: 252 loss: tensor(0.0536)\n",
            "epoch: 253 loss: tensor(0.0526)\n",
            "epoch: 254 loss: tensor(0.0535)\n",
            "epoch: 255 loss: tensor(0.0533)\n",
            "epoch: 256 loss: tensor(0.0542)\n",
            "epoch: 257 loss: tensor(0.0531)\n",
            "epoch: 258 loss: tensor(0.0527)\n",
            "epoch: 259 loss: tensor(0.0545)\n",
            "epoch: 260 loss: tensor(0.0527)\n",
            "epoch: 261 loss: tensor(0.0530)\n",
            "epoch: 262 loss: tensor(0.0532)\n",
            "epoch: 263 loss: tensor(0.0543)\n",
            "epoch: 264 loss: tensor(0.0533)\n",
            "epoch: 265 loss: tensor(0.0536)\n",
            "epoch: 266 loss: tensor(0.0527)\n",
            "epoch: 267 loss: tensor(0.0540)\n",
            "epoch: 268 loss: tensor(0.0536)\n",
            "epoch: 269 loss: tensor(0.0535)\n",
            "epoch: 270 loss: tensor(0.0534)\n",
            "epoch: 271 loss: tensor(0.0527)\n",
            "epoch: 272 loss: tensor(0.0537)\n",
            "epoch: 273 loss: tensor(0.0527)\n",
            "epoch: 274 loss: tensor(0.0521)\n",
            "epoch: 275 loss: tensor(0.0536)\n",
            "epoch: 276 loss: tensor(0.0527)\n",
            "epoch: 277 loss: tensor(0.0526)\n",
            "epoch: 278 loss: tensor(0.0522)\n",
            "epoch: 279 loss: tensor(0.0527)\n",
            "epoch: 280 loss: tensor(0.0517)\n",
            "epoch: 281 loss: tensor(0.0525)\n",
            "epoch: 282 loss: tensor(0.0515)\n",
            "epoch: 283 loss: tensor(0.0523)\n",
            "epoch: 284 loss: tensor(0.0523)\n",
            "epoch: 285 loss: tensor(0.0533)\n",
            "epoch: 286 loss: tensor(0.0524)\n",
            "epoch: 287 loss: tensor(0.0519)\n",
            "epoch: 288 loss: tensor(0.0521)\n",
            "epoch: 289 loss: tensor(0.0519)\n",
            "epoch: 290 loss: tensor(0.0517)\n",
            "epoch: 291 loss: tensor(0.0523)\n",
            "epoch: 292 loss: tensor(0.0518)\n",
            "epoch: 293 loss: tensor(0.0517)\n",
            "epoch: 294 loss: tensor(0.0524)\n",
            "epoch: 295 loss: tensor(0.0520)\n",
            "epoch: 296 loss: tensor(0.0512)\n",
            "epoch: 297 loss: tensor(0.0530)\n",
            "epoch: 298 loss: tensor(0.0517)\n",
            "epoch: 299 loss: tensor(0.0512)\n",
            "epoch: 300 loss: tensor(0.0508)\n",
            "epoch: 301 loss: tensor(0.0508)\n",
            "epoch: 302 loss: tensor(0.0515)\n",
            "epoch: 303 loss: tensor(0.0522)\n",
            "epoch: 304 loss: tensor(0.0505)\n",
            "epoch: 305 loss: tensor(0.0521)\n",
            "epoch: 306 loss: tensor(0.0509)\n",
            "epoch: 307 loss: tensor(0.0515)\n",
            "epoch: 308 loss: tensor(0.0509)\n",
            "epoch: 309 loss: tensor(0.0513)\n",
            "epoch: 310 loss: tensor(0.0509)\n",
            "epoch: 311 loss: tensor(0.0518)\n",
            "epoch: 312 loss: tensor(0.0526)\n",
            "epoch: 313 loss: tensor(0.0511)\n",
            "epoch: 314 loss: tensor(0.0504)\n",
            "epoch: 315 loss: tensor(0.0514)\n",
            "epoch: 316 loss: tensor(0.0509)\n",
            "epoch: 317 loss: tensor(0.0521)\n",
            "epoch: 318 loss: tensor(0.0507)\n",
            "epoch: 319 loss: tensor(0.0518)\n",
            "epoch: 320 loss: tensor(0.0513)\n",
            "epoch: 321 loss: tensor(0.0523)\n",
            "epoch: 322 loss: tensor(0.0520)\n",
            "epoch: 323 loss: tensor(0.0515)\n",
            "epoch: 324 loss: tensor(0.0517)\n",
            "epoch: 325 loss: tensor(0.0497)\n",
            "epoch: 326 loss: tensor(0.0508)\n",
            "epoch: 327 loss: tensor(0.0512)\n",
            "epoch: 328 loss: tensor(0.0512)\n",
            "epoch: 329 loss: tensor(0.0505)\n",
            "epoch: 330 loss: tensor(0.0508)\n",
            "epoch: 331 loss: tensor(0.0513)\n",
            "epoch: 332 loss: tensor(0.0505)\n",
            "epoch: 333 loss: tensor(0.0512)\n",
            "epoch: 334 loss: tensor(0.0503)\n",
            "epoch: 335 loss: tensor(0.0497)\n",
            "epoch: 336 loss: tensor(0.0503)\n",
            "epoch: 337 loss: tensor(0.0508)\n",
            "epoch: 338 loss: tensor(0.0499)\n",
            "epoch: 339 loss: tensor(0.0510)\n",
            "epoch: 340 loss: tensor(0.0504)\n",
            "epoch: 341 loss: tensor(0.0502)\n",
            "epoch: 342 loss: tensor(0.0498)\n",
            "epoch: 343 loss: tensor(0.0507)\n",
            "epoch: 344 loss: tensor(0.0499)\n",
            "epoch: 345 loss: tensor(0.0503)\n",
            "epoch: 346 loss: tensor(0.0504)\n",
            "epoch: 347 loss: tensor(0.0504)\n",
            "epoch: 348 loss: tensor(0.0503)\n",
            "epoch: 349 loss: tensor(0.0515)\n",
            "epoch: 350 loss: tensor(0.0506)\n",
            "epoch: 351 loss: tensor(0.0504)\n",
            "epoch: 352 loss: tensor(0.0499)\n",
            "epoch: 353 loss: tensor(0.0506)\n",
            "epoch: 354 loss: tensor(0.0496)\n",
            "epoch: 355 loss: tensor(0.0499)\n",
            "epoch: 356 loss: tensor(0.0504)\n",
            "epoch: 357 loss: tensor(0.0501)\n",
            "epoch: 358 loss: tensor(0.0501)\n",
            "epoch: 359 loss: tensor(0.0507)\n",
            "epoch: 360 loss: tensor(0.0505)\n",
            "epoch: 361 loss: tensor(0.0503)\n",
            "epoch: 362 loss: tensor(0.0506)\n",
            "epoch: 363 loss: tensor(0.0526)\n",
            "epoch: 364 loss: tensor(0.0502)\n",
            "epoch: 365 loss: tensor(0.0498)\n",
            "epoch: 366 loss: tensor(0.0498)\n",
            "epoch: 367 loss: tensor(0.0501)\n",
            "epoch: 368 loss: tensor(0.0500)\n",
            "epoch: 369 loss: tensor(0.0492)\n",
            "epoch: 370 loss: tensor(0.0492)\n",
            "epoch: 371 loss: tensor(0.0499)\n",
            "epoch: 372 loss: tensor(0.0496)\n",
            "epoch: 373 loss: tensor(0.0494)\n",
            "epoch: 374 loss: tensor(0.0499)\n",
            "epoch: 375 loss: tensor(0.0497)\n",
            "epoch: 376 loss: tensor(0.0492)\n",
            "epoch: 377 loss: tensor(0.0505)\n",
            "epoch: 378 loss: tensor(0.0498)\n",
            "epoch: 379 loss: tensor(0.0490)\n",
            "epoch: 380 loss: tensor(0.0490)\n",
            "epoch: 381 loss: tensor(0.0499)\n",
            "epoch: 382 loss: tensor(0.0491)\n",
            "epoch: 383 loss: tensor(0.0492)\n",
            "epoch: 384 loss: tensor(0.0498)\n",
            "epoch: 385 loss: tensor(0.0489)\n",
            "epoch: 386 loss: tensor(0.0487)\n",
            "epoch: 387 loss: tensor(0.0491)\n",
            "epoch: 388 loss: tensor(0.0487)\n",
            "epoch: 389 loss: tensor(0.0490)\n",
            "epoch: 390 loss: tensor(0.0490)\n",
            "epoch: 391 loss: tensor(0.0497)\n",
            "epoch: 392 loss: tensor(0.0496)\n",
            "epoch: 393 loss: tensor(0.0497)\n",
            "epoch: 394 loss: tensor(0.0489)\n",
            "epoch: 395 loss: tensor(0.0499)\n",
            "epoch: 396 loss: tensor(0.0494)\n",
            "epoch: 397 loss: tensor(0.0489)\n",
            "epoch: 398 loss: tensor(0.0490)\n",
            "epoch: 399 loss: tensor(0.0489)\n",
            "epoch: 400 loss: tensor(0.0495)\n",
            "epoch: 401 loss: tensor(0.0490)\n",
            "epoch: 402 loss: tensor(0.0492)\n",
            "epoch: 403 loss: tensor(0.0499)\n",
            "epoch: 404 loss: tensor(0.0494)\n",
            "epoch: 405 loss: tensor(0.0477)\n",
            "epoch: 406 loss: tensor(0.0486)\n",
            "epoch: 407 loss: tensor(0.0486)\n",
            "epoch: 408 loss: tensor(0.0487)\n",
            "epoch: 409 loss: tensor(0.0480)\n",
            "epoch: 410 loss: tensor(0.0492)\n",
            "epoch: 411 loss: tensor(0.0483)\n",
            "epoch: 412 loss: tensor(0.0490)\n",
            "epoch: 413 loss: tensor(0.0493)\n",
            "epoch: 414 loss: tensor(0.0486)\n",
            "epoch: 415 loss: tensor(0.0490)\n",
            "epoch: 416 loss: tensor(0.0499)\n",
            "epoch: 417 loss: tensor(0.0486)\n",
            "epoch: 418 loss: tensor(0.0488)\n",
            "epoch: 419 loss: tensor(0.0503)\n",
            "epoch: 420 loss: tensor(0.0489)\n",
            "epoch: 421 loss: tensor(0.0486)\n",
            "epoch: 422 loss: tensor(0.0482)\n",
            "epoch: 423 loss: tensor(0.0487)\n",
            "epoch: 424 loss: tensor(0.0480)\n",
            "epoch: 425 loss: tensor(0.0486)\n",
            "epoch: 426 loss: tensor(0.0484)\n",
            "epoch: 427 loss: tensor(0.0484)\n",
            "epoch: 428 loss: tensor(0.0486)\n",
            "epoch: 429 loss: tensor(0.0488)\n",
            "epoch: 430 loss: tensor(0.0485)\n",
            "epoch: 431 loss: tensor(0.0483)\n",
            "epoch: 432 loss: tensor(0.0483)\n",
            "epoch: 433 loss: tensor(0.0488)\n",
            "epoch: 434 loss: tensor(0.0488)\n",
            "epoch: 435 loss: tensor(0.0485)\n",
            "epoch: 436 loss: tensor(0.0483)\n",
            "epoch: 437 loss: tensor(0.0483)\n",
            "epoch: 438 loss: tensor(0.0482)\n",
            "epoch: 439 loss: tensor(0.0496)\n",
            "epoch: 440 loss: tensor(0.0483)\n",
            "epoch: 441 loss: tensor(0.0485)\n",
            "epoch: 442 loss: tensor(0.0473)\n",
            "epoch: 443 loss: tensor(0.0489)\n",
            "epoch: 444 loss: tensor(0.0481)\n",
            "epoch: 445 loss: tensor(0.0480)\n",
            "epoch: 446 loss: tensor(0.0487)\n",
            "epoch: 447 loss: tensor(0.0490)\n",
            "epoch: 448 loss: tensor(0.0471)\n",
            "epoch: 449 loss: tensor(0.0474)\n",
            "epoch: 450 loss: tensor(0.0480)\n",
            "epoch: 451 loss: tensor(0.0486)\n",
            "epoch: 452 loss: tensor(0.0484)\n",
            "epoch: 453 loss: tensor(0.0478)\n",
            "epoch: 454 loss: tensor(0.0483)\n",
            "epoch: 455 loss: tensor(0.0485)\n",
            "epoch: 456 loss: tensor(0.0481)\n",
            "epoch: 457 loss: tensor(0.0473)\n",
            "epoch: 458 loss: tensor(0.0484)\n",
            "epoch: 459 loss: tensor(0.0484)\n",
            "epoch: 460 loss: tensor(0.0475)\n",
            "epoch: 461 loss: tensor(0.0482)\n",
            "epoch: 462 loss: tensor(0.0475)\n",
            "epoch: 463 loss: tensor(0.0485)\n",
            "epoch: 464 loss: tensor(0.0475)\n",
            "epoch: 465 loss: tensor(0.0476)\n",
            "epoch: 466 loss: tensor(0.0470)\n",
            "epoch: 467 loss: tensor(0.0481)\n",
            "epoch: 468 loss: tensor(0.0475)\n",
            "epoch: 469 loss: tensor(0.0480)\n",
            "epoch: 470 loss: tensor(0.0483)\n",
            "epoch: 471 loss: tensor(0.0483)\n",
            "epoch: 472 loss: tensor(0.0470)\n",
            "epoch: 473 loss: tensor(0.0474)\n",
            "epoch: 474 loss: tensor(0.0468)\n",
            "epoch: 475 loss: tensor(0.0473)\n",
            "epoch: 476 loss: tensor(0.0473)\n",
            "epoch: 477 loss: tensor(0.0482)\n",
            "epoch: 478 loss: tensor(0.0475)\n",
            "epoch: 479 loss: tensor(0.0468)\n",
            "epoch: 480 loss: tensor(0.0478)\n",
            "epoch: 481 loss: tensor(0.0475)\n",
            "epoch: 482 loss: tensor(0.0487)\n",
            "epoch: 483 loss: tensor(0.0477)\n",
            "epoch: 484 loss: tensor(0.0472)\n",
            "epoch: 485 loss: tensor(0.0481)\n",
            "epoch: 486 loss: tensor(0.0478)\n",
            "epoch: 487 loss: tensor(0.0478)\n",
            "epoch: 488 loss: tensor(0.0476)\n",
            "epoch: 489 loss: tensor(0.0478)\n",
            "epoch: 490 loss: tensor(0.0481)\n",
            "epoch: 491 loss: tensor(0.0473)\n",
            "epoch: 492 loss: tensor(0.0478)\n",
            "epoch: 493 loss: tensor(0.0483)\n",
            "epoch: 494 loss: tensor(0.0477)\n",
            "epoch: 495 loss: tensor(0.0465)\n",
            "epoch: 496 loss: tensor(0.0467)\n",
            "epoch: 497 loss: tensor(0.0473)\n",
            "epoch: 498 loss: tensor(0.0472)\n",
            "epoch: 499 loss: tensor(0.0476)\n",
            "epoch: 500 loss: tensor(0.0474)\n",
            "Stacked-Autoencoder(SAE) Training Time : 1.0 Minutes. \n"
          ],
          "name": "stdout"
        }
      ]
    },
    {
      "cell_type": "code",
      "metadata": {
        "colab_type": "code",
        "id": "7NDOfE2KK2If",
        "colab": {
          "base_uri": "https://localhost:8080/",
          "height": 295
        },
        "outputId": "e97a552d-4613-41f2-bdc6-26c6f870202e"
      },
      "source": [
        "epochs = range(1,501)\n",
        "plt.plot(epochs, blosses, 'b', label=' batch size = 500 ') # 'g' = color green\n",
        "plt.title('Batch Normalization- epoch = 500')\n",
        "plt.xlabel('Epochs')\n",
        "plt.ylabel('Training Loss')\n",
        "\n",
        "plt.legend()\n",
        "plt.show()"
      ],
      "execution_count": null,
      "outputs": [
        {
          "output_type": "display_data",
          "data": {
            "image/png": "[encoded data removed]",
            "text/plain": [
              "<Figure size 432x288 with 1 Axes>"
            ]
          },
          "metadata": {
            "tags": [],
            "needs_background": "light"
          }
        }
      ]
    },
    {
      "cell_type": "code",
      "metadata": {
        "colab_type": "code",
        "id": "Be4TMrqtK2Ih",
        "colab": {
          "base_uri": "https://localhost:8080/",
          "height": 34
        },
        "outputId": "4b8ec134-e960-4d14-ef9e-eefd761b40d2"
      },
      "source": [
        "sae.eval()\n",
        "with torch.no_grad():\n",
        "  test_loss = 0\n",
        "  s = 0.\n",
        "  for input1,target1 in zip(train_loader,test_loader):\n",
        "      input = Variable(input1)\n",
        "      target = Variable(target1)\n",
        "      if torch.sum(target.data > 0) > 0:\n",
        "          output = sae(input)\n",
        "          target.require_grad = False\n",
        "          output[(target == 0)] = 0\n",
        "          loss = criterion(output, target)\n",
        "          mean_corrector = nb_movies/float(torch.sum(target.data > 0) + 1e-10)\n",
        "          test_loss += np.sqrt(loss.data*mean_corrector)\n",
        "          s += 1.\n",
        "  print('test_loss: '+str(test_loss/s))"
      ],
      "execution_count": null,
      "outputs": [
        {
          "output_type": "stream",
          "text": [
            "test_loss: tensor(0.0512)\n"
          ],
          "name": "stdout"
        }
      ]
    },
    {
      "cell_type": "code",
      "metadata": {
        "colab_type": "code",
        "id": "sBw4vT9nK2Ij",
        "colab": {}
      },
      "source": [
        "from math import sqrt\n"
      ],
      "execution_count": null,
      "outputs": []
    },
    {
      "cell_type": "code",
      "metadata": {
        "colab_type": "code",
        "id": "HqZTuRaEK2Il",
        "colab": {
          "base_uri": "https://localhost:8080/",
          "height": 34
        },
        "outputId": "88698521-8027-4847-9502-959cf5ed50fe"
      },
      "source": [
        "RMSE = sqrt(0.0512)\n",
        "\n",
        "RMSE"
      ],
      "execution_count": null,
      "outputs": [
        {
          "output_type": "execute_result",
          "data": {
            "text/plain": [
              "0.2262741699796952"
            ]
          },
          "metadata": {
            "tags": []
          },
          "execution_count": 145
        }
      ]
    },
    {
      "cell_type": "markdown",
      "metadata": {
        "id": "TBdLtoPzOzWL",
        "colab_type": "text"
      },
      "source": [
        ""
      ]
    },
    {
      "cell_type": "code",
      "metadata": {
        "id": "W4eHrg-sOzqq",
        "colab_type": "code",
        "colab": {}
      },
      "source": [
        ""
      ],
      "execution_count": null,
      "outputs": []
    },
    {
      "cell_type": "markdown",
      "metadata": {
        "colab_type": "text",
        "id": "NfqaCZibOz85"
      },
      "source": [
        "# Batch size 500 plus epoch size 1000\n",
        "\n",
        "*   TRAINING LOSS: 0.0441\n",
        "*   TEST LOSS: 0.0478\n",
        "*   RMSE LOSS: 0.2186\n"
      ]
    },
    {
      "cell_type": "code",
      "metadata": {
        "colab_type": "code",
        "id": "Q6A9FRVbOz85",
        "colab": {}
      },
      "source": [
        "training = ['user_id', 'movie_id', 'rating', 'timestamp' ] #Create each column\n",
        "test = ['user_id', 'movie_id', 'rating', 'timestamp' ]     #Create each column"
      ],
      "execution_count": null,
      "outputs": []
    },
    {
      "cell_type": "code",
      "metadata": {
        "colab_type": "code",
        "id": "nfA0tSi-Oz88",
        "colab": {}
      },
      "source": [
        "# Preparing the training set and the test set \n",
        "training_set = pd.read_csv('u1.base', names=training, delimiter = '\\t') # Read the file\n",
        "test_set = pd.read_csv('u1.test', names=test, delimiter = '\\t') #Read the file"
      ],
      "execution_count": null,
      "outputs": []
    },
    {
      "cell_type": "code",
      "metadata": {
        "colab_type": "code",
        "id": "HYudkGp0Oz8-",
        "colab": {}
      },
      "source": [
        "#Drop 'timestamp' column\n",
        "training_set= training_set.drop([\"timestamp\"], axis=1)"
      ],
      "execution_count": null,
      "outputs": []
    },
    {
      "cell_type": "code",
      "metadata": {
        "colab_type": "code",
        "id": "cr6LXy2ROz9B",
        "colab": {}
      },
      "source": [
        "#Drop 'timestamp' column\n",
        "test_set= test_set.drop([\"timestamp\"], axis=1)"
      ],
      "execution_count": null,
      "outputs": []
    },
    {
      "cell_type": "code",
      "metadata": {
        "colab_type": "code",
        "id": "9JWtEvbXOz9E",
        "colab": {
          "base_uri": "https://localhost:8080/",
          "height": 204
        },
        "outputId": "5f9f1c4f-d3da-4d1f-e76b-669040103b01"
      },
      "source": [
        "# Visualizing the first elements of the training_set\n",
        "training_set.head()"
      ],
      "execution_count": null,
      "outputs": [
        {
          "output_type": "execute_result",
          "data": {
            "text/html": [
              "<div>\n",
              "<style scoped>\n",
              "    .dataframe tbody tr th:only-of-type {\n",
              "        vertical-align: middle;\n",
              "    }\n",
              "\n",
              "    .dataframe tbody tr th {\n",
              "        vertical-align: top;\n",
              "    }\n",
              "\n",
              "    .dataframe thead th {\n",
              "        text-align: right;\n",
              "    }\n",
              "</style>\n",
              "<table border=\"1\" class=\"dataframe\">\n",
              "  <thead>\n",
              "    <tr style=\"text-align: right;\">\n",
              "      <th></th>\n",
              "      <th>user_id</th>\n",
              "      <th>movie_id</th>\n",
              "      <th>rating</th>\n",
              "    </tr>\n",
              "  </thead>\n",
              "  <tbody>\n",
              "    <tr>\n",
              "      <th>0</th>\n",
              "      <td>1</td>\n",
              "      <td>1</td>\n",
              "      <td>5</td>\n",
              "    </tr>\n",
              "    <tr>\n",
              "      <th>1</th>\n",
              "      <td>1</td>\n",
              "      <td>2</td>\n",
              "      <td>3</td>\n",
              "    </tr>\n",
              "    <tr>\n",
              "      <th>2</th>\n",
              "      <td>1</td>\n",
              "      <td>3</td>\n",
              "      <td>4</td>\n",
              "    </tr>\n",
              "    <tr>\n",
              "      <th>3</th>\n",
              "      <td>1</td>\n",
              "      <td>4</td>\n",
              "      <td>3</td>\n",
              "    </tr>\n",
              "    <tr>\n",
              "      <th>4</th>\n",
              "      <td>1</td>\n",
              "      <td>5</td>\n",
              "      <td>3</td>\n",
              "    </tr>\n",
              "  </tbody>\n",
              "</table>\n",
              "</div>"
            ],
            "text/plain": [
              "   user_id  movie_id  rating\n",
              "0        1         1       5\n",
              "1        1         2       3\n",
              "2        1         3       4\n",
              "3        1         4       3\n",
              "4        1         5       3"
            ]
          },
          "metadata": {
            "tags": []
          },
          "execution_count": 159
        }
      ]
    },
    {
      "cell_type": "code",
      "metadata": {
        "colab_type": "code",
        "id": "_9dHnjFiOz9G",
        "colab": {
          "base_uri": "https://localhost:8080/",
          "height": 34
        },
        "outputId": "cfa2bdbe-443c-4d21-9dff-551776bbc6e1"
      },
      "source": [
        "training_set.shape"
      ],
      "execution_count": null,
      "outputs": [
        {
          "output_type": "execute_result",
          "data": {
            "text/plain": [
              "(80000, 3)"
            ]
          },
          "metadata": {
            "tags": []
          },
          "execution_count": 160
        }
      ]
    },
    {
      "cell_type": "code",
      "metadata": {
        "colab_type": "code",
        "id": "B5rfyyvaOz9I",
        "colab": {
          "base_uri": "https://localhost:8080/",
          "height": 34
        },
        "outputId": "5afc57a6-1982-4085-821f-9b199c67832d"
      },
      "source": [
        "test_set.shape"
      ],
      "execution_count": null,
      "outputs": [
        {
          "output_type": "execute_result",
          "data": {
            "text/plain": [
              "(20000, 3)"
            ]
          },
          "metadata": {
            "tags": []
          },
          "execution_count": 161
        }
      ]
    },
    {
      "cell_type": "code",
      "metadata": {
        "colab_type": "code",
        "id": "bn_N8P63Oz9L",
        "colab": {}
      },
      "source": [
        "# Converting the training and test sets into numpy arrays\n",
        "training_set = np.array(training_set, dtype = 'int')\n",
        "test_set = np.array(test_set, dtype = 'int')"
      ],
      "execution_count": null,
      "outputs": []
    },
    {
      "cell_type": "code",
      "metadata": {
        "colab_type": "code",
        "id": "_PkRyoRpOz9N",
        "colab": {}
      },
      "source": [
        "# Getting the number of users and movies\n",
        "nb_users = int(max(max(training_set[:, 0]), max(test_set[:, 0])))\n",
        "nb_movies = int(max(max(training_set[:, 1]), max(test_set[:, 1])))"
      ],
      "execution_count": null,
      "outputs": []
    },
    {
      "cell_type": "code",
      "metadata": {
        "colab_type": "code",
        "id": "W-ZDA0lUOz9P",
        "colab": {
          "base_uri": "https://localhost:8080/",
          "height": 51
        },
        "outputId": "403ecb69-24bb-4d04-9d7c-fb4fb53f1a33"
      },
      "source": [
        "print(\"Number of users: {}\".format(nb_users))\n",
        "print(\"Number of movies: {}\".format(nb_movies))"
      ],
      "execution_count": null,
      "outputs": [
        {
          "output_type": "stream",
          "text": [
            "Number of users: 943\n",
            "Number of movies: 1682\n"
          ],
          "name": "stdout"
        }
      ]
    },
    {
      "cell_type": "code",
      "metadata": {
        "colab_type": "code",
        "id": "SUHJIl27Oz9S",
        "colab": {}
      },
      "source": [
        "def convert(data):\n",
        "    # Initializing an empty list that will take the list of ratings given by a specific user\n",
        "    new_data = []\n",
        "    # Looping over all the users\n",
        "    for id_users in range(1, nb_users + 1):\n",
        "        # We get the id of the movies rated by the current user\n",
        "        id_movies = data[:, 1][data[:, 0] == id_users]\n",
        "        # We get the id of the ratings given by the current_user\n",
        "        id_ratings = data[:, 2][data[:, 0] == id_users]\n",
        "        # \n",
        "        ratings = np.zeros(nb_movies)\n",
        "        # For movies rated by the current user, we replace 0 with the rating\n",
        "        # The first element of ratings is at index 0. However, id_movies start at index 1.\n",
        "        # Therefore, ratings[id_movies - 1] will correspond to the location of the movie we're considering\n",
        "        ratings[id_movies - 1] = id_ratings\n",
        "        new_data.append(list(ratings))\n",
        "    return new_data"
      ],
      "execution_count": null,
      "outputs": []
    },
    {
      "cell_type": "code",
      "metadata": {
        "colab_type": "code",
        "id": "LuIZwYBjOz9X",
        "colab": {}
      },
      "source": [
        "# Applying the convert function to the training and test set.\n",
        "training_set = convert(training_set)\n",
        "test_set = convert(test_set)"
      ],
      "execution_count": null,
      "outputs": []
    },
    {
      "cell_type": "code",
      "metadata": {
        "colab_type": "code",
        "id": "hv3rFWbpOz9Z",
        "colab": {}
      },
      "source": [
        "# Convert the data into Torch tensors\n",
        "training_set = torch.FloatTensor(training_set)\n",
        "test_set = torch.FloatTensor(test_set)"
      ],
      "execution_count": null,
      "outputs": []
    },
    {
      "cell_type": "code",
      "metadata": {
        "colab_type": "code",
        "id": "62tX4XvMOz9b",
        "colab": {}
      },
      "source": [
        "batch_size  = 500\n",
        "\n",
        "''' Dataset Class'''\n",
        "class DatasetR(Dataset):\n",
        "    \"\"\"Youtube-VOS dataset.\"\"\"\n",
        "\n",
        "    def __init__(self, training_set, nb_users, transform=None):\n",
        "        super(DatasetR, self).__init__()\n",
        "        \"\"\"\n",
        "        Args:\n",
        "            root_dir (string): Directory with all the images.\n",
        "            transform (callable, optional): Optional transform to be applied\n",
        "                on a sample.\n",
        "        \"\"\"\n",
        "        self.training_set = training_set\n",
        "        self.nb_users = nb_users\n",
        "    def __len__(self):\n",
        "        return self.nb_users\n",
        "\n",
        "    def __getitem__(self, idx):\n",
        "        #print(idx)\n",
        "        sample = self.training_set[idx]\n",
        "\n",
        "\n",
        "        #sample = torch.Tensor(sample)\n",
        "\n",
        "\n",
        "        return sample"
      ],
      "execution_count": null,
      "outputs": []
    },
    {
      "cell_type": "code",
      "metadata": {
        "colab_type": "code",
        "id": "U6OuO2aROz9d",
        "colab": {}
      },
      "source": [
        "class SAE(nn.Module):\n",
        "    # Initializing the class\n",
        "    def __init__(self, ):\n",
        "        # making the class get all the functions from the parent class nn.Module\n",
        "        super(SAE, self).__init__()\n",
        "        # Creating the first encoding layer. The number of input corresponds to the number of movies\n",
        "        #  Decide to encode it into 20 outputs\n",
        "        self.fc1 = nn.Linear(nb_movies, 20)\n",
        "        # Batch Normalization.\n",
        "        self.bn1 = nn.BatchNorm1d(20)\n",
        "        # Creating the second encoding layer. From 20 inputs to 10 outputs\n",
        "        self.fc2 = nn.Linear(20, 10)\n",
        "        # Batch Normalization.\n",
        "        self.bn2 = nn.BatchNorm1d(10)\n",
        "        # Creating the first decoding layer. From 10 inputs to 20 outputs\n",
        "        self.fc3 = nn.Linear(10, 20)\n",
        "        # Batch Normalization\n",
        "        self.bn3 = nn.BatchNorm1d(20)\n",
        "        # Creating the second hidden layer. From 20 inputs to nb_movies outputs\n",
        "        self.fc4 = nn.Linear(20, nb_movies)\n",
        "        # Creating the activation fucntion which will fire up specific neurons \n",
        "        self.activation = nn.Sigmoid()\n",
        "        \n",
        "        # Creating the function for forward propagation\n",
        "    def forward(self, x):\n",
        "        # x = self.do1(self.bn1(self.activation(self.fc1(x))))\n",
        "        # x = self.do2(self.bn2(self.activation(self.fc2(x))))\n",
        "        # x = self.do3(self.bn3(self.activation(self.fc3(x))))\n",
        "\n",
        "        x = self.bn1(self.activation(self.fc1(x)))\n",
        "        x = self.bn2(self.activation(self.fc2(x)))\n",
        "        x = self.bn3(self.activation(self.fc3(x)))\n",
        "        # With autoencoder, we don't need an activation function for the last decoding part\n",
        "        x = self.fc4(x)\n",
        "        return x\n",
        "\n",
        "          \n",
        "    def predict(self, x): # x: visible nodes\n",
        "        x = self.forward(x)\n",
        "        return x"
      ],
      "execution_count": null,
      "outputs": []
    },
    {
      "cell_type": "code",
      "metadata": {
        "colab_type": "code",
        "id": "4gSVL-4qOz9g",
        "colab": {}
      },
      "source": [
        " #Creating an instance of our SAE class\n",
        "sae = SAE()\n",
        "\n",
        "dataset = DatasetR(training_set = training_set, nb_users = nb_users)\n",
        "train_loader = torch.utils.data.DataLoader(dataset, batch_size = batch_size, shuffle=True, num_workers=4, drop_last=True)\n",
        "\n",
        "# print('Train Len')\n",
        "# print(training_set.shape)\n",
        "# print(nb_users)\n",
        "# print(test_set.shape)\n",
        "\n",
        "datasetTest = DatasetR(training_set = test_set, nb_users = nb_users)\n",
        "test_loader = torch.utils.data.DataLoader(datasetTest, batch_size = batch_size, shuffle=True, num_workers=4, drop_last=True)\n",
        "\n",
        "\n",
        "\n",
        "\n",
        " #Defining a criterion which specifies the metric to minimize. In this case, we want to minimize the MSE (Mean Squared Error)\n",
        "criterion = nn.MSELoss()\n",
        "\n",
        "# Defining the algorithm used to minimize the loss function. In this case, we'll use RMSprop\n",
        "optimizer = optim.RMSprop(sae.parameters(), lr = 0.01, weight_decay = 0.5)"
      ],
      "execution_count": null,
      "outputs": []
    },
    {
      "cell_type": "code",
      "metadata": {
        "colab_type": "code",
        "id": "0DBPxVeVOz9j",
        "colab": {
          "base_uri": "https://localhost:8080/",
          "height": 1000
        },
        "outputId": "826a629a-34d1-460e-cef8-0347a913daea"
      },
      "source": [
        "# Setting the number of epochs\n",
        "\n",
        "closses = []\n",
        "\n",
        "time_start = time.time()\n",
        "\n",
        "nb_epoch = 1000\n",
        "\n",
        "# Iterating over each epoch\n",
        "\n",
        "for epoch in range(1, nb_epoch + 1):\n",
        "\n",
        "    #sae.train()\n",
        "\n",
        "    # Initializing the train_loss which will be updated\n",
        "\n",
        "    train_loss = 0\n",
        "\n",
        "    # Initializing a counter\n",
        "\n",
        "    s = 0.\n",
        "\n",
        "    # Iterating over each user\n",
        "\n",
        "    #for id_user in range(nb_users):\n",
        "\n",
        "    for batch_idx, (sample) in enumerate(train_loader):\n",
        "\n",
        "        # The input corresponds to the ratings given by the current user for each movie\n",
        "\n",
        "        input = Variable(sample)\n",
        "\n",
        "        target = input.clone()\n",
        "\n",
        "        # We don't consider movies NOT rated by the current user. So we specify a conditional statement\n",
        "\n",
        "        if torch.sum(target.data > 0) > 0:\n",
        "\n",
        "            # We use our SAE to get the output from the \n",
        "\n",
        "            #print('input:  '+ str(input.shape))\n",
        "\n",
        "            output = sae(input)\n",
        "\n",
        "            #print(output.shape)\n",
        "\n",
        "            target.require_grad = False\n",
        "\n",
        "            output[target == 0] = 0\n",
        "\n",
        "            # Defining our loss function, comparing the output with the target\n",
        "\n",
        "            loss = criterion(output, target)\n",
        "\n",
        "            mean_corrector = nb_movies/float(torch.sum(target.data > 0) + 1e-10)\n",
        "\n",
        "            # Computing the gradients necessary to adjust the weights\n",
        "\n",
        "            loss.backward()\n",
        "\n",
        "            # Updating the train_loss\n",
        "\n",
        "            train_loss += np.sqrt(loss.data*mean_corrector)\n",
        "\n",
        "            s += 1.\n",
        "\n",
        "            # Updating the weights of the neural network\n",
        "\n",
        "            optimizer.step()\n",
        "\n",
        "    epoch_loss = train_loss / len(train_loader)\n",
        "    closses.append(epoch_loss)  \n",
        "    print('epoch: '+str(epoch)+' loss: '+str(train_loss/s))\n",
        "time_end = time.time()\n",
        "print('Stacked-Autoencoder(SAE) Training Time : ' +str(round((time_end-time_start)/60,0))+' Minutes. ')\n",
        "\n"
      ],
      "execution_count": null,
      "outputs": [
        {
          "output_type": "stream",
          "text": [
            "epoch: 1 loss: tensor(0.1692)\n",
            "epoch: 2 loss: tensor(0.1651)\n",
            "epoch: 3 loss: tensor(0.1658)\n",
            "epoch: 4 loss: tensor(0.1655)\n",
            "epoch: 5 loss: tensor(0.1638)\n",
            "epoch: 6 loss: tensor(0.1644)\n",
            "epoch: 7 loss: tensor(0.1639)\n",
            "epoch: 8 loss: tensor(0.1639)\n",
            "epoch: 9 loss: tensor(0.1632)\n",
            "epoch: 10 loss: tensor(0.1630)\n",
            "epoch: 11 loss: tensor(0.1618)\n",
            "epoch: 12 loss: tensor(0.1630)\n",
            "epoch: 13 loss: tensor(0.1632)\n",
            "epoch: 14 loss: tensor(0.1623)\n",
            "epoch: 15 loss: tensor(0.1626)\n",
            "epoch: 16 loss: tensor(0.1619)\n",
            "epoch: 17 loss: tensor(0.1610)\n",
            "epoch: 18 loss: tensor(0.1598)\n",
            "epoch: 19 loss: tensor(0.1612)\n",
            "epoch: 20 loss: tensor(0.1596)\n",
            "epoch: 21 loss: tensor(0.1618)\n",
            "epoch: 22 loss: tensor(0.1611)\n",
            "epoch: 23 loss: tensor(0.1605)\n",
            "epoch: 24 loss: tensor(0.1600)\n",
            "epoch: 25 loss: tensor(0.1597)\n",
            "epoch: 26 loss: tensor(0.1606)\n",
            "epoch: 27 loss: tensor(0.1615)\n",
            "epoch: 28 loss: tensor(0.1587)\n",
            "epoch: 29 loss: tensor(0.1597)\n",
            "epoch: 30 loss: tensor(0.1588)\n",
            "epoch: 31 loss: tensor(0.1594)\n",
            "epoch: 32 loss: tensor(0.1576)\n",
            "epoch: 33 loss: tensor(0.1573)\n",
            "epoch: 34 loss: tensor(0.1586)\n",
            "epoch: 35 loss: tensor(0.1591)\n",
            "epoch: 36 loss: tensor(0.1563)\n",
            "epoch: 37 loss: tensor(0.1555)\n",
            "epoch: 38 loss: tensor(0.1569)\n",
            "epoch: 39 loss: tensor(0.1563)\n",
            "epoch: 40 loss: tensor(0.1555)\n",
            "epoch: 41 loss: tensor(0.1562)\n",
            "epoch: 42 loss: tensor(0.1560)\n",
            "epoch: 43 loss: tensor(0.1549)\n",
            "epoch: 44 loss: tensor(0.1530)\n",
            "epoch: 45 loss: tensor(0.1526)\n",
            "epoch: 46 loss: tensor(0.1525)\n",
            "epoch: 47 loss: tensor(0.1516)\n",
            "epoch: 48 loss: tensor(0.1510)\n",
            "epoch: 49 loss: tensor(0.1497)\n",
            "epoch: 50 loss: tensor(0.1508)\n",
            "epoch: 51 loss: tensor(0.1491)\n",
            "epoch: 52 loss: tensor(0.1490)\n",
            "epoch: 53 loss: tensor(0.1474)\n",
            "epoch: 54 loss: tensor(0.1469)\n",
            "epoch: 55 loss: tensor(0.1465)\n",
            "epoch: 56 loss: tensor(0.1453)\n",
            "epoch: 57 loss: tensor(0.1458)\n",
            "epoch: 58 loss: tensor(0.1432)\n",
            "epoch: 59 loss: tensor(0.1423)\n",
            "epoch: 60 loss: tensor(0.1410)\n",
            "epoch: 61 loss: tensor(0.1399)\n",
            "epoch: 62 loss: tensor(0.1393)\n",
            "epoch: 63 loss: tensor(0.1370)\n",
            "epoch: 64 loss: tensor(0.1371)\n",
            "epoch: 65 loss: tensor(0.1371)\n",
            "epoch: 66 loss: tensor(0.1340)\n",
            "epoch: 67 loss: tensor(0.1321)\n",
            "epoch: 68 loss: tensor(0.1310)\n",
            "epoch: 69 loss: tensor(0.1293)\n",
            "epoch: 70 loss: tensor(0.1285)\n",
            "epoch: 71 loss: tensor(0.1281)\n",
            "epoch: 72 loss: tensor(0.1257)\n",
            "epoch: 73 loss: tensor(0.1243)\n",
            "epoch: 74 loss: tensor(0.1221)\n",
            "epoch: 75 loss: tensor(0.1208)\n",
            "epoch: 76 loss: tensor(0.1207)\n",
            "epoch: 77 loss: tensor(0.1175)\n",
            "epoch: 78 loss: tensor(0.1164)\n",
            "epoch: 79 loss: tensor(0.1156)\n",
            "epoch: 80 loss: tensor(0.1143)\n",
            "epoch: 81 loss: tensor(0.1124)\n",
            "epoch: 82 loss: tensor(0.1107)\n",
            "epoch: 83 loss: tensor(0.1095)\n",
            "epoch: 84 loss: tensor(0.1105)\n",
            "epoch: 85 loss: tensor(0.1080)\n",
            "epoch: 86 loss: tensor(0.1080)\n",
            "epoch: 87 loss: tensor(0.1065)\n",
            "epoch: 88 loss: tensor(0.1043)\n",
            "epoch: 89 loss: tensor(0.1027)\n",
            "epoch: 90 loss: tensor(0.1027)\n",
            "epoch: 91 loss: tensor(0.1004)\n",
            "epoch: 92 loss: tensor(0.0996)\n",
            "epoch: 93 loss: tensor(0.0981)\n",
            "epoch: 94 loss: tensor(0.0960)\n",
            "epoch: 95 loss: tensor(0.0965)\n",
            "epoch: 96 loss: tensor(0.0969)\n",
            "epoch: 97 loss: tensor(0.0934)\n",
            "epoch: 98 loss: tensor(0.0935)\n",
            "epoch: 99 loss: tensor(0.0938)\n",
            "epoch: 100 loss: tensor(0.0917)\n",
            "epoch: 101 loss: tensor(0.0906)\n",
            "epoch: 102 loss: tensor(0.0899)\n",
            "epoch: 103 loss: tensor(0.0893)\n",
            "epoch: 104 loss: tensor(0.0881)\n",
            "epoch: 105 loss: tensor(0.0882)\n",
            "epoch: 106 loss: tensor(0.0865)\n",
            "epoch: 107 loss: tensor(0.0867)\n",
            "epoch: 108 loss: tensor(0.0856)\n",
            "epoch: 109 loss: tensor(0.0864)\n",
            "epoch: 110 loss: tensor(0.0844)\n",
            "epoch: 111 loss: tensor(0.0841)\n",
            "epoch: 112 loss: tensor(0.0842)\n",
            "epoch: 113 loss: tensor(0.0826)\n",
            "epoch: 114 loss: tensor(0.0819)\n",
            "epoch: 115 loss: tensor(0.0816)\n",
            "epoch: 116 loss: tensor(0.0804)\n",
            "epoch: 117 loss: tensor(0.0816)\n",
            "epoch: 118 loss: tensor(0.0785)\n",
            "epoch: 119 loss: tensor(0.0797)\n",
            "epoch: 120 loss: tensor(0.0794)\n",
            "epoch: 121 loss: tensor(0.0786)\n",
            "epoch: 122 loss: tensor(0.0789)\n",
            "epoch: 123 loss: tensor(0.0781)\n",
            "epoch: 124 loss: tensor(0.0791)\n",
            "epoch: 125 loss: tensor(0.0771)\n",
            "epoch: 126 loss: tensor(0.0767)\n",
            "epoch: 127 loss: tensor(0.0754)\n",
            "epoch: 128 loss: tensor(0.0757)\n",
            "epoch: 129 loss: tensor(0.0757)\n",
            "epoch: 130 loss: tensor(0.0735)\n",
            "epoch: 131 loss: tensor(0.0738)\n",
            "epoch: 132 loss: tensor(0.0738)\n",
            "epoch: 133 loss: tensor(0.0737)\n",
            "epoch: 134 loss: tensor(0.0739)\n",
            "epoch: 135 loss: tensor(0.0718)\n",
            "epoch: 136 loss: tensor(0.0724)\n",
            "epoch: 137 loss: tensor(0.0725)\n",
            "epoch: 138 loss: tensor(0.0727)\n",
            "epoch: 139 loss: tensor(0.0720)\n",
            "epoch: 140 loss: tensor(0.0702)\n",
            "epoch: 141 loss: tensor(0.0701)\n",
            "epoch: 142 loss: tensor(0.0703)\n",
            "epoch: 143 loss: tensor(0.0697)\n",
            "epoch: 144 loss: tensor(0.0701)\n",
            "epoch: 145 loss: tensor(0.0703)\n",
            "epoch: 146 loss: tensor(0.0694)\n",
            "epoch: 147 loss: tensor(0.0680)\n",
            "epoch: 148 loss: tensor(0.0683)\n",
            "epoch: 149 loss: tensor(0.0674)\n",
            "epoch: 150 loss: tensor(0.0675)\n",
            "epoch: 151 loss: tensor(0.0669)\n",
            "epoch: 152 loss: tensor(0.0672)\n",
            "epoch: 153 loss: tensor(0.0665)\n",
            "epoch: 154 loss: tensor(0.0666)\n",
            "epoch: 155 loss: tensor(0.0676)\n",
            "epoch: 156 loss: tensor(0.0663)\n",
            "epoch: 157 loss: tensor(0.0656)\n",
            "epoch: 158 loss: tensor(0.0655)\n",
            "epoch: 159 loss: tensor(0.0661)\n",
            "epoch: 160 loss: tensor(0.0651)\n",
            "epoch: 161 loss: tensor(0.0645)\n",
            "epoch: 162 loss: tensor(0.0650)\n",
            "epoch: 163 loss: tensor(0.0638)\n",
            "epoch: 164 loss: tensor(0.0637)\n",
            "epoch: 165 loss: tensor(0.0642)\n",
            "epoch: 166 loss: tensor(0.0645)\n",
            "epoch: 167 loss: tensor(0.0635)\n",
            "epoch: 168 loss: tensor(0.0629)\n",
            "epoch: 169 loss: tensor(0.0633)\n",
            "epoch: 170 loss: tensor(0.0638)\n",
            "epoch: 171 loss: tensor(0.0625)\n",
            "epoch: 172 loss: tensor(0.0629)\n",
            "epoch: 173 loss: tensor(0.0628)\n",
            "epoch: 174 loss: tensor(0.0617)\n",
            "epoch: 175 loss: tensor(0.0629)\n",
            "epoch: 176 loss: tensor(0.0623)\n",
            "epoch: 177 loss: tensor(0.0617)\n",
            "epoch: 178 loss: tensor(0.0614)\n",
            "epoch: 179 loss: tensor(0.0610)\n",
            "epoch: 180 loss: tensor(0.0616)\n",
            "epoch: 181 loss: tensor(0.0603)\n",
            "epoch: 182 loss: tensor(0.0611)\n",
            "epoch: 183 loss: tensor(0.0605)\n",
            "epoch: 184 loss: tensor(0.0612)\n",
            "epoch: 185 loss: tensor(0.0606)\n",
            "epoch: 186 loss: tensor(0.0609)\n",
            "epoch: 187 loss: tensor(0.0596)\n",
            "epoch: 188 loss: tensor(0.0603)\n",
            "epoch: 189 loss: tensor(0.0596)\n",
            "epoch: 190 loss: tensor(0.0612)\n",
            "epoch: 191 loss: tensor(0.0588)\n",
            "epoch: 192 loss: tensor(0.0603)\n",
            "epoch: 193 loss: tensor(0.0583)\n",
            "epoch: 194 loss: tensor(0.0596)\n",
            "epoch: 195 loss: tensor(0.0584)\n",
            "epoch: 196 loss: tensor(0.0592)\n",
            "epoch: 197 loss: tensor(0.0587)\n",
            "epoch: 198 loss: tensor(0.0589)\n",
            "epoch: 199 loss: tensor(0.0577)\n",
            "epoch: 200 loss: tensor(0.0582)\n",
            "epoch: 201 loss: tensor(0.0566)\n",
            "epoch: 202 loss: tensor(0.0583)\n",
            "epoch: 203 loss: tensor(0.0574)\n",
            "epoch: 204 loss: tensor(0.0582)\n",
            "epoch: 205 loss: tensor(0.0566)\n",
            "epoch: 206 loss: tensor(0.0576)\n",
            "epoch: 207 loss: tensor(0.0565)\n",
            "epoch: 208 loss: tensor(0.0575)\n",
            "epoch: 209 loss: tensor(0.0581)\n",
            "epoch: 210 loss: tensor(0.0567)\n",
            "epoch: 211 loss: tensor(0.0584)\n",
            "epoch: 212 loss: tensor(0.0581)\n",
            "epoch: 213 loss: tensor(0.0576)\n",
            "epoch: 214 loss: tensor(0.0577)\n",
            "epoch: 215 loss: tensor(0.0565)\n",
            "epoch: 216 loss: tensor(0.0566)\n",
            "epoch: 217 loss: tensor(0.0557)\n",
            "epoch: 218 loss: tensor(0.0565)\n",
            "epoch: 219 loss: tensor(0.0558)\n",
            "epoch: 220 loss: tensor(0.0569)\n",
            "epoch: 221 loss: tensor(0.0566)\n",
            "epoch: 222 loss: tensor(0.0560)\n",
            "epoch: 223 loss: tensor(0.0571)\n",
            "epoch: 224 loss: tensor(0.0560)\n",
            "epoch: 225 loss: tensor(0.0553)\n",
            "epoch: 226 loss: tensor(0.0550)\n",
            "epoch: 227 loss: tensor(0.0551)\n",
            "epoch: 228 loss: tensor(0.0560)\n",
            "epoch: 229 loss: tensor(0.0549)\n",
            "epoch: 230 loss: tensor(0.0561)\n",
            "epoch: 231 loss: tensor(0.0543)\n",
            "epoch: 232 loss: tensor(0.0548)\n",
            "epoch: 233 loss: tensor(0.0545)\n",
            "epoch: 234 loss: tensor(0.0557)\n",
            "epoch: 235 loss: tensor(0.0549)\n",
            "epoch: 236 loss: tensor(0.0543)\n",
            "epoch: 237 loss: tensor(0.0540)\n",
            "epoch: 238 loss: tensor(0.0546)\n",
            "epoch: 239 loss: tensor(0.0541)\n",
            "epoch: 240 loss: tensor(0.0540)\n",
            "epoch: 241 loss: tensor(0.0550)\n",
            "epoch: 242 loss: tensor(0.0535)\n",
            "epoch: 243 loss: tensor(0.0544)\n",
            "epoch: 244 loss: tensor(0.0534)\n",
            "epoch: 245 loss: tensor(0.0529)\n",
            "epoch: 246 loss: tensor(0.0542)\n",
            "epoch: 247 loss: tensor(0.0537)\n",
            "epoch: 248 loss: tensor(0.0544)\n",
            "epoch: 249 loss: tensor(0.0534)\n",
            "epoch: 250 loss: tensor(0.0541)\n",
            "epoch: 251 loss: tensor(0.0536)\n",
            "epoch: 252 loss: tensor(0.0541)\n",
            "epoch: 253 loss: tensor(0.0533)\n",
            "epoch: 254 loss: tensor(0.0542)\n",
            "epoch: 255 loss: tensor(0.0535)\n",
            "epoch: 256 loss: tensor(0.0536)\n",
            "epoch: 257 loss: tensor(0.0532)\n",
            "epoch: 258 loss: tensor(0.0537)\n",
            "epoch: 259 loss: tensor(0.0530)\n",
            "epoch: 260 loss: tensor(0.0529)\n",
            "epoch: 261 loss: tensor(0.0530)\n",
            "epoch: 262 loss: tensor(0.0520)\n",
            "epoch: 263 loss: tensor(0.0529)\n",
            "epoch: 264 loss: tensor(0.0525)\n",
            "epoch: 265 loss: tensor(0.0526)\n",
            "epoch: 266 loss: tensor(0.0526)\n",
            "epoch: 267 loss: tensor(0.0519)\n",
            "epoch: 268 loss: tensor(0.0519)\n",
            "epoch: 269 loss: tensor(0.0539)\n",
            "epoch: 270 loss: tensor(0.0526)\n",
            "epoch: 271 loss: tensor(0.0518)\n",
            "epoch: 272 loss: tensor(0.0525)\n",
            "epoch: 273 loss: tensor(0.0518)\n",
            "epoch: 274 loss: tensor(0.0535)\n",
            "epoch: 275 loss: tensor(0.0515)\n",
            "epoch: 276 loss: tensor(0.0520)\n",
            "epoch: 277 loss: tensor(0.0520)\n",
            "epoch: 278 loss: tensor(0.0517)\n",
            "epoch: 279 loss: tensor(0.0511)\n",
            "epoch: 280 loss: tensor(0.0523)\n",
            "epoch: 281 loss: tensor(0.0522)\n",
            "epoch: 282 loss: tensor(0.0527)\n",
            "epoch: 283 loss: tensor(0.0539)\n",
            "epoch: 284 loss: tensor(0.0519)\n",
            "epoch: 285 loss: tensor(0.0513)\n",
            "epoch: 286 loss: tensor(0.0512)\n",
            "epoch: 287 loss: tensor(0.0516)\n",
            "epoch: 288 loss: tensor(0.0520)\n",
            "epoch: 289 loss: tensor(0.0515)\n",
            "epoch: 290 loss: tensor(0.0511)\n",
            "epoch: 291 loss: tensor(0.0512)\n",
            "epoch: 292 loss: tensor(0.0519)\n",
            "epoch: 293 loss: tensor(0.0514)\n",
            "epoch: 294 loss: tensor(0.0515)\n",
            "epoch: 295 loss: tensor(0.0515)\n",
            "epoch: 296 loss: tensor(0.0514)\n",
            "epoch: 297 loss: tensor(0.0510)\n",
            "epoch: 298 loss: tensor(0.0513)\n",
            "epoch: 299 loss: tensor(0.0509)\n",
            "epoch: 300 loss: tensor(0.0520)\n",
            "epoch: 301 loss: tensor(0.0507)\n",
            "epoch: 302 loss: tensor(0.0510)\n",
            "epoch: 303 loss: tensor(0.0509)\n",
            "epoch: 304 loss: tensor(0.0513)\n",
            "epoch: 305 loss: tensor(0.0528)\n",
            "epoch: 306 loss: tensor(0.0525)\n",
            "epoch: 307 loss: tensor(0.0523)\n",
            "epoch: 308 loss: tensor(0.0512)\n",
            "epoch: 309 loss: tensor(0.0525)\n",
            "epoch: 310 loss: tensor(0.0510)\n",
            "epoch: 311 loss: tensor(0.0511)\n",
            "epoch: 312 loss: tensor(0.0501)\n",
            "epoch: 313 loss: tensor(0.0513)\n",
            "epoch: 314 loss: tensor(0.0501)\n",
            "epoch: 315 loss: tensor(0.0518)\n",
            "epoch: 316 loss: tensor(0.0504)\n",
            "epoch: 317 loss: tensor(0.0500)\n",
            "epoch: 318 loss: tensor(0.0503)\n",
            "epoch: 319 loss: tensor(0.0505)\n",
            "epoch: 320 loss: tensor(0.0501)\n",
            "epoch: 321 loss: tensor(0.0514)\n",
            "epoch: 322 loss: tensor(0.0512)\n",
            "epoch: 323 loss: tensor(0.0504)\n",
            "epoch: 324 loss: tensor(0.0513)\n",
            "epoch: 325 loss: tensor(0.0505)\n",
            "epoch: 326 loss: tensor(0.0509)\n",
            "epoch: 327 loss: tensor(0.0505)\n",
            "epoch: 328 loss: tensor(0.0508)\n",
            "epoch: 329 loss: tensor(0.0494)\n",
            "epoch: 330 loss: tensor(0.0503)\n",
            "epoch: 331 loss: tensor(0.0499)\n",
            "epoch: 332 loss: tensor(0.0498)\n",
            "epoch: 333 loss: tensor(0.0497)\n",
            "epoch: 334 loss: tensor(0.0507)\n",
            "epoch: 335 loss: tensor(0.0491)\n",
            "epoch: 336 loss: tensor(0.0502)\n",
            "epoch: 337 loss: tensor(0.0488)\n",
            "epoch: 338 loss: tensor(0.0503)\n",
            "epoch: 339 loss: tensor(0.0494)\n",
            "epoch: 340 loss: tensor(0.0507)\n",
            "epoch: 341 loss: tensor(0.0506)\n",
            "epoch: 342 loss: tensor(0.0498)\n",
            "epoch: 343 loss: tensor(0.0505)\n",
            "epoch: 344 loss: tensor(0.0509)\n",
            "epoch: 345 loss: tensor(0.0504)\n",
            "epoch: 346 loss: tensor(0.0508)\n",
            "epoch: 347 loss: tensor(0.0501)\n",
            "epoch: 348 loss: tensor(0.0502)\n",
            "epoch: 349 loss: tensor(0.0491)\n",
            "epoch: 350 loss: tensor(0.0494)\n",
            "epoch: 351 loss: tensor(0.0490)\n",
            "epoch: 352 loss: tensor(0.0490)\n",
            "epoch: 353 loss: tensor(0.0501)\n",
            "epoch: 354 loss: tensor(0.0495)\n",
            "epoch: 355 loss: tensor(0.0494)\n",
            "epoch: 356 loss: tensor(0.0495)\n",
            "epoch: 357 loss: tensor(0.0496)\n",
            "epoch: 358 loss: tensor(0.0491)\n",
            "epoch: 359 loss: tensor(0.0500)\n",
            "epoch: 360 loss: tensor(0.0491)\n",
            "epoch: 361 loss: tensor(0.0495)\n",
            "epoch: 362 loss: tensor(0.0491)\n",
            "epoch: 363 loss: tensor(0.0488)\n",
            "epoch: 364 loss: tensor(0.0484)\n",
            "epoch: 365 loss: tensor(0.0478)\n",
            "epoch: 366 loss: tensor(0.0489)\n",
            "epoch: 367 loss: tensor(0.0494)\n",
            "epoch: 368 loss: tensor(0.0489)\n",
            "epoch: 369 loss: tensor(0.0491)\n",
            "epoch: 370 loss: tensor(0.0493)\n",
            "epoch: 371 loss: tensor(0.0495)\n",
            "epoch: 372 loss: tensor(0.0504)\n",
            "epoch: 373 loss: tensor(0.0490)\n",
            "epoch: 374 loss: tensor(0.0507)\n",
            "epoch: 375 loss: tensor(0.0489)\n",
            "epoch: 376 loss: tensor(0.0496)\n",
            "epoch: 377 loss: tensor(0.0485)\n",
            "epoch: 378 loss: tensor(0.0491)\n",
            "epoch: 379 loss: tensor(0.0494)\n",
            "epoch: 380 loss: tensor(0.0494)\n",
            "epoch: 381 loss: tensor(0.0487)\n",
            "epoch: 382 loss: tensor(0.0496)\n",
            "epoch: 383 loss: tensor(0.0486)\n",
            "epoch: 384 loss: tensor(0.0489)\n",
            "epoch: 385 loss: tensor(0.0491)\n",
            "epoch: 386 loss: tensor(0.0482)\n",
            "epoch: 387 loss: tensor(0.0493)\n",
            "epoch: 388 loss: tensor(0.0491)\n",
            "epoch: 389 loss: tensor(0.0496)\n",
            "epoch: 390 loss: tensor(0.0487)\n",
            "epoch: 391 loss: tensor(0.0484)\n",
            "epoch: 392 loss: tensor(0.0499)\n",
            "epoch: 393 loss: tensor(0.0487)\n",
            "epoch: 394 loss: tensor(0.0490)\n",
            "epoch: 395 loss: tensor(0.0489)\n",
            "epoch: 396 loss: tensor(0.0488)\n",
            "epoch: 397 loss: tensor(0.0482)\n",
            "epoch: 398 loss: tensor(0.0484)\n",
            "epoch: 399 loss: tensor(0.0478)\n",
            "epoch: 400 loss: tensor(0.0480)\n",
            "epoch: 401 loss: tensor(0.0494)\n",
            "epoch: 402 loss: tensor(0.0485)\n",
            "epoch: 403 loss: tensor(0.0490)\n",
            "epoch: 404 loss: tensor(0.0485)\n",
            "epoch: 405 loss: tensor(0.0487)\n",
            "epoch: 406 loss: tensor(0.0485)\n",
            "epoch: 407 loss: tensor(0.0483)\n",
            "epoch: 408 loss: tensor(0.0493)\n",
            "epoch: 409 loss: tensor(0.0480)\n",
            "epoch: 410 loss: tensor(0.0484)\n",
            "epoch: 411 loss: tensor(0.0484)\n",
            "epoch: 412 loss: tensor(0.0483)\n",
            "epoch: 413 loss: tensor(0.0485)\n",
            "epoch: 414 loss: tensor(0.0480)\n",
            "epoch: 415 loss: tensor(0.0476)\n",
            "epoch: 416 loss: tensor(0.0480)\n",
            "epoch: 417 loss: tensor(0.0477)\n",
            "epoch: 418 loss: tensor(0.0480)\n",
            "epoch: 419 loss: tensor(0.0478)\n",
            "epoch: 420 loss: tensor(0.0477)\n",
            "epoch: 421 loss: tensor(0.0476)\n",
            "epoch: 422 loss: tensor(0.0480)\n",
            "epoch: 423 loss: tensor(0.0478)\n",
            "epoch: 424 loss: tensor(0.0474)\n",
            "epoch: 425 loss: tensor(0.0490)\n",
            "epoch: 426 loss: tensor(0.0469)\n",
            "epoch: 427 loss: tensor(0.0490)\n",
            "epoch: 428 loss: tensor(0.0483)\n",
            "epoch: 429 loss: tensor(0.0477)\n",
            "epoch: 430 loss: tensor(0.0480)\n",
            "epoch: 431 loss: tensor(0.0475)\n",
            "epoch: 432 loss: tensor(0.0479)\n",
            "epoch: 433 loss: tensor(0.0477)\n",
            "epoch: 434 loss: tensor(0.0483)\n",
            "epoch: 435 loss: tensor(0.0483)\n",
            "epoch: 436 loss: tensor(0.0485)\n",
            "epoch: 437 loss: tensor(0.0474)\n",
            "epoch: 438 loss: tensor(0.0487)\n",
            "epoch: 439 loss: tensor(0.0478)\n",
            "epoch: 440 loss: tensor(0.0479)\n",
            "epoch: 441 loss: tensor(0.0481)\n",
            "epoch: 442 loss: tensor(0.0487)\n",
            "epoch: 443 loss: tensor(0.0475)\n",
            "epoch: 444 loss: tensor(0.0488)\n",
            "epoch: 445 loss: tensor(0.0486)\n",
            "epoch: 446 loss: tensor(0.0481)\n",
            "epoch: 447 loss: tensor(0.0484)\n",
            "epoch: 448 loss: tensor(0.0469)\n",
            "epoch: 449 loss: tensor(0.0484)\n",
            "epoch: 450 loss: tensor(0.0477)\n",
            "epoch: 451 loss: tensor(0.0480)\n",
            "epoch: 452 loss: tensor(0.0474)\n",
            "epoch: 453 loss: tensor(0.0491)\n",
            "epoch: 454 loss: tensor(0.0473)\n",
            "epoch: 455 loss: tensor(0.0473)\n",
            "epoch: 456 loss: tensor(0.0478)\n",
            "epoch: 457 loss: tensor(0.0477)\n",
            "epoch: 458 loss: tensor(0.0467)\n",
            "epoch: 459 loss: tensor(0.0476)\n",
            "epoch: 460 loss: tensor(0.0474)\n",
            "epoch: 461 loss: tensor(0.0482)\n",
            "epoch: 462 loss: tensor(0.0479)\n",
            "epoch: 463 loss: tensor(0.0468)\n",
            "epoch: 464 loss: tensor(0.0480)\n",
            "epoch: 465 loss: tensor(0.0463)\n",
            "epoch: 466 loss: tensor(0.0481)\n",
            "epoch: 467 loss: tensor(0.0466)\n",
            "epoch: 468 loss: tensor(0.0473)\n",
            "epoch: 469 loss: tensor(0.0460)\n",
            "epoch: 470 loss: tensor(0.0480)\n",
            "epoch: 471 loss: tensor(0.0471)\n",
            "epoch: 472 loss: tensor(0.0470)\n",
            "epoch: 473 loss: tensor(0.0465)\n",
            "epoch: 474 loss: tensor(0.0465)\n",
            "epoch: 475 loss: tensor(0.0466)\n",
            "epoch: 476 loss: tensor(0.0472)\n",
            "epoch: 477 loss: tensor(0.0471)\n",
            "epoch: 478 loss: tensor(0.0469)\n",
            "epoch: 479 loss: tensor(0.0464)\n",
            "epoch: 480 loss: tensor(0.0469)\n",
            "epoch: 481 loss: tensor(0.0465)\n",
            "epoch: 482 loss: tensor(0.0471)\n",
            "epoch: 483 loss: tensor(0.0477)\n",
            "epoch: 484 loss: tensor(0.0480)\n",
            "epoch: 485 loss: tensor(0.0484)\n",
            "epoch: 486 loss: tensor(0.0482)\n",
            "epoch: 487 loss: tensor(0.0483)\n",
            "epoch: 488 loss: tensor(0.0481)\n",
            "epoch: 489 loss: tensor(0.0481)\n",
            "epoch: 490 loss: tensor(0.0473)\n",
            "epoch: 491 loss: tensor(0.0485)\n",
            "epoch: 492 loss: tensor(0.0477)\n",
            "epoch: 493 loss: tensor(0.0479)\n",
            "epoch: 494 loss: tensor(0.0482)\n",
            "epoch: 495 loss: tensor(0.0470)\n",
            "epoch: 496 loss: tensor(0.0478)\n",
            "epoch: 497 loss: tensor(0.0474)\n",
            "epoch: 498 loss: tensor(0.0469)\n",
            "epoch: 499 loss: tensor(0.0479)\n",
            "epoch: 500 loss: tensor(0.0472)\n",
            "epoch: 501 loss: tensor(0.0472)\n",
            "epoch: 502 loss: tensor(0.0470)\n",
            "epoch: 503 loss: tensor(0.0464)\n",
            "epoch: 504 loss: tensor(0.0463)\n",
            "epoch: 505 loss: tensor(0.0473)\n",
            "epoch: 506 loss: tensor(0.0469)\n",
            "epoch: 507 loss: tensor(0.0469)\n",
            "epoch: 508 loss: tensor(0.0465)\n",
            "epoch: 509 loss: tensor(0.0467)\n",
            "epoch: 510 loss: tensor(0.0461)\n",
            "epoch: 511 loss: tensor(0.0461)\n",
            "epoch: 512 loss: tensor(0.0463)\n",
            "epoch: 513 loss: tensor(0.0461)\n",
            "epoch: 514 loss: tensor(0.0460)\n",
            "epoch: 515 loss: tensor(0.0463)\n",
            "epoch: 516 loss: tensor(0.0462)\n",
            "epoch: 517 loss: tensor(0.0464)\n",
            "epoch: 518 loss: tensor(0.0465)\n",
            "epoch: 519 loss: tensor(0.0458)\n",
            "epoch: 520 loss: tensor(0.0470)\n",
            "epoch: 521 loss: tensor(0.0466)\n",
            "epoch: 522 loss: tensor(0.0467)\n",
            "epoch: 523 loss: tensor(0.0466)\n",
            "epoch: 524 loss: tensor(0.0466)\n",
            "epoch: 525 loss: tensor(0.0460)\n",
            "epoch: 526 loss: tensor(0.0466)\n",
            "epoch: 527 loss: tensor(0.0470)\n",
            "epoch: 528 loss: tensor(0.0475)\n",
            "epoch: 529 loss: tensor(0.0469)\n",
            "epoch: 530 loss: tensor(0.0466)\n",
            "epoch: 531 loss: tensor(0.0463)\n",
            "epoch: 532 loss: tensor(0.0460)\n",
            "epoch: 533 loss: tensor(0.0468)\n",
            "epoch: 534 loss: tensor(0.0466)\n",
            "epoch: 535 loss: tensor(0.0461)\n",
            "epoch: 536 loss: tensor(0.0474)\n",
            "epoch: 537 loss: tensor(0.0461)\n",
            "epoch: 538 loss: tensor(0.0471)\n",
            "epoch: 539 loss: tensor(0.0456)\n",
            "epoch: 540 loss: tensor(0.0465)\n",
            "epoch: 541 loss: tensor(0.0455)\n",
            "epoch: 542 loss: tensor(0.0464)\n",
            "epoch: 543 loss: tensor(0.0463)\n",
            "epoch: 544 loss: tensor(0.0467)\n",
            "epoch: 545 loss: tensor(0.0460)\n",
            "epoch: 546 loss: tensor(0.0463)\n",
            "epoch: 547 loss: tensor(0.0462)\n",
            "epoch: 548 loss: tensor(0.0457)\n",
            "epoch: 549 loss: tensor(0.0459)\n",
            "epoch: 550 loss: tensor(0.0457)\n",
            "epoch: 551 loss: tensor(0.0458)\n",
            "epoch: 552 loss: tensor(0.0455)\n",
            "epoch: 553 loss: tensor(0.0459)\n",
            "epoch: 554 loss: tensor(0.0458)\n",
            "epoch: 555 loss: tensor(0.0463)\n",
            "epoch: 556 loss: tensor(0.0463)\n",
            "epoch: 557 loss: tensor(0.0459)\n",
            "epoch: 558 loss: tensor(0.0468)\n",
            "epoch: 559 loss: tensor(0.0452)\n",
            "epoch: 560 loss: tensor(0.0465)\n",
            "epoch: 561 loss: tensor(0.0456)\n",
            "epoch: 562 loss: tensor(0.0457)\n",
            "epoch: 563 loss: tensor(0.0456)\n",
            "epoch: 564 loss: tensor(0.0458)\n",
            "epoch: 565 loss: tensor(0.0458)\n",
            "epoch: 566 loss: tensor(0.0462)\n",
            "epoch: 567 loss: tensor(0.0458)\n",
            "epoch: 568 loss: tensor(0.0458)\n",
            "epoch: 569 loss: tensor(0.0455)\n",
            "epoch: 570 loss: tensor(0.0461)\n",
            "epoch: 571 loss: tensor(0.0464)\n",
            "epoch: 572 loss: tensor(0.0463)\n",
            "epoch: 573 loss: tensor(0.0466)\n",
            "epoch: 574 loss: tensor(0.0458)\n",
            "epoch: 575 loss: tensor(0.0468)\n",
            "epoch: 576 loss: tensor(0.0458)\n",
            "epoch: 577 loss: tensor(0.0457)\n",
            "epoch: 578 loss: tensor(0.0470)\n",
            "epoch: 579 loss: tensor(0.0466)\n",
            "epoch: 580 loss: tensor(0.0467)\n",
            "epoch: 581 loss: tensor(0.0460)\n",
            "epoch: 582 loss: tensor(0.0468)\n",
            "epoch: 583 loss: tensor(0.0461)\n",
            "epoch: 584 loss: tensor(0.0463)\n",
            "epoch: 585 loss: tensor(0.0459)\n",
            "epoch: 586 loss: tensor(0.0462)\n",
            "epoch: 587 loss: tensor(0.0452)\n",
            "epoch: 588 loss: tensor(0.0458)\n",
            "epoch: 589 loss: tensor(0.0447)\n",
            "epoch: 590 loss: tensor(0.0454)\n",
            "epoch: 591 loss: tensor(0.0449)\n",
            "epoch: 592 loss: tensor(0.0463)\n",
            "epoch: 593 loss: tensor(0.0451)\n",
            "epoch: 594 loss: tensor(0.0462)\n",
            "epoch: 595 loss: tensor(0.0466)\n",
            "epoch: 596 loss: tensor(0.0453)\n",
            "epoch: 597 loss: tensor(0.0455)\n",
            "epoch: 598 loss: tensor(0.0454)\n",
            "epoch: 599 loss: tensor(0.0458)\n",
            "epoch: 600 loss: tensor(0.0457)\n",
            "epoch: 601 loss: tensor(0.0458)\n",
            "epoch: 602 loss: tensor(0.0462)\n",
            "epoch: 603 loss: tensor(0.0455)\n",
            "epoch: 604 loss: tensor(0.0465)\n",
            "epoch: 605 loss: tensor(0.0449)\n",
            "epoch: 606 loss: tensor(0.0464)\n",
            "epoch: 607 loss: tensor(0.0448)\n",
            "epoch: 608 loss: tensor(0.0463)\n",
            "epoch: 609 loss: tensor(0.0454)\n",
            "epoch: 610 loss: tensor(0.0448)\n",
            "epoch: 611 loss: tensor(0.0451)\n",
            "epoch: 612 loss: tensor(0.0457)\n",
            "epoch: 613 loss: tensor(0.0452)\n",
            "epoch: 614 loss: tensor(0.0453)\n",
            "epoch: 615 loss: tensor(0.0458)\n",
            "epoch: 616 loss: tensor(0.0464)\n",
            "epoch: 617 loss: tensor(0.0459)\n",
            "epoch: 618 loss: tensor(0.0459)\n",
            "epoch: 619 loss: tensor(0.0461)\n",
            "epoch: 620 loss: tensor(0.0456)\n",
            "epoch: 621 loss: tensor(0.0458)\n",
            "epoch: 622 loss: tensor(0.0453)\n",
            "epoch: 623 loss: tensor(0.0459)\n",
            "epoch: 624 loss: tensor(0.0464)\n",
            "epoch: 625 loss: tensor(0.0462)\n",
            "epoch: 626 loss: tensor(0.0461)\n",
            "epoch: 627 loss: tensor(0.0450)\n",
            "epoch: 628 loss: tensor(0.0461)\n",
            "epoch: 629 loss: tensor(0.0453)\n",
            "epoch: 630 loss: tensor(0.0459)\n",
            "epoch: 631 loss: tensor(0.0450)\n",
            "epoch: 632 loss: tensor(0.0457)\n",
            "epoch: 633 loss: tensor(0.0444)\n",
            "epoch: 634 loss: tensor(0.0459)\n",
            "epoch: 635 loss: tensor(0.0450)\n",
            "epoch: 636 loss: tensor(0.0452)\n",
            "epoch: 637 loss: tensor(0.0455)\n",
            "epoch: 638 loss: tensor(0.0457)\n",
            "epoch: 639 loss: tensor(0.0451)\n",
            "epoch: 640 loss: tensor(0.0457)\n",
            "epoch: 641 loss: tensor(0.0451)\n",
            "epoch: 642 loss: tensor(0.0460)\n",
            "epoch: 643 loss: tensor(0.0455)\n",
            "epoch: 644 loss: tensor(0.0459)\n",
            "epoch: 645 loss: tensor(0.0459)\n",
            "epoch: 646 loss: tensor(0.0458)\n",
            "epoch: 647 loss: tensor(0.0462)\n",
            "epoch: 648 loss: tensor(0.0462)\n",
            "epoch: 649 loss: tensor(0.0450)\n",
            "epoch: 650 loss: tensor(0.0462)\n",
            "epoch: 651 loss: tensor(0.0443)\n",
            "epoch: 652 loss: tensor(0.0455)\n",
            "epoch: 653 loss: tensor(0.0458)\n",
            "epoch: 654 loss: tensor(0.0458)\n",
            "epoch: 655 loss: tensor(0.0452)\n",
            "epoch: 656 loss: tensor(0.0455)\n",
            "epoch: 657 loss: tensor(0.0450)\n",
            "epoch: 658 loss: tensor(0.0457)\n",
            "epoch: 659 loss: tensor(0.0457)\n",
            "epoch: 660 loss: tensor(0.0453)\n",
            "epoch: 661 loss: tensor(0.0460)\n",
            "epoch: 662 loss: tensor(0.0452)\n",
            "epoch: 663 loss: tensor(0.0455)\n",
            "epoch: 664 loss: tensor(0.0450)\n",
            "epoch: 665 loss: tensor(0.0462)\n",
            "epoch: 666 loss: tensor(0.0447)\n",
            "epoch: 667 loss: tensor(0.0457)\n",
            "epoch: 668 loss: tensor(0.0451)\n",
            "epoch: 669 loss: tensor(0.0455)\n",
            "epoch: 670 loss: tensor(0.0457)\n",
            "epoch: 671 loss: tensor(0.0453)\n",
            "epoch: 672 loss: tensor(0.0464)\n",
            "epoch: 673 loss: tensor(0.0453)\n",
            "epoch: 674 loss: tensor(0.0461)\n",
            "epoch: 675 loss: tensor(0.0444)\n",
            "epoch: 676 loss: tensor(0.0458)\n",
            "epoch: 677 loss: tensor(0.0452)\n",
            "epoch: 678 loss: tensor(0.0450)\n",
            "epoch: 679 loss: tensor(0.0445)\n",
            "epoch: 680 loss: tensor(0.0453)\n",
            "epoch: 681 loss: tensor(0.0451)\n",
            "epoch: 682 loss: tensor(0.0449)\n",
            "epoch: 683 loss: tensor(0.0442)\n",
            "epoch: 684 loss: tensor(0.0452)\n",
            "epoch: 685 loss: tensor(0.0453)\n",
            "epoch: 686 loss: tensor(0.0453)\n",
            "epoch: 687 loss: tensor(0.0450)\n",
            "epoch: 688 loss: tensor(0.0451)\n",
            "epoch: 689 loss: tensor(0.0457)\n",
            "epoch: 690 loss: tensor(0.0441)\n",
            "epoch: 691 loss: tensor(0.0454)\n",
            "epoch: 692 loss: tensor(0.0448)\n",
            "epoch: 693 loss: tensor(0.0456)\n",
            "epoch: 694 loss: tensor(0.0452)\n",
            "epoch: 695 loss: tensor(0.0462)\n",
            "epoch: 696 loss: tensor(0.0451)\n",
            "epoch: 697 loss: tensor(0.0455)\n",
            "epoch: 698 loss: tensor(0.0454)\n",
            "epoch: 699 loss: tensor(0.0456)\n",
            "epoch: 700 loss: tensor(0.0459)\n",
            "epoch: 701 loss: tensor(0.0449)\n",
            "epoch: 702 loss: tensor(0.0454)\n",
            "epoch: 703 loss: tensor(0.0452)\n",
            "epoch: 704 loss: tensor(0.0452)\n",
            "epoch: 705 loss: tensor(0.0456)\n",
            "epoch: 706 loss: tensor(0.0448)\n",
            "epoch: 707 loss: tensor(0.0451)\n",
            "epoch: 708 loss: tensor(0.0450)\n",
            "epoch: 709 loss: tensor(0.0453)\n",
            "epoch: 710 loss: tensor(0.0450)\n",
            "epoch: 711 loss: tensor(0.0457)\n",
            "epoch: 712 loss: tensor(0.0445)\n",
            "epoch: 713 loss: tensor(0.0450)\n",
            "epoch: 714 loss: tensor(0.0446)\n",
            "epoch: 715 loss: tensor(0.0452)\n",
            "epoch: 716 loss: tensor(0.0450)\n",
            "epoch: 717 loss: tensor(0.0454)\n",
            "epoch: 718 loss: tensor(0.0451)\n",
            "epoch: 719 loss: tensor(0.0456)\n",
            "epoch: 720 loss: tensor(0.0457)\n",
            "epoch: 721 loss: tensor(0.0443)\n",
            "epoch: 722 loss: tensor(0.0460)\n",
            "epoch: 723 loss: tensor(0.0444)\n",
            "epoch: 724 loss: tensor(0.0459)\n",
            "epoch: 725 loss: tensor(0.0443)\n",
            "epoch: 726 loss: tensor(0.0452)\n",
            "epoch: 727 loss: tensor(0.0445)\n",
            "epoch: 728 loss: tensor(0.0452)\n",
            "epoch: 729 loss: tensor(0.0445)\n",
            "epoch: 730 loss: tensor(0.0451)\n",
            "epoch: 731 loss: tensor(0.0448)\n",
            "epoch: 732 loss: tensor(0.0451)\n",
            "epoch: 733 loss: tensor(0.0450)\n",
            "epoch: 734 loss: tensor(0.0451)\n",
            "epoch: 735 loss: tensor(0.0452)\n",
            "epoch: 736 loss: tensor(0.0458)\n",
            "epoch: 737 loss: tensor(0.0451)\n",
            "epoch: 738 loss: tensor(0.0452)\n",
            "epoch: 739 loss: tensor(0.0457)\n",
            "epoch: 740 loss: tensor(0.0444)\n",
            "epoch: 741 loss: tensor(0.0451)\n",
            "epoch: 742 loss: tensor(0.0451)\n",
            "epoch: 743 loss: tensor(0.0451)\n",
            "epoch: 744 loss: tensor(0.0451)\n",
            "epoch: 745 loss: tensor(0.0452)\n",
            "epoch: 746 loss: tensor(0.0454)\n",
            "epoch: 747 loss: tensor(0.0449)\n",
            "epoch: 748 loss: tensor(0.0450)\n",
            "epoch: 749 loss: tensor(0.0443)\n",
            "epoch: 750 loss: tensor(0.0450)\n",
            "epoch: 751 loss: tensor(0.0445)\n",
            "epoch: 752 loss: tensor(0.0452)\n",
            "epoch: 753 loss: tensor(0.0444)\n",
            "epoch: 754 loss: tensor(0.0453)\n",
            "epoch: 755 loss: tensor(0.0447)\n",
            "epoch: 756 loss: tensor(0.0456)\n",
            "epoch: 757 loss: tensor(0.0450)\n",
            "epoch: 758 loss: tensor(0.0451)\n",
            "epoch: 759 loss: tensor(0.0449)\n",
            "epoch: 760 loss: tensor(0.0449)\n",
            "epoch: 761 loss: tensor(0.0445)\n",
            "epoch: 762 loss: tensor(0.0445)\n",
            "epoch: 763 loss: tensor(0.0447)\n",
            "epoch: 764 loss: tensor(0.0439)\n",
            "epoch: 765 loss: tensor(0.0461)\n",
            "epoch: 766 loss: tensor(0.0444)\n",
            "epoch: 767 loss: tensor(0.0455)\n",
            "epoch: 768 loss: tensor(0.0452)\n",
            "epoch: 769 loss: tensor(0.0457)\n",
            "epoch: 770 loss: tensor(0.0450)\n",
            "epoch: 771 loss: tensor(0.0446)\n",
            "epoch: 772 loss: tensor(0.0453)\n",
            "epoch: 773 loss: tensor(0.0445)\n",
            "epoch: 774 loss: tensor(0.0451)\n",
            "epoch: 775 loss: tensor(0.0444)\n",
            "epoch: 776 loss: tensor(0.0454)\n",
            "epoch: 777 loss: tensor(0.0448)\n",
            "epoch: 778 loss: tensor(0.0459)\n",
            "epoch: 779 loss: tensor(0.0441)\n",
            "epoch: 780 loss: tensor(0.0454)\n",
            "epoch: 781 loss: tensor(0.0443)\n",
            "epoch: 782 loss: tensor(0.0452)\n",
            "epoch: 783 loss: tensor(0.0446)\n",
            "epoch: 784 loss: tensor(0.0457)\n",
            "epoch: 785 loss: tensor(0.0447)\n",
            "epoch: 786 loss: tensor(0.0453)\n",
            "epoch: 787 loss: tensor(0.0454)\n",
            "epoch: 788 loss: tensor(0.0453)\n",
            "epoch: 789 loss: tensor(0.0451)\n",
            "epoch: 790 loss: tensor(0.0448)\n",
            "epoch: 791 loss: tensor(0.0446)\n",
            "epoch: 792 loss: tensor(0.0443)\n",
            "epoch: 793 loss: tensor(0.0450)\n",
            "epoch: 794 loss: tensor(0.0445)\n",
            "epoch: 795 loss: tensor(0.0454)\n",
            "epoch: 796 loss: tensor(0.0450)\n",
            "epoch: 797 loss: tensor(0.0456)\n",
            "epoch: 798 loss: tensor(0.0451)\n",
            "epoch: 799 loss: tensor(0.0448)\n",
            "epoch: 800 loss: tensor(0.0452)\n",
            "epoch: 801 loss: tensor(0.0453)\n",
            "epoch: 802 loss: tensor(0.0456)\n",
            "epoch: 803 loss: tensor(0.0442)\n",
            "epoch: 804 loss: tensor(0.0451)\n",
            "epoch: 805 loss: tensor(0.0443)\n",
            "epoch: 806 loss: tensor(0.0454)\n",
            "epoch: 807 loss: tensor(0.0446)\n",
            "epoch: 808 loss: tensor(0.0450)\n",
            "epoch: 809 loss: tensor(0.0446)\n",
            "epoch: 810 loss: tensor(0.0450)\n",
            "epoch: 811 loss: tensor(0.0444)\n",
            "epoch: 812 loss: tensor(0.0448)\n",
            "epoch: 813 loss: tensor(0.0442)\n",
            "epoch: 814 loss: tensor(0.0450)\n",
            "epoch: 815 loss: tensor(0.0441)\n",
            "epoch: 816 loss: tensor(0.0452)\n",
            "epoch: 817 loss: tensor(0.0447)\n",
            "epoch: 818 loss: tensor(0.0452)\n",
            "epoch: 819 loss: tensor(0.0445)\n",
            "epoch: 820 loss: tensor(0.0446)\n",
            "epoch: 821 loss: tensor(0.0451)\n",
            "epoch: 822 loss: tensor(0.0444)\n",
            "epoch: 823 loss: tensor(0.0448)\n",
            "epoch: 824 loss: tensor(0.0447)\n",
            "epoch: 825 loss: tensor(0.0449)\n",
            "epoch: 826 loss: tensor(0.0443)\n",
            "epoch: 827 loss: tensor(0.0449)\n",
            "epoch: 828 loss: tensor(0.0447)\n",
            "epoch: 829 loss: tensor(0.0445)\n",
            "epoch: 830 loss: tensor(0.0449)\n",
            "epoch: 831 loss: tensor(0.0445)\n",
            "epoch: 832 loss: tensor(0.0450)\n",
            "epoch: 833 loss: tensor(0.0443)\n",
            "epoch: 834 loss: tensor(0.0458)\n",
            "epoch: 835 loss: tensor(0.0448)\n",
            "epoch: 836 loss: tensor(0.0453)\n",
            "epoch: 837 loss: tensor(0.0441)\n",
            "epoch: 838 loss: tensor(0.0451)\n",
            "epoch: 839 loss: tensor(0.0446)\n",
            "epoch: 840 loss: tensor(0.0456)\n",
            "epoch: 841 loss: tensor(0.0443)\n",
            "epoch: 842 loss: tensor(0.0454)\n",
            "epoch: 843 loss: tensor(0.0448)\n",
            "epoch: 844 loss: tensor(0.0444)\n",
            "epoch: 845 loss: tensor(0.0459)\n",
            "epoch: 846 loss: tensor(0.0441)\n",
            "epoch: 847 loss: tensor(0.0451)\n",
            "epoch: 848 loss: tensor(0.0435)\n",
            "epoch: 849 loss: tensor(0.0449)\n",
            "epoch: 850 loss: tensor(0.0445)\n",
            "epoch: 851 loss: tensor(0.0445)\n",
            "epoch: 852 loss: tensor(0.0439)\n",
            "epoch: 853 loss: tensor(0.0446)\n",
            "epoch: 854 loss: tensor(0.0448)\n",
            "epoch: 855 loss: tensor(0.0443)\n",
            "epoch: 856 loss: tensor(0.0444)\n",
            "epoch: 857 loss: tensor(0.0444)\n",
            "epoch: 858 loss: tensor(0.0440)\n",
            "epoch: 859 loss: tensor(0.0445)\n",
            "epoch: 860 loss: tensor(0.0450)\n",
            "epoch: 861 loss: tensor(0.0443)\n",
            "epoch: 862 loss: tensor(0.0446)\n",
            "epoch: 863 loss: tensor(0.0441)\n",
            "epoch: 864 loss: tensor(0.0450)\n",
            "epoch: 865 loss: tensor(0.0444)\n",
            "epoch: 866 loss: tensor(0.0454)\n",
            "epoch: 867 loss: tensor(0.0443)\n",
            "epoch: 868 loss: tensor(0.0448)\n",
            "epoch: 869 loss: tensor(0.0437)\n",
            "epoch: 870 loss: tensor(0.0446)\n",
            "epoch: 871 loss: tensor(0.0437)\n",
            "epoch: 872 loss: tensor(0.0453)\n",
            "epoch: 873 loss: tensor(0.0446)\n",
            "epoch: 874 loss: tensor(0.0448)\n",
            "epoch: 875 loss: tensor(0.0449)\n",
            "epoch: 876 loss: tensor(0.0447)\n",
            "epoch: 877 loss: tensor(0.0447)\n",
            "epoch: 878 loss: tensor(0.0447)\n",
            "epoch: 879 loss: tensor(0.0452)\n",
            "epoch: 880 loss: tensor(0.0442)\n",
            "epoch: 881 loss: tensor(0.0449)\n",
            "epoch: 882 loss: tensor(0.0452)\n",
            "epoch: 883 loss: tensor(0.0453)\n",
            "epoch: 884 loss: tensor(0.0450)\n",
            "epoch: 885 loss: tensor(0.0445)\n",
            "epoch: 886 loss: tensor(0.0448)\n",
            "epoch: 887 loss: tensor(0.0445)\n",
            "epoch: 888 loss: tensor(0.0451)\n",
            "epoch: 889 loss: tensor(0.0443)\n",
            "epoch: 890 loss: tensor(0.0444)\n",
            "epoch: 891 loss: tensor(0.0438)\n",
            "epoch: 892 loss: tensor(0.0447)\n",
            "epoch: 893 loss: tensor(0.0442)\n",
            "epoch: 894 loss: tensor(0.0451)\n",
            "epoch: 895 loss: tensor(0.0443)\n",
            "epoch: 896 loss: tensor(0.0447)\n",
            "epoch: 897 loss: tensor(0.0443)\n",
            "epoch: 898 loss: tensor(0.0452)\n",
            "epoch: 899 loss: tensor(0.0439)\n",
            "epoch: 900 loss: tensor(0.0448)\n",
            "epoch: 901 loss: tensor(0.0440)\n",
            "epoch: 902 loss: tensor(0.0444)\n",
            "epoch: 903 loss: tensor(0.0432)\n",
            "epoch: 904 loss: tensor(0.0438)\n",
            "epoch: 905 loss: tensor(0.0442)\n",
            "epoch: 906 loss: tensor(0.0448)\n",
            "epoch: 907 loss: tensor(0.0436)\n",
            "epoch: 908 loss: tensor(0.0441)\n",
            "epoch: 909 loss: tensor(0.0436)\n",
            "epoch: 910 loss: tensor(0.0455)\n",
            "epoch: 911 loss: tensor(0.0448)\n",
            "epoch: 912 loss: tensor(0.0448)\n",
            "epoch: 913 loss: tensor(0.0454)\n",
            "epoch: 914 loss: tensor(0.0447)\n",
            "epoch: 915 loss: tensor(0.0444)\n",
            "epoch: 916 loss: tensor(0.0446)\n",
            "epoch: 917 loss: tensor(0.0454)\n",
            "epoch: 918 loss: tensor(0.0442)\n",
            "epoch: 919 loss: tensor(0.0451)\n",
            "epoch: 920 loss: tensor(0.0436)\n",
            "epoch: 921 loss: tensor(0.0451)\n",
            "epoch: 922 loss: tensor(0.0447)\n",
            "epoch: 923 loss: tensor(0.0456)\n",
            "epoch: 924 loss: tensor(0.0451)\n",
            "epoch: 925 loss: tensor(0.0449)\n",
            "epoch: 926 loss: tensor(0.0450)\n",
            "epoch: 927 loss: tensor(0.0441)\n",
            "epoch: 928 loss: tensor(0.0451)\n",
            "epoch: 929 loss: tensor(0.0444)\n",
            "epoch: 930 loss: tensor(0.0448)\n",
            "epoch: 931 loss: tensor(0.0441)\n",
            "epoch: 932 loss: tensor(0.0444)\n",
            "epoch: 933 loss: tensor(0.0441)\n",
            "epoch: 934 loss: tensor(0.0449)\n",
            "epoch: 935 loss: tensor(0.0436)\n",
            "epoch: 936 loss: tensor(0.0449)\n",
            "epoch: 937 loss: tensor(0.0440)\n",
            "epoch: 938 loss: tensor(0.0447)\n",
            "epoch: 939 loss: tensor(0.0448)\n",
            "epoch: 940 loss: tensor(0.0446)\n",
            "epoch: 941 loss: tensor(0.0443)\n",
            "epoch: 942 loss: tensor(0.0441)\n",
            "epoch: 943 loss: tensor(0.0444)\n",
            "epoch: 944 loss: tensor(0.0440)\n",
            "epoch: 945 loss: tensor(0.0450)\n",
            "epoch: 946 loss: tensor(0.0444)\n",
            "epoch: 947 loss: tensor(0.0440)\n",
            "epoch: 948 loss: tensor(0.0442)\n",
            "epoch: 949 loss: tensor(0.0443)\n",
            "epoch: 950 loss: tensor(0.0446)\n",
            "epoch: 951 loss: tensor(0.0446)\n",
            "epoch: 952 loss: tensor(0.0442)\n",
            "epoch: 953 loss: tensor(0.0443)\n",
            "epoch: 954 loss: tensor(0.0445)\n",
            "epoch: 955 loss: tensor(0.0440)\n",
            "epoch: 956 loss: tensor(0.0443)\n",
            "epoch: 957 loss: tensor(0.0441)\n",
            "epoch: 958 loss: tensor(0.0443)\n",
            "epoch: 959 loss: tensor(0.0439)\n",
            "epoch: 960 loss: tensor(0.0443)\n",
            "epoch: 961 loss: tensor(0.0445)\n",
            "epoch: 962 loss: tensor(0.0440)\n",
            "epoch: 963 loss: tensor(0.0444)\n",
            "epoch: 964 loss: tensor(0.0442)\n",
            "epoch: 965 loss: tensor(0.0445)\n",
            "epoch: 966 loss: tensor(0.0442)\n",
            "epoch: 967 loss: tensor(0.0452)\n",
            "epoch: 968 loss: tensor(0.0444)\n",
            "epoch: 969 loss: tensor(0.0450)\n",
            "epoch: 970 loss: tensor(0.0448)\n",
            "epoch: 971 loss: tensor(0.0446)\n",
            "epoch: 972 loss: tensor(0.0441)\n",
            "epoch: 973 loss: tensor(0.0449)\n",
            "epoch: 974 loss: tensor(0.0444)\n",
            "epoch: 975 loss: tensor(0.0443)\n",
            "epoch: 976 loss: tensor(0.0445)\n",
            "epoch: 977 loss: tensor(0.0445)\n",
            "epoch: 978 loss: tensor(0.0449)\n",
            "epoch: 979 loss: tensor(0.0446)\n",
            "epoch: 980 loss: tensor(0.0449)\n",
            "epoch: 981 loss: tensor(0.0443)\n",
            "epoch: 982 loss: tensor(0.0447)\n",
            "epoch: 983 loss: tensor(0.0446)\n",
            "epoch: 984 loss: tensor(0.0450)\n",
            "epoch: 985 loss: tensor(0.0444)\n",
            "epoch: 986 loss: tensor(0.0451)\n",
            "epoch: 987 loss: tensor(0.0438)\n",
            "epoch: 988 loss: tensor(0.0444)\n",
            "epoch: 989 loss: tensor(0.0443)\n",
            "epoch: 990 loss: tensor(0.0444)\n",
            "epoch: 991 loss: tensor(0.0442)\n",
            "epoch: 992 loss: tensor(0.0448)\n",
            "epoch: 993 loss: tensor(0.0441)\n",
            "epoch: 994 loss: tensor(0.0440)\n",
            "epoch: 995 loss: tensor(0.0435)\n",
            "epoch: 996 loss: tensor(0.0438)\n",
            "epoch: 997 loss: tensor(0.0441)\n",
            "epoch: 998 loss: tensor(0.0438)\n",
            "epoch: 999 loss: tensor(0.0450)\n",
            "epoch: 1000 loss: tensor(0.0441)\n",
            "Stacked-Autoencoder(SAE) Training Time : 3.0 Minutes. \n"
          ],
          "name": "stdout"
        }
      ]
    },
    {
      "cell_type": "code",
      "metadata": {
        "colab_type": "code",
        "id": "qeM1jQolOz9l",
        "colab": {
          "base_uri": "https://localhost:8080/",
          "height": 295
        },
        "outputId": "49c746a8-bacd-413c-af8b-6b84a5e148d3"
      },
      "source": [
        "epochs = range(1,1001)\n",
        "plt.plot(epochs, closses, 'c', label=' batch size = 500 ') # 'g' = color green\n",
        "plt.title('Batch Normalization- epoch = 1000')\n",
        "plt.xlabel('Epochs')\n",
        "plt.ylabel('Training Loss')\n",
        "\n",
        "plt.legend()\n",
        "plt.show()"
      ],
      "execution_count": null,
      "outputs": [
        {
          "output_type": "display_data",
          "data": {
            "image/png": "[encoded data removed]",
            "text/plain": [
              "<Figure size 432x288 with 1 Axes>"
            ]
          },
          "metadata": {
            "tags": [],
            "needs_background": "light"
          }
        }
      ]
    },
    {
      "cell_type": "code",
      "metadata": {
        "colab_type": "code",
        "id": "B4h6f0HiOz9p",
        "colab": {
          "base_uri": "https://localhost:8080/",
          "height": 34
        },
        "outputId": "12534a27-19b3-4489-d8a3-d330a3731d87"
      },
      "source": [
        "sae.eval()\n",
        "with torch.no_grad():\n",
        "  test_loss = 0\n",
        "  s = 0.\n",
        "  for input1,target1 in zip(train_loader,test_loader):\n",
        "      input = Variable(input1)\n",
        "      target = Variable(target1)\n",
        "      if torch.sum(target.data > 0) > 0:\n",
        "          output = sae(input)\n",
        "          target.require_grad = False\n",
        "          output[(target == 0)] = 0\n",
        "          loss = criterion(output, target)\n",
        "          mean_corrector = nb_movies/float(torch.sum(target.data > 0) + 1e-10)\n",
        "          test_loss += np.sqrt(loss.data*mean_corrector)\n",
        "          s += 1.\n",
        "  print('test_loss: '+str(test_loss/s))"
      ],
      "execution_count": null,
      "outputs": [
        {
          "output_type": "stream",
          "text": [
            "test_loss: tensor(0.0478)\n"
          ],
          "name": "stdout"
        }
      ]
    },
    {
      "cell_type": "code",
      "metadata": {
        "colab_type": "code",
        "id": "Wa9GF2i7Oz9x",
        "colab": {}
      },
      "source": [
        "from math import sqrt\n"
      ],
      "execution_count": null,
      "outputs": []
    },
    {
      "cell_type": "code",
      "metadata": {
        "colab_type": "code",
        "id": "xAZuTxhJOz9z",
        "colab": {
          "base_uri": "https://localhost:8080/",
          "height": 34
        },
        "outputId": "c5a38307-c6eb-4a01-bfa0-4de18e581133"
      },
      "source": [
        "RMSE = sqrt(0.0478)\n",
        "\n",
        "RMSE"
      ],
      "execution_count": null,
      "outputs": [
        {
          "output_type": "execute_result",
          "data": {
            "text/plain": [
              "0.21863211109075448"
            ]
          },
          "metadata": {
            "tags": []
          },
          "execution_count": 233
        }
      ]
    },
    {
      "cell_type": "code",
      "metadata": {
        "colab_type": "code",
        "id": "WSPyynsbRQ-s",
        "colab": {}
      },
      "source": [
        ""
      ],
      "execution_count": null,
      "outputs": []
    },
    {
      "cell_type": "code",
      "metadata": {
        "colab_type": "code",
        "id": "x2Jy6vYrRQ-1",
        "colab": {}
      },
      "source": [
        ""
      ],
      "execution_count": null,
      "outputs": []
    }
  ]
}