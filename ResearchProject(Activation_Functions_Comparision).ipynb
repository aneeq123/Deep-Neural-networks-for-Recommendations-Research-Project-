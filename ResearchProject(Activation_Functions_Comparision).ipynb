{
  "nbformat": 4,
  "nbformat_minor": 0,
  "metadata": {
    "colab": {
      "name": "ResearchProject(Activation Functions Comparision).ipynb",
      "provenance": [],
      "collapsed_sections": []
    },
    "kernelspec": {
      "name": "python3",
      "display_name": "Python 3"
    }
  },
  "cells": [
    {
      "cell_type": "code",
      "metadata": {
        "id": "6_1ApiIh8tut",
        "colab_type": "code",
        "colab": {}
      },
      "source": [
        ""
      ],
      "execution_count": null,
      "outputs": []
    },
    {
      "cell_type": "markdown",
      "metadata": {
        "id": "oOdOOm3SunmD",
        "colab_type": "text"
      },
      "source": [
        "\n",
        "# **Building A Movie Recommandation System With Pytorch(Activation Functions)**\n",
        "In this project, we are trying to predict the ratings that a user will give to an unseen movie, based on the ratings he gave to other movies. We will use the movielens dataset.The Main folder, which is ml-100k contains informations about 100 000 movies. We will use AutoEncoders to create our recommandation system. Let's start by importing the required libraries.\n",
        "\n",
        "\n",
        "\n"
      ]
    },
    {
      "cell_type": "code",
      "metadata": {
        "id": "WHjISKiVSRpf",
        "colab_type": "code",
        "colab": {}
      },
      "source": [
        "# AutoEncoders\n",
        "\n",
        "# Importing the libraries\n",
        "\n",
        "import numpy as np\n",
        "import pandas as pd\n",
        "import torch\n",
        "import torch.nn as nn\n",
        "import torch.nn.parallel\n",
        "import torch.optim as optim\n",
        "import torch.utils.data\n",
        "from torch.autograd import Variable\n",
        "from torchvision import datasets, transforms\n",
        "from torch.utils.data import Dataset\n",
        "import time\n",
        "\n",
        "import matplotlib.pyplot as plt\n"
      ],
      "execution_count": null,
      "outputs": []
    },
    {
      "cell_type": "code",
      "metadata": {
        "id": "O9kM0xA6ncI6",
        "colab_type": "code",
        "colab": {
          "resources": {
            "http://localhost:8080/nbextensions/google.colab/files.js": {
              "data": "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",
              "ok": true,
              "headers": [
                [
                  "content-type",
                  "application/javascript"
                ]
              ],
              "status": 200,
              "status_text": ""
            }
          },
          "base_uri": "https://localhost:8080/",
          "height": 72
        },
        "outputId": "5ec5f256-a37d-4302-d68b-1eefa84b9452"
      },
      "source": [
        "from google.colab import files\n",
        "uploaded = files.upload()"
      ],
      "execution_count": null,
      "outputs": [
        {
          "output_type": "display_data",
          "data": {
            "text/html": [
              "\n",
              "     <input type=\"file\" id=\"files-cc3b469a-c1c5-4ee3-b344-c8f6acaf3911\" name=\"files[]\" multiple disabled\n",
              "        style=\"border:none\" />\n",
              "     <output id=\"result-cc3b469a-c1c5-4ee3-b344-c8f6acaf3911\">\n",
              "      Upload widget is only available when the cell has been executed in the\n",
              "      current browser session. Please rerun this cell to enable.\n",
              "      </output>\n",
              "      <script src=\"/nbextensions/google.colab/files.js\"></script> "
            ],
            "text/plain": [
              "<IPython.core.display.HTML object>"
            ]
          },
          "metadata": {
            "tags": []
          }
        },
        {
          "output_type": "stream",
          "text": [
            "Saving u1.base to u1.base\n"
          ],
          "name": "stdout"
        }
      ]
    },
    {
      "cell_type": "code",
      "metadata": {
        "id": "qZqjzECzoDeV",
        "colab_type": "code",
        "colab": {
          "resources": {
            "http://localhost:8080/nbextensions/google.colab/files.js": {
              "data": "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",
              "ok": true,
              "headers": [
                [
                  "content-type",
                  "application/javascript"
                ]
              ],
              "status": 200,
              "status_text": ""
            }
          },
          "base_uri": "https://localhost:8080/",
          "height": 72
        },
        "outputId": "572f69a8-2512-4bf0-ac12-776fb1a6ae0d"
      },
      "source": [
        "from google.colab import files\n",
        "uploaded = files.upload()"
      ],
      "execution_count": null,
      "outputs": [
        {
          "output_type": "display_data",
          "data": {
            "text/html": [
              "\n",
              "     <input type=\"file\" id=\"files-2b6d822c-db7c-45ec-81ce-214d173db9f3\" name=\"files[]\" multiple disabled\n",
              "        style=\"border:none\" />\n",
              "     <output id=\"result-2b6d822c-db7c-45ec-81ce-214d173db9f3\">\n",
              "      Upload widget is only available when the cell has been executed in the\n",
              "      current browser session. Please rerun this cell to enable.\n",
              "      </output>\n",
              "      <script src=\"/nbextensions/google.colab/files.js\"></script> "
            ],
            "text/plain": [
              "<IPython.core.display.HTML object>"
            ]
          },
          "metadata": {
            "tags": []
          }
        },
        {
          "output_type": "stream",
          "text": [
            "Saving u1.test to u1.test\n"
          ],
          "name": "stdout"
        }
      ]
    },
    {
      "cell_type": "markdown",
      "metadata": {
        "id": "A8swey7uH-Is",
        "colab_type": "text"
      },
      "source": [
        "# Activation Function: Sigmoid\n",
        "\n",
        "* TRAINING LOSS: 0.9147\n",
        "* TEST LOSS: 0.9498\n",
        "* RMSE: 0.9745"
      ]
    },
    {
      "cell_type": "code",
      "metadata": {
        "id": "-sMFWkXK2sjp",
        "colab_type": "code",
        "colab": {}
      },
      "source": [
        "training = ['user_id', 'movie_id', 'rating', 'timestamp' ] #Create each column\n",
        "test = ['user_id', 'movie_id', 'rating', 'timestamp' ]     #Create each column"
      ],
      "execution_count": null,
      "outputs": []
    },
    {
      "cell_type": "code",
      "metadata": {
        "id": "XTAgirYi2inu",
        "colab_type": "code",
        "colab": {}
      },
      "source": [
        "# Preparing the training set and the test set \n",
        "training_set = pd.read_csv('u1.base', names=training, delimiter = '\\t') # Read the file\n",
        "test_set = pd.read_csv('u1.test', names=test, delimiter = '\\t') #Read the file"
      ],
      "execution_count": null,
      "outputs": []
    },
    {
      "cell_type": "code",
      "metadata": {
        "id": "O19NYNPjR9ep",
        "colab_type": "code",
        "colab": {}
      },
      "source": [
        "#Drop 'timestamp' column\n",
        "training_set= training_set.drop([\"timestamp\"], axis=1)"
      ],
      "execution_count": null,
      "outputs": []
    },
    {
      "cell_type": "code",
      "metadata": {
        "id": "OZJv2_-rR-J3",
        "colab_type": "code",
        "colab": {}
      },
      "source": [
        "#Drop 'timestamp' column\n",
        "test_set= test_set.drop([\"timestamp\"], axis=1)"
      ],
      "execution_count": null,
      "outputs": []
    },
    {
      "cell_type": "code",
      "metadata": {
        "id": "3eIY02qj0tlY",
        "colab_type": "code",
        "colab": {
          "base_uri": "https://localhost:8080/",
          "height": 204
        },
        "outputId": "dcb6dd00-b58b-4a0e-8c26-adf543ed5047"
      },
      "source": [
        "# Visualizing the first elements of the training_set\n",
        "training_set.head()"
      ],
      "execution_count": null,
      "outputs": [
        {
          "output_type": "execute_result",
          "data": {
            "text/html": [
              "<div>\n",
              "<style scoped>\n",
              "    .dataframe tbody tr th:only-of-type {\n",
              "        vertical-align: middle;\n",
              "    }\n",
              "\n",
              "    .dataframe tbody tr th {\n",
              "        vertical-align: top;\n",
              "    }\n",
              "\n",
              "    .dataframe thead th {\n",
              "        text-align: right;\n",
              "    }\n",
              "</style>\n",
              "<table border=\"1\" class=\"dataframe\">\n",
              "  <thead>\n",
              "    <tr style=\"text-align: right;\">\n",
              "      <th></th>\n",
              "      <th>user_id</th>\n",
              "      <th>movie_id</th>\n",
              "      <th>rating</th>\n",
              "    </tr>\n",
              "  </thead>\n",
              "  <tbody>\n",
              "    <tr>\n",
              "      <th>0</th>\n",
              "      <td>1</td>\n",
              "      <td>1</td>\n",
              "      <td>5</td>\n",
              "    </tr>\n",
              "    <tr>\n",
              "      <th>1</th>\n",
              "      <td>1</td>\n",
              "      <td>2</td>\n",
              "      <td>3</td>\n",
              "    </tr>\n",
              "    <tr>\n",
              "      <th>2</th>\n",
              "      <td>1</td>\n",
              "      <td>3</td>\n",
              "      <td>4</td>\n",
              "    </tr>\n",
              "    <tr>\n",
              "      <th>3</th>\n",
              "      <td>1</td>\n",
              "      <td>4</td>\n",
              "      <td>3</td>\n",
              "    </tr>\n",
              "    <tr>\n",
              "      <th>4</th>\n",
              "      <td>1</td>\n",
              "      <td>5</td>\n",
              "      <td>3</td>\n",
              "    </tr>\n",
              "  </tbody>\n",
              "</table>\n",
              "</div>"
            ],
            "text/plain": [
              "   user_id  movie_id  rating\n",
              "0        1         1       5\n",
              "1        1         2       3\n",
              "2        1         3       4\n",
              "3        1         4       3\n",
              "4        1         5       3"
            ]
          },
          "metadata": {
            "tags": []
          },
          "execution_count": 9
        }
      ]
    },
    {
      "cell_type": "code",
      "metadata": {
        "id": "6Ss0o3S01S7W",
        "colab_type": "code",
        "colab": {}
      },
      "source": [
        "# Converting the training and test sets into numpy arrays\n",
        "training_set = np.array(training_set, dtype = 'int')\n",
        "test_set = np.array(test_set, dtype = 'int')"
      ],
      "execution_count": null,
      "outputs": []
    },
    {
      "cell_type": "code",
      "metadata": {
        "id": "MMwVu2i-1cUz",
        "colab_type": "code",
        "colab": {}
      },
      "source": [
        "# Getting the number of users and movies\n",
        "nb_users = int(max(max(training_set[:, 0]), max(test_set[:, 0])))\n",
        "nb_movies = int(max(max(training_set[:, 1]), max(test_set[:, 1])))"
      ],
      "execution_count": null,
      "outputs": []
    },
    {
      "cell_type": "code",
      "metadata": {
        "id": "yyQtN8gg1fPn",
        "colab_type": "code",
        "colab": {
          "base_uri": "https://localhost:8080/",
          "height": 51
        },
        "outputId": "d9e89ef7-cbb7-4729-dca5-4bf849e7074b"
      },
      "source": [
        "print(\"Number of users: {}\".format(nb_users))\n",
        "print(\"Number of movies: {}\".format(nb_movies))"
      ],
      "execution_count": null,
      "outputs": [
        {
          "output_type": "stream",
          "text": [
            "Number of users: 943\n",
            "Number of movies: 1682\n"
          ],
          "name": "stdout"
        }
      ]
    },
    {
      "cell_type": "code",
      "metadata": {
        "id": "gFG9B7JH1m5k",
        "colab_type": "code",
        "colab": {}
      },
      "source": [
        "def convert(data):\n",
        "    # Initializing an empty list that will take the list of ratings given by a specific user\n",
        "    new_data = []\n",
        "    # Looping over all the users\n",
        "    for id_users in range(1, nb_users + 1):\n",
        "        # We get the id of the movies rated by the current user\n",
        "        id_movies = data[:, 1][data[:, 0] == id_users]\n",
        "        # We get the id of the ratings given by the current_user\n",
        "        id_ratings = data[:, 2][data[:, 0] == id_users]\n",
        "        # \n",
        "        ratings = np.zeros(nb_movies)\n",
        "        # For movies rated by the current user, we replace 0 with the rating\n",
        "        # The first element of ratings is at index 0. However, id_movies start at index 1.\n",
        "        # Therefore, ratings[id_movies - 1] will correspond to the location of the movie we're considering\n",
        "        ratings[id_movies - 1] = id_ratings\n",
        "        new_data.append(list(ratings))\n",
        "    return new_data"
      ],
      "execution_count": null,
      "outputs": []
    },
    {
      "cell_type": "code",
      "metadata": {
        "colab_type": "code",
        "id": "upg5gJ0On0Q-",
        "colab": {}
      },
      "source": [
        "# Applying the convert function to the training and test set.\n",
        "training_set = convert(training_set)\n",
        "test_set = convert(test_set)"
      ],
      "execution_count": null,
      "outputs": []
    },
    {
      "cell_type": "code",
      "metadata": {
        "colab_type": "code",
        "id": "IXYenOehn0RB",
        "colab": {}
      },
      "source": [
        "# Convert the data into Torch tensors\n",
        "training_set = torch.FloatTensor(training_set)\n",
        "test_set = torch.FloatTensor(test_set)"
      ],
      "execution_count": null,
      "outputs": []
    },
    {
      "cell_type": "code",
      "metadata": {
        "colab_type": "code",
        "id": "uysToQPboWH1",
        "colab": {}
      },
      "source": [
        "# Create the SAE (stack autoencoder) class, which is inherited from nn.Module(Pytorch library)\n",
        "class SAE(nn.Module):\n",
        "    # Initializing the class\n",
        "    def __init__(self, ):\n",
        "        # making the class get all the functions from the parent class nn.Module\n",
        "        super(SAE, self).__init__()\n",
        "        # Creating the first encoding layer. The number of input corresponds to the number of movies\n",
        "        #  Decide to encode it into 20 outputs\n",
        "        self.fc1 = nn.Linear(nb_movies, 20)\n",
        "        # Creating the second encoding layer. From 20 inputs to 10 outputs\n",
        "        self.fc2 = nn.Linear(20, 10)\n",
        "        # Creating the first decoding layer. From 10 inputs to 20 outputs\n",
        "        self.fc3 = nn.Linear(10, 20)\n",
        "        # Creating the second hidden layer. From 20 inputs to nb_movies outputs\n",
        "        self.fc4 = nn.Linear(20, nb_movies)\n",
        "\n",
        "        #####  Activation Function: Sigmoid   #######\n",
        "\n",
        "        # Creating the activation fucntion which will fire up specific neurons \n",
        "        self.activation = nn.Sigmoid()\n",
        "        \n",
        "        # Creating the function for forward propagation\n",
        "    def forward(self, x):\n",
        "        x = self.activation(self.fc1(x))\n",
        "        x = self.activation(self.fc2(x))\n",
        "        x = self.activation(self.fc3(x))\n",
        "        # With autoencoder, we don't need an activation function for the last decoding part\n",
        "        x = self.fc4(x)\n",
        "        return x\n",
        "    \n",
        "\n",
        "    def predict(self, x): # x: visible nodes\n",
        "        x = self.forward(x)\n",
        "        return x\n",
        "\n",
        "  \n",
        "\n",
        "\n",
        "  "
      ],
      "execution_count": null,
      "outputs": []
    },
    {
      "cell_type": "code",
      "metadata": {
        "colab_type": "code",
        "id": "8DeqfnSfoWH6",
        "colab": {}
      },
      "source": [
        " #Creating an instance of our SAE class\n",
        "sae = SAE()\n",
        "\n",
        "\n",
        " #Defining a criterion which specifies the metric to minimize.\n",
        " #In this case, we want to minimize the MSE (Mean Squared Error)\n",
        "\n",
        "criterion = nn.MSELoss()\n",
        "\n",
        "# Defining the algorithm used to minimize the loss function. \n",
        "#In this case, we'll use RMSprop\n",
        "\n",
        "optimizer = optim.RMSprop(sae.parameters(), lr = 0.01, weight_decay = 0.5)\n"
      ],
      "execution_count": null,
      "outputs": []
    },
    {
      "cell_type": "code",
      "metadata": {
        "id": "NOAd0dp03sZg",
        "colab_type": "code",
        "colab": {
          "base_uri": "https://localhost:8080/",
          "height": 1000
        },
        "outputId": "79cf7894-2d54-4b2b-f7d9-9b6a3d25b85b"
      },
      "source": [
        "\n",
        "\n",
        "#time\n",
        "time_start = time.time()\n",
        "# Setting the number of epochs\n",
        "nb_epoch = 200\n",
        "\n",
        "# storing the  traning loss calculations\n",
        "losses = [] \n",
        "\n",
        "# Iterating over each epoch\n",
        "for epoch in range(1, nb_epoch + 1):\n",
        "    # Initializing the train_loss which will be updated\n",
        "    train_loss = 0\n",
        "    # Initializing a counter\n",
        "    s = 0.\n",
        "    # Iterating over each user\n",
        "    for id_user in range(nb_users):\n",
        "        # The input corresponds to the ratings given by the current user for each movie\n",
        "        input = Variable(training_set[id_user]).unsqueeze(0)\n",
        "        target = input.clone()\n",
        "        # We don't consider movies NOT rated by the current user. So we specify a conditional statement\n",
        "        if torch.sum(target.data > 0) > 0:\n",
        "            # We use our SAE to get the output from the \n",
        "            output = sae(input)\n",
        "            target.require_grad = False\n",
        "            output[target == 0] = 0\n",
        "            # Defining our loss function, comparing the output with the target\n",
        "            loss = criterion(output, target)\n",
        "            mean_corrector = nb_movies/float(torch.sum(target.data > 0) + 1e-10)\n",
        "            # Computing the gradients necessary to adjust the weights\n",
        "            loss.backward()\n",
        "            # Updating the train_loss\n",
        "            train_loss += np.sqrt(loss.data*mean_corrector)\n",
        "            s += 1.\n",
        "            # Updating the weights of the neural network\n",
        "            optimizer.step()\n",
        "\n",
        "    epoch_loss = train_loss / len(training_set[id_user])\n",
        "    losses.append(epoch_loss)  \n",
        "    print('epoch: '+str(epoch)+' loss: '+str(train_loss/s))\n",
        "time_end = time.time()\n",
        "print('Stacked-Autoencoder(SAE) Training Time : ' +str(round((time_end-time_start)/60,0))+' Minutes. ')"
      ],
      "execution_count": null,
      "outputs": [
        {
          "output_type": "stream",
          "text": [
            "epoch: 1 loss: tensor(1.7720)\n",
            "epoch: 2 loss: tensor(1.0967)\n",
            "epoch: 3 loss: tensor(1.0535)\n",
            "epoch: 4 loss: tensor(1.0383)\n",
            "epoch: 5 loss: tensor(1.0308)\n",
            "epoch: 6 loss: tensor(1.0266)\n",
            "epoch: 7 loss: tensor(1.0242)\n",
            "epoch: 8 loss: tensor(1.0220)\n",
            "epoch: 9 loss: tensor(1.0208)\n",
            "epoch: 10 loss: tensor(1.0194)\n",
            "epoch: 11 loss: tensor(1.0189)\n",
            "epoch: 12 loss: tensor(1.0183)\n",
            "epoch: 13 loss: tensor(1.0181)\n",
            "epoch: 14 loss: tensor(1.0174)\n",
            "epoch: 15 loss: tensor(1.0174)\n",
            "epoch: 16 loss: tensor(1.0169)\n",
            "epoch: 17 loss: tensor(1.0167)\n",
            "epoch: 18 loss: tensor(1.0166)\n",
            "epoch: 19 loss: tensor(1.0163)\n",
            "epoch: 20 loss: tensor(1.0162)\n",
            "epoch: 21 loss: tensor(1.0160)\n",
            "epoch: 22 loss: tensor(1.0157)\n",
            "epoch: 23 loss: tensor(1.0158)\n",
            "epoch: 24 loss: tensor(1.0159)\n",
            "epoch: 25 loss: tensor(1.0157)\n",
            "epoch: 26 loss: tensor(1.0155)\n",
            "epoch: 27 loss: tensor(1.0152)\n",
            "epoch: 28 loss: tensor(1.0149)\n",
            "epoch: 29 loss: tensor(1.0136)\n",
            "epoch: 30 loss: tensor(1.0117)\n",
            "epoch: 31 loss: tensor(1.0095)\n",
            "epoch: 32 loss: tensor(1.0092)\n",
            "epoch: 33 loss: tensor(1.0050)\n",
            "epoch: 34 loss: tensor(1.0049)\n",
            "epoch: 35 loss: tensor(1.0010)\n",
            "epoch: 36 loss: tensor(0.9993)\n",
            "epoch: 37 loss: tensor(0.9967)\n",
            "epoch: 38 loss: tensor(0.9952)\n",
            "epoch: 39 loss: tensor(0.9907)\n",
            "epoch: 40 loss: tensor(0.9923)\n",
            "epoch: 41 loss: tensor(0.9911)\n",
            "epoch: 42 loss: tensor(0.9858)\n",
            "epoch: 43 loss: tensor(0.9846)\n",
            "epoch: 44 loss: tensor(0.9871)\n",
            "epoch: 45 loss: tensor(0.9825)\n",
            "epoch: 46 loss: tensor(0.9799)\n",
            "epoch: 47 loss: tensor(0.9765)\n",
            "epoch: 48 loss: tensor(0.9754)\n",
            "epoch: 49 loss: tensor(0.9720)\n",
            "epoch: 50 loss: tensor(0.9703)\n",
            "epoch: 51 loss: tensor(0.9669)\n",
            "epoch: 52 loss: tensor(0.9695)\n",
            "epoch: 53 loss: tensor(0.9664)\n",
            "epoch: 54 loss: tensor(0.9689)\n",
            "epoch: 55 loss: tensor(0.9665)\n",
            "epoch: 56 loss: tensor(0.9640)\n",
            "epoch: 57 loss: tensor(0.9624)\n",
            "epoch: 58 loss: tensor(0.9634)\n",
            "epoch: 59 loss: tensor(0.9618)\n",
            "epoch: 60 loss: tensor(0.9589)\n",
            "epoch: 61 loss: tensor(0.9582)\n",
            "epoch: 62 loss: tensor(0.9576)\n",
            "epoch: 63 loss: tensor(0.9531)\n",
            "epoch: 64 loss: tensor(0.9539)\n",
            "epoch: 65 loss: tensor(0.9527)\n",
            "epoch: 66 loss: tensor(0.9536)\n",
            "epoch: 67 loss: tensor(0.9532)\n",
            "epoch: 68 loss: tensor(0.9498)\n",
            "epoch: 69 loss: tensor(0.9479)\n",
            "epoch: 70 loss: tensor(0.9489)\n",
            "epoch: 71 loss: tensor(0.9465)\n",
            "epoch: 72 loss: tensor(0.9465)\n",
            "epoch: 73 loss: tensor(0.9437)\n",
            "epoch: 74 loss: tensor(0.9448)\n",
            "epoch: 75 loss: tensor(0.9425)\n",
            "epoch: 76 loss: tensor(0.9439)\n",
            "epoch: 77 loss: tensor(0.9420)\n",
            "epoch: 78 loss: tensor(0.9432)\n",
            "epoch: 79 loss: tensor(0.9407)\n",
            "epoch: 80 loss: tensor(0.9420)\n",
            "epoch: 81 loss: tensor(0.9399)\n",
            "epoch: 82 loss: tensor(0.9415)\n",
            "epoch: 83 loss: tensor(0.9381)\n",
            "epoch: 84 loss: tensor(0.9396)\n",
            "epoch: 85 loss: tensor(0.9372)\n",
            "epoch: 86 loss: tensor(0.9388)\n",
            "epoch: 87 loss: tensor(0.9363)\n",
            "epoch: 88 loss: tensor(0.9383)\n",
            "epoch: 89 loss: tensor(0.9356)\n",
            "epoch: 90 loss: tensor(0.9367)\n",
            "epoch: 91 loss: tensor(0.9347)\n",
            "epoch: 92 loss: tensor(0.9352)\n",
            "epoch: 93 loss: tensor(0.9340)\n",
            "epoch: 94 loss: tensor(0.9351)\n",
            "epoch: 95 loss: tensor(0.9327)\n",
            "epoch: 96 loss: tensor(0.9348)\n",
            "epoch: 97 loss: tensor(0.9328)\n",
            "epoch: 98 loss: tensor(0.9341)\n",
            "epoch: 99 loss: tensor(0.9321)\n",
            "epoch: 100 loss: tensor(0.9334)\n",
            "epoch: 101 loss: tensor(0.9322)\n",
            "epoch: 102 loss: tensor(0.9320)\n",
            "epoch: 103 loss: tensor(0.9306)\n",
            "epoch: 104 loss: tensor(0.9321)\n",
            "epoch: 105 loss: tensor(0.9310)\n",
            "epoch: 106 loss: tensor(0.9323)\n",
            "epoch: 107 loss: tensor(0.9306)\n",
            "epoch: 108 loss: tensor(0.9313)\n",
            "epoch: 109 loss: tensor(0.9297)\n",
            "epoch: 110 loss: tensor(0.9309)\n",
            "epoch: 111 loss: tensor(0.9293)\n",
            "epoch: 112 loss: tensor(0.9307)\n",
            "epoch: 113 loss: tensor(0.9290)\n",
            "epoch: 114 loss: tensor(0.9306)\n",
            "epoch: 115 loss: tensor(0.9282)\n",
            "epoch: 116 loss: tensor(0.9295)\n",
            "epoch: 117 loss: tensor(0.9277)\n",
            "epoch: 118 loss: tensor(0.9287)\n",
            "epoch: 119 loss: tensor(0.9275)\n",
            "epoch: 120 loss: tensor(0.9285)\n",
            "epoch: 121 loss: tensor(0.9269)\n",
            "epoch: 122 loss: tensor(0.9283)\n",
            "epoch: 123 loss: tensor(0.9264)\n",
            "epoch: 124 loss: tensor(0.9280)\n",
            "epoch: 125 loss: tensor(0.9260)\n",
            "epoch: 126 loss: tensor(0.9273)\n",
            "epoch: 127 loss: tensor(0.9257)\n",
            "epoch: 128 loss: tensor(0.9268)\n",
            "epoch: 129 loss: tensor(0.9253)\n",
            "epoch: 130 loss: tensor(0.9263)\n",
            "epoch: 131 loss: tensor(0.9248)\n",
            "epoch: 132 loss: tensor(0.9258)\n",
            "epoch: 133 loss: tensor(0.9242)\n",
            "epoch: 134 loss: tensor(0.9253)\n",
            "epoch: 135 loss: tensor(0.9239)\n",
            "epoch: 136 loss: tensor(0.9247)\n",
            "epoch: 137 loss: tensor(0.9233)\n",
            "epoch: 138 loss: tensor(0.9242)\n",
            "epoch: 139 loss: tensor(0.9228)\n",
            "epoch: 140 loss: tensor(0.9239)\n",
            "epoch: 141 loss: tensor(0.9225)\n",
            "epoch: 142 loss: tensor(0.9238)\n",
            "epoch: 143 loss: tensor(0.9218)\n",
            "epoch: 144 loss: tensor(0.9223)\n",
            "epoch: 145 loss: tensor(0.9213)\n",
            "epoch: 146 loss: tensor(0.9221)\n",
            "epoch: 147 loss: tensor(0.9214)\n",
            "epoch: 148 loss: tensor(0.9222)\n",
            "epoch: 149 loss: tensor(0.9205)\n",
            "epoch: 150 loss: tensor(0.9258)\n",
            "epoch: 151 loss: tensor(0.9205)\n",
            "epoch: 152 loss: tensor(0.9214)\n",
            "epoch: 153 loss: tensor(0.9204)\n",
            "epoch: 154 loss: tensor(0.9212)\n",
            "epoch: 155 loss: tensor(0.9200)\n",
            "epoch: 156 loss: tensor(0.9214)\n",
            "epoch: 157 loss: tensor(0.9198)\n",
            "epoch: 158 loss: tensor(0.9207)\n",
            "epoch: 159 loss: tensor(0.9195)\n",
            "epoch: 160 loss: tensor(0.9202)\n",
            "epoch: 161 loss: tensor(0.9190)\n",
            "epoch: 162 loss: tensor(0.9197)\n",
            "epoch: 163 loss: tensor(0.9180)\n",
            "epoch: 164 loss: tensor(0.9191)\n",
            "epoch: 165 loss: tensor(0.9181)\n",
            "epoch: 166 loss: tensor(0.9189)\n",
            "epoch: 167 loss: tensor(0.9176)\n",
            "epoch: 168 loss: tensor(0.9189)\n",
            "epoch: 169 loss: tensor(0.9175)\n",
            "epoch: 170 loss: tensor(0.9182)\n",
            "epoch: 171 loss: tensor(0.9172)\n",
            "epoch: 172 loss: tensor(0.9181)\n",
            "epoch: 173 loss: tensor(0.9170)\n",
            "epoch: 174 loss: tensor(0.9177)\n",
            "epoch: 175 loss: tensor(0.9165)\n",
            "epoch: 176 loss: tensor(0.9174)\n",
            "epoch: 177 loss: tensor(0.9163)\n",
            "epoch: 178 loss: tensor(0.9173)\n",
            "epoch: 179 loss: tensor(0.9162)\n",
            "epoch: 180 loss: tensor(0.9170)\n",
            "epoch: 181 loss: tensor(0.9156)\n",
            "epoch: 182 loss: tensor(0.9167)\n",
            "epoch: 183 loss: tensor(0.9157)\n",
            "epoch: 184 loss: tensor(0.9167)\n",
            "epoch: 185 loss: tensor(0.9154)\n",
            "epoch: 186 loss: tensor(0.9160)\n",
            "epoch: 187 loss: tensor(0.9150)\n",
            "epoch: 188 loss: tensor(0.9157)\n",
            "epoch: 189 loss: tensor(0.9148)\n",
            "epoch: 190 loss: tensor(0.9156)\n",
            "epoch: 191 loss: tensor(0.9147)\n",
            "epoch: 192 loss: tensor(0.9155)\n",
            "epoch: 193 loss: tensor(0.9143)\n",
            "epoch: 194 loss: tensor(0.9154)\n",
            "epoch: 195 loss: tensor(0.9142)\n",
            "epoch: 196 loss: tensor(0.9151)\n",
            "epoch: 197 loss: tensor(0.9141)\n",
            "epoch: 198 loss: tensor(0.9150)\n",
            "epoch: 199 loss: tensor(0.9140)\n",
            "epoch: 200 loss: tensor(0.9147)\n",
            "Stacked-Autoencoder(SAE) Training Time : 5.0 Minutes. \n"
          ],
          "name": "stdout"
        }
      ]
    },
    {
      "cell_type": "code",
      "metadata": {
        "id": "Hjzm4_-Hp-BL",
        "colab_type": "code",
        "colab": {
          "base_uri": "https://localhost:8080/",
          "height": 295
        },
        "outputId": "98241696-7dbb-4e19-f6bd-713fb308b09e"
      },
      "source": [
        "epochs = range(1,201)\n",
        "plt.plot(epochs, losses, 'g', label=' Sigmoid ') \n",
        "plt.title('Activation Loss - epoch =200')\n",
        "plt.xlabel('Epochs')\n",
        "plt.ylabel('Training  Loss')\n",
        "\n",
        "plt.legend()\n",
        "plt.show()"
      ],
      "execution_count": null,
      "outputs": [
        {
          "output_type": "display_data",
          "data": {
            "image/png": "[encoded data removed]",
            "text/plain": [
              "<Figure size 432x288 with 1 Axes>"
            ]
          },
          "metadata": {
            "tags": [],
            "needs_background": "light"
          }
        }
      ]
    },
    {
      "cell_type": "code",
      "metadata": {
        "id": "o-x5uFR-qB2r",
        "colab_type": "code",
        "colab": {
          "base_uri": "https://localhost:8080/",
          "height": 34
        },
        "outputId": "252f58b2-fe5f-493b-dcad-01d478feb307"
      },
      "source": [
        "# Initializing the test_loss\n",
        "sae.eval()\n",
        "with torch.no_grad():\n",
        "  test_loss = 0\n",
        "  s = 0.\n",
        "  for id_user in range(nb_users):\n",
        "      input = Variable(training_set[id_user]).unsqueeze(0)\n",
        "      target = Variable(test_set[id_user]).unsqueeze(0)\n",
        "      if torch.sum(target.data > 0) > 0:\n",
        "          output = sae(input)\n",
        "          target.require_grad = False\n",
        "          output[(target == 0)] = 0\n",
        "          loss = criterion(output, target)\n",
        "  \n",
        "          mean_corrector = nb_movies/float(torch.sum(target.data > 0) + 1e-10)\n",
        "          test_loss += np.sqrt(loss.data*mean_corrector)\n",
        "          s += 1.\n",
        "  print('test_loss: '+str(test_loss/s))\n",
        "\n"
      ],
      "execution_count": null,
      "outputs": [
        {
          "output_type": "stream",
          "text": [
            "test_loss: tensor(0.9498)\n"
          ],
          "name": "stdout"
        }
      ]
    },
    {
      "cell_type": "code",
      "metadata": {
        "id": "_TI01_6XF5a7",
        "colab_type": "code",
        "colab": {}
      },
      "source": [
        "from math import sqrt\n"
      ],
      "execution_count": null,
      "outputs": []
    },
    {
      "cell_type": "code",
      "metadata": {
        "id": "oDDia2UdE3gU",
        "colab_type": "code",
        "colab": {
          "base_uri": "https://localhost:8080/",
          "height": 34
        },
        "outputId": "fb1eb12d-e6d7-4278-bf0c-ee9df70f4fa8"
      },
      "source": [
        "RMSE = sqrt(0.9498)\n",
        "\n",
        "RMSE"
      ],
      "execution_count": null,
      "outputs": [
        {
          "output_type": "execute_result",
          "data": {
            "text/plain": [
              "0.9745768312452333"
            ]
          },
          "metadata": {
            "tags": []
          },
          "execution_count": 57
        }
      ]
    },
    {
      "cell_type": "markdown",
      "metadata": {
        "colab_type": "text",
        "id": "Y0yl6nHWISAk"
      },
      "source": [
        "# Activation Function: tanh\n",
        "* TRAINING LOSS: 0.9692\n",
        "* TEST LOSS: 1.0002\n",
        "* RMSE: 1.0000"
      ]
    },
    {
      "cell_type": "code",
      "metadata": {
        "colab_type": "code",
        "id": "wlSxnA0MISAl",
        "colab": {}
      },
      "source": [
        "training = ['user_id', 'movie_id', 'rating', 'timestamp' ] #Create each column\n",
        "test = ['user_id', 'movie_id', 'rating', 'timestamp' ]     #Create each column"
      ],
      "execution_count": null,
      "outputs": []
    },
    {
      "cell_type": "code",
      "metadata": {
        "colab_type": "code",
        "id": "5OOe8JLUISAp",
        "colab": {}
      },
      "source": [
        "# Preparing the training set and the test set \n",
        "training_set = pd.read_csv('u1.base', names=training, delimiter = '\\t') # Read the file\n",
        "test_set = pd.read_csv('u1.test', names=test, delimiter = '\\t') #Read the file"
      ],
      "execution_count": null,
      "outputs": []
    },
    {
      "cell_type": "code",
      "metadata": {
        "colab_type": "code",
        "id": "feBhhotsISAr",
        "colab": {}
      },
      "source": [
        "#Drop 'timestamp' column\n",
        "training_set= training_set.drop([\"timestamp\"], axis=1)"
      ],
      "execution_count": null,
      "outputs": []
    },
    {
      "cell_type": "code",
      "metadata": {
        "colab_type": "code",
        "id": "1E6VFIQhISAu",
        "colab": {}
      },
      "source": [
        "#Drop 'timestamp' column\n",
        "test_set= test_set.drop([\"timestamp\"], axis=1)"
      ],
      "execution_count": null,
      "outputs": []
    },
    {
      "cell_type": "code",
      "metadata": {
        "colab_type": "code",
        "id": "26FYZAVWISAx",
        "colab": {
          "base_uri": "https://localhost:8080/",
          "height": 204
        },
        "outputId": "c02703aa-d038-46ac-a390-c8d2c1a2f856"
      },
      "source": [
        "# Visualizing the first elements of the training_set\n",
        "training_set.head()"
      ],
      "execution_count": null,
      "outputs": [
        {
          "output_type": "execute_result",
          "data": {
            "text/html": [
              "<div>\n",
              "<style scoped>\n",
              "    .dataframe tbody tr th:only-of-type {\n",
              "        vertical-align: middle;\n",
              "    }\n",
              "\n",
              "    .dataframe tbody tr th {\n",
              "        vertical-align: top;\n",
              "    }\n",
              "\n",
              "    .dataframe thead th {\n",
              "        text-align: right;\n",
              "    }\n",
              "</style>\n",
              "<table border=\"1\" class=\"dataframe\">\n",
              "  <thead>\n",
              "    <tr style=\"text-align: right;\">\n",
              "      <th></th>\n",
              "      <th>user_id</th>\n",
              "      <th>movie_id</th>\n",
              "      <th>rating</th>\n",
              "    </tr>\n",
              "  </thead>\n",
              "  <tbody>\n",
              "    <tr>\n",
              "      <th>0</th>\n",
              "      <td>1</td>\n",
              "      <td>1</td>\n",
              "      <td>5</td>\n",
              "    </tr>\n",
              "    <tr>\n",
              "      <th>1</th>\n",
              "      <td>1</td>\n",
              "      <td>2</td>\n",
              "      <td>3</td>\n",
              "    </tr>\n",
              "    <tr>\n",
              "      <th>2</th>\n",
              "      <td>1</td>\n",
              "      <td>3</td>\n",
              "      <td>4</td>\n",
              "    </tr>\n",
              "    <tr>\n",
              "      <th>3</th>\n",
              "      <td>1</td>\n",
              "      <td>4</td>\n",
              "      <td>3</td>\n",
              "    </tr>\n",
              "    <tr>\n",
              "      <th>4</th>\n",
              "      <td>1</td>\n",
              "      <td>5</td>\n",
              "      <td>3</td>\n",
              "    </tr>\n",
              "  </tbody>\n",
              "</table>\n",
              "</div>"
            ],
            "text/plain": [
              "   user_id  movie_id  rating\n",
              "0        1         1       5\n",
              "1        1         2       3\n",
              "2        1         3       4\n",
              "3        1         4       3\n",
              "4        1         5       3"
            ]
          },
          "metadata": {
            "tags": []
          },
          "execution_count": 54
        }
      ]
    },
    {
      "cell_type": "code",
      "metadata": {
        "colab_type": "code",
        "id": "hRJCvNA6ISA0",
        "colab": {}
      },
      "source": [
        "# Converting the training and test sets into numpy arrays\n",
        "training_set = np.array(training_set, dtype = 'int')\n",
        "test_set = np.array(test_set, dtype = 'int')"
      ],
      "execution_count": null,
      "outputs": []
    },
    {
      "cell_type": "code",
      "metadata": {
        "colab_type": "code",
        "id": "po61K6NGISA5",
        "colab": {}
      },
      "source": [
        "# Getting the number of users and movies\n",
        "nb_users = int(max(max(training_set[:, 0]), max(test_set[:, 0])))\n",
        "nb_movies = int(max(max(training_set[:, 1]), max(test_set[:, 1])))"
      ],
      "execution_count": null,
      "outputs": []
    },
    {
      "cell_type": "code",
      "metadata": {
        "colab_type": "code",
        "id": "CHtYak4RISA7",
        "colab": {
          "base_uri": "https://localhost:8080/",
          "height": 51
        },
        "outputId": "5de1a750-ce41-45eb-a921-b584dcbf94fa"
      },
      "source": [
        "print(\"Number of users: {}\".format(nb_users))\n",
        "print(\"Number of movies: {}\".format(nb_movies))"
      ],
      "execution_count": null,
      "outputs": [
        {
          "output_type": "stream",
          "text": [
            "Number of users: 943\n",
            "Number of movies: 1682\n"
          ],
          "name": "stdout"
        }
      ]
    },
    {
      "cell_type": "code",
      "metadata": {
        "colab_type": "code",
        "id": "DsVRiII9ISA-",
        "colab": {}
      },
      "source": [
        "def convert(data):\n",
        "    # Initializing an empty list that will take the list of ratings given by a specific user\n",
        "    new_data = []\n",
        "    # Looping over all the users\n",
        "    for id_users in range(1, nb_users + 1):\n",
        "        # We get the id of the movies rated by the current user\n",
        "        id_movies = data[:, 1][data[:, 0] == id_users]\n",
        "        # We get the id of the ratings given by the current_user\n",
        "        id_ratings = data[:, 2][data[:, 0] == id_users]\n",
        "        # \n",
        "        ratings = np.zeros(nb_movies)\n",
        "        # For movies rated by the current user, we replace 0 with the rating\n",
        "        # The first element of ratings is at index 0. However, id_movies start at index 1.\n",
        "        # Therefore, ratings[id_movies - 1] will correspond to the location of the movie we're considering\n",
        "        ratings[id_movies - 1] = id_ratings\n",
        "        new_data.append(list(ratings))\n",
        "    return new_data"
      ],
      "execution_count": null,
      "outputs": []
    },
    {
      "cell_type": "code",
      "metadata": {
        "colab_type": "code",
        "id": "hcScyRKhISBA",
        "colab": {}
      },
      "source": [
        "# Applying the convert function to the training and test set.\n",
        "training_set = convert(training_set)\n",
        "test_set = convert(test_set)"
      ],
      "execution_count": null,
      "outputs": []
    },
    {
      "cell_type": "code",
      "metadata": {
        "colab_type": "code",
        "id": "Zt_eShPEISBD",
        "colab": {}
      },
      "source": [
        "# Convert the data into Torch tensors\n",
        "training_set = torch.FloatTensor(training_set)\n",
        "test_set = torch.FloatTensor(test_set)"
      ],
      "execution_count": null,
      "outputs": []
    },
    {
      "cell_type": "code",
      "metadata": {
        "colab_type": "code",
        "id": "juoj9DpbISBG",
        "colab": {}
      },
      "source": [
        "# Create the SAE (stack autoencoder) class, which is inherited from nn.Module(Pytorch library)\n",
        "class SAE(nn.Module):\n",
        "    # Initializing the class\n",
        "    def __init__(self, ):\n",
        "        # making the class get all the functions from the parent class nn.Module\n",
        "        super(SAE, self).__init__()\n",
        "        # Creating the first encoding layer. The number of input corresponds to the number of movies\n",
        "        #  Decide to encode it into 20 outputs\n",
        "        self.fc1 = nn.Linear(nb_movies, 20)\n",
        "        # Creating the second encoding layer. From 20 inputs to 10 outputs\n",
        "        self.fc2 = nn.Linear(20, 10)\n",
        "        # Creating the first decoding layer. From 10 inputs to 20 outputs\n",
        "        self.fc3 = nn.Linear(10, 20)\n",
        "        # Creating the second hidden layer. From 20 inputs to nb_movies outputs\n",
        "        self.fc4 = nn.Linear(20, nb_movies)\n",
        "\n",
        "        #####  Activation Function: Tanh   #######\n",
        "\n",
        "        # Creating the activation fucntion which will fire up specific neurons \n",
        "        self.activation = nn.Tanh()\n",
        "        \n",
        "        # Creating the function for forward propagation\n",
        "    def forward(self, x):\n",
        "        x = self.activation(self.fc1(x))\n",
        "        x = self.activation(self.fc2(x))\n",
        "        x = self.activation(self.fc3(x))\n",
        "        # With autoencoder, we don't need an activation function for the last decoding part\n",
        "        x = self.fc4(x)\n",
        "        return x\n",
        "\n",
        "    def predict(self, x): # x: visible nodes\n",
        "        x = self.forward(x)\n",
        "        return x\n",
        "\n",
        "  \n",
        "\n",
        "\n",
        "  "
      ],
      "execution_count": null,
      "outputs": []
    },
    {
      "cell_type": "code",
      "metadata": {
        "colab_type": "code",
        "id": "S27B8cYRISBJ",
        "colab": {}
      },
      "source": [
        " #Creating an instance of our SAE class\n",
        "sae = SAE()\n",
        "\n",
        "\n",
        " #Defining a criterion which specifies the metric to minimize.\n",
        " #In this case, we want to minimize the MSE (Mean Squared Error)\n",
        "\n",
        "criterion = nn.MSELoss()\n",
        "\n",
        "# Defining the algorithm used to minimize the loss function. \n",
        "#In this case, we'll use RMSprop\n",
        "\n",
        "optimizer = optim.RMSprop(sae.parameters(), lr = 0.01, weight_decay = 0.5)\n"
      ],
      "execution_count": null,
      "outputs": []
    },
    {
      "cell_type": "code",
      "metadata": {
        "colab_type": "code",
        "id": "DnhSClgsISBL",
        "colab": {
          "base_uri": "https://localhost:8080/",
          "height": 1000
        },
        "outputId": "d7ac7952-0433-4533-87b5-9ba31d2d9197"
      },
      "source": [
        "\n",
        "\n",
        "#time\n",
        "time_start = time.time()\n",
        "# Setting the number of epochs\n",
        "nb_epoch = 200\n",
        "\n",
        "# storing the  traning loss calculations\n",
        "thlosses = [] \n",
        "\n",
        "# Iterating over each epoch\n",
        "for epoch in range(1, nb_epoch + 1):\n",
        "    # Initializing the train_loss which will be updated\n",
        "    train_loss = 0\n",
        "    # Initializing a counter\n",
        "    s = 0.\n",
        "    # Iterating over each user\n",
        "    for id_user in range(nb_users):\n",
        "        # The input corresponds to the ratings given by the current user for each movie\n",
        "        input = Variable(training_set[id_user]).unsqueeze(0)\n",
        "        target = input.clone()\n",
        "        # We don't consider movies NOT rated by the current user. So we specify a conditional statement\n",
        "        if torch.sum(target.data > 0) > 0:\n",
        "            # We use our SAE to get the output from the \n",
        "            output = sae(input)\n",
        "            target.require_grad = False\n",
        "            output[target == 0] = 0\n",
        "            # Defining our loss function, comparing the output with the target\n",
        "            loss = criterion(output, target)\n",
        "            mean_corrector = nb_movies/float(torch.sum(target.data > 0) + 1e-10)\n",
        "            # Computing the gradients necessary to adjust the weights\n",
        "            loss.backward()\n",
        "            # Updating the train_loss\n",
        "            train_loss += np.sqrt(loss.data*mean_corrector)\n",
        "            s += 1.\n",
        "            # Updating the weights of the neural network\n",
        "            optimizer.step()\n",
        "\n",
        "    epoch_loss = train_loss / len(training_set[id_user])\n",
        "    thlosses.append(epoch_loss)  \n",
        "    print('epoch: '+str(epoch)+' loss: '+str(train_loss/s))\n",
        "time_end = time.time()\n",
        "print('Stacked-Autoencoder(SAE) Training Time : ' +str(round((time_end-time_start)/60,0))+' Minutes. ')"
      ],
      "execution_count": null,
      "outputs": [
        {
          "output_type": "stream",
          "text": [
            "epoch: 1 loss: tensor(2.0426)\n",
            "epoch: 2 loss: tensor(1.1032)\n",
            "epoch: 3 loss: tensor(1.0549)\n",
            "epoch: 4 loss: tensor(1.0390)\n",
            "epoch: 5 loss: tensor(1.0335)\n",
            "epoch: 6 loss: tensor(1.0270)\n",
            "epoch: 7 loss: tensor(1.0242)\n",
            "epoch: 8 loss: tensor(1.0220)\n",
            "epoch: 9 loss: tensor(1.0210)\n",
            "epoch: 10 loss: tensor(1.0198)\n",
            "epoch: 11 loss: tensor(1.0190)\n",
            "epoch: 12 loss: tensor(1.0185)\n",
            "epoch: 13 loss: tensor(1.0179)\n",
            "epoch: 14 loss: tensor(1.0176)\n",
            "epoch: 15 loss: tensor(1.0174)\n",
            "epoch: 16 loss: tensor(1.0170)\n",
            "epoch: 17 loss: tensor(1.0169)\n",
            "epoch: 18 loss: tensor(1.0166)\n",
            "epoch: 19 loss: tensor(1.0166)\n",
            "epoch: 20 loss: tensor(1.0165)\n",
            "epoch: 21 loss: tensor(1.0162)\n",
            "epoch: 22 loss: tensor(1.0161)\n",
            "epoch: 23 loss: tensor(1.0162)\n",
            "epoch: 24 loss: tensor(1.0160)\n",
            "epoch: 25 loss: tensor(1.0159)\n",
            "epoch: 26 loss: tensor(1.0158)\n",
            "epoch: 27 loss: tensor(1.0160)\n",
            "epoch: 28 loss: tensor(1.0157)\n",
            "epoch: 29 loss: tensor(1.0159)\n",
            "epoch: 30 loss: tensor(1.0154)\n",
            "epoch: 31 loss: tensor(1.0155)\n",
            "epoch: 32 loss: tensor(1.0156)\n",
            "epoch: 33 loss: tensor(1.0151)\n",
            "epoch: 34 loss: tensor(1.0148)\n",
            "epoch: 35 loss: tensor(1.0145)\n",
            "epoch: 36 loss: tensor(1.0142)\n",
            "epoch: 37 loss: tensor(1.0135)\n",
            "epoch: 38 loss: tensor(1.0130)\n",
            "epoch: 39 loss: tensor(1.0102)\n",
            "epoch: 40 loss: tensor(1.0111)\n",
            "epoch: 41 loss: tensor(1.0106)\n",
            "epoch: 42 loss: tensor(1.0114)\n",
            "epoch: 43 loss: tensor(1.0084)\n",
            "epoch: 44 loss: tensor(1.0070)\n",
            "epoch: 45 loss: tensor(1.0057)\n",
            "epoch: 46 loss: tensor(1.0052)\n",
            "epoch: 47 loss: tensor(1.0023)\n",
            "epoch: 48 loss: tensor(1.0025)\n",
            "epoch: 49 loss: tensor(0.9984)\n",
            "epoch: 50 loss: tensor(1.0091)\n",
            "epoch: 51 loss: tensor(1.0056)\n",
            "epoch: 52 loss: tensor(1.0001)\n",
            "epoch: 53 loss: tensor(0.9983)\n",
            "epoch: 54 loss: tensor(0.9943)\n",
            "epoch: 55 loss: tensor(0.9944)\n",
            "epoch: 56 loss: tensor(0.9910)\n",
            "epoch: 57 loss: tensor(0.9952)\n",
            "epoch: 58 loss: tensor(0.9948)\n",
            "epoch: 59 loss: tensor(0.9915)\n",
            "epoch: 60 loss: tensor(0.9907)\n",
            "epoch: 61 loss: tensor(0.9902)\n",
            "epoch: 62 loss: tensor(0.9905)\n",
            "epoch: 63 loss: tensor(0.9943)\n",
            "epoch: 64 loss: tensor(0.9888)\n",
            "epoch: 65 loss: tensor(0.9890)\n",
            "epoch: 66 loss: tensor(0.9878)\n",
            "epoch: 67 loss: tensor(0.9887)\n",
            "epoch: 68 loss: tensor(0.9935)\n",
            "epoch: 69 loss: tensor(0.9974)\n",
            "epoch: 70 loss: tensor(0.9934)\n",
            "epoch: 71 loss: tensor(0.9915)\n",
            "epoch: 72 loss: tensor(0.9898)\n",
            "epoch: 73 loss: tensor(0.9894)\n",
            "epoch: 74 loss: tensor(0.9905)\n",
            "epoch: 75 loss: tensor(0.9907)\n",
            "epoch: 76 loss: tensor(0.9905)\n",
            "epoch: 77 loss: tensor(0.9898)\n",
            "epoch: 78 loss: tensor(0.9883)\n",
            "epoch: 79 loss: tensor(0.9881)\n",
            "epoch: 80 loss: tensor(0.9867)\n",
            "epoch: 81 loss: tensor(0.9861)\n",
            "epoch: 82 loss: tensor(0.9874)\n",
            "epoch: 83 loss: tensor(0.9876)\n",
            "epoch: 84 loss: tensor(0.9868)\n",
            "epoch: 85 loss: tensor(0.9855)\n",
            "epoch: 86 loss: tensor(0.9876)\n",
            "epoch: 87 loss: tensor(0.9915)\n",
            "epoch: 88 loss: tensor(0.9925)\n",
            "epoch: 89 loss: tensor(0.9942)\n",
            "epoch: 90 loss: tensor(0.9934)\n",
            "epoch: 91 loss: tensor(0.9916)\n",
            "epoch: 92 loss: tensor(0.9889)\n",
            "epoch: 93 loss: tensor(0.9863)\n",
            "epoch: 94 loss: tensor(0.9853)\n",
            "epoch: 95 loss: tensor(0.9848)\n",
            "epoch: 96 loss: tensor(0.9839)\n",
            "epoch: 97 loss: tensor(0.9844)\n",
            "epoch: 98 loss: tensor(0.9829)\n",
            "epoch: 99 loss: tensor(0.9827)\n",
            "epoch: 100 loss: tensor(0.9826)\n",
            "epoch: 101 loss: tensor(0.9810)\n",
            "epoch: 102 loss: tensor(0.9810)\n",
            "epoch: 103 loss: tensor(0.9803)\n",
            "epoch: 104 loss: tensor(0.9824)\n",
            "epoch: 105 loss: tensor(0.9831)\n",
            "epoch: 106 loss: tensor(0.9803)\n",
            "epoch: 107 loss: tensor(0.9798)\n",
            "epoch: 108 loss: tensor(0.9796)\n",
            "epoch: 109 loss: tensor(0.9804)\n",
            "epoch: 110 loss: tensor(0.9809)\n",
            "epoch: 111 loss: tensor(0.9818)\n",
            "epoch: 112 loss: tensor(0.9860)\n",
            "epoch: 113 loss: tensor(0.9828)\n",
            "epoch: 114 loss: tensor(0.9829)\n",
            "epoch: 115 loss: tensor(0.9819)\n",
            "epoch: 116 loss: tensor(0.9816)\n",
            "epoch: 117 loss: tensor(0.9807)\n",
            "epoch: 118 loss: tensor(0.9809)\n",
            "epoch: 119 loss: tensor(0.9800)\n",
            "epoch: 120 loss: tensor(0.9805)\n",
            "epoch: 121 loss: tensor(0.9806)\n",
            "epoch: 122 loss: tensor(0.9811)\n",
            "epoch: 123 loss: tensor(0.9803)\n",
            "epoch: 124 loss: tensor(0.9804)\n",
            "epoch: 125 loss: tensor(0.9799)\n",
            "epoch: 126 loss: tensor(0.9799)\n",
            "epoch: 127 loss: tensor(0.9796)\n",
            "epoch: 128 loss: tensor(0.9796)\n",
            "epoch: 129 loss: tensor(0.9793)\n",
            "epoch: 130 loss: tensor(0.9794)\n",
            "epoch: 131 loss: tensor(0.9786)\n",
            "epoch: 132 loss: tensor(0.9779)\n",
            "epoch: 133 loss: tensor(0.9765)\n",
            "epoch: 134 loss: tensor(0.9761)\n",
            "epoch: 135 loss: tensor(0.9749)\n",
            "epoch: 136 loss: tensor(0.9743)\n",
            "epoch: 137 loss: tensor(0.9738)\n",
            "epoch: 138 loss: tensor(0.9739)\n",
            "epoch: 139 loss: tensor(0.9726)\n",
            "epoch: 140 loss: tensor(0.9717)\n",
            "epoch: 141 loss: tensor(0.9716)\n",
            "epoch: 142 loss: tensor(0.9736)\n",
            "epoch: 143 loss: tensor(0.9733)\n",
            "epoch: 144 loss: tensor(0.9753)\n",
            "epoch: 145 loss: tensor(0.9738)\n",
            "epoch: 146 loss: tensor(0.9741)\n",
            "epoch: 147 loss: tensor(0.9736)\n",
            "epoch: 148 loss: tensor(0.9716)\n",
            "epoch: 149 loss: tensor(0.9711)\n",
            "epoch: 150 loss: tensor(0.9708)\n",
            "epoch: 151 loss: tensor(0.9701)\n",
            "epoch: 152 loss: tensor(0.9696)\n",
            "epoch: 153 loss: tensor(0.9696)\n",
            "epoch: 154 loss: tensor(0.9691)\n",
            "epoch: 155 loss: tensor(0.9689)\n",
            "epoch: 156 loss: tensor(0.9737)\n",
            "epoch: 157 loss: tensor(0.9731)\n",
            "epoch: 158 loss: tensor(0.9736)\n",
            "epoch: 159 loss: tensor(0.9746)\n",
            "epoch: 160 loss: tensor(0.9724)\n",
            "epoch: 161 loss: tensor(0.9716)\n",
            "epoch: 162 loss: tensor(0.9713)\n",
            "epoch: 163 loss: tensor(0.9707)\n",
            "epoch: 164 loss: tensor(0.9717)\n",
            "epoch: 165 loss: tensor(0.9731)\n",
            "epoch: 166 loss: tensor(0.9724)\n",
            "epoch: 167 loss: tensor(0.9752)\n",
            "epoch: 168 loss: tensor(0.9828)\n",
            "epoch: 169 loss: tensor(0.9808)\n",
            "epoch: 170 loss: tensor(0.9801)\n",
            "epoch: 171 loss: tensor(0.9788)\n",
            "epoch: 172 loss: tensor(0.9778)\n",
            "epoch: 173 loss: tensor(0.9770)\n",
            "epoch: 174 loss: tensor(0.9764)\n",
            "epoch: 175 loss: tensor(0.9761)\n",
            "epoch: 176 loss: tensor(0.9756)\n",
            "epoch: 177 loss: tensor(0.9757)\n",
            "epoch: 178 loss: tensor(0.9749)\n",
            "epoch: 179 loss: tensor(0.9750)\n",
            "epoch: 180 loss: tensor(0.9760)\n",
            "epoch: 181 loss: tensor(0.9757)\n",
            "epoch: 182 loss: tensor(0.9749)\n",
            "epoch: 183 loss: tensor(0.9745)\n",
            "epoch: 184 loss: tensor(0.9738)\n",
            "epoch: 185 loss: tensor(0.9738)\n",
            "epoch: 186 loss: tensor(0.9747)\n",
            "epoch: 187 loss: tensor(0.9748)\n",
            "epoch: 188 loss: tensor(0.9737)\n",
            "epoch: 189 loss: tensor(0.9739)\n",
            "epoch: 190 loss: tensor(0.9738)\n",
            "epoch: 191 loss: tensor(0.9725)\n",
            "epoch: 192 loss: tensor(0.9718)\n",
            "epoch: 193 loss: tensor(0.9725)\n",
            "epoch: 194 loss: tensor(0.9717)\n",
            "epoch: 195 loss: tensor(0.9716)\n",
            "epoch: 196 loss: tensor(0.9711)\n",
            "epoch: 197 loss: tensor(0.9712)\n",
            "epoch: 198 loss: tensor(0.9698)\n",
            "epoch: 199 loss: tensor(0.9682)\n",
            "epoch: 200 loss: tensor(0.9692)\n",
            "Stacked-Autoencoder(SAE) Training Time : 5.0 Minutes. \n"
          ],
          "name": "stdout"
        }
      ]
    },
    {
      "cell_type": "code",
      "metadata": {
        "colab_type": "code",
        "id": "2MDxvmZCISBO",
        "colab": {
          "base_uri": "https://localhost:8080/",
          "height": 295
        },
        "outputId": "44702d99-bd24-4f53-8336-36b42c8ed6fa"
      },
      "source": [
        "epochs = range(1,201)\n",
        "plt.plot(epochs, thlosses, 'r', label=' Tanh ') # 'g' = color green\n",
        "plt.title('Activation Loss - epoch =200')\n",
        "plt.xlabel('Epochs')\n",
        "plt.ylabel('Training  Loss')\n",
        "\n",
        "plt.legend()\n",
        "plt.show()"
      ],
      "execution_count": null,
      "outputs": [
        {
          "output_type": "display_data",
          "data": {
            "image/png": "[encoded data removed]",
            "text/plain": [
              "<Figure size 432x288 with 1 Axes>"
            ]
          },
          "metadata": {
            "tags": [],
            "needs_background": "light"
          }
        }
      ]
    },
    {
      "cell_type": "code",
      "metadata": {
        "colab_type": "code",
        "id": "dUIZRzjjISBQ",
        "colab": {
          "base_uri": "https://localhost:8080/",
          "height": 34
        },
        "outputId": "4383a541-9fd7-4257-9887-2c8b91c22f1c"
      },
      "source": [
        "# Initializing the test_loss\n",
        "sae.eval()\n",
        "with torch.no_grad():\n",
        "  test_loss = 0\n",
        "  s = 0.\n",
        "  for id_user in range(nb_users):\n",
        "      input = Variable(training_set[id_user]).unsqueeze(0)\n",
        "      target = Variable(test_set[id_user]).unsqueeze(0)\n",
        "      if torch.sum(target.data > 0) > 0:\n",
        "          output = sae(input)\n",
        "          target.require_grad = False\n",
        "          output[(target == 0)] = 0\n",
        "          loss = criterion(output, target)\n",
        "  \n",
        "          mean_corrector = nb_movies/float(torch.sum(target.data > 0) + 1e-10)\n",
        "          test_loss += np.sqrt(loss.data*mean_corrector)\n",
        "          s += 1.\n",
        "          pred = sae(target)\n",
        "  print('test_loss: '+str(test_loss/s))\n",
        "\n",
        "\n",
        "\n"
      ],
      "execution_count": null,
      "outputs": [
        {
          "output_type": "stream",
          "text": [
            "test_loss: tensor(1.0002)\n"
          ],
          "name": "stdout"
        }
      ]
    },
    {
      "cell_type": "code",
      "metadata": {
        "colab_type": "code",
        "id": "P4gav50MISBS",
        "colab": {}
      },
      "source": [
        "from math import sqrt\n"
      ],
      "execution_count": null,
      "outputs": []
    },
    {
      "cell_type": "code",
      "metadata": {
        "colab_type": "code",
        "id": "IrcTTb2tISBV",
        "colab": {
          "base_uri": "https://localhost:8080/",
          "height": 34
        },
        "outputId": "156a7874-89bd-41db-cf8d-a1a165c8d018"
      },
      "source": [
        "RMSE = sqrt(1.0002)\n",
        "\n",
        "RMSE"
      ],
      "execution_count": null,
      "outputs": [
        {
          "output_type": "execute_result",
          "data": {
            "text/plain": [
              "1.0000999950004998"
            ]
          },
          "metadata": {
            "tags": []
          },
          "execution_count": 67
        }
      ]
    },
    {
      "cell_type": "code",
      "metadata": {
        "id": "ImYm_3IKLV2a",
        "colab_type": "code",
        "colab": {
          "base_uri": "https://localhost:8080/",
          "height": 295
        },
        "outputId": "16451c90-2aba-4b4b-e472-47cb460bcccc"
      },
      "source": [
        "epochs = range(1,201)\n",
        "plt.plot(epochs, thlosses, 'r', label=' Tanh ') # 'g' = color red\n",
        "plt.plot(epochs, losses, 'g', label=' Sigmoid ') # 'g' = color green\n",
        "plt.title('Activation Loss - epoch =200')\n",
        "plt.xlabel('Epochs')\n",
        "plt.ylabel('Training  Loss')\n",
        "\n",
        "plt.legend()\n",
        "plt.show()"
      ],
      "execution_count": null,
      "outputs": [
        {
          "output_type": "display_data",
          "data": {
            "image/png": "[encoded data removed]",
            "text/plain": [
              "<Figure size 432x288 with 1 Axes>"
            ]
          },
          "metadata": {
            "tags": [],
            "needs_background": "light"
          }
        }
      ]
    },
    {
      "cell_type": "code",
      "metadata": {
        "id": "srC95QKiqhNF",
        "colab_type": "code",
        "colab": {}
      },
      "source": [
        ""
      ],
      "execution_count": null,
      "outputs": []
    },
    {
      "cell_type": "markdown",
      "metadata": {
        "colab_type": "text",
        "id": "zAOYWUgZNTdq"
      },
      "source": [
        "# Activation Function: Sigmoid and tanh\n",
        "\n",
        "* TRAINING LOSS: 0.8753\n",
        "* TEST LOSS: 0.9698\n",
        "* RMSE: 0.9847"
      ]
    },
    {
      "cell_type": "code",
      "metadata": {
        "colab_type": "code",
        "id": "DEk9H2WrNTdr",
        "colab": {}
      },
      "source": [
        "training = ['user_id', 'movie_id', 'rating', 'timestamp' ] #Create each column\n",
        "test = ['user_id', 'movie_id', 'rating', 'timestamp' ]     #Create each column"
      ],
      "execution_count": null,
      "outputs": []
    },
    {
      "cell_type": "code",
      "metadata": {
        "colab_type": "code",
        "id": "IJuLyUeVNTdv",
        "colab": {}
      },
      "source": [
        "# Preparing the training set and the test set \n",
        "training_set = pd.read_csv('u1.base', names=training, delimiter = '\\t') # Read the file\n",
        "test_set = pd.read_csv('u1.test', names=test, delimiter = '\\t') #Read the file"
      ],
      "execution_count": null,
      "outputs": []
    },
    {
      "cell_type": "code",
      "metadata": {
        "colab_type": "code",
        "id": "DnkZ96A3NTdy",
        "colab": {}
      },
      "source": [
        "#Drop 'timestamp' column\n",
        "training_set= training_set.drop([\"timestamp\"], axis=1)"
      ],
      "execution_count": null,
      "outputs": []
    },
    {
      "cell_type": "code",
      "metadata": {
        "colab_type": "code",
        "id": "v4DjQC7PNTd0",
        "colab": {}
      },
      "source": [
        "#Drop 'timestamp' column\n",
        "test_set= test_set.drop([\"timestamp\"], axis=1)"
      ],
      "execution_count": null,
      "outputs": []
    },
    {
      "cell_type": "code",
      "metadata": {
        "colab_type": "code",
        "id": "sWnlIyioNTd3",
        "colab": {
          "base_uri": "https://localhost:8080/",
          "height": 204
        },
        "outputId": "237de0f9-63e8-4943-b2da-85bb77c2fede"
      },
      "source": [
        "# Visualizing the first elements of the training_set\n",
        "training_set.head()"
      ],
      "execution_count": null,
      "outputs": [
        {
          "output_type": "execute_result",
          "data": {
            "text/html": [
              "<div>\n",
              "<style scoped>\n",
              "    .dataframe tbody tr th:only-of-type {\n",
              "        vertical-align: middle;\n",
              "    }\n",
              "\n",
              "    .dataframe tbody tr th {\n",
              "        vertical-align: top;\n",
              "    }\n",
              "\n",
              "    .dataframe thead th {\n",
              "        text-align: right;\n",
              "    }\n",
              "</style>\n",
              "<table border=\"1\" class=\"dataframe\">\n",
              "  <thead>\n",
              "    <tr style=\"text-align: right;\">\n",
              "      <th></th>\n",
              "      <th>user_id</th>\n",
              "      <th>movie_id</th>\n",
              "      <th>rating</th>\n",
              "    </tr>\n",
              "  </thead>\n",
              "  <tbody>\n",
              "    <tr>\n",
              "      <th>0</th>\n",
              "      <td>1</td>\n",
              "      <td>1</td>\n",
              "      <td>5</td>\n",
              "    </tr>\n",
              "    <tr>\n",
              "      <th>1</th>\n",
              "      <td>1</td>\n",
              "      <td>2</td>\n",
              "      <td>3</td>\n",
              "    </tr>\n",
              "    <tr>\n",
              "      <th>2</th>\n",
              "      <td>1</td>\n",
              "      <td>3</td>\n",
              "      <td>4</td>\n",
              "    </tr>\n",
              "    <tr>\n",
              "      <th>3</th>\n",
              "      <td>1</td>\n",
              "      <td>4</td>\n",
              "      <td>3</td>\n",
              "    </tr>\n",
              "    <tr>\n",
              "      <th>4</th>\n",
              "      <td>1</td>\n",
              "      <td>5</td>\n",
              "      <td>3</td>\n",
              "    </tr>\n",
              "  </tbody>\n",
              "</table>\n",
              "</div>"
            ],
            "text/plain": [
              "   user_id  movie_id  rating\n",
              "0        1         1       5\n",
              "1        1         2       3\n",
              "2        1         3       4\n",
              "3        1         4       3\n",
              "4        1         5       3"
            ]
          },
          "metadata": {
            "tags": []
          },
          "execution_count": 78
        }
      ]
    },
    {
      "cell_type": "code",
      "metadata": {
        "colab_type": "code",
        "id": "EGHtN3Z7NTd7",
        "colab": {}
      },
      "source": [
        "# Converting the training and test sets into numpy arrays\n",
        "training_set = np.array(training_set, dtype = 'int')\n",
        "test_set = np.array(test_set, dtype = 'int')"
      ],
      "execution_count": null,
      "outputs": []
    },
    {
      "cell_type": "code",
      "metadata": {
        "colab_type": "code",
        "id": "J6isrouVNTd_",
        "colab": {}
      },
      "source": [
        "# Getting the number of users and movies\n",
        "nb_users = int(max(max(training_set[:, 0]), max(test_set[:, 0])))\n",
        "nb_movies = int(max(max(training_set[:, 1]), max(test_set[:, 1])))"
      ],
      "execution_count": null,
      "outputs": []
    },
    {
      "cell_type": "code",
      "metadata": {
        "colab_type": "code",
        "id": "WyD_7X3sNTeB",
        "colab": {
          "base_uri": "https://localhost:8080/",
          "height": 51
        },
        "outputId": "7b1acca8-313a-457c-fa89-fe93d5694fe5"
      },
      "source": [
        "print(\"Number of users: {}\".format(nb_users))\n",
        "print(\"Number of movies: {}\".format(nb_movies))"
      ],
      "execution_count": null,
      "outputs": [
        {
          "output_type": "stream",
          "text": [
            "Number of users: 943\n",
            "Number of movies: 1682\n"
          ],
          "name": "stdout"
        }
      ]
    },
    {
      "cell_type": "code",
      "metadata": {
        "colab_type": "code",
        "id": "IoIBlqTdNTeD",
        "colab": {}
      },
      "source": [
        "def convert(data):\n",
        "    # Initializing an empty list that will take the list of ratings given by a specific user\n",
        "    new_data = []\n",
        "    # Looping over all the users\n",
        "    for id_users in range(1, nb_users + 1):\n",
        "        # We get the id of the movies rated by the current user\n",
        "        id_movies = data[:, 1][data[:, 0] == id_users]\n",
        "        # We get the id of the ratings given by the current_user\n",
        "        id_ratings = data[:, 2][data[:, 0] == id_users]\n",
        "        # \n",
        "        ratings = np.zeros(nb_movies)\n",
        "        # For movies rated by the current user, we replace 0 with the rating\n",
        "        # The first element of ratings is at index 0. However, id_movies start at index 1.\n",
        "        # Therefore, ratings[id_movies - 1] will correspond to the location of the movie we're considering\n",
        "        ratings[id_movies - 1] = id_ratings\n",
        "        new_data.append(list(ratings))\n",
        "    return new_data"
      ],
      "execution_count": null,
      "outputs": []
    },
    {
      "cell_type": "code",
      "metadata": {
        "colab_type": "code",
        "id": "cq-L6EBpNTeF",
        "colab": {}
      },
      "source": [
        "# Applying the convert function to the training and test set.\n",
        "training_set = convert(training_set)\n",
        "test_set = convert(test_set)"
      ],
      "execution_count": null,
      "outputs": []
    },
    {
      "cell_type": "code",
      "metadata": {
        "colab_type": "code",
        "id": "Ouq4tZ1lNTeI",
        "colab": {}
      },
      "source": [
        "# Convert the data into Torch tensors\n",
        "training_set = torch.FloatTensor(training_set)\n",
        "test_set = torch.FloatTensor(test_set)"
      ],
      "execution_count": null,
      "outputs": []
    },
    {
      "cell_type": "code",
      "metadata": {
        "colab_type": "code",
        "id": "xbIkpZhGNTeK",
        "colab": {}
      },
      "source": [
        "# Create the SAE (stack autoencoder) class, which is inherited from nn.Module(Pytorch library)\n",
        "class SAE(nn.Module):\n",
        "    # Initializing the class\n",
        "    def __init__(self, ):\n",
        "        # making the class get all the functions from the parent class nn.Module\n",
        "        super(SAE, self).__init__()\n",
        "        # Creating the first encoding layer. The number of input corresponds to the number of movies\n",
        "        #  Decide to encode it into 20 outputs\n",
        "        self.fc1 = nn.Linear(nb_movies, 20)\n",
        "        # Creating the second encoding layer. From 20 inputs to 10 outputs\n",
        "        self.fc2 = nn.Linear(20, 10)\n",
        "        # Creating the first decoding layer. From 10 inputs to 20 outputs\n",
        "        self.fc3 = nn.Linear(10, 20)\n",
        "        # Creating the second hidden layer. From 20 inputs to nb_movies outputs\n",
        "        self.fc4 = nn.Linear(20, nb_movies)\n",
        "\n",
        "        #####  Activation Function: Sigmoid Plus Tanh   #######\n",
        "\n",
        "        # Creating the activation fucntion which will fire up specific neurons \n",
        "        self.activation_t = nn.Tanh()\n",
        "        self.activation = nn.Sigmoid()\n",
        "        \n",
        "        # Creating the function for forward propagation\n",
        "    def forward(self, x):\n",
        "        x = self.activation(self.fc1(x))\n",
        "        x = self.activation_t(self.fc2(x))\n",
        "        x = self.activation(self.fc3(x))\n",
        "        # With autoencoder, we don't need an activation function for the last decoding part\n",
        "        x = self.fc4(x)\n",
        "        return x\n",
        "\n",
        "    def predict(self, x): # x: visible nodes\n",
        "        x = self.forward(x)\n",
        "        return x\n",
        "\n",
        "  \n",
        "\n",
        "\n",
        "  "
      ],
      "execution_count": null,
      "outputs": []
    },
    {
      "cell_type": "code",
      "metadata": {
        "colab_type": "code",
        "id": "llB2Y9RJNTeN",
        "colab": {}
      },
      "source": [
        " #Creating an instance of our SAE class\n",
        "sae = SAE()\n",
        "\n",
        "\n",
        " #Defining a criterion which specifies the metric to minimize.\n",
        " #In this case, we want to minimize the MSE (Mean Squared Error)\n",
        "\n",
        "criterion = nn.MSELoss()\n",
        "\n",
        "# Defining the algorithm used to minimize the loss function. \n",
        "#In this case, we'll use RMSprop\n",
        "\n",
        "optimizer = optim.RMSprop(sae.parameters(), lr = 0.01, weight_decay = 0.5)\n"
      ],
      "execution_count": null,
      "outputs": []
    },
    {
      "cell_type": "code",
      "metadata": {
        "colab_type": "code",
        "id": "pgaq1LENNTeQ",
        "colab": {
          "base_uri": "https://localhost:8080/",
          "height": 1000
        },
        "outputId": "8b386916-8b09-4fa1-f0e6-7dcf7646fb59"
      },
      "source": [
        "\n",
        "\n",
        "#time\n",
        "time_start = time.time()\n",
        "# Setting the number of epochs\n",
        "nb_epoch = 200\n",
        "\n",
        "# storing the  traning loss calculations\n",
        "thslosses = [] \n",
        "\n",
        "# Iterating over each epoch\n",
        "for epoch in range(1, nb_epoch + 1):\n",
        "    # Initializing the train_loss which will be updated\n",
        "    train_loss = 0\n",
        "    # Initializing a counter\n",
        "    s = 0.\n",
        "    # Iterating over each user\n",
        "    for id_user in range(nb_users):\n",
        "        # The input corresponds to the ratings given by the current user for each movie\n",
        "        input = Variable(training_set[id_user]).unsqueeze(0)\n",
        "        target = input.clone()\n",
        "        # We don't consider movies NOT rated by the current user. So we specify a conditional statement\n",
        "        if torch.sum(target.data > 0) > 0:\n",
        "            # We use our SAE to get the output from the \n",
        "            output = sae(input)\n",
        "            target.require_grad = False\n",
        "            output[target == 0] = 0\n",
        "            # Defining our loss function, comparing the output with the target\n",
        "            loss = criterion(output, target)\n",
        "            mean_corrector = nb_movies/float(torch.sum(target.data > 0) + 1e-10)\n",
        "            # Computing the gradients necessary to adjust the weights\n",
        "            loss.backward()\n",
        "            # Updating the train_loss\n",
        "            train_loss += np.sqrt(loss.data*mean_corrector)\n",
        "            s += 1.\n",
        "            # Updating the weights of the neural network\n",
        "            optimizer.step()\n",
        "\n",
        "    epoch_loss = train_loss / len(training_set[id_user])\n",
        "    thslosses.append(epoch_loss)  \n",
        "    print('epoch: '+str(epoch)+' loss: '+str(train_loss/s))\n",
        "time_end = time.time()\n",
        "print('Stacked-Autoencoder(SAE) Training Time : ' +str(round((time_end-time_start)/60,0))+' Minutes. ')"
      ],
      "execution_count": null,
      "outputs": [
        {
          "output_type": "stream",
          "text": [
            "epoch: 1 loss: tensor(1.8217)\n",
            "epoch: 2 loss: tensor(1.0983)\n",
            "epoch: 3 loss: tensor(1.0538)\n",
            "epoch: 4 loss: tensor(1.0387)\n",
            "epoch: 5 loss: tensor(1.0309)\n",
            "epoch: 6 loss: tensor(1.0266)\n",
            "epoch: 7 loss: tensor(1.0239)\n",
            "epoch: 8 loss: tensor(1.0220)\n",
            "epoch: 9 loss: tensor(1.0207)\n",
            "epoch: 10 loss: tensor(1.0195)\n",
            "epoch: 11 loss: tensor(1.0190)\n",
            "epoch: 12 loss: tensor(1.0184)\n",
            "epoch: 13 loss: tensor(1.0177)\n",
            "epoch: 14 loss: tensor(1.0175)\n",
            "epoch: 15 loss: tensor(1.0170)\n",
            "epoch: 16 loss: tensor(1.0168)\n",
            "epoch: 17 loss: tensor(1.0165)\n",
            "epoch: 18 loss: tensor(1.0168)\n",
            "epoch: 19 loss: tensor(1.0164)\n",
            "epoch: 20 loss: tensor(1.0162)\n",
            "epoch: 21 loss: tensor(1.0161)\n",
            "epoch: 22 loss: tensor(1.0159)\n",
            "epoch: 23 loss: tensor(1.0157)\n",
            "epoch: 24 loss: tensor(1.0158)\n",
            "epoch: 25 loss: tensor(1.0155)\n",
            "epoch: 26 loss: tensor(1.0154)\n",
            "epoch: 27 loss: tensor(1.0153)\n",
            "epoch: 28 loss: tensor(1.0149)\n",
            "epoch: 29 loss: tensor(1.0146)\n",
            "epoch: 30 loss: tensor(1.0132)\n",
            "epoch: 31 loss: tensor(1.0119)\n",
            "epoch: 32 loss: tensor(1.0098)\n",
            "epoch: 33 loss: tensor(1.0103)\n",
            "epoch: 34 loss: tensor(1.0069)\n",
            "epoch: 35 loss: tensor(1.0053)\n",
            "epoch: 36 loss: tensor(1.0041)\n",
            "epoch: 37 loss: tensor(1.0035)\n",
            "epoch: 38 loss: tensor(1.0014)\n",
            "epoch: 39 loss: tensor(0.9960)\n",
            "epoch: 40 loss: tensor(0.9948)\n",
            "epoch: 41 loss: tensor(0.9928)\n",
            "epoch: 42 loss: tensor(0.9902)\n",
            "epoch: 43 loss: tensor(0.9851)\n",
            "epoch: 44 loss: tensor(0.9840)\n",
            "epoch: 45 loss: tensor(0.9773)\n",
            "epoch: 46 loss: tensor(0.9764)\n",
            "epoch: 47 loss: tensor(0.9721)\n",
            "epoch: 48 loss: tensor(0.9697)\n",
            "epoch: 49 loss: tensor(0.9673)\n",
            "epoch: 50 loss: tensor(0.9693)\n",
            "epoch: 51 loss: tensor(0.9626)\n",
            "epoch: 52 loss: tensor(0.9633)\n",
            "epoch: 53 loss: tensor(0.9605)\n",
            "epoch: 54 loss: tensor(0.9604)\n",
            "epoch: 55 loss: tensor(0.9643)\n",
            "epoch: 56 loss: tensor(0.9705)\n",
            "epoch: 57 loss: tensor(0.9607)\n",
            "epoch: 58 loss: tensor(0.9601)\n",
            "epoch: 59 loss: tensor(0.9601)\n",
            "epoch: 60 loss: tensor(0.9598)\n",
            "epoch: 61 loss: tensor(0.9544)\n",
            "epoch: 62 loss: tensor(0.9551)\n",
            "epoch: 63 loss: tensor(0.9530)\n",
            "epoch: 64 loss: tensor(0.9556)\n",
            "epoch: 65 loss: tensor(0.9496)\n",
            "epoch: 66 loss: tensor(0.9505)\n",
            "epoch: 67 loss: tensor(0.9471)\n",
            "epoch: 68 loss: tensor(0.9486)\n",
            "epoch: 69 loss: tensor(0.9469)\n",
            "epoch: 70 loss: tensor(0.9513)\n",
            "epoch: 71 loss: tensor(0.9442)\n",
            "epoch: 72 loss: tensor(0.9438)\n",
            "epoch: 73 loss: tensor(0.9464)\n",
            "epoch: 74 loss: tensor(0.9512)\n",
            "epoch: 75 loss: tensor(0.9442)\n",
            "epoch: 76 loss: tensor(0.9429)\n",
            "epoch: 77 loss: tensor(0.9421)\n",
            "epoch: 78 loss: tensor(0.9415)\n",
            "epoch: 79 loss: tensor(0.9385)\n",
            "epoch: 80 loss: tensor(0.9392)\n",
            "epoch: 81 loss: tensor(0.9362)\n",
            "epoch: 82 loss: tensor(0.9370)\n",
            "epoch: 83 loss: tensor(0.9348)\n",
            "epoch: 84 loss: tensor(0.9348)\n",
            "epoch: 85 loss: tensor(0.9333)\n",
            "epoch: 86 loss: tensor(0.9326)\n",
            "epoch: 87 loss: tensor(0.9318)\n",
            "epoch: 88 loss: tensor(0.9309)\n",
            "epoch: 89 loss: tensor(0.9300)\n",
            "epoch: 90 loss: tensor(0.9301)\n",
            "epoch: 91 loss: tensor(0.9292)\n",
            "epoch: 92 loss: tensor(0.9287)\n",
            "epoch: 93 loss: tensor(0.9278)\n",
            "epoch: 94 loss: tensor(0.9270)\n",
            "epoch: 95 loss: tensor(0.9279)\n",
            "epoch: 96 loss: tensor(0.9269)\n",
            "epoch: 97 loss: tensor(0.9262)\n",
            "epoch: 98 loss: tensor(0.9258)\n",
            "epoch: 99 loss: tensor(0.9250)\n",
            "epoch: 100 loss: tensor(0.9247)\n",
            "epoch: 101 loss: tensor(0.9242)\n",
            "epoch: 102 loss: tensor(0.9243)\n",
            "epoch: 103 loss: tensor(0.9231)\n",
            "epoch: 104 loss: tensor(0.9231)\n",
            "epoch: 105 loss: tensor(0.9220)\n",
            "epoch: 106 loss: tensor(0.9220)\n",
            "epoch: 107 loss: tensor(0.9215)\n",
            "epoch: 108 loss: tensor(0.9211)\n",
            "epoch: 109 loss: tensor(0.9208)\n",
            "epoch: 110 loss: tensor(0.9203)\n",
            "epoch: 111 loss: tensor(0.9201)\n",
            "epoch: 112 loss: tensor(0.9197)\n",
            "epoch: 113 loss: tensor(0.9186)\n",
            "epoch: 114 loss: tensor(0.9183)\n",
            "epoch: 115 loss: tensor(0.9190)\n",
            "epoch: 116 loss: tensor(0.9178)\n",
            "epoch: 117 loss: tensor(0.9170)\n",
            "epoch: 118 loss: tensor(0.9165)\n",
            "epoch: 119 loss: tensor(0.9158)\n",
            "epoch: 120 loss: tensor(0.9168)\n",
            "epoch: 121 loss: tensor(0.9166)\n",
            "epoch: 122 loss: tensor(0.9162)\n",
            "epoch: 123 loss: tensor(0.9154)\n",
            "epoch: 124 loss: tensor(0.9149)\n",
            "epoch: 125 loss: tensor(0.9145)\n",
            "epoch: 126 loss: tensor(0.9139)\n",
            "epoch: 127 loss: tensor(0.9130)\n",
            "epoch: 128 loss: tensor(0.9126)\n",
            "epoch: 129 loss: tensor(0.9128)\n",
            "epoch: 130 loss: tensor(0.9119)\n",
            "epoch: 131 loss: tensor(0.9121)\n",
            "epoch: 132 loss: tensor(0.9112)\n",
            "epoch: 133 loss: tensor(0.9108)\n",
            "epoch: 134 loss: tensor(0.9103)\n",
            "epoch: 135 loss: tensor(0.9101)\n",
            "epoch: 136 loss: tensor(0.9098)\n",
            "epoch: 137 loss: tensor(0.9097)\n",
            "epoch: 138 loss: tensor(0.9089)\n",
            "epoch: 139 loss: tensor(0.9084)\n",
            "epoch: 140 loss: tensor(0.9079)\n",
            "epoch: 141 loss: tensor(0.9076)\n",
            "epoch: 142 loss: tensor(0.9074)\n",
            "epoch: 143 loss: tensor(0.9065)\n",
            "epoch: 144 loss: tensor(0.9065)\n",
            "epoch: 145 loss: tensor(0.9055)\n",
            "epoch: 146 loss: tensor(0.9053)\n",
            "epoch: 147 loss: tensor(0.9041)\n",
            "epoch: 148 loss: tensor(0.9043)\n",
            "epoch: 149 loss: tensor(0.9035)\n",
            "epoch: 150 loss: tensor(0.9037)\n",
            "epoch: 151 loss: tensor(0.9028)\n",
            "epoch: 152 loss: tensor(0.9023)\n",
            "epoch: 153 loss: tensor(0.9014)\n",
            "epoch: 154 loss: tensor(0.9019)\n",
            "epoch: 155 loss: tensor(0.9011)\n",
            "epoch: 156 loss: tensor(0.9012)\n",
            "epoch: 157 loss: tensor(0.9001)\n",
            "epoch: 158 loss: tensor(0.9001)\n",
            "epoch: 159 loss: tensor(0.8991)\n",
            "epoch: 160 loss: tensor(0.8989)\n",
            "epoch: 161 loss: tensor(0.8978)\n",
            "epoch: 162 loss: tensor(0.8976)\n",
            "epoch: 163 loss: tensor(0.8972)\n",
            "epoch: 164 loss: tensor(0.8973)\n",
            "epoch: 165 loss: tensor(0.8956)\n",
            "epoch: 166 loss: tensor(0.8958)\n",
            "epoch: 167 loss: tensor(0.8946)\n",
            "epoch: 168 loss: tensor(0.8952)\n",
            "epoch: 169 loss: tensor(0.8937)\n",
            "epoch: 170 loss: tensor(0.8938)\n",
            "epoch: 171 loss: tensor(0.8929)\n",
            "epoch: 172 loss: tensor(0.8936)\n",
            "epoch: 173 loss: tensor(0.8926)\n",
            "epoch: 174 loss: tensor(0.8918)\n",
            "epoch: 175 loss: tensor(0.8912)\n",
            "epoch: 176 loss: tensor(0.8902)\n",
            "epoch: 177 loss: tensor(0.8893)\n",
            "epoch: 178 loss: tensor(0.8897)\n",
            "epoch: 179 loss: tensor(0.8886)\n",
            "epoch: 180 loss: tensor(0.8884)\n",
            "epoch: 181 loss: tensor(0.8878)\n",
            "epoch: 182 loss: tensor(0.8882)\n",
            "epoch: 183 loss: tensor(0.8863)\n",
            "epoch: 184 loss: tensor(0.8859)\n",
            "epoch: 185 loss: tensor(0.8851)\n",
            "epoch: 186 loss: tensor(0.8846)\n",
            "epoch: 187 loss: tensor(0.8835)\n",
            "epoch: 188 loss: tensor(0.8831)\n",
            "epoch: 189 loss: tensor(0.8826)\n",
            "epoch: 190 loss: tensor(0.8822)\n",
            "epoch: 191 loss: tensor(0.8819)\n",
            "epoch: 192 loss: tensor(0.8810)\n",
            "epoch: 193 loss: tensor(0.8798)\n",
            "epoch: 194 loss: tensor(0.8790)\n",
            "epoch: 195 loss: tensor(0.8782)\n",
            "epoch: 196 loss: tensor(0.8776)\n",
            "epoch: 197 loss: tensor(0.8765)\n",
            "epoch: 198 loss: tensor(0.8764)\n",
            "epoch: 199 loss: tensor(0.8751)\n",
            "epoch: 200 loss: tensor(0.8753)\n",
            "Stacked-Autoencoder(SAE) Training Time : 5.0 Minutes. \n"
          ],
          "name": "stdout"
        }
      ]
    },
    {
      "cell_type": "code",
      "metadata": {
        "colab_type": "code",
        "id": "b13ka0oZNTeS",
        "colab": {
          "base_uri": "https://localhost:8080/",
          "height": 295
        },
        "outputId": "9ebd3ebc-f485-4d77-cf8a-ad718badb2a8"
      },
      "source": [
        "epochs = range(1,201)\n",
        "plt.plot(epochs, thslosses, 'b', label=' Sigmoid + Tanh ') # 'g' = color green\n",
        "plt.title('Activation Loss - epoch =200')\n",
        "plt.xlabel('Epochs')\n",
        "plt.ylabel('Training  Loss')\n",
        "\n",
        "plt.legend()\n",
        "plt.show()"
      ],
      "execution_count": null,
      "outputs": [
        {
          "output_type": "display_data",
          "data": {
            "image/png": "[encoded data removed]",
            "text/plain": [
              "<Figure size 432x288 with 1 Axes>"
            ]
          },
          "metadata": {
            "tags": [],
            "needs_background": "light"
          }
        }
      ]
    },
    {
      "cell_type": "code",
      "metadata": {
        "colab_type": "code",
        "id": "jxTml3wNNTeV",
        "colab": {
          "base_uri": "https://localhost:8080/",
          "height": 34
        },
        "outputId": "749f6baf-ff81-4723-9fca-f8a6c0282bc5"
      },
      "source": [
        "# Initializing the test_loss\n",
        "sae.eval()\n",
        "with torch.no_grad():\n",
        "  test_loss = 0\n",
        "  s = 0.\n",
        "  for id_user in range(nb_users):\n",
        "      input = Variable(training_set[id_user]).unsqueeze(0)\n",
        "      target = Variable(test_set[id_user]).unsqueeze(0)\n",
        "      if torch.sum(target.data > 0) > 0:\n",
        "          output = sae(input)\n",
        "          target.require_grad = False\n",
        "          output[(target == 0)] = 0\n",
        "          loss = criterion(output, target)\n",
        "  \n",
        "          mean_corrector = nb_movies/float(torch.sum(target.data > 0) + 1e-10)\n",
        "          test_loss += np.sqrt(loss.data*mean_corrector)\n",
        "          s += 1.\n",
        "          pred = sae(target)\n",
        "  print('test_loss: '+str(test_loss/s))\n",
        "\n",
        "\n",
        "\n"
      ],
      "execution_count": null,
      "outputs": [
        {
          "output_type": "stream",
          "text": [
            "test_loss: tensor(0.9698)\n"
          ],
          "name": "stdout"
        }
      ]
    },
    {
      "cell_type": "code",
      "metadata": {
        "colab_type": "code",
        "id": "GRMvtzcVNTeY",
        "colab": {}
      },
      "source": [
        "from math import sqrt\n"
      ],
      "execution_count": null,
      "outputs": []
    },
    {
      "cell_type": "code",
      "metadata": {
        "colab_type": "code",
        "id": "TVuKcDefNTea",
        "colab": {
          "base_uri": "https://localhost:8080/",
          "height": 34
        },
        "outputId": "a4ac84fd-54dc-4be4-b259-151d4df2fefb"
      },
      "source": [
        "RMSE = sqrt(0.9698)\n",
        "\n",
        "RMSE"
      ],
      "execution_count": null,
      "outputs": [
        {
          "output_type": "execute_result",
          "data": {
            "text/plain": [
              "0.9847842403288144"
            ]
          },
          "metadata": {
            "tags": []
          },
          "execution_count": 91
        }
      ]
    },
    {
      "cell_type": "code",
      "metadata": {
        "colab_type": "code",
        "id": "s1I3ZMB2NTee",
        "colab": {
          "base_uri": "https://localhost:8080/",
          "height": 295
        },
        "outputId": "d37c9555-f4b8-4e2a-f0db-35ff6ebab92e"
      },
      "source": [
        "epochs = range(1,201)\n",
        "plt.plot(epochs, thlosses, 'r', label=' Tanh ') # 'g' = color red\n",
        "plt.plot(epochs, losses, 'g', label=' Sigmoid ') # 'g' = color green\n",
        "plt.plot(epochs, thslosses, 'b', label=' Sigmoid plus Tanh ') # 'g' = color green\n",
        "plt.title('Activation Loss - epoch =200')\n",
        "plt.xlabel('Epochs')\n",
        "plt.ylabel('Training  Loss')\n",
        "\n",
        "plt.legend()\n",
        "plt.show()"
      ],
      "execution_count": null,
      "outputs": [
        {
          "output_type": "display_data",
          "data": {
            "image/png": "[encoded data removed]",
            "text/plain": [
              "<Figure size 432x288 with 1 Axes>"
            ]
          },
          "metadata": {
            "tags": [],
            "needs_background": "light"
          }
        }
      ]
    },
    {
      "cell_type": "markdown",
      "metadata": {
        "id": "cp4vWc2yRHuI",
        "colab_type": "text"
      },
      "source": [
        ""
      ]
    },
    {
      "cell_type": "markdown",
      "metadata": {
        "colab_type": "text",
        "id": "899TwqNzRH7s"
      },
      "source": [
        "# Activation Function: RELU\n",
        "\n",
        "* TRAINING LOSS: 1.0130\n",
        "* TEST LOSS: 1.0165\n",
        "* RMSE: 1.0082"
      ]
    },
    {
      "cell_type": "code",
      "metadata": {
        "colab_type": "code",
        "id": "ASyNq2IaRH7v",
        "colab": {}
      },
      "source": [
        "training = ['user_id', 'movie_id', 'rating', 'timestamp' ] #Create each column\n",
        "test = ['user_id', 'movie_id', 'rating', 'timestamp' ]     #Create each column"
      ],
      "execution_count": null,
      "outputs": []
    },
    {
      "cell_type": "code",
      "metadata": {
        "colab_type": "code",
        "id": "ap3L9wcpRH72",
        "colab": {}
      },
      "source": [
        "# Preparing the training set and the test set \n",
        "training_set = pd.read_csv('u1.base', names=training, delimiter = '\\t') # Read the file\n",
        "test_set = pd.read_csv('u1.test', names=test, delimiter = '\\t') #Read the file"
      ],
      "execution_count": null,
      "outputs": []
    },
    {
      "cell_type": "code",
      "metadata": {
        "colab_type": "code",
        "id": "xBalUbTyRH74",
        "colab": {}
      },
      "source": [
        "#Drop 'timestamp' column\n",
        "training_set= training_set.drop([\"timestamp\"], axis=1)"
      ],
      "execution_count": null,
      "outputs": []
    },
    {
      "cell_type": "code",
      "metadata": {
        "colab_type": "code",
        "id": "sO9C1fHeRH76",
        "colab": {}
      },
      "source": [
        "#Drop 'timestamp' column\n",
        "test_set= test_set.drop([\"timestamp\"], axis=1)"
      ],
      "execution_count": null,
      "outputs": []
    },
    {
      "cell_type": "code",
      "metadata": {
        "colab_type": "code",
        "id": "5VLKzU9gRH79",
        "colab": {
          "base_uri": "https://localhost:8080/",
          "height": 204
        },
        "outputId": "5ce4c93a-ca7c-46ca-8ffb-319734fcdc5e"
      },
      "source": [
        "# Visualizing the first elements of the training_set\n",
        "training_set.head()"
      ],
      "execution_count": null,
      "outputs": [
        {
          "output_type": "execute_result",
          "data": {
            "text/html": [
              "<div>\n",
              "<style scoped>\n",
              "    .dataframe tbody tr th:only-of-type {\n",
              "        vertical-align: middle;\n",
              "    }\n",
              "\n",
              "    .dataframe tbody tr th {\n",
              "        vertical-align: top;\n",
              "    }\n",
              "\n",
              "    .dataframe thead th {\n",
              "        text-align: right;\n",
              "    }\n",
              "</style>\n",
              "<table border=\"1\" class=\"dataframe\">\n",
              "  <thead>\n",
              "    <tr style=\"text-align: right;\">\n",
              "      <th></th>\n",
              "      <th>user_id</th>\n",
              "      <th>movie_id</th>\n",
              "      <th>rating</th>\n",
              "    </tr>\n",
              "  </thead>\n",
              "  <tbody>\n",
              "    <tr>\n",
              "      <th>0</th>\n",
              "      <td>1</td>\n",
              "      <td>1</td>\n",
              "      <td>5</td>\n",
              "    </tr>\n",
              "    <tr>\n",
              "      <th>1</th>\n",
              "      <td>1</td>\n",
              "      <td>2</td>\n",
              "      <td>3</td>\n",
              "    </tr>\n",
              "    <tr>\n",
              "      <th>2</th>\n",
              "      <td>1</td>\n",
              "      <td>3</td>\n",
              "      <td>4</td>\n",
              "    </tr>\n",
              "    <tr>\n",
              "      <th>3</th>\n",
              "      <td>1</td>\n",
              "      <td>4</td>\n",
              "      <td>3</td>\n",
              "    </tr>\n",
              "    <tr>\n",
              "      <th>4</th>\n",
              "      <td>1</td>\n",
              "      <td>5</td>\n",
              "      <td>3</td>\n",
              "    </tr>\n",
              "  </tbody>\n",
              "</table>\n",
              "</div>"
            ],
            "text/plain": [
              "   user_id  movie_id  rating\n",
              "0        1         1       5\n",
              "1        1         2       3\n",
              "2        1         3       4\n",
              "3        1         4       3\n",
              "4        1         5       3"
            ]
          },
          "metadata": {
            "tags": []
          },
          "execution_count": 98
        }
      ]
    },
    {
      "cell_type": "code",
      "metadata": {
        "colab_type": "code",
        "id": "tKBP2VQrRH8A",
        "colab": {}
      },
      "source": [
        "# Converting the training and test sets into numpy arrays\n",
        "training_set = np.array(training_set, dtype = 'int')\n",
        "test_set = np.array(test_set, dtype = 'int')"
      ],
      "execution_count": null,
      "outputs": []
    },
    {
      "cell_type": "code",
      "metadata": {
        "colab_type": "code",
        "id": "jKQsY6m6RH8D",
        "colab": {}
      },
      "source": [
        "# Getting the number of users and movies\n",
        "nb_users = int(max(max(training_set[:, 0]), max(test_set[:, 0])))\n",
        "nb_movies = int(max(max(training_set[:, 1]), max(test_set[:, 1])))"
      ],
      "execution_count": null,
      "outputs": []
    },
    {
      "cell_type": "code",
      "metadata": {
        "colab_type": "code",
        "id": "8ftTpY_dRH8G",
        "colab": {
          "base_uri": "https://localhost:8080/",
          "height": 51
        },
        "outputId": "ca048dbc-510e-4701-8700-edaac7da442c"
      },
      "source": [
        "print(\"Number of users: {}\".format(nb_users))\n",
        "print(\"Number of movies: {}\".format(nb_movies))"
      ],
      "execution_count": null,
      "outputs": [
        {
          "output_type": "stream",
          "text": [
            "Number of users: 943\n",
            "Number of movies: 1682\n"
          ],
          "name": "stdout"
        }
      ]
    },
    {
      "cell_type": "code",
      "metadata": {
        "colab_type": "code",
        "id": "xZziVfw4RH8I",
        "colab": {}
      },
      "source": [
        "def convert(data):\n",
        "    # Initializing an empty list that will take the list of ratings given by a specific user\n",
        "    new_data = []\n",
        "    # Looping over all the users\n",
        "    for id_users in range(1, nb_users + 1):\n",
        "        # We get the id of the movies rated by the current user\n",
        "        id_movies = data[:, 1][data[:, 0] == id_users]\n",
        "        # We get the id of the ratings given by the current_user\n",
        "        id_ratings = data[:, 2][data[:, 0] == id_users]\n",
        "        # \n",
        "        ratings = np.zeros(nb_movies)\n",
        "        # For movies rated by the current user, we replace 0 with the rating\n",
        "        # The first element of ratings is at index 0. However, id_movies start at index 1.\n",
        "        # Therefore, ratings[id_movies - 1] will correspond to the location of the movie we're considering\n",
        "        ratings[id_movies - 1] = id_ratings\n",
        "        new_data.append(list(ratings))\n",
        "    return new_data"
      ],
      "execution_count": null,
      "outputs": []
    },
    {
      "cell_type": "code",
      "metadata": {
        "colab_type": "code",
        "id": "XJ6FF5JWRH8K",
        "colab": {}
      },
      "source": [
        "# Applying the convert function to the training and test set.\n",
        "training_set = convert(training_set)\n",
        "test_set = convert(test_set)"
      ],
      "execution_count": null,
      "outputs": []
    },
    {
      "cell_type": "code",
      "metadata": {
        "colab_type": "code",
        "id": "vC45HjMZRH8M",
        "colab": {}
      },
      "source": [
        "# Convert the data into Torch tensors\n",
        "training_set = torch.FloatTensor(training_set)\n",
        "test_set = torch.FloatTensor(test_set)"
      ],
      "execution_count": null,
      "outputs": []
    },
    {
      "cell_type": "code",
      "metadata": {
        "colab_type": "code",
        "id": "Zm9Y1TMwRH8O",
        "colab": {}
      },
      "source": [
        "# Create the SAE (stack autoencoder) class, which is inherited from nn.Module(Pytorch library)\n",
        "class SAE(nn.Module):\n",
        "    # Initializing the class\n",
        "    def __init__(self, ):\n",
        "        # making the class get all the functions from the parent class nn.Module\n",
        "        super(SAE, self).__init__()\n",
        "        # Creating the first encoding layer. The number of input corresponds to the number of movies\n",
        "        #  Decide to encode it into 20 outputs\n",
        "        self.fc1 = nn.Linear(nb_movies, 20)\n",
        "        # Creating the second encoding layer. From 20 inputs to 10 outputs\n",
        "        self.fc2 = nn.Linear(20, 10)\n",
        "        # Creating the first decoding layer. From 10 inputs to 20 outputs\n",
        "        self.fc3 = nn.Linear(10, 20)\n",
        "        # Creating the second hidden layer. From 20 inputs to nb_movies outputs\n",
        "        self.fc4 = nn.Linear(20, nb_movies)\n",
        "\n",
        "        #####  Activation Function: RELU   #######\n",
        "\n",
        "        # Creating the activation fucntion which will fire up specific neurons \n",
        "        self.activation = nn.ReLU()\n",
        "        \n",
        "        # Creating the function for forward propagation\n",
        "    def forward(self, x):\n",
        "        x = self.activation(self.fc1(x))\n",
        "        x = self.activation(self.fc2(x))\n",
        "        x = self.activation(self.fc3(x))\n",
        "        # With autoencoder, we don't need an activation function for the last decoding part\n",
        "        x = self.fc4(x)\n",
        "        return x\n",
        "\n",
        "    def predict(self, x): # x: visible nodes\n",
        "        x = self.forward(x)\n",
        "        return x\n",
        "\n",
        "  \n",
        "\n",
        "\n",
        "  "
      ],
      "execution_count": null,
      "outputs": []
    },
    {
      "cell_type": "code",
      "metadata": {
        "colab_type": "code",
        "id": "LCrix19HRH8S",
        "colab": {}
      },
      "source": [
        " #Creating an instance of our SAE class\n",
        "sae = SAE()\n",
        "\n",
        "\n",
        " #Defining a criterion which specifies the metric to minimize.\n",
        " #In this case, we want to minimize the MSE (Mean Squared Error)\n",
        "\n",
        "criterion = nn.MSELoss()\n",
        "\n",
        "# Defining the algorithm used to minimize the loss function. \n",
        "#In this case, we'll use RMSprop\n",
        "\n",
        "optimizer = optim.RMSprop(sae.parameters(), lr = 0.01, weight_decay = 0.5)\n"
      ],
      "execution_count": null,
      "outputs": []
    },
    {
      "cell_type": "code",
      "metadata": {
        "colab_type": "code",
        "id": "DpMoJX5HRH8U",
        "colab": {
          "base_uri": "https://localhost:8080/",
          "height": 1000
        },
        "outputId": "91e1385a-3227-4d0d-c70d-48c1016a29c0"
      },
      "source": [
        "\n",
        "\n",
        "#time\n",
        "time_start = time.time()\n",
        "# Setting the number of epochs\n",
        "nb_epoch = 200\n",
        "\n",
        "# storing the  traning loss calculations\n",
        "rlosses = [] \n",
        "\n",
        "# Iterating over each epoch\n",
        "for epoch in range(1, nb_epoch + 1):\n",
        "    # Initializing the train_loss which will be updated\n",
        "    train_loss = 0\n",
        "    # Initializing a counter\n",
        "    s = 0.\n",
        "    # Iterating over each user\n",
        "    for id_user in range(nb_users):\n",
        "        # The input corresponds to the ratings given by the current user for each movie\n",
        "        input = Variable(training_set[id_user]).unsqueeze(0)\n",
        "        target = input.clone()\n",
        "        # We don't consider movies NOT rated by the current user. So we specify a conditional statement\n",
        "        if torch.sum(target.data > 0) > 0:\n",
        "            # We use our SAE to get the output from the \n",
        "            output = sae(input)\n",
        "            target.require_grad = False\n",
        "            output[target == 0] = 0\n",
        "            # Defining our loss function, comparing the output with the target\n",
        "            loss = criterion(output, target)\n",
        "            mean_corrector = nb_movies/float(torch.sum(target.data > 0) + 1e-10)\n",
        "            # Computing the gradients necessary to adjust the weights\n",
        "            loss.backward()\n",
        "            # Updating the train_loss\n",
        "            train_loss += np.sqrt(loss.data*mean_corrector)\n",
        "            s += 1.\n",
        "            # Updating the weights of the neural network\n",
        "            optimizer.step()\n",
        "\n",
        "    epoch_loss = train_loss / len(training_set[id_user])\n",
        "    rlosses.append(epoch_loss)  \n",
        "    print('epoch: '+str(epoch)+' loss: '+str(train_loss/s))\n",
        "time_end = time.time()\n",
        "print('Stacked-Autoencoder(SAE) Training Time : ' +str(round((time_end-time_start)/60,0))+' Minutes. ')"
      ],
      "execution_count": null,
      "outputs": [
        {
          "output_type": "stream",
          "text": [
            "epoch: 1 loss: tensor(2.1986)\n",
            "epoch: 2 loss: tensor(1.0769)\n",
            "epoch: 3 loss: tensor(1.0585)\n",
            "epoch: 4 loss: tensor(1.0500)\n",
            "epoch: 5 loss: tensor(1.0445)\n",
            "epoch: 6 loss: tensor(1.0405)\n",
            "epoch: 7 loss: tensor(1.0375)\n",
            "epoch: 8 loss: tensor(1.0351)\n",
            "epoch: 9 loss: tensor(1.0332)\n",
            "epoch: 10 loss: tensor(1.0315)\n",
            "epoch: 11 loss: tensor(1.0303)\n",
            "epoch: 12 loss: tensor(1.0291)\n",
            "epoch: 13 loss: tensor(1.0282)\n",
            "epoch: 14 loss: tensor(1.0273)\n",
            "epoch: 15 loss: tensor(1.0265)\n",
            "epoch: 16 loss: tensor(1.0258)\n",
            "epoch: 17 loss: tensor(1.0252)\n",
            "epoch: 18 loss: tensor(1.0247)\n",
            "epoch: 19 loss: tensor(1.0242)\n",
            "epoch: 20 loss: tensor(1.0237)\n",
            "epoch: 21 loss: tensor(1.0232)\n",
            "epoch: 22 loss: tensor(1.0228)\n",
            "epoch: 23 loss: tensor(1.0225)\n",
            "epoch: 24 loss: tensor(1.0222)\n",
            "epoch: 25 loss: tensor(1.0219)\n",
            "epoch: 26 loss: tensor(1.0215)\n",
            "epoch: 27 loss: tensor(1.0213)\n",
            "epoch: 28 loss: tensor(1.0210)\n",
            "epoch: 29 loss: tensor(1.0208)\n",
            "epoch: 30 loss: tensor(1.0205)\n",
            "epoch: 31 loss: tensor(1.0203)\n",
            "epoch: 32 loss: tensor(1.0201)\n",
            "epoch: 33 loss: tensor(1.0199)\n",
            "epoch: 34 loss: tensor(1.0198)\n",
            "epoch: 35 loss: tensor(1.0196)\n",
            "epoch: 36 loss: tensor(1.0194)\n",
            "epoch: 37 loss: tensor(1.0193)\n",
            "epoch: 38 loss: tensor(1.0191)\n",
            "epoch: 39 loss: tensor(1.0190)\n",
            "epoch: 40 loss: tensor(1.0188)\n",
            "epoch: 41 loss: tensor(1.0187)\n",
            "epoch: 42 loss: tensor(1.0186)\n",
            "epoch: 43 loss: tensor(1.0185)\n",
            "epoch: 44 loss: tensor(1.0184)\n",
            "epoch: 45 loss: tensor(1.0183)\n",
            "epoch: 46 loss: tensor(1.0182)\n",
            "epoch: 47 loss: tensor(1.0181)\n",
            "epoch: 48 loss: tensor(1.0180)\n",
            "epoch: 49 loss: tensor(1.0179)\n",
            "epoch: 50 loss: tensor(1.0178)\n",
            "epoch: 51 loss: tensor(1.0177)\n",
            "epoch: 52 loss: tensor(1.0177)\n",
            "epoch: 53 loss: tensor(1.0176)\n",
            "epoch: 54 loss: tensor(1.0175)\n",
            "epoch: 55 loss: tensor(1.0174)\n",
            "epoch: 56 loss: tensor(1.0173)\n",
            "epoch: 57 loss: tensor(1.0173)\n",
            "epoch: 58 loss: tensor(1.0172)\n",
            "epoch: 59 loss: tensor(1.0171)\n",
            "epoch: 60 loss: tensor(1.0171)\n",
            "epoch: 61 loss: tensor(1.0170)\n",
            "epoch: 62 loss: tensor(1.0170)\n",
            "epoch: 63 loss: tensor(1.0169)\n",
            "epoch: 64 loss: tensor(1.0168)\n",
            "epoch: 65 loss: tensor(1.0168)\n",
            "epoch: 66 loss: tensor(1.0167)\n",
            "epoch: 67 loss: tensor(1.0167)\n",
            "epoch: 68 loss: tensor(1.0166)\n",
            "epoch: 69 loss: tensor(1.0165)\n",
            "epoch: 70 loss: tensor(1.0165)\n",
            "epoch: 71 loss: tensor(1.0165)\n",
            "epoch: 72 loss: tensor(1.0164)\n",
            "epoch: 73 loss: tensor(1.0164)\n",
            "epoch: 74 loss: tensor(1.0163)\n",
            "epoch: 75 loss: tensor(1.0163)\n",
            "epoch: 76 loss: tensor(1.0162)\n",
            "epoch: 77 loss: tensor(1.0161)\n",
            "epoch: 78 loss: tensor(1.0161)\n",
            "epoch: 79 loss: tensor(1.0161)\n",
            "epoch: 80 loss: tensor(1.0161)\n",
            "epoch: 81 loss: tensor(1.0160)\n",
            "epoch: 82 loss: tensor(1.0160)\n",
            "epoch: 83 loss: tensor(1.0159)\n",
            "epoch: 84 loss: tensor(1.0159)\n",
            "epoch: 85 loss: tensor(1.0158)\n",
            "epoch: 86 loss: tensor(1.0158)\n",
            "epoch: 87 loss: tensor(1.0157)\n",
            "epoch: 88 loss: tensor(1.0157)\n",
            "epoch: 89 loss: tensor(1.0157)\n",
            "epoch: 90 loss: tensor(1.0156)\n",
            "epoch: 91 loss: tensor(1.0156)\n",
            "epoch: 92 loss: tensor(1.0155)\n",
            "epoch: 93 loss: tensor(1.0155)\n",
            "epoch: 94 loss: tensor(1.0155)\n",
            "epoch: 95 loss: tensor(1.0155)\n",
            "epoch: 96 loss: tensor(1.0154)\n",
            "epoch: 97 loss: tensor(1.0154)\n",
            "epoch: 98 loss: tensor(1.0153)\n",
            "epoch: 99 loss: tensor(1.0153)\n",
            "epoch: 100 loss: tensor(1.0153)\n",
            "epoch: 101 loss: tensor(1.0152)\n",
            "epoch: 102 loss: tensor(1.0152)\n",
            "epoch: 103 loss: tensor(1.0151)\n",
            "epoch: 104 loss: tensor(1.0151)\n",
            "epoch: 105 loss: tensor(1.0151)\n",
            "epoch: 106 loss: tensor(1.0150)\n",
            "epoch: 107 loss: tensor(1.0150)\n",
            "epoch: 108 loss: tensor(1.0150)\n",
            "epoch: 109 loss: tensor(1.0150)\n",
            "epoch: 110 loss: tensor(1.0150)\n",
            "epoch: 111 loss: tensor(1.0149)\n",
            "epoch: 112 loss: tensor(1.0149)\n",
            "epoch: 113 loss: tensor(1.0149)\n",
            "epoch: 114 loss: tensor(1.0149)\n",
            "epoch: 115 loss: tensor(1.0148)\n",
            "epoch: 116 loss: tensor(1.0148)\n",
            "epoch: 117 loss: tensor(1.0147)\n",
            "epoch: 118 loss: tensor(1.0147)\n",
            "epoch: 119 loss: tensor(1.0147)\n",
            "epoch: 120 loss: tensor(1.0147)\n",
            "epoch: 121 loss: tensor(1.0146)\n",
            "epoch: 122 loss: tensor(1.0146)\n",
            "epoch: 123 loss: tensor(1.0146)\n",
            "epoch: 124 loss: tensor(1.0146)\n",
            "epoch: 125 loss: tensor(1.0146)\n",
            "epoch: 126 loss: tensor(1.0145)\n",
            "epoch: 127 loss: tensor(1.0145)\n",
            "epoch: 128 loss: tensor(1.0145)\n",
            "epoch: 129 loss: tensor(1.0145)\n",
            "epoch: 130 loss: tensor(1.0144)\n",
            "epoch: 131 loss: tensor(1.0144)\n",
            "epoch: 132 loss: tensor(1.0144)\n",
            "epoch: 133 loss: tensor(1.0144)\n",
            "epoch: 134 loss: tensor(1.0144)\n",
            "epoch: 135 loss: tensor(1.0143)\n",
            "epoch: 136 loss: tensor(1.0144)\n",
            "epoch: 137 loss: tensor(1.0143)\n",
            "epoch: 138 loss: tensor(1.0143)\n",
            "epoch: 139 loss: tensor(1.0142)\n",
            "epoch: 140 loss: tensor(1.0143)\n",
            "epoch: 141 loss: tensor(1.0142)\n",
            "epoch: 142 loss: tensor(1.0142)\n",
            "epoch: 143 loss: tensor(1.0142)\n",
            "epoch: 144 loss: tensor(1.0142)\n",
            "epoch: 145 loss: tensor(1.0142)\n",
            "epoch: 146 loss: tensor(1.0141)\n",
            "epoch: 147 loss: tensor(1.0141)\n",
            "epoch: 148 loss: tensor(1.0141)\n",
            "epoch: 149 loss: tensor(1.0141)\n",
            "epoch: 150 loss: tensor(1.0141)\n",
            "epoch: 151 loss: tensor(1.0140)\n",
            "epoch: 152 loss: tensor(1.0140)\n",
            "epoch: 153 loss: tensor(1.0140)\n",
            "epoch: 154 loss: tensor(1.0140)\n",
            "epoch: 155 loss: tensor(1.0140)\n",
            "epoch: 156 loss: tensor(1.0140)\n",
            "epoch: 157 loss: tensor(1.0140)\n",
            "epoch: 158 loss: tensor(1.0139)\n",
            "epoch: 159 loss: tensor(1.0139)\n",
            "epoch: 160 loss: tensor(1.0139)\n",
            "epoch: 161 loss: tensor(1.0139)\n",
            "epoch: 162 loss: tensor(1.0139)\n",
            "epoch: 163 loss: tensor(1.0139)\n",
            "epoch: 164 loss: tensor(1.0139)\n",
            "epoch: 165 loss: tensor(1.0138)\n",
            "epoch: 166 loss: tensor(1.0138)\n",
            "epoch: 167 loss: tensor(1.0138)\n",
            "epoch: 168 loss: tensor(1.0138)\n",
            "epoch: 169 loss: tensor(1.0137)\n",
            "epoch: 170 loss: tensor(1.0137)\n",
            "epoch: 171 loss: tensor(1.0137)\n",
            "epoch: 172 loss: tensor(1.0137)\n",
            "epoch: 173 loss: tensor(1.0137)\n",
            "epoch: 174 loss: tensor(1.0137)\n",
            "epoch: 175 loss: tensor(1.0136)\n",
            "epoch: 176 loss: tensor(1.0136)\n",
            "epoch: 177 loss: tensor(1.0136)\n",
            "epoch: 178 loss: tensor(1.0136)\n",
            "epoch: 179 loss: tensor(1.0135)\n",
            "epoch: 180 loss: tensor(1.0136)\n",
            "epoch: 181 loss: tensor(1.0135)\n",
            "epoch: 182 loss: tensor(1.0135)\n",
            "epoch: 183 loss: tensor(1.0135)\n",
            "epoch: 184 loss: tensor(1.0135)\n",
            "epoch: 185 loss: tensor(1.0134)\n",
            "epoch: 186 loss: tensor(1.0134)\n",
            "epoch: 187 loss: tensor(1.0134)\n",
            "epoch: 188 loss: tensor(1.0134)\n",
            "epoch: 189 loss: tensor(1.0133)\n",
            "epoch: 190 loss: tensor(1.0133)\n",
            "epoch: 191 loss: tensor(1.0133)\n",
            "epoch: 192 loss: tensor(1.0133)\n",
            "epoch: 193 loss: tensor(1.0132)\n",
            "epoch: 194 loss: tensor(1.0132)\n",
            "epoch: 195 loss: tensor(1.0132)\n",
            "epoch: 196 loss: tensor(1.0132)\n",
            "epoch: 197 loss: tensor(1.0131)\n",
            "epoch: 198 loss: tensor(1.0131)\n",
            "epoch: 199 loss: tensor(1.0130)\n",
            "epoch: 200 loss: tensor(1.0130)\n",
            "Stacked-Autoencoder(SAE) Training Time : 13.0 Minutes. \n"
          ],
          "name": "stdout"
        }
      ]
    },
    {
      "cell_type": "code",
      "metadata": {
        "colab_type": "code",
        "id": "gMMouyy2RH8W",
        "colab": {
          "base_uri": "https://localhost:8080/",
          "height": 295
        },
        "outputId": "b84a6db2-b5d5-46bc-e7a6-d6137239ea10"
      },
      "source": [
        "epochs = range(1,201)\n",
        "plt.plot(epochs, rlosses, 'y', label=' RELU ') # 'g' = color green\n",
        "plt.title('Activation Loss - epoch =200')\n",
        "plt.xlabel('Epochs')\n",
        "plt.ylabel('Training  Loss')\n",
        "\n",
        "plt.legend()\n",
        "plt.show()"
      ],
      "execution_count": null,
      "outputs": [
        {
          "output_type": "display_data",
          "data": {
            "image/png": "[encoded data removed]",
            "text/plain": [
              "<Figure size 432x288 with 1 Axes>"
            ]
          },
          "metadata": {
            "tags": [],
            "needs_background": "light"
          }
        }
      ]
    },
    {
      "cell_type": "code",
      "metadata": {
        "colab_type": "code",
        "id": "GhqdhabNRH8Y",
        "colab": {
          "base_uri": "https://localhost:8080/",
          "height": 34
        },
        "outputId": "3391553f-c8a2-4b4a-9641-19dcb3bfa3e3"
      },
      "source": [
        "# Initializing the test_loss\n",
        "sae.eval()\n",
        "with torch.no_grad():\n",
        "  test_loss = 0\n",
        "  s = 0.\n",
        "  for id_user in range(nb_users):\n",
        "      input = Variable(training_set[id_user]).unsqueeze(0)\n",
        "      target = Variable(test_set[id_user]).unsqueeze(0)\n",
        "      if torch.sum(target.data > 0) > 0:\n",
        "          output = sae(input)\n",
        "          target.require_grad = False\n",
        "          output[(target == 0)] = 0\n",
        "          loss = criterion(output, target)\n",
        "  \n",
        "          mean_corrector = nb_movies/float(torch.sum(target.data > 0) + 1e-10)\n",
        "          test_loss += np.sqrt(loss.data*mean_corrector)\n",
        "          s += 1.\n",
        "          pred = sae(target)\n",
        "  print('test_loss: '+str(test_loss/s))\n",
        "\n",
        "\n",
        "\n"
      ],
      "execution_count": null,
      "outputs": [
        {
          "output_type": "stream",
          "text": [
            "test_loss: tensor(1.0165)\n"
          ],
          "name": "stdout"
        }
      ]
    },
    {
      "cell_type": "code",
      "metadata": {
        "colab_type": "code",
        "id": "IMsP4wHERH8a",
        "colab": {}
      },
      "source": [
        "from math import sqrt\n"
      ],
      "execution_count": null,
      "outputs": []
    },
    {
      "cell_type": "code",
      "metadata": {
        "colab_type": "code",
        "id": "Dx6KIBkVRH8c",
        "colab": {
          "base_uri": "https://localhost:8080/",
          "height": 34
        },
        "outputId": "880300bc-dd98-4d99-b678-6db174319883"
      },
      "source": [
        "RMSE = sqrt(1.0165)\n",
        "\n",
        "RMSE"
      ],
      "execution_count": null,
      "outputs": [
        {
          "output_type": "execute_result",
          "data": {
            "text/plain": [
              "1.0082162466455298"
            ]
          },
          "metadata": {
            "tags": []
          },
          "execution_count": 111
        }
      ]
    },
    {
      "cell_type": "code",
      "metadata": {
        "colab_type": "code",
        "id": "z1c3rlzORH8g",
        "colab": {
          "base_uri": "https://localhost:8080/",
          "height": 295
        },
        "outputId": "01f067b8-5bc5-4f70-fb0d-26339140286a"
      },
      "source": [
        "epochs = range(1,201)\n",
        "plt.plot(epochs, thlosses, 'r', label=' Tanh ') \n",
        "plt.plot(epochs, losses, 'g', label=' Sigmoid ') \n",
        "plt.plot(epochs, thslosses, 'b', label=' Sigmoid plus Tanh ') \n",
        "plt.plot(epochs, rlosses, 'y', label=' Relu ') \n",
        "plt.title('Activation Loss - epoch =200')\n",
        "plt.xlabel('Epochs')\n",
        "plt.ylabel('Training  Loss')\n",
        "\n",
        "plt.legend()\n",
        "plt.show()"
      ],
      "execution_count": null,
      "outputs": [
        {
          "output_type": "display_data",
          "data": {
            "image/png": "[encoded data removed]",
            "text/plain": [
              "<Figure size 432x288 with 1 Axes>"
            ]
          },
          "metadata": {
            "tags": [],
            "needs_background": "light"
          }
        }
      ]
    },
    {
      "cell_type": "code",
      "metadata": {
        "id": "7nRgfCD3W80p",
        "colab_type": "code",
        "colab": {}
      },
      "source": [
        ""
      ],
      "execution_count": null,
      "outputs": []
    },
    {
      "cell_type": "markdown",
      "metadata": {
        "colab_type": "text",
        "id": "_B1LRmaWW9Ot"
      },
      "source": [
        "# Activation Function: SELU\n",
        "* TRAINING LOSS: 1.0536\n",
        "* TEST LOSS: 1.0566\n",
        "* RMSE: 1.0279"
      ]
    },
    {
      "cell_type": "code",
      "metadata": {
        "colab_type": "code",
        "id": "h4u44pTbW9Ou",
        "colab": {}
      },
      "source": [
        "training = ['user_id', 'movie_id', 'rating', 'timestamp' ] #Create each column\n",
        "test = ['user_id', 'movie_id', 'rating', 'timestamp' ]     #Create each column"
      ],
      "execution_count": null,
      "outputs": []
    },
    {
      "cell_type": "code",
      "metadata": {
        "id": "O3910DkqXcp1",
        "colab_type": "code",
        "colab": {}
      },
      "source": [
        "# Preparing the training set and the test set \n",
        "training_set = pd.read_csv('u1.base', names=training, delimiter = '\\t') # Read the file\n",
        "test_set = pd.read_csv('u1.test', names=test, delimiter = '\\t') #Read the file"
      ],
      "execution_count": null,
      "outputs": []
    },
    {
      "cell_type": "code",
      "metadata": {
        "colab_type": "code",
        "id": "jJmceAqNW9O1",
        "colab": {}
      },
      "source": [
        "#Drop 'timestamp' column\n",
        "training_set= training_set.drop([\"timestamp\"], axis=1)"
      ],
      "execution_count": null,
      "outputs": []
    },
    {
      "cell_type": "code",
      "metadata": {
        "colab_type": "code",
        "id": "yKzATU7IW9O4",
        "colab": {}
      },
      "source": [
        "#Drop 'timestamp' column\n",
        "test_set= test_set.drop([\"timestamp\"], axis=1)"
      ],
      "execution_count": null,
      "outputs": []
    },
    {
      "cell_type": "code",
      "metadata": {
        "colab_type": "code",
        "id": "Eqn9wbz6W9O6",
        "colab": {
          "base_uri": "https://localhost:8080/",
          "height": 204
        },
        "outputId": "3bfed5c1-daed-4077-8362-9b0e9941002e"
      },
      "source": [
        "# Visualizing the first elements of the training_set\n",
        "training_set.head()"
      ],
      "execution_count": null,
      "outputs": [
        {
          "output_type": "execute_result",
          "data": {
            "text/html": [
              "<div>\n",
              "<style scoped>\n",
              "    .dataframe tbody tr th:only-of-type {\n",
              "        vertical-align: middle;\n",
              "    }\n",
              "\n",
              "    .dataframe tbody tr th {\n",
              "        vertical-align: top;\n",
              "    }\n",
              "\n",
              "    .dataframe thead th {\n",
              "        text-align: right;\n",
              "    }\n",
              "</style>\n",
              "<table border=\"1\" class=\"dataframe\">\n",
              "  <thead>\n",
              "    <tr style=\"text-align: right;\">\n",
              "      <th></th>\n",
              "      <th>user_id</th>\n",
              "      <th>movie_id</th>\n",
              "      <th>rating</th>\n",
              "    </tr>\n",
              "  </thead>\n",
              "  <tbody>\n",
              "    <tr>\n",
              "      <th>0</th>\n",
              "      <td>1</td>\n",
              "      <td>1</td>\n",
              "      <td>5</td>\n",
              "    </tr>\n",
              "    <tr>\n",
              "      <th>1</th>\n",
              "      <td>1</td>\n",
              "      <td>2</td>\n",
              "      <td>3</td>\n",
              "    </tr>\n",
              "    <tr>\n",
              "      <th>2</th>\n",
              "      <td>1</td>\n",
              "      <td>3</td>\n",
              "      <td>4</td>\n",
              "    </tr>\n",
              "    <tr>\n",
              "      <th>3</th>\n",
              "      <td>1</td>\n",
              "      <td>4</td>\n",
              "      <td>3</td>\n",
              "    </tr>\n",
              "    <tr>\n",
              "      <th>4</th>\n",
              "      <td>1</td>\n",
              "      <td>5</td>\n",
              "      <td>3</td>\n",
              "    </tr>\n",
              "  </tbody>\n",
              "</table>\n",
              "</div>"
            ],
            "text/plain": [
              "   user_id  movie_id  rating\n",
              "0        1         1       5\n",
              "1        1         2       3\n",
              "2        1         3       4\n",
              "3        1         4       3\n",
              "4        1         5       3"
            ]
          },
          "metadata": {
            "tags": []
          },
          "execution_count": 46
        }
      ]
    },
    {
      "cell_type": "code",
      "metadata": {
        "colab_type": "code",
        "id": "nsw41PuNW9O9",
        "colab": {}
      },
      "source": [
        "# Converting the training and test sets into numpy arrays\n",
        "training_set = np.array(training_set, dtype = 'int')\n",
        "test_set = np.array(test_set, dtype = 'int')"
      ],
      "execution_count": null,
      "outputs": []
    },
    {
      "cell_type": "code",
      "metadata": {
        "colab_type": "code",
        "id": "MeXYPOmUW9PB",
        "colab": {}
      },
      "source": [
        "# Getting the number of users and movies\n",
        "nb_users = int(max(max(training_set[:, 0]), max(test_set[:, 0])))\n",
        "nb_movies = int(max(max(training_set[:, 1]), max(test_set[:, 1])))"
      ],
      "execution_count": null,
      "outputs": []
    },
    {
      "cell_type": "code",
      "metadata": {
        "colab_type": "code",
        "id": "pVdnn4lfW9PD",
        "colab": {
          "base_uri": "https://localhost:8080/",
          "height": 51
        },
        "outputId": "8467c673-ff56-4b0f-ebf3-89ce698e58d7"
      },
      "source": [
        "print(\"Number of users: {}\".format(nb_users))\n",
        "print(\"Number of movies: {}\".format(nb_movies))"
      ],
      "execution_count": null,
      "outputs": [
        {
          "output_type": "stream",
          "text": [
            "Number of users: 943\n",
            "Number of movies: 1682\n"
          ],
          "name": "stdout"
        }
      ]
    },
    {
      "cell_type": "code",
      "metadata": {
        "colab_type": "code",
        "id": "WFxd9HNGW9PF",
        "colab": {}
      },
      "source": [
        "def convert(data):\n",
        "    # Initializing an empty list that will take the list of ratings given by a specific user\n",
        "    new_data = []\n",
        "    # Looping over all the users\n",
        "    for id_users in range(1, nb_users + 1):\n",
        "        # We get the id of the movies rated by the current user\n",
        "        id_movies = data[:, 1][data[:, 0] == id_users]\n",
        "        # We get the id of the ratings given by the current_user\n",
        "        id_ratings = data[:, 2][data[:, 0] == id_users]\n",
        "        # \n",
        "        ratings = np.zeros(nb_movies)\n",
        "        # For movies rated by the current user, we replace 0 with the rating\n",
        "        # The first element of ratings is at index 0. However, id_movies start at index 1.\n",
        "        # Therefore, ratings[id_movies - 1] will correspond to the location of the movie we're considering\n",
        "        ratings[id_movies - 1] = id_ratings\n",
        "        new_data.append(list(ratings))\n",
        "    return new_data"
      ],
      "execution_count": null,
      "outputs": []
    },
    {
      "cell_type": "code",
      "metadata": {
        "colab_type": "code",
        "id": "iBP9zFmQW9PI",
        "colab": {}
      },
      "source": [
        "# Applying the convert function to the training and test set.\n",
        "training_set = convert(training_set)\n",
        "test_set = convert(test_set)"
      ],
      "execution_count": null,
      "outputs": []
    },
    {
      "cell_type": "code",
      "metadata": {
        "colab_type": "code",
        "id": "Psccw-aEW9PK",
        "colab": {}
      },
      "source": [
        "# Convert the data into Torch tensors\n",
        "training_set = torch.FloatTensor(training_set)\n",
        "test_set = torch.FloatTensor(test_set)"
      ],
      "execution_count": null,
      "outputs": []
    },
    {
      "cell_type": "code",
      "metadata": {
        "colab_type": "code",
        "id": "IBxNijPSW9PM",
        "colab": {}
      },
      "source": [
        "# Create the SAE (stack autoencoder) class, which is inherited from nn.Module(Pytorch library)\n",
        "class SAE(nn.Module):\n",
        "    # Initializing the class\n",
        "    def __init__(self, ):\n",
        "        # making the class get all the functions from the parent class nn.Module\n",
        "        super(SAE, self).__init__()\n",
        "        # Creating the first encoding layer. The number of input corresponds to the number of movies\n",
        "        #  Decide to encode it into 20 outputs\n",
        "        self.fc1 = nn.Linear(nb_movies, 20)\n",
        "        # Creating the second encoding layer. From 20 inputs to 10 outputs\n",
        "        self.fc2 = nn.Linear(20, 10)\n",
        "        # Creating the first decoding layer. From 10 inputs to 20 outputs\n",
        "        self.fc3 = nn.Linear(10, 20)\n",
        "        # Creating the second hidden layer. From 20 inputs to nb_movies outputs\n",
        "        self.fc4 = nn.Linear(20, nb_movies)\n",
        "\n",
        "        #####  Activation Function: SELU   #######\n",
        "\n",
        "        # Creating the activation fucntion which will fire up specific neurons \n",
        "        self.activation = nn.SELU()\n",
        "        \n",
        "        # Creating the function for forward propagation\n",
        "    def forward(self, x):\n",
        "        x = self.activation(self.fc1(x))\n",
        "        x = self.activation(self.fc2(x))\n",
        "        x = self.activation(self.fc3(x))\n",
        "        # With autoencoder, we don't need an activation function for the last decoding part\n",
        "        x = self.fc4(x)\n",
        "        return x\n",
        "\n",
        "    def predict(self, x): # x: visible nodes\n",
        "        x = self.forward(x)\n",
        "        return x\n",
        "\n",
        "  \n",
        "\n",
        "\n",
        "  "
      ],
      "execution_count": null,
      "outputs": []
    },
    {
      "cell_type": "code",
      "metadata": {
        "colab_type": "code",
        "id": "DbA9ukEzW9PP",
        "colab": {}
      },
      "source": [
        " #Creating an instance of our SAE class\n",
        "sae = SAE()\n",
        "\n",
        "\n",
        " #Defining a criterion which specifies the metric to minimize.\n",
        " #In this case, we want to minimize the MSE (Mean Squared Error)\n",
        "\n",
        "criterion = nn.MSELoss()\n",
        "\n",
        "# Defining the algorithm used to minimize the loss function. \n",
        "#In this case, we'll use RMSprop\n",
        "\n",
        "optimizer = optim.RMSprop(sae.parameters(), lr = 0.01, weight_decay = 0.5)\n"
      ],
      "execution_count": null,
      "outputs": []
    },
    {
      "cell_type": "code",
      "metadata": {
        "colab_type": "code",
        "id": "e-PNSOo6W9PR",
        "colab": {
          "base_uri": "https://localhost:8080/",
          "height": 1000
        },
        "outputId": "b24116fb-c528-464f-d796-6d3f790d513e"
      },
      "source": [
        "\n",
        "\n",
        "#time\n",
        "time_start = time.time()\n",
        "# Setting the number of epochs\n",
        "nb_epoch = 200\n",
        "\n",
        "# storing the  traning loss calculations\n",
        "sellosses = [] \n",
        "\n",
        "# Iterating over each epoch\n",
        "for epoch in range(1, nb_epoch + 1):\n",
        "    # Initializing the train_loss which will be updated\n",
        "    train_loss = 0\n",
        "    # Initializing a counter\n",
        "    s = 0.\n",
        "    # Iterating over each user\n",
        "    for id_user in range(nb_users):\n",
        "        # The input corresponds to the ratings given by the current user for each movie\n",
        "        input = Variable(training_set[id_user]).unsqueeze(0)\n",
        "        target = input.clone()\n",
        "        # We don't consider movies NOT rated by the current user. So we specify a conditional statement\n",
        "        if torch.sum(target.data > 0) > 0:\n",
        "            # We use our SAE to get the output from the \n",
        "            output = sae(input)\n",
        "            target.require_grad = False\n",
        "            output[target == 0] = 0\n",
        "            # Defining our loss function, comparing the output with the target\n",
        "            loss = criterion(output, target)\n",
        "            mean_corrector = nb_movies/float(torch.sum(target.data > 0) + 1e-10)\n",
        "            # Computing the gradients necessary to adjust the weights\n",
        "            loss.backward()\n",
        "            # Updating the train_loss\n",
        "            train_loss += np.sqrt(loss.data*mean_corrector)\n",
        "            s += 1.\n",
        "            # Updating the weights of the neural network\n",
        "            optimizer.step()\n",
        "\n",
        "    epoch_loss = train_loss / len(training_set[id_user])\n",
        "    sellosses.append(epoch_loss)  \n",
        "    print('epoch: '+str(epoch)+' loss: '+str(train_loss/s))\n",
        "time_end = time.time()\n",
        "print('Stacked-Autoencoder(SAE) Training Time : ' +str(round((time_end-time_start)/60,0))+' Minutes. ')"
      ],
      "execution_count": null,
      "outputs": [
        {
          "output_type": "stream",
          "text": [
            "epoch: 1 loss: tensor(1.5216)\n",
            "epoch: 2 loss: tensor(1.0712)\n",
            "epoch: 3 loss: tensor(1.0602)\n",
            "epoch: 4 loss: tensor(1.0569)\n",
            "epoch: 5 loss: tensor(1.0556)\n",
            "epoch: 6 loss: tensor(1.0549)\n",
            "epoch: 7 loss: tensor(1.0550)\n",
            "epoch: 8 loss: tensor(1.0544)\n",
            "epoch: 9 loss: tensor(1.0632)\n",
            "epoch: 10 loss: tensor(1.0568)\n",
            "epoch: 11 loss: tensor(1.0544)\n",
            "epoch: 12 loss: tensor(1.0538)\n",
            "epoch: 13 loss: tensor(1.0535)\n",
            "epoch: 14 loss: tensor(1.0536)\n",
            "epoch: 15 loss: tensor(1.0534)\n",
            "epoch: 16 loss: tensor(1.0539)\n",
            "epoch: 17 loss: tensor(1.0532)\n",
            "epoch: 18 loss: tensor(1.0534)\n",
            "epoch: 19 loss: tensor(1.0536)\n",
            "epoch: 20 loss: tensor(1.0541)\n",
            "epoch: 21 loss: tensor(1.0535)\n",
            "epoch: 22 loss: tensor(1.0538)\n",
            "epoch: 23 loss: tensor(1.0541)\n",
            "epoch: 24 loss: tensor(1.0534)\n",
            "epoch: 25 loss: tensor(1.0534)\n",
            "epoch: 26 loss: tensor(1.0537)\n",
            "epoch: 27 loss: tensor(1.0540)\n",
            "epoch: 28 loss: tensor(1.0542)\n",
            "epoch: 29 loss: tensor(1.0536)\n",
            "epoch: 30 loss: tensor(1.0538)\n",
            "epoch: 31 loss: tensor(1.0538)\n",
            "epoch: 32 loss: tensor(1.0539)\n",
            "epoch: 33 loss: tensor(1.0537)\n",
            "epoch: 34 loss: tensor(1.0537)\n",
            "epoch: 35 loss: tensor(1.0538)\n",
            "epoch: 36 loss: tensor(1.0537)\n",
            "epoch: 37 loss: tensor(1.0539)\n",
            "epoch: 38 loss: tensor(1.0542)\n",
            "epoch: 39 loss: tensor(1.0536)\n",
            "epoch: 40 loss: tensor(1.0539)\n",
            "epoch: 41 loss: tensor(1.0539)\n",
            "epoch: 42 loss: tensor(1.0538)\n",
            "epoch: 43 loss: tensor(1.0541)\n",
            "epoch: 44 loss: tensor(1.0535)\n",
            "epoch: 45 loss: tensor(1.0538)\n",
            "epoch: 46 loss: tensor(1.0537)\n",
            "epoch: 47 loss: tensor(1.0537)\n",
            "epoch: 48 loss: tensor(1.0537)\n",
            "epoch: 49 loss: tensor(1.0539)\n",
            "epoch: 50 loss: tensor(1.0539)\n",
            "epoch: 51 loss: tensor(1.0538)\n",
            "epoch: 52 loss: tensor(1.0537)\n",
            "epoch: 53 loss: tensor(1.0539)\n",
            "epoch: 54 loss: tensor(1.0537)\n",
            "epoch: 55 loss: tensor(1.0537)\n",
            "epoch: 56 loss: tensor(1.0538)\n",
            "epoch: 57 loss: tensor(1.0537)\n",
            "epoch: 58 loss: tensor(1.0537)\n",
            "epoch: 59 loss: tensor(1.0539)\n",
            "epoch: 60 loss: tensor(1.0536)\n",
            "epoch: 61 loss: tensor(1.0538)\n",
            "epoch: 62 loss: tensor(1.0538)\n",
            "epoch: 63 loss: tensor(1.0538)\n",
            "epoch: 64 loss: tensor(1.0539)\n",
            "epoch: 65 loss: tensor(1.0538)\n",
            "epoch: 66 loss: tensor(1.0538)\n",
            "epoch: 67 loss: tensor(1.0535)\n",
            "epoch: 68 loss: tensor(1.0538)\n",
            "epoch: 69 loss: tensor(1.0539)\n",
            "epoch: 70 loss: tensor(1.0536)\n",
            "epoch: 71 loss: tensor(1.0537)\n",
            "epoch: 72 loss: tensor(1.0541)\n",
            "epoch: 73 loss: tensor(1.0538)\n",
            "epoch: 74 loss: tensor(1.0540)\n",
            "epoch: 75 loss: tensor(1.0536)\n",
            "epoch: 76 loss: tensor(1.0541)\n",
            "epoch: 77 loss: tensor(1.0538)\n",
            "epoch: 78 loss: tensor(1.0538)\n",
            "epoch: 79 loss: tensor(1.0536)\n",
            "epoch: 80 loss: tensor(1.0537)\n",
            "epoch: 81 loss: tensor(1.0539)\n",
            "epoch: 82 loss: tensor(1.0537)\n",
            "epoch: 83 loss: tensor(1.0540)\n",
            "epoch: 84 loss: tensor(1.0538)\n",
            "epoch: 85 loss: tensor(1.0538)\n",
            "epoch: 86 loss: tensor(1.0538)\n",
            "epoch: 87 loss: tensor(1.0539)\n",
            "epoch: 88 loss: tensor(1.0540)\n",
            "epoch: 89 loss: tensor(1.0540)\n",
            "epoch: 90 loss: tensor(1.0538)\n",
            "epoch: 91 loss: tensor(1.0538)\n",
            "epoch: 92 loss: tensor(1.0537)\n",
            "epoch: 93 loss: tensor(1.0538)\n",
            "epoch: 94 loss: tensor(1.0537)\n",
            "epoch: 95 loss: tensor(1.0537)\n",
            "epoch: 96 loss: tensor(1.0541)\n",
            "epoch: 97 loss: tensor(1.0538)\n",
            "epoch: 98 loss: tensor(1.0537)\n",
            "epoch: 99 loss: tensor(1.0540)\n",
            "epoch: 100 loss: tensor(1.0537)\n",
            "epoch: 101 loss: tensor(1.0540)\n",
            "epoch: 102 loss: tensor(1.0536)\n",
            "epoch: 103 loss: tensor(1.0537)\n",
            "epoch: 104 loss: tensor(1.0537)\n",
            "epoch: 105 loss: tensor(1.0538)\n",
            "epoch: 106 loss: tensor(1.0538)\n",
            "epoch: 107 loss: tensor(1.0540)\n",
            "epoch: 108 loss: tensor(1.0535)\n",
            "epoch: 109 loss: tensor(1.0537)\n",
            "epoch: 110 loss: tensor(1.0537)\n",
            "epoch: 111 loss: tensor(1.0538)\n",
            "epoch: 112 loss: tensor(1.0537)\n",
            "epoch: 113 loss: tensor(1.0538)\n",
            "epoch: 114 loss: tensor(1.0539)\n",
            "epoch: 115 loss: tensor(1.0536)\n",
            "epoch: 116 loss: tensor(1.0540)\n",
            "epoch: 117 loss: tensor(1.0537)\n",
            "epoch: 118 loss: tensor(1.0539)\n",
            "epoch: 119 loss: tensor(1.0539)\n",
            "epoch: 120 loss: tensor(1.0539)\n",
            "epoch: 121 loss: tensor(1.0537)\n",
            "epoch: 122 loss: tensor(1.0541)\n",
            "epoch: 123 loss: tensor(1.0539)\n",
            "epoch: 124 loss: tensor(1.0539)\n",
            "epoch: 125 loss: tensor(1.0538)\n",
            "epoch: 126 loss: tensor(1.0538)\n",
            "epoch: 127 loss: tensor(1.0535)\n",
            "epoch: 128 loss: tensor(1.0538)\n",
            "epoch: 129 loss: tensor(1.0539)\n",
            "epoch: 130 loss: tensor(1.0537)\n",
            "epoch: 131 loss: tensor(1.0540)\n",
            "epoch: 132 loss: tensor(1.0537)\n",
            "epoch: 133 loss: tensor(1.0538)\n",
            "epoch: 134 loss: tensor(1.0539)\n",
            "epoch: 135 loss: tensor(1.0539)\n",
            "epoch: 136 loss: tensor(1.0538)\n",
            "epoch: 137 loss: tensor(1.0540)\n",
            "epoch: 138 loss: tensor(1.0538)\n",
            "epoch: 139 loss: tensor(1.0539)\n",
            "epoch: 140 loss: tensor(1.0536)\n",
            "epoch: 141 loss: tensor(1.0537)\n",
            "epoch: 142 loss: tensor(1.0535)\n",
            "epoch: 143 loss: tensor(1.0539)\n",
            "epoch: 144 loss: tensor(1.0539)\n",
            "epoch: 145 loss: tensor(1.0539)\n",
            "epoch: 146 loss: tensor(1.0537)\n",
            "epoch: 147 loss: tensor(1.0539)\n",
            "epoch: 148 loss: tensor(1.0542)\n",
            "epoch: 149 loss: tensor(1.0538)\n",
            "epoch: 150 loss: tensor(1.0539)\n",
            "epoch: 151 loss: tensor(1.0540)\n",
            "epoch: 152 loss: tensor(1.0537)\n",
            "epoch: 153 loss: tensor(1.0537)\n",
            "epoch: 154 loss: tensor(1.0536)\n",
            "epoch: 155 loss: tensor(1.0538)\n",
            "epoch: 156 loss: tensor(1.0540)\n",
            "epoch: 157 loss: tensor(1.0538)\n",
            "epoch: 158 loss: tensor(1.0539)\n",
            "epoch: 159 loss: tensor(1.0540)\n",
            "epoch: 160 loss: tensor(1.0540)\n",
            "epoch: 161 loss: tensor(1.0540)\n",
            "epoch: 162 loss: tensor(1.0537)\n",
            "epoch: 163 loss: tensor(1.0538)\n",
            "epoch: 164 loss: tensor(1.0538)\n",
            "epoch: 165 loss: tensor(1.0534)\n",
            "epoch: 166 loss: tensor(1.0541)\n",
            "epoch: 167 loss: tensor(1.0539)\n",
            "epoch: 168 loss: tensor(1.0537)\n",
            "epoch: 169 loss: tensor(1.0537)\n",
            "epoch: 170 loss: tensor(1.0538)\n",
            "epoch: 171 loss: tensor(1.0539)\n",
            "epoch: 172 loss: tensor(1.0539)\n",
            "epoch: 173 loss: tensor(1.0540)\n",
            "epoch: 174 loss: tensor(1.0537)\n",
            "epoch: 175 loss: tensor(1.0537)\n",
            "epoch: 176 loss: tensor(1.0538)\n",
            "epoch: 177 loss: tensor(1.0537)\n",
            "epoch: 178 loss: tensor(1.0540)\n",
            "epoch: 179 loss: tensor(1.0540)\n",
            "epoch: 180 loss: tensor(1.0538)\n",
            "epoch: 181 loss: tensor(1.0537)\n",
            "epoch: 182 loss: tensor(1.0540)\n",
            "epoch: 183 loss: tensor(1.0541)\n",
            "epoch: 184 loss: tensor(1.0537)\n",
            "epoch: 185 loss: tensor(1.0537)\n",
            "epoch: 186 loss: tensor(1.0537)\n",
            "epoch: 187 loss: tensor(1.0535)\n",
            "epoch: 188 loss: tensor(1.0540)\n",
            "epoch: 189 loss: tensor(1.0538)\n",
            "epoch: 190 loss: tensor(1.0536)\n",
            "epoch: 191 loss: tensor(1.0537)\n",
            "epoch: 192 loss: tensor(1.0538)\n",
            "epoch: 193 loss: tensor(1.0537)\n",
            "epoch: 194 loss: tensor(1.0536)\n",
            "epoch: 195 loss: tensor(1.0538)\n",
            "epoch: 196 loss: tensor(1.0540)\n",
            "epoch: 197 loss: tensor(1.0538)\n",
            "epoch: 198 loss: tensor(1.0538)\n",
            "epoch: 199 loss: tensor(1.0537)\n",
            "epoch: 200 loss: tensor(1.0536)\n",
            "Stacked-Autoencoder(SAE) Training Time : 7.0 Minutes. \n"
          ],
          "name": "stdout"
        }
      ]
    },
    {
      "cell_type": "code",
      "metadata": {
        "colab_type": "code",
        "id": "WhItk0m8W9PT",
        "colab": {
          "base_uri": "https://localhost:8080/",
          "height": 295
        },
        "outputId": "83856563-0c1c-435b-d598-bf386e8b741f"
      },
      "source": [
        "epochs = range(1,201)\n",
        "plt.plot(epochs, sellosses, 'k', label=' Selu ') # 'g' = color green\n",
        "plt.title('Activation Loss - epoch =200')\n",
        "plt.xlabel('Epochs')\n",
        "plt.ylabel('Training  Loss')\n",
        "\n",
        "plt.legend()\n",
        "plt.show()"
      ],
      "execution_count": null,
      "outputs": [
        {
          "output_type": "display_data",
          "data": {
            "image/png": "[encoded data removed]",
            "text/plain": [
              "<Figure size 432x288 with 1 Axes>"
            ]
          },
          "metadata": {
            "tags": [],
            "needs_background": "light"
          }
        }
      ]
    },
    {
      "cell_type": "code",
      "metadata": {
        "colab_type": "code",
        "id": "tWLn2xLpW9PW",
        "colab": {
          "base_uri": "https://localhost:8080/",
          "height": 34
        },
        "outputId": "ff2a76c6-b8be-4644-c7b7-c0c763f22138"
      },
      "source": [
        "# Initializing the test_loss\n",
        "sae.eval()\n",
        "with torch.no_grad():\n",
        "  test_loss = 0\n",
        "  s = 0.\n",
        "  for id_user in range(nb_users):\n",
        "      input = Variable(training_set[id_user]).unsqueeze(0)\n",
        "      target = Variable(test_set[id_user]).unsqueeze(0)\n",
        "      if torch.sum(target.data > 0) > 0:\n",
        "          output = sae(input)\n",
        "          target.require_grad = False\n",
        "          output[(target == 0)] = 0\n",
        "          loss = criterion(output, target)\n",
        "  \n",
        "          mean_corrector = nb_movies/float(torch.sum(target.data > 0) + 1e-10)\n",
        "          test_loss += np.sqrt(loss.data*mean_corrector)\n",
        "          s += 1.\n",
        "          pred = sae(target)\n",
        "  print('test_loss: '+str(test_loss/s))\n",
        "\n",
        "\n",
        "\n"
      ],
      "execution_count": null,
      "outputs": [
        {
          "output_type": "stream",
          "text": [
            "test_loss: tensor(1.0566)\n"
          ],
          "name": "stdout"
        }
      ]
    },
    {
      "cell_type": "code",
      "metadata": {
        "colab_type": "code",
        "id": "wBggbIwSW9PY",
        "colab": {}
      },
      "source": [
        "from math import sqrt\n"
      ],
      "execution_count": null,
      "outputs": []
    },
    {
      "cell_type": "code",
      "metadata": {
        "colab_type": "code",
        "id": "LPF_ciOlW9Pa",
        "colab": {
          "base_uri": "https://localhost:8080/",
          "height": 34
        },
        "outputId": "684de0fe-08a9-4b8b-de28-c92e6a08dc6b"
      },
      "source": [
        "RMSE = sqrt(1.0566)\n",
        "\n",
        "RMSE"
      ],
      "execution_count": null,
      "outputs": [
        {
          "output_type": "execute_result",
          "data": {
            "text/plain": [
              "1.0279105019407089"
            ]
          },
          "metadata": {
            "tags": []
          },
          "execution_count": 59
        }
      ]
    },
    {
      "cell_type": "code",
      "metadata": {
        "colab_type": "code",
        "id": "wzdH3TFrW9Pc",
        "colab": {}
      },
      "source": [
        "epochs = range(1,201)\n",
        "plt.plot(epochs, thlosses, 'r', label=' Tanh ') # 'g' = color red\n",
        "plt.plot(epochs, losses, 'g', label=' Sigmoid ') # 'g' = color green\n",
        "plt.plot(epochs, thslosses, 'b', label=' Sigmoid plus Tanh ') # 'g' = color blue\n",
        "plt.plot(epochs, rlosses, 'y', label=' Relu ') # 'g' = color yellow\n",
        "plt.plot(epochs, sellosses, 'k', label=' Selu ') # 'g' = color yellow\n",
        "plt.title('Activation Loss - epoch =200')\n",
        "plt.xlabel('Epochs')\n",
        "plt.ylabel('Training  Loss')\n",
        "\n",
        "plt.legend()\n",
        "plt.show()"
      ],
      "execution_count": null,
      "outputs": []
    },
    {
      "cell_type": "markdown",
      "metadata": {
        "id": "67VANJ70Fc_M",
        "colab_type": "text"
      },
      "source": [
        ""
      ]
    }
  ]
}