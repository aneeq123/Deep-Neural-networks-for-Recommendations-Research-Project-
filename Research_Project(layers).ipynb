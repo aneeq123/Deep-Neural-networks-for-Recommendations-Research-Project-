{
  "nbformat": 4,
  "nbformat_minor": 0,
  "metadata": {
    "colab": {
      "name": "Research Project(layers).ipynb",
      "provenance": [],
      "collapsed_sections": [
        "kq9u_cDBC8VG",
        "mo5fjh-0PgqJ"
      ]
    },
    "kernelspec": {
      "name": "python3",
      "display_name": "Python 3"
    }
  },
  "cells": [
    {
      "cell_type": "code",
      "metadata": {
        "id": "QwOfVjQwlGKG",
        "colab_type": "code",
        "colab": {}
      },
      "source": [
        ""
      ],
      "execution_count": null,
      "outputs": []
    },
    {
      "cell_type": "markdown",
      "metadata": {
        "id": "oOdOOm3SunmD",
        "colab_type": "text"
      },
      "source": [
        "\n",
        "# **Building A Movie Recommandation System With Pytorch (layers Comparision)**\n",
        "In this project, we are trying to predict the ratings that a user will give to an unseen movie, based on the ratings he gave to other movies. We will use the movielens dataset.The Main folder, which is ml-100k contains informations about 100 000 movies. We will use AutoEncoders to create our recommandation system. Let's start by importing the required libraries.\n",
        "\n",
        "\n",
        "\n"
      ]
    },
    {
      "cell_type": "code",
      "metadata": {
        "id": "WHjISKiVSRpf",
        "colab_type": "code",
        "colab": {}
      },
      "source": [
        "# AutoEncoders\n",
        "\n",
        "# Importing the libraries\n",
        "\n",
        "import numpy as np\n",
        "import pandas as pd\n",
        "import torch\n",
        "import torch.nn as nn\n",
        "import torch.nn.parallel\n",
        "import torch.optim as optim\n",
        "import torch.utils.data\n",
        "from torch.autograd import Variable\n",
        "from torchvision import datasets, transforms\n",
        "from torch.utils.data import Dataset\n",
        "import time\n",
        "\n",
        "import matplotlib.pyplot as plt\n"
      ],
      "execution_count": null,
      "outputs": []
    },
    {
      "cell_type": "code",
      "metadata": {
        "id": "O9kM0xA6ncI6",
        "colab_type": "code",
        "colab": {
          "resources": {
            "http://localhost:8080/nbextensions/google.colab/files.js": {
              "data": "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",
              "ok": true,
              "headers": [
                [
                  "content-type",
                  "application/javascript"
                ]
              ],
              "status": 200,
              "status_text": ""
            }
          },
          "base_uri": "https://localhost:8080/",
          "height": 72
        },
        "outputId": "effd810e-9bdb-4cc8-f7f1-6ae57411ab6b"
      },
      "source": [
        "from google.colab import files\n",
        "uploaded = files.upload()"
      ],
      "execution_count": null,
      "outputs": [
        {
          "output_type": "display_data",
          "data": {
            "text/html": [
              "\n",
              "     <input type=\"file\" id=\"files-eb88d8dc-2846-4dce-ad6a-6a884ebb92bc\" name=\"files[]\" multiple disabled\n",
              "        style=\"border:none\" />\n",
              "     <output id=\"result-eb88d8dc-2846-4dce-ad6a-6a884ebb92bc\">\n",
              "      Upload widget is only available when the cell has been executed in the\n",
              "      current browser session. Please rerun this cell to enable.\n",
              "      </output>\n",
              "      <script src=\"/nbextensions/google.colab/files.js\"></script> "
            ],
            "text/plain": [
              "<IPython.core.display.HTML object>"
            ]
          },
          "metadata": {
            "tags": []
          }
        },
        {
          "output_type": "stream",
          "text": [
            "Saving u1.base to u1.base\n"
          ],
          "name": "stdout"
        }
      ]
    },
    {
      "cell_type": "code",
      "metadata": {
        "id": "qZqjzECzoDeV",
        "colab_type": "code",
        "colab": {
          "resources": {
            "http://localhost:8080/nbextensions/google.colab/files.js": {
              "data": "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",
              "ok": true,
              "headers": [
                [
                  "content-type",
                  "application/javascript"
                ]
              ],
              "status": 200,
              "status_text": ""
            }
          },
          "base_uri": "https://localhost:8080/",
          "height": 72
        },
        "outputId": "2fe8b839-4d1c-44a6-fe5b-de13fb7a998e"
      },
      "source": [
        "from google.colab import files\n",
        "uploaded = files.upload()"
      ],
      "execution_count": null,
      "outputs": [
        {
          "output_type": "display_data",
          "data": {
            "text/html": [
              "\n",
              "     <input type=\"file\" id=\"files-ee271b12-c224-4447-a87c-ccac9e7eab43\" name=\"files[]\" multiple disabled\n",
              "        style=\"border:none\" />\n",
              "     <output id=\"result-ee271b12-c224-4447-a87c-ccac9e7eab43\">\n",
              "      Upload widget is only available when the cell has been executed in the\n",
              "      current browser session. Please rerun this cell to enable.\n",
              "      </output>\n",
              "      <script src=\"/nbextensions/google.colab/files.js\"></script> "
            ],
            "text/plain": [
              "<IPython.core.display.HTML object>"
            ]
          },
          "metadata": {
            "tags": []
          }
        },
        {
          "output_type": "stream",
          "text": [
            "Saving u1.test to u1.test\n"
          ],
          "name": "stdout"
        }
      ]
    },
    {
      "cell_type": "markdown",
      "metadata": {
        "colab_type": "text",
        "id": "c9_p9glsmaWl"
      },
      "source": [
        "#Model architecture: nb_movies,20,20,10,10,20,20,nb_movies\n",
        "\n",
        "* TRAINING LOSS: 0.9146\n",
        "* TEST LOSS: 0.9498\n",
        "* RMSE: 0.9745"
      ]
    },
    {
      "cell_type": "code",
      "metadata": {
        "colab_type": "code",
        "id": "7M2cLDkamaWm",
        "colab": {}
      },
      "source": [
        "training = ['user_id', 'movie_id', 'rating', 'timestamp' ] #Create each column\n",
        "test = ['user_id', 'movie_id', 'rating', 'timestamp' ]     #Create each column"
      ],
      "execution_count": null,
      "outputs": []
    },
    {
      "cell_type": "code",
      "metadata": {
        "colab_type": "code",
        "id": "3QM0wDsImaWq",
        "colab": {}
      },
      "source": [
        "# Preparing the training set and the test set \n",
        "training_set = pd.read_csv('u1.base', names=training, delimiter = '\\t') # Read the file\n",
        "test_set = pd.read_csv('u1.test', names=test, delimiter = '\\t') #Read the file"
      ],
      "execution_count": null,
      "outputs": []
    },
    {
      "cell_type": "code",
      "metadata": {
        "colab_type": "code",
        "id": "NLdn3TGzmaWs",
        "colab": {}
      },
      "source": [
        "#Drop 'timestamp' column\n",
        "training_set= training_set.drop([\"timestamp\"], axis=1)"
      ],
      "execution_count": null,
      "outputs": []
    },
    {
      "cell_type": "code",
      "metadata": {
        "colab_type": "code",
        "id": "m6Vs3FZEmaWw",
        "colab": {}
      },
      "source": [
        "#Drop 'timestamp' column\n",
        "test_set= test_set.drop([\"timestamp\"], axis=1)"
      ],
      "execution_count": null,
      "outputs": []
    },
    {
      "cell_type": "code",
      "metadata": {
        "colab_type": "code",
        "id": "0Wgb5CpLmaWy",
        "colab": {
          "base_uri": "https://localhost:8080/",
          "height": 204
        },
        "outputId": "956c7fd5-482b-4206-fe9e-9bfdd2e3a150"
      },
      "source": [
        "# Visualizing the first elements of the training_set\n",
        "training_set.head()"
      ],
      "execution_count": null,
      "outputs": [
        {
          "output_type": "execute_result",
          "data": {
            "text/html": [
              "<div>\n",
              "<style scoped>\n",
              "    .dataframe tbody tr th:only-of-type {\n",
              "        vertical-align: middle;\n",
              "    }\n",
              "\n",
              "    .dataframe tbody tr th {\n",
              "        vertical-align: top;\n",
              "    }\n",
              "\n",
              "    .dataframe thead th {\n",
              "        text-align: right;\n",
              "    }\n",
              "</style>\n",
              "<table border=\"1\" class=\"dataframe\">\n",
              "  <thead>\n",
              "    <tr style=\"text-align: right;\">\n",
              "      <th></th>\n",
              "      <th>user_id</th>\n",
              "      <th>movie_id</th>\n",
              "      <th>rating</th>\n",
              "    </tr>\n",
              "  </thead>\n",
              "  <tbody>\n",
              "    <tr>\n",
              "      <th>0</th>\n",
              "      <td>1</td>\n",
              "      <td>1</td>\n",
              "      <td>5</td>\n",
              "    </tr>\n",
              "    <tr>\n",
              "      <th>1</th>\n",
              "      <td>1</td>\n",
              "      <td>2</td>\n",
              "      <td>3</td>\n",
              "    </tr>\n",
              "    <tr>\n",
              "      <th>2</th>\n",
              "      <td>1</td>\n",
              "      <td>3</td>\n",
              "      <td>4</td>\n",
              "    </tr>\n",
              "    <tr>\n",
              "      <th>3</th>\n",
              "      <td>1</td>\n",
              "      <td>4</td>\n",
              "      <td>3</td>\n",
              "    </tr>\n",
              "    <tr>\n",
              "      <th>4</th>\n",
              "      <td>1</td>\n",
              "      <td>5</td>\n",
              "      <td>3</td>\n",
              "    </tr>\n",
              "  </tbody>\n",
              "</table>\n",
              "</div>"
            ],
            "text/plain": [
              "   user_id  movie_id  rating\n",
              "0        1         1       5\n",
              "1        1         2       3\n",
              "2        1         3       4\n",
              "3        1         4       3\n",
              "4        1         5       3"
            ]
          },
          "metadata": {
            "tags": []
          },
          "execution_count": 46
        }
      ]
    },
    {
      "cell_type": "code",
      "metadata": {
        "colab_type": "code",
        "id": "PVe7qKgPmaW1",
        "colab": {}
      },
      "source": [
        "# Converting the training and test sets into numpy arrays\n",
        "training_set = np.array(training_set, dtype = 'int')\n",
        "test_set = np.array(test_set, dtype = 'int')"
      ],
      "execution_count": null,
      "outputs": []
    },
    {
      "cell_type": "code",
      "metadata": {
        "colab_type": "code",
        "id": "-ctmdXhtmaW3",
        "colab": {}
      },
      "source": [
        "# Getting the number of users and movies\n",
        "nb_users = int(max(max(training_set[:, 0]), max(test_set[:, 0])))\n",
        "nb_movies = int(max(max(training_set[:, 1]), max(test_set[:, 1])))"
      ],
      "execution_count": null,
      "outputs": []
    },
    {
      "cell_type": "code",
      "metadata": {
        "colab_type": "code",
        "id": "MEeIaMI6maW6",
        "colab": {
          "base_uri": "https://localhost:8080/",
          "height": 51
        },
        "outputId": "b110046f-64cc-4af9-a22f-c98c7a1c93be"
      },
      "source": [
        "print(\"Number of users: {}\".format(nb_users))\n",
        "print(\"Number of movies: {}\".format(nb_movies))"
      ],
      "execution_count": null,
      "outputs": [
        {
          "output_type": "stream",
          "text": [
            "Number of users: 943\n",
            "Number of movies: 1682\n"
          ],
          "name": "stdout"
        }
      ]
    },
    {
      "cell_type": "code",
      "metadata": {
        "colab_type": "code",
        "id": "lOcM1zRwmaW8",
        "colab": {}
      },
      "source": [
        "def convert(data):\n",
        "    # Initializing an empty list that will take the list of ratings given by a specific user\n",
        "    new_data = []\n",
        "    # Looping over all the users\n",
        "    for id_users in range(1, nb_users + 1):\n",
        "        # We get the id of the movies rated by the current user\n",
        "        id_movies = data[:, 1][data[:, 0] == id_users]\n",
        "        # We get the id of the ratings given by the current_user\n",
        "        id_ratings = data[:, 2][data[:, 0] == id_users]\n",
        "        # \n",
        "        ratings = np.zeros(nb_movies)\n",
        "        # For movies rated by the current user, we replace 0 with the rating\n",
        "        # The first element of ratings is at index 0. However, id_movies start at index 1.\n",
        "        # Therefore, ratings[id_movies - 1] will correspond to the location of the movie we're considering\n",
        "        ratings[id_movies - 1] = id_ratings\n",
        "        new_data.append(list(ratings))\n",
        "    return new_data"
      ],
      "execution_count": null,
      "outputs": []
    },
    {
      "cell_type": "code",
      "metadata": {
        "colab_type": "code",
        "id": "taannOUSmaW_",
        "colab": {}
      },
      "source": [
        "# Applying the convert function to the training and test set.\n",
        "training_set = convert(training_set)\n",
        "test_set = convert(test_set)"
      ],
      "execution_count": null,
      "outputs": []
    },
    {
      "cell_type": "code",
      "metadata": {
        "colab_type": "code",
        "id": "m7JnEEi9maXB",
        "colab": {}
      },
      "source": [
        "# Convert the data into Torch tensors\n",
        "training_set = torch.FloatTensor(training_set)\n",
        "test_set = torch.FloatTensor(test_set)"
      ],
      "execution_count": null,
      "outputs": []
    },
    {
      "cell_type": "code",
      "metadata": {
        "colab_type": "code",
        "id": "CnLZPf4_maXE",
        "colab": {}
      },
      "source": [
        "# Create the SAE (stack autoencoder) class, which is inherited from nn.Module(Pytorch library)\n",
        "class SAE(nn.Module):\n",
        "    # Initializing the class\n",
        "    def __init__(self, ):\n",
        "        # making the class get all the functions from the parent class nn.Module\n",
        "        super(SAE, self).__init__()\n",
        "        # Creating the first encoding layer. The number of input corresponds to the number of movies\n",
        "        #  Decide to encode it into 20 outputs\n",
        "        self.fc1 = nn.Linear(nb_movies, 20)\n",
        "        # Creating the second encoding layer. From 20 inputs to 10 outputs\n",
        "        self.fc2 = nn.Linear(20, 10)\n",
        "        # Creating the first decoding layer. From 20 inputs to 10 outputs\n",
        "        self.fc3 = nn.Linear(10, 20)\n",
        "        # Creating the second hidden layer. From 20 inputs to nb_movies outputs\n",
        "        self.fc4 = nn.Linear(20, nb_movies)\n",
        "\n",
        "        #####  Activation Function: Sigmoid   #######\n",
        "\n",
        "        # Creating the activation fucntion which will fire up specific neurons \n",
        "        self.activation = nn.Sigmoid()\n",
        "        \n",
        "        # Creating the function for forward propagation\n",
        "    def forward(self, x):\n",
        "        x = self.activation(self.fc1(x))\n",
        "        x = self.activation(self.fc2(x))\n",
        "        x = self.activation(self.fc3(x))\n",
        "        # With autoencoder, we don't need an activation function for the last decoding part\n",
        "        x = self.fc4(x)\n",
        "        return x\n",
        "\n",
        "    def predict(self, x): # x: visible nodes\n",
        "        x = self.forward(x)\n",
        "        return x\n",
        "\n",
        "  \n",
        "\n",
        "\n",
        "  "
      ],
      "execution_count": null,
      "outputs": []
    },
    {
      "cell_type": "code",
      "metadata": {
        "colab_type": "code",
        "id": "6CEwXMLpmaXH",
        "colab": {}
      },
      "source": [
        " #Creating an instance of our SAE class\n",
        "sae = SAE()\n",
        "\n",
        "\n",
        " #Defining a criterion which specifies the metric to minimize.\n",
        " #In this case, we want to minimize the MSE (Mean Squared Error)\n",
        "\n",
        "criterion = nn.MSELoss()\n",
        "\n",
        "# Defining the algorithm used to minimize the loss function. \n",
        "#In this case, we'll use RMSprop\n",
        "\n",
        "optimizer = optim.RMSprop(sae.parameters(), lr = 0.01, weight_decay = 0.5)\n"
      ],
      "execution_count": null,
      "outputs": []
    },
    {
      "cell_type": "code",
      "metadata": {
        "colab_type": "code",
        "id": "_hC-7h9_m6Np",
        "colab": {
          "base_uri": "https://localhost:8080/",
          "height": 1000
        },
        "outputId": "79cf7894-2d54-4b2b-f7d9-9b6a3d25b85b"
      },
      "source": [
        "\n",
        "\n",
        "#time\n",
        "time_start = time.time()\n",
        "# Setting the number of epochs\n",
        "nb_epoch = 200\n",
        "\n",
        "# storing the  traning loss calculations\n",
        "losses = [] \n",
        "\n",
        "# Iterating over each epoch\n",
        "for epoch in range(1, nb_epoch + 1):\n",
        "    # Initializing the train_loss which will be updated\n",
        "    train_loss = 0\n",
        "    # Initializing a counter\n",
        "    s = 0.\n",
        "    # Iterating over each user\n",
        "    for id_user in range(nb_users):\n",
        "        # The input corresponds to the ratings given by the current user for each movie\n",
        "        input = Variable(training_set[id_user]).unsqueeze(0)\n",
        "        target = input.clone()\n",
        "        # We don't consider movies NOT rated by the current user. So we specify a conditional statement\n",
        "        if torch.sum(target.data > 0) > 0:\n",
        "            # We use our SAE to get the output from the \n",
        "            output = sae(input)\n",
        "            target.require_grad = False\n",
        "            output[target == 0] = 0\n",
        "            # Defining our loss function, comparing the output with the target\n",
        "            loss = criterion(output, target)\n",
        "            mean_corrector = nb_movies/float(torch.sum(target.data > 0) + 1e-10)\n",
        "            # Computing the gradients necessary to adjust the weights\n",
        "            loss.backward()\n",
        "            # Updating the train_loss\n",
        "            train_loss += np.sqrt(loss.data*mean_corrector)\n",
        "            s += 1.\n",
        "            # Updating the weights of the neural network\n",
        "            optimizer.step()\n",
        "\n",
        "    epoch_loss = train_loss / len(training_set[id_user])\n",
        "    losses.append(epoch_loss)  \n",
        "    print('epoch: '+str(epoch)+' loss: '+str(train_loss/s))\n",
        "time_end = time.time()\n",
        "print('Stacked-Autoencoder(SAE) Training Time : ' +str(round((time_end-time_start)/60,0))+' Minutes. ')"
      ],
      "execution_count": null,
      "outputs": [
        {
          "output_type": "stream",
          "text": [
            "epoch: 1 loss: tensor(1.7720)\n",
            "epoch: 2 loss: tensor(1.0967)\n",
            "epoch: 3 loss: tensor(1.0535)\n",
            "epoch: 4 loss: tensor(1.0383)\n",
            "epoch: 5 loss: tensor(1.0308)\n",
            "epoch: 6 loss: tensor(1.0266)\n",
            "epoch: 7 loss: tensor(1.0242)\n",
            "epoch: 8 loss: tensor(1.0220)\n",
            "epoch: 9 loss: tensor(1.0208)\n",
            "epoch: 10 loss: tensor(1.0194)\n",
            "epoch: 11 loss: tensor(1.0189)\n",
            "epoch: 12 loss: tensor(1.0183)\n",
            "epoch: 13 loss: tensor(1.0181)\n",
            "epoch: 14 loss: tensor(1.0174)\n",
            "epoch: 15 loss: tensor(1.0174)\n",
            "epoch: 16 loss: tensor(1.0169)\n",
            "epoch: 17 loss: tensor(1.0167)\n",
            "epoch: 18 loss: tensor(1.0166)\n",
            "epoch: 19 loss: tensor(1.0163)\n",
            "epoch: 20 loss: tensor(1.0162)\n",
            "epoch: 21 loss: tensor(1.0160)\n",
            "epoch: 22 loss: tensor(1.0157)\n",
            "epoch: 23 loss: tensor(1.0158)\n",
            "epoch: 24 loss: tensor(1.0159)\n",
            "epoch: 25 loss: tensor(1.0157)\n",
            "epoch: 26 loss: tensor(1.0155)\n",
            "epoch: 27 loss: tensor(1.0152)\n",
            "epoch: 28 loss: tensor(1.0149)\n",
            "epoch: 29 loss: tensor(1.0136)\n",
            "epoch: 30 loss: tensor(1.0117)\n",
            "epoch: 31 loss: tensor(1.0095)\n",
            "epoch: 32 loss: tensor(1.0092)\n",
            "epoch: 33 loss: tensor(1.0050)\n",
            "epoch: 34 loss: tensor(1.0049)\n",
            "epoch: 35 loss: tensor(1.0010)\n",
            "epoch: 36 loss: tensor(0.9993)\n",
            "epoch: 37 loss: tensor(0.9967)\n",
            "epoch: 38 loss: tensor(0.9952)\n",
            "epoch: 39 loss: tensor(0.9907)\n",
            "epoch: 40 loss: tensor(0.9923)\n",
            "epoch: 41 loss: tensor(0.9911)\n",
            "epoch: 42 loss: tensor(0.9858)\n",
            "epoch: 43 loss: tensor(0.9846)\n",
            "epoch: 44 loss: tensor(0.9871)\n",
            "epoch: 45 loss: tensor(0.9825)\n",
            "epoch: 46 loss: tensor(0.9799)\n",
            "epoch: 47 loss: tensor(0.9765)\n",
            "epoch: 48 loss: tensor(0.9754)\n",
            "epoch: 49 loss: tensor(0.9720)\n",
            "epoch: 50 loss: tensor(0.9703)\n",
            "epoch: 51 loss: tensor(0.9669)\n",
            "epoch: 52 loss: tensor(0.9695)\n",
            "epoch: 53 loss: tensor(0.9664)\n",
            "epoch: 54 loss: tensor(0.9689)\n",
            "epoch: 55 loss: tensor(0.9665)\n",
            "epoch: 56 loss: tensor(0.9640)\n",
            "epoch: 57 loss: tensor(0.9624)\n",
            "epoch: 58 loss: tensor(0.9634)\n",
            "epoch: 59 loss: tensor(0.9618)\n",
            "epoch: 60 loss: tensor(0.9589)\n",
            "epoch: 61 loss: tensor(0.9582)\n",
            "epoch: 62 loss: tensor(0.9576)\n",
            "epoch: 63 loss: tensor(0.9531)\n",
            "epoch: 64 loss: tensor(0.9539)\n",
            "epoch: 65 loss: tensor(0.9527)\n",
            "epoch: 66 loss: tensor(0.9536)\n",
            "epoch: 67 loss: tensor(0.9532)\n",
            "epoch: 68 loss: tensor(0.9498)\n",
            "epoch: 69 loss: tensor(0.9479)\n",
            "epoch: 70 loss: tensor(0.9489)\n",
            "epoch: 71 loss: tensor(0.9465)\n",
            "epoch: 72 loss: tensor(0.9465)\n",
            "epoch: 73 loss: tensor(0.9437)\n",
            "epoch: 74 loss: tensor(0.9448)\n",
            "epoch: 75 loss: tensor(0.9425)\n",
            "epoch: 76 loss: tensor(0.9439)\n",
            "epoch: 77 loss: tensor(0.9420)\n",
            "epoch: 78 loss: tensor(0.9432)\n",
            "epoch: 79 loss: tensor(0.9407)\n",
            "epoch: 80 loss: tensor(0.9420)\n",
            "epoch: 81 loss: tensor(0.9399)\n",
            "epoch: 82 loss: tensor(0.9415)\n",
            "epoch: 83 loss: tensor(0.9381)\n",
            "epoch: 84 loss: tensor(0.9396)\n",
            "epoch: 85 loss: tensor(0.9372)\n",
            "epoch: 86 loss: tensor(0.9388)\n",
            "epoch: 87 loss: tensor(0.9363)\n",
            "epoch: 88 loss: tensor(0.9383)\n",
            "epoch: 89 loss: tensor(0.9356)\n",
            "epoch: 90 loss: tensor(0.9367)\n",
            "epoch: 91 loss: tensor(0.9347)\n",
            "epoch: 92 loss: tensor(0.9352)\n",
            "epoch: 93 loss: tensor(0.9340)\n",
            "epoch: 94 loss: tensor(0.9351)\n",
            "epoch: 95 loss: tensor(0.9327)\n",
            "epoch: 96 loss: tensor(0.9348)\n",
            "epoch: 97 loss: tensor(0.9328)\n",
            "epoch: 98 loss: tensor(0.9341)\n",
            "epoch: 99 loss: tensor(0.9321)\n",
            "epoch: 100 loss: tensor(0.9334)\n",
            "epoch: 101 loss: tensor(0.9322)\n",
            "epoch: 102 loss: tensor(0.9320)\n",
            "epoch: 103 loss: tensor(0.9306)\n",
            "epoch: 104 loss: tensor(0.9321)\n",
            "epoch: 105 loss: tensor(0.9310)\n",
            "epoch: 106 loss: tensor(0.9323)\n",
            "epoch: 107 loss: tensor(0.9306)\n",
            "epoch: 108 loss: tensor(0.9313)\n",
            "epoch: 109 loss: tensor(0.9297)\n",
            "epoch: 110 loss: tensor(0.9309)\n",
            "epoch: 111 loss: tensor(0.9293)\n",
            "epoch: 112 loss: tensor(0.9307)\n",
            "epoch: 113 loss: tensor(0.9290)\n",
            "epoch: 114 loss: tensor(0.9306)\n",
            "epoch: 115 loss: tensor(0.9282)\n",
            "epoch: 116 loss: tensor(0.9295)\n",
            "epoch: 117 loss: tensor(0.9277)\n",
            "epoch: 118 loss: tensor(0.9287)\n",
            "epoch: 119 loss: tensor(0.9275)\n",
            "epoch: 120 loss: tensor(0.9285)\n",
            "epoch: 121 loss: tensor(0.9269)\n",
            "epoch: 122 loss: tensor(0.9283)\n",
            "epoch: 123 loss: tensor(0.9264)\n",
            "epoch: 124 loss: tensor(0.9280)\n",
            "epoch: 125 loss: tensor(0.9260)\n",
            "epoch: 126 loss: tensor(0.9273)\n",
            "epoch: 127 loss: tensor(0.9257)\n",
            "epoch: 128 loss: tensor(0.9268)\n",
            "epoch: 129 loss: tensor(0.9253)\n",
            "epoch: 130 loss: tensor(0.9263)\n",
            "epoch: 131 loss: tensor(0.9248)\n",
            "epoch: 132 loss: tensor(0.9258)\n",
            "epoch: 133 loss: tensor(0.9242)\n",
            "epoch: 134 loss: tensor(0.9253)\n",
            "epoch: 135 loss: tensor(0.9239)\n",
            "epoch: 136 loss: tensor(0.9247)\n",
            "epoch: 137 loss: tensor(0.9233)\n",
            "epoch: 138 loss: tensor(0.9242)\n",
            "epoch: 139 loss: tensor(0.9228)\n",
            "epoch: 140 loss: tensor(0.9239)\n",
            "epoch: 141 loss: tensor(0.9225)\n",
            "epoch: 142 loss: tensor(0.9238)\n",
            "epoch: 143 loss: tensor(0.9218)\n",
            "epoch: 144 loss: tensor(0.9223)\n",
            "epoch: 145 loss: tensor(0.9213)\n",
            "epoch: 146 loss: tensor(0.9221)\n",
            "epoch: 147 loss: tensor(0.9214)\n",
            "epoch: 148 loss: tensor(0.9222)\n",
            "epoch: 149 loss: tensor(0.9205)\n",
            "epoch: 150 loss: tensor(0.9258)\n",
            "epoch: 151 loss: tensor(0.9205)\n",
            "epoch: 152 loss: tensor(0.9214)\n",
            "epoch: 153 loss: tensor(0.9204)\n",
            "epoch: 154 loss: tensor(0.9212)\n",
            "epoch: 155 loss: tensor(0.9200)\n",
            "epoch: 156 loss: tensor(0.9214)\n",
            "epoch: 157 loss: tensor(0.9198)\n",
            "epoch: 158 loss: tensor(0.9207)\n",
            "epoch: 159 loss: tensor(0.9195)\n",
            "epoch: 160 loss: tensor(0.9202)\n",
            "epoch: 161 loss: tensor(0.9190)\n",
            "epoch: 162 loss: tensor(0.9197)\n",
            "epoch: 163 loss: tensor(0.9180)\n",
            "epoch: 164 loss: tensor(0.9191)\n",
            "epoch: 165 loss: tensor(0.9181)\n",
            "epoch: 166 loss: tensor(0.9189)\n",
            "epoch: 167 loss: tensor(0.9176)\n",
            "epoch: 168 loss: tensor(0.9189)\n",
            "epoch: 169 loss: tensor(0.9175)\n",
            "epoch: 170 loss: tensor(0.9182)\n",
            "epoch: 171 loss: tensor(0.9172)\n",
            "epoch: 172 loss: tensor(0.9181)\n",
            "epoch: 173 loss: tensor(0.9170)\n",
            "epoch: 174 loss: tensor(0.9177)\n",
            "epoch: 175 loss: tensor(0.9165)\n",
            "epoch: 176 loss: tensor(0.9174)\n",
            "epoch: 177 loss: tensor(0.9163)\n",
            "epoch: 178 loss: tensor(0.9173)\n",
            "epoch: 179 loss: tensor(0.9162)\n",
            "epoch: 180 loss: tensor(0.9170)\n",
            "epoch: 181 loss: tensor(0.9156)\n",
            "epoch: 182 loss: tensor(0.9167)\n",
            "epoch: 183 loss: tensor(0.9157)\n",
            "epoch: 184 loss: tensor(0.9167)\n",
            "epoch: 185 loss: tensor(0.9154)\n",
            "epoch: 186 loss: tensor(0.9160)\n",
            "epoch: 187 loss: tensor(0.9150)\n",
            "epoch: 188 loss: tensor(0.9157)\n",
            "epoch: 189 loss: tensor(0.9148)\n",
            "epoch: 190 loss: tensor(0.9156)\n",
            "epoch: 191 loss: tensor(0.9147)\n",
            "epoch: 192 loss: tensor(0.9155)\n",
            "epoch: 193 loss: tensor(0.9143)\n",
            "epoch: 194 loss: tensor(0.9154)\n",
            "epoch: 195 loss: tensor(0.9142)\n",
            "epoch: 196 loss: tensor(0.9151)\n",
            "epoch: 197 loss: tensor(0.9141)\n",
            "epoch: 198 loss: tensor(0.9150)\n",
            "epoch: 199 loss: tensor(0.9140)\n",
            "epoch: 200 loss: tensor(0.9147)\n",
            "Stacked-Autoencoder(SAE) Training Time : 5.0 Minutes. \n"
          ],
          "name": "stdout"
        }
      ]
    },
    {
      "cell_type": "code",
      "metadata": {
        "colab_type": "code",
        "id": "ClMQVNF1maXL",
        "colab": {
          "base_uri": "https://localhost:8080/",
          "height": 295
        },
        "outputId": "cf577e74-8394-4305-d34d-e6be0f90664a"
      },
      "source": [
        "epochs = range(1,201)\n",
        "plt.plot(epochs, losses, 'g', label=' [nb_movies,20,10,10,20,nb_movies] ') # 'g' = color green\n",
        "plt.title('Model architecture - epoch =200')\n",
        "plt.xlabel('Epochs')\n",
        "plt.ylabel('Training  Loss')\n",
        "\n",
        "plt.legend()\n",
        "plt.show()"
      ],
      "execution_count": null,
      "outputs": [
        {
          "output_type": "display_data",
          "data": {
            "image/png": "[encoded data removed]",
            "text/plain": [
              "<Figure size 432x288 with 1 Axes>"
            ]
          },
          "metadata": {
            "tags": [],
            "needs_background": "light"
          }
        }
      ]
    },
    {
      "cell_type": "code",
      "metadata": {
        "id": "qWJ8PKPSp-yX",
        "colab_type": "code",
        "colab": {}
      },
      "source": [
        ""
      ],
      "execution_count": null,
      "outputs": []
    },
    {
      "cell_type": "code",
      "metadata": {
        "colab_type": "code",
        "id": "Sr1G1Zp3p_EQ",
        "colab": {
          "base_uri": "https://localhost:8080/",
          "height": 34
        },
        "outputId": "252f58b2-fe5f-493b-dcad-01d478feb307"
      },
      "source": [
        "# Initializing the test_loss\n",
        "sae.eval()\n",
        "with torch.no_grad():\n",
        "  test_loss = 0\n",
        "  s = 0.\n",
        "  for id_user in range(nb_users):\n",
        "      input = Variable(training_set[id_user]).unsqueeze(0)\n",
        "      target = Variable(test_set[id_user]).unsqueeze(0)\n",
        "      if torch.sum(target.data > 0) > 0:\n",
        "          output = sae(input)\n",
        "          target.require_grad = False\n",
        "          output[(target == 0)] = 0\n",
        "          loss = criterion(output, target)\n",
        "  \n",
        "          mean_corrector = nb_movies/float(torch.sum(target.data > 0) + 1e-10)\n",
        "          test_loss += np.sqrt(loss.data*mean_corrector)\n",
        "          s += 1.\n",
        "  print('test_loss: '+str(test_loss/s))\n",
        "\n",
        "\n",
        "\n"
      ],
      "execution_count": null,
      "outputs": [
        {
          "output_type": "stream",
          "text": [
            "test_loss: tensor(0.9498)\n"
          ],
          "name": "stdout"
        }
      ]
    },
    {
      "cell_type": "code",
      "metadata": {
        "colab_type": "code",
        "id": "TB53Fhvhp_EZ",
        "colab": {}
      },
      "source": [
        "from math import sqrt\n"
      ],
      "execution_count": null,
      "outputs": []
    },
    {
      "cell_type": "code",
      "metadata": {
        "colab_type": "code",
        "id": "80A1LG3gp_Ed",
        "colab": {
          "base_uri": "https://localhost:8080/",
          "height": 34
        },
        "outputId": "fb1eb12d-e6d7-4278-bf0c-ee9df70f4fa8"
      },
      "source": [
        "RMSE = sqrt(0.9498)\n",
        "\n",
        "RMSE"
      ],
      "execution_count": null,
      "outputs": [
        {
          "output_type": "execute_result",
          "data": {
            "text/plain": [
              "0.9745768312452333"
            ]
          },
          "metadata": {
            "tags": []
          },
          "execution_count": 57
        }
      ]
    },
    {
      "cell_type": "markdown",
      "metadata": {
        "id": "kq9u_cDBC8VG",
        "colab_type": "text"
      },
      "source": [
        "#Model architecture: nb_movies,25,25,12,12,25,25,nb_movies\n",
        "\n",
        "* TRAINING LOSS: 0.8931\n",
        "* TEST LOSS: 0.9407\n",
        "* RMSE: 0.9698"
      ]
    },
    {
      "cell_type": "code",
      "metadata": {
        "id": "-sMFWkXK2sjp",
        "colab_type": "code",
        "colab": {}
      },
      "source": [
        "training = ['user_id', 'movie_id', 'rating', 'timestamp' ] #Create each column\n",
        "test = ['user_id', 'movie_id', 'rating', 'timestamp' ]     #Create each column"
      ],
      "execution_count": null,
      "outputs": []
    },
    {
      "cell_type": "code",
      "metadata": {
        "id": "XTAgirYi2inu",
        "colab_type": "code",
        "colab": {}
      },
      "source": [
        "# Preparing the training set and the test set \n",
        "training_set = pd.read_csv('u1.base', names=training, delimiter = '\\t') # Read the file\n",
        "test_set = pd.read_csv('u1.test', names=test, delimiter = '\\t') #Read the file"
      ],
      "execution_count": null,
      "outputs": []
    },
    {
      "cell_type": "code",
      "metadata": {
        "id": "O19NYNPjR9ep",
        "colab_type": "code",
        "colab": {}
      },
      "source": [
        "#Drop 'timestamp' column\n",
        "training_set= training_set.drop([\"timestamp\"], axis=1)"
      ],
      "execution_count": null,
      "outputs": []
    },
    {
      "cell_type": "code",
      "metadata": {
        "id": "OZJv2_-rR-J3",
        "colab_type": "code",
        "colab": {}
      },
      "source": [
        "#Drop 'timestamp' column\n",
        "test_set= test_set.drop([\"timestamp\"], axis=1)"
      ],
      "execution_count": null,
      "outputs": []
    },
    {
      "cell_type": "code",
      "metadata": {
        "id": "3eIY02qj0tlY",
        "colab_type": "code",
        "colab": {
          "base_uri": "https://localhost:8080/",
          "height": 204
        },
        "outputId": "b3e4f7e9-d771-4f59-cbd7-bc2f4394968a"
      },
      "source": [
        "# Visualizing the first elements of the training_set\n",
        "training_set.head()"
      ],
      "execution_count": null,
      "outputs": [
        {
          "output_type": "execute_result",
          "data": {
            "text/html": [
              "<div>\n",
              "<style scoped>\n",
              "    .dataframe tbody tr th:only-of-type {\n",
              "        vertical-align: middle;\n",
              "    }\n",
              "\n",
              "    .dataframe tbody tr th {\n",
              "        vertical-align: top;\n",
              "    }\n",
              "\n",
              "    .dataframe thead th {\n",
              "        text-align: right;\n",
              "    }\n",
              "</style>\n",
              "<table border=\"1\" class=\"dataframe\">\n",
              "  <thead>\n",
              "    <tr style=\"text-align: right;\">\n",
              "      <th></th>\n",
              "      <th>user_id</th>\n",
              "      <th>movie_id</th>\n",
              "      <th>rating</th>\n",
              "    </tr>\n",
              "  </thead>\n",
              "  <tbody>\n",
              "    <tr>\n",
              "      <th>0</th>\n",
              "      <td>1</td>\n",
              "      <td>1</td>\n",
              "      <td>5</td>\n",
              "    </tr>\n",
              "    <tr>\n",
              "      <th>1</th>\n",
              "      <td>1</td>\n",
              "      <td>2</td>\n",
              "      <td>3</td>\n",
              "    </tr>\n",
              "    <tr>\n",
              "      <th>2</th>\n",
              "      <td>1</td>\n",
              "      <td>3</td>\n",
              "      <td>4</td>\n",
              "    </tr>\n",
              "    <tr>\n",
              "      <th>3</th>\n",
              "      <td>1</td>\n",
              "      <td>4</td>\n",
              "      <td>3</td>\n",
              "    </tr>\n",
              "    <tr>\n",
              "      <th>4</th>\n",
              "      <td>1</td>\n",
              "      <td>5</td>\n",
              "      <td>3</td>\n",
              "    </tr>\n",
              "  </tbody>\n",
              "</table>\n",
              "</div>"
            ],
            "text/plain": [
              "   user_id  movie_id  rating\n",
              "0        1         1       5\n",
              "1        1         2       3\n",
              "2        1         3       4\n",
              "3        1         4       3\n",
              "4        1         5       3"
            ]
          },
          "metadata": {
            "tags": []
          },
          "execution_count": 8
        }
      ]
    },
    {
      "cell_type": "code",
      "metadata": {
        "id": "6Ss0o3S01S7W",
        "colab_type": "code",
        "colab": {}
      },
      "source": [
        "# Converting the training and test sets into numpy arrays\n",
        "training_set = np.array(training_set, dtype = 'int')\n",
        "test_set = np.array(test_set, dtype = 'int')"
      ],
      "execution_count": null,
      "outputs": []
    },
    {
      "cell_type": "code",
      "metadata": {
        "id": "MMwVu2i-1cUz",
        "colab_type": "code",
        "colab": {}
      },
      "source": [
        "# Getting the number of users and movies\n",
        "nb_users = int(max(max(training_set[:, 0]), max(test_set[:, 0])))\n",
        "nb_movies = int(max(max(training_set[:, 1]), max(test_set[:, 1])))"
      ],
      "execution_count": null,
      "outputs": []
    },
    {
      "cell_type": "code",
      "metadata": {
        "id": "yyQtN8gg1fPn",
        "colab_type": "code",
        "colab": {
          "base_uri": "https://localhost:8080/",
          "height": 51
        },
        "outputId": "fc7313c8-b212-4bed-ab2c-265be548630f"
      },
      "source": [
        "print(\"Number of users: {}\".format(nb_users))\n",
        "print(\"Number of movies: {}\".format(nb_movies))"
      ],
      "execution_count": null,
      "outputs": [
        {
          "output_type": "stream",
          "text": [
            "Number of users: 943\n",
            "Number of movies: 1682\n"
          ],
          "name": "stdout"
        }
      ]
    },
    {
      "cell_type": "code",
      "metadata": {
        "id": "gFG9B7JH1m5k",
        "colab_type": "code",
        "colab": {}
      },
      "source": [
        "def convert(data):\n",
        "    # Initializing an empty list that will take the list of ratings given by a specific user\n",
        "    new_data = []\n",
        "    # Looping over all the users\n",
        "    for id_users in range(1, nb_users + 1):\n",
        "        # We get the id of the movies rated by the current user\n",
        "        id_movies = data[:, 1][data[:, 0] == id_users]\n",
        "        # We get the id of the ratings given by the current_user\n",
        "        id_ratings = data[:, 2][data[:, 0] == id_users]\n",
        "        # \n",
        "        ratings = np.zeros(nb_movies)\n",
        "        # For movies rated by the current user, we replace 0 with the rating\n",
        "        # The first element of ratings is at index 0. However, id_movies start at index 1.\n",
        "        # Therefore, ratings[id_movies - 1] will correspond to the location of the movie we're considering\n",
        "        ratings[id_movies - 1] = id_ratings\n",
        "        new_data.append(list(ratings))\n",
        "    return new_data"
      ],
      "execution_count": null,
      "outputs": []
    },
    {
      "cell_type": "code",
      "metadata": {
        "colab_type": "code",
        "id": "upg5gJ0On0Q-",
        "colab": {}
      },
      "source": [
        "# Applying the convert function to the training and test set.\n",
        "training_set = convert(training_set)\n",
        "test_set = convert(test_set)"
      ],
      "execution_count": null,
      "outputs": []
    },
    {
      "cell_type": "code",
      "metadata": {
        "colab_type": "code",
        "id": "IXYenOehn0RB",
        "colab": {}
      },
      "source": [
        "# Convert the data into Torch tensors\n",
        "training_set = torch.FloatTensor(training_set)\n",
        "test_set = torch.FloatTensor(test_set)"
      ],
      "execution_count": null,
      "outputs": []
    },
    {
      "cell_type": "code",
      "metadata": {
        "colab_type": "code",
        "id": "uysToQPboWH1",
        "colab": {}
      },
      "source": [
        "# Create the SAE (stack autoencoder) class, which is inherited from nn.Module(Pytorch library)\n",
        "class SAE(nn.Module):\n",
        "    # Initializing the class\n",
        "    def __init__(self, ):\n",
        "        # making the class get all the functions from the parent class nn.Module\n",
        "        super(SAE, self).__init__()\n",
        "        # Creating the first encoding layer. The number of input corresponds to the number of movies\n",
        "        #  Decide to encode it into 25 outputs\n",
        "        self.fc1 = nn.Linear(nb_movies, 25)\n",
        "        # Creating the second encoding layer. From 25 inputs to 12 outputs\n",
        "        self.fc2 = nn.Linear(25, 12)\n",
        "        # Creating the first decoding layer. From 12 inputs to 25 outputs\n",
        "        self.fc3 = nn.Linear(12, 25)\n",
        "        # Creating the second hidden layer. From 25 inputs to nb_movies outputs\n",
        "        self.fc4 = nn.Linear(25, nb_movies)\n",
        "\n",
        "        #####  Activation Function: Sigmoid   #######\n",
        "\n",
        "        # Creating the activation fucntion which will fire up specific neurons \n",
        "        self.activation = nn.Sigmoid()\n",
        "        \n",
        "        # Creating the function for forward propagation\n",
        "    def forward(self, x):\n",
        "        x = self.activation(self.fc1(x))\n",
        "        x = self.activation(self.fc2(x))\n",
        "        x = self.activation(self.fc3(x))\n",
        "        # With autoencoder, we don't need an activation function for the last decoding part\n",
        "        x = self.fc4(x)\n",
        "        return x\n",
        "\n",
        "    def predict(self, x): # x: visible nodes\n",
        "        x = self.forward(x)\n",
        "        return x\n",
        "\n",
        "  \n",
        "\n",
        "\n",
        "  "
      ],
      "execution_count": null,
      "outputs": []
    },
    {
      "cell_type": "code",
      "metadata": {
        "colab_type": "code",
        "id": "8DeqfnSfoWH6",
        "colab": {}
      },
      "source": [
        " #Creating an instance of our SAE class\n",
        "sae = SAE()\n",
        "\n",
        "\n",
        " #Defining a criterion which specifies the metric to minimize.\n",
        " #In this case, we want to minimize the MSE (Mean Squared Error)\n",
        "\n",
        "criterion = nn.MSELoss()\n",
        "\n",
        "# Defining the algorithm used to minimize the loss function. \n",
        "#In this case, we'll use RMSprop\n",
        "\n",
        "optimizer = optim.RMSprop(sae.parameters(), lr = 0.01, weight_decay = 0.5)\n"
      ],
      "execution_count": null,
      "outputs": []
    },
    {
      "cell_type": "code",
      "metadata": {
        "id": "NOAd0dp03sZg",
        "colab_type": "code",
        "colab": {
          "base_uri": "https://localhost:8080/",
          "height": 1000
        },
        "outputId": "d5831ec8-b6b9-4cb8-8994-c3f8099398f7"
      },
      "source": [
        "\n",
        "#time\n",
        "time_start = time.time()\n",
        "# Setting the number of epochs\n",
        "nb_epoch = 200\n",
        "\n",
        "# storing the  traning loss calculations\n",
        "rlosses = [] \n",
        "\n",
        "# Iterating over each epoch\n",
        "for epoch in range(1, nb_epoch + 1):\n",
        "    # Initializing the train_loss which will be updated\n",
        "    train_loss = 0\n",
        "    # Initializing a counter\n",
        "    s = 0.\n",
        "    # Iterating over each user\n",
        "    for id_user in range(nb_users):\n",
        "        # The input corresponds to the ratings given by the current user for each movie\n",
        "        input = Variable(training_set[id_user]).unsqueeze(0)\n",
        "        target = input.clone()\n",
        "        # We don't consider movies NOT rated by the current user. So we specify a conditional statement\n",
        "        if torch.sum(target.data > 0) > 0:\n",
        "            # We use our SAE to get the output from the \n",
        "            output = sae(input)\n",
        "            target.require_grad = False\n",
        "            output[target == 0] = 0\n",
        "            # Defining our loss function, comparing the output with the target\n",
        "            loss = criterion(output, target)\n",
        "            mean_corrector = nb_movies/float(torch.sum(target.data > 0) + 1e-10)\n",
        "            # Computing the gradients necessary to adjust the weights\n",
        "            loss.backward()\n",
        "            # Updating the train_loss\n",
        "            train_loss += np.sqrt(loss.data*mean_corrector)\n",
        "            s += 1.\n",
        "            # Updating the weights of the neural network\n",
        "            optimizer.step()\n",
        "\n",
        "    epoch_loss = train_loss / len(training_set[id_user])\n",
        "    rlosses.append(epoch_loss)  \n",
        "    print('epoch: '+str(epoch)+' loss: '+str(train_loss/s))\n",
        "time_end = time.time()\n",
        "print('Stacked-Autoencoder(SAE) Training Time : ' +str(round((time_end-time_start)/60,0))+' Minutes. ')"
      ],
      "execution_count": null,
      "outputs": [
        {
          "output_type": "stream",
          "text": [
            "epoch: 1 loss: tensor(1.6864)\n",
            "epoch: 2 loss: tensor(1.0828)\n",
            "epoch: 3 loss: tensor(1.0495)\n",
            "epoch: 4 loss: tensor(1.0382)\n",
            "epoch: 5 loss: tensor(1.0327)\n",
            "epoch: 6 loss: tensor(1.0295)\n",
            "epoch: 7 loss: tensor(1.0278)\n",
            "epoch: 8 loss: tensor(1.0263)\n",
            "epoch: 9 loss: tensor(1.0252)\n",
            "epoch: 10 loss: tensor(1.0245)\n",
            "epoch: 11 loss: tensor(1.0242)\n",
            "epoch: 12 loss: tensor(1.0238)\n",
            "epoch: 13 loss: tensor(1.0231)\n",
            "epoch: 14 loss: tensor(1.0230)\n",
            "epoch: 15 loss: tensor(1.0225)\n",
            "epoch: 16 loss: tensor(1.0225)\n",
            "epoch: 17 loss: tensor(1.0223)\n",
            "epoch: 18 loss: tensor(1.0219)\n",
            "epoch: 19 loss: tensor(1.0219)\n",
            "epoch: 20 loss: tensor(1.0215)\n",
            "epoch: 21 loss: tensor(1.0191)\n",
            "epoch: 22 loss: tensor(1.0167)\n",
            "epoch: 23 loss: tensor(1.0145)\n",
            "epoch: 24 loss: tensor(1.0152)\n",
            "epoch: 25 loss: tensor(1.0110)\n",
            "epoch: 26 loss: tensor(1.0122)\n",
            "epoch: 27 loss: tensor(1.0071)\n",
            "epoch: 28 loss: tensor(1.0060)\n",
            "epoch: 29 loss: tensor(1.0032)\n",
            "epoch: 30 loss: tensor(1.0019)\n",
            "epoch: 31 loss: tensor(0.9988)\n",
            "epoch: 32 loss: tensor(0.9989)\n",
            "epoch: 33 loss: tensor(0.9976)\n",
            "epoch: 34 loss: tensor(0.9952)\n",
            "epoch: 35 loss: tensor(0.9933)\n",
            "epoch: 36 loss: tensor(0.9911)\n",
            "epoch: 37 loss: tensor(0.9899)\n",
            "epoch: 38 loss: tensor(0.9909)\n",
            "epoch: 39 loss: tensor(0.9861)\n",
            "epoch: 40 loss: tensor(0.9869)\n",
            "epoch: 41 loss: tensor(0.9825)\n",
            "epoch: 42 loss: tensor(0.9821)\n",
            "epoch: 43 loss: tensor(0.9772)\n",
            "epoch: 44 loss: tensor(0.9766)\n",
            "epoch: 45 loss: tensor(0.9750)\n",
            "epoch: 46 loss: tensor(0.9774)\n",
            "epoch: 47 loss: tensor(0.9782)\n",
            "epoch: 48 loss: tensor(0.9783)\n",
            "epoch: 49 loss: tensor(0.9788)\n",
            "epoch: 50 loss: tensor(0.9786)\n",
            "epoch: 51 loss: tensor(0.9701)\n",
            "epoch: 52 loss: tensor(0.9756)\n",
            "epoch: 53 loss: tensor(0.9708)\n",
            "epoch: 54 loss: tensor(0.9768)\n",
            "epoch: 55 loss: tensor(0.9775)\n",
            "epoch: 56 loss: tensor(0.9776)\n",
            "epoch: 57 loss: tensor(0.9734)\n",
            "epoch: 58 loss: tensor(0.9764)\n",
            "epoch: 59 loss: tensor(0.9678)\n",
            "epoch: 60 loss: tensor(0.9660)\n",
            "epoch: 61 loss: tensor(0.9675)\n",
            "epoch: 62 loss: tensor(0.9678)\n",
            "epoch: 63 loss: tensor(0.9659)\n",
            "epoch: 64 loss: tensor(0.9650)\n",
            "epoch: 65 loss: tensor(0.9619)\n",
            "epoch: 66 loss: tensor(0.9599)\n",
            "epoch: 67 loss: tensor(0.9585)\n",
            "epoch: 68 loss: tensor(0.9586)\n",
            "epoch: 69 loss: tensor(0.9565)\n",
            "epoch: 70 loss: tensor(0.9573)\n",
            "epoch: 71 loss: tensor(0.9534)\n",
            "epoch: 72 loss: tensor(0.9551)\n",
            "epoch: 73 loss: tensor(0.9534)\n",
            "epoch: 74 loss: tensor(0.9528)\n",
            "epoch: 75 loss: tensor(0.9509)\n",
            "epoch: 76 loss: tensor(0.9504)\n",
            "epoch: 77 loss: tensor(0.9484)\n",
            "epoch: 78 loss: tensor(0.9494)\n",
            "epoch: 79 loss: tensor(0.9483)\n",
            "epoch: 80 loss: tensor(0.9482)\n",
            "epoch: 81 loss: tensor(0.9463)\n",
            "epoch: 82 loss: tensor(0.9465)\n",
            "epoch: 83 loss: tensor(0.9450)\n",
            "epoch: 84 loss: tensor(0.9450)\n",
            "epoch: 85 loss: tensor(0.9431)\n",
            "epoch: 86 loss: tensor(0.9434)\n",
            "epoch: 87 loss: tensor(0.9414)\n",
            "epoch: 88 loss: tensor(0.9413)\n",
            "epoch: 89 loss: tensor(0.9399)\n",
            "epoch: 90 loss: tensor(0.9401)\n",
            "epoch: 91 loss: tensor(0.9388)\n",
            "epoch: 92 loss: tensor(0.9388)\n",
            "epoch: 93 loss: tensor(0.9373)\n",
            "epoch: 94 loss: tensor(0.9380)\n",
            "epoch: 95 loss: tensor(0.9363)\n",
            "epoch: 96 loss: tensor(0.9372)\n",
            "epoch: 97 loss: tensor(0.9352)\n",
            "epoch: 98 loss: tensor(0.9362)\n",
            "epoch: 99 loss: tensor(0.9341)\n",
            "epoch: 100 loss: tensor(0.9355)\n",
            "epoch: 101 loss: tensor(0.9335)\n",
            "epoch: 102 loss: tensor(0.9344)\n",
            "epoch: 103 loss: tensor(0.9328)\n",
            "epoch: 104 loss: tensor(0.9339)\n",
            "epoch: 105 loss: tensor(0.9318)\n",
            "epoch: 106 loss: tensor(0.9329)\n",
            "epoch: 107 loss: tensor(0.9310)\n",
            "epoch: 108 loss: tensor(0.9320)\n",
            "epoch: 109 loss: tensor(0.9298)\n",
            "epoch: 110 loss: tensor(0.9312)\n",
            "epoch: 111 loss: tensor(0.9291)\n",
            "epoch: 112 loss: tensor(0.9304)\n",
            "epoch: 113 loss: tensor(0.9286)\n",
            "epoch: 114 loss: tensor(0.9294)\n",
            "epoch: 115 loss: tensor(0.9280)\n",
            "epoch: 116 loss: tensor(0.9286)\n",
            "epoch: 117 loss: tensor(0.9274)\n",
            "epoch: 118 loss: tensor(0.9280)\n",
            "epoch: 119 loss: tensor(0.9266)\n",
            "epoch: 120 loss: tensor(0.9272)\n",
            "epoch: 121 loss: tensor(0.9259)\n",
            "epoch: 122 loss: tensor(0.9267)\n",
            "epoch: 123 loss: tensor(0.9253)\n",
            "epoch: 124 loss: tensor(0.9262)\n",
            "epoch: 125 loss: tensor(0.9248)\n",
            "epoch: 126 loss: tensor(0.9254)\n",
            "epoch: 127 loss: tensor(0.9242)\n",
            "epoch: 128 loss: tensor(0.9249)\n",
            "epoch: 129 loss: tensor(0.9236)\n",
            "epoch: 130 loss: tensor(0.9239)\n",
            "epoch: 131 loss: tensor(0.9229)\n",
            "epoch: 132 loss: tensor(0.9234)\n",
            "epoch: 133 loss: tensor(0.9223)\n",
            "epoch: 134 loss: tensor(0.9229)\n",
            "epoch: 135 loss: tensor(0.9215)\n",
            "epoch: 136 loss: tensor(0.9222)\n",
            "epoch: 137 loss: tensor(0.9210)\n",
            "epoch: 138 loss: tensor(0.9216)\n",
            "epoch: 139 loss: tensor(0.9207)\n",
            "epoch: 140 loss: tensor(0.9213)\n",
            "epoch: 141 loss: tensor(0.9203)\n",
            "epoch: 142 loss: tensor(0.9208)\n",
            "epoch: 143 loss: tensor(0.9197)\n",
            "epoch: 144 loss: tensor(0.9201)\n",
            "epoch: 145 loss: tensor(0.9190)\n",
            "epoch: 146 loss: tensor(0.9195)\n",
            "epoch: 147 loss: tensor(0.9186)\n",
            "epoch: 148 loss: tensor(0.9192)\n",
            "epoch: 149 loss: tensor(0.9183)\n",
            "epoch: 150 loss: tensor(0.9187)\n",
            "epoch: 151 loss: tensor(0.9178)\n",
            "epoch: 152 loss: tensor(0.9182)\n",
            "epoch: 153 loss: tensor(0.9175)\n",
            "epoch: 154 loss: tensor(0.9180)\n",
            "epoch: 155 loss: tensor(0.9172)\n",
            "epoch: 156 loss: tensor(0.9176)\n",
            "epoch: 157 loss: tensor(0.9169)\n",
            "epoch: 158 loss: tensor(0.9171)\n",
            "epoch: 159 loss: tensor(0.9164)\n",
            "epoch: 160 loss: tensor(0.9167)\n",
            "epoch: 161 loss: tensor(0.9161)\n",
            "epoch: 162 loss: tensor(0.9182)\n",
            "epoch: 163 loss: tensor(0.9171)\n",
            "epoch: 164 loss: tensor(0.9187)\n",
            "epoch: 165 loss: tensor(0.9167)\n",
            "epoch: 166 loss: tensor(0.9177)\n",
            "epoch: 167 loss: tensor(0.9159)\n",
            "epoch: 168 loss: tensor(0.9171)\n",
            "epoch: 169 loss: tensor(0.9157)\n",
            "epoch: 170 loss: tensor(0.9166)\n",
            "epoch: 171 loss: tensor(0.9151)\n",
            "epoch: 172 loss: tensor(0.9157)\n",
            "epoch: 173 loss: tensor(0.9142)\n",
            "epoch: 174 loss: tensor(0.9152)\n",
            "epoch: 175 loss: tensor(0.9139)\n",
            "epoch: 176 loss: tensor(0.9143)\n",
            "epoch: 177 loss: tensor(0.9128)\n",
            "epoch: 178 loss: tensor(0.9129)\n",
            "epoch: 179 loss: tensor(0.9112)\n",
            "epoch: 180 loss: tensor(0.9107)\n",
            "epoch: 181 loss: tensor(0.9093)\n",
            "epoch: 182 loss: tensor(0.9085)\n",
            "epoch: 183 loss: tensor(0.9068)\n",
            "epoch: 184 loss: tensor(0.9064)\n",
            "epoch: 185 loss: tensor(0.9044)\n",
            "epoch: 186 loss: tensor(0.9037)\n",
            "epoch: 187 loss: tensor(0.9022)\n",
            "epoch: 188 loss: tensor(0.9016)\n",
            "epoch: 189 loss: tensor(0.9000)\n",
            "epoch: 190 loss: tensor(0.8996)\n",
            "epoch: 191 loss: tensor(0.8987)\n",
            "epoch: 192 loss: tensor(0.8986)\n",
            "epoch: 193 loss: tensor(0.8974)\n",
            "epoch: 194 loss: tensor(0.8975)\n",
            "epoch: 195 loss: tensor(0.8961)\n",
            "epoch: 196 loss: tensor(0.8954)\n",
            "epoch: 197 loss: tensor(0.8946)\n",
            "epoch: 198 loss: tensor(0.8943)\n",
            "epoch: 199 loss: tensor(0.8936)\n",
            "epoch: 200 loss: tensor(0.8931)\n",
            "Stacked-Autoencoder(SAE) Training Time : 6.0 Minutes. \n"
          ],
          "name": "stdout"
        }
      ]
    },
    {
      "cell_type": "code",
      "metadata": {
        "id": "Hjzm4_-Hp-BL",
        "colab_type": "code",
        "colab": {
          "base_uri": "https://localhost:8080/",
          "height": 295
        },
        "outputId": "b8b83eb8-ac28-4d3b-896b-95f6a8a0b9b6"
      },
      "source": [
        "epochs = range(1,201)\n",
        "plt.plot(epochs, rlosses, 'r', label=' [nb_movies,25,25,12,12,25,25,nb_movies] ') # 'g' = color green\n",
        "plt.title('Model architecture - epoch =200')\n",
        "plt.xlabel('Epochs')\n",
        "plt.ylabel('Training  Loss')\n",
        "\n",
        "plt.legend()\n",
        "plt.show()"
      ],
      "execution_count": null,
      "outputs": [
        {
          "output_type": "display_data",
          "data": {
            "image/png": "[encoded data removed]",
            "text/plain": [
              "<Figure size 432x288 with 1 Axes>"
            ]
          },
          "metadata": {
            "tags": [],
            "needs_background": "light"
          }
        }
      ]
    },
    {
      "cell_type": "code",
      "metadata": {
        "id": "f9KmnnPCosSP",
        "colab_type": "code",
        "colab": {}
      },
      "source": [
        ""
      ],
      "execution_count": null,
      "outputs": []
    },
    {
      "cell_type": "code",
      "metadata": {
        "id": "o-x5uFR-qB2r",
        "colab_type": "code",
        "colab": {
          "base_uri": "https://localhost:8080/",
          "height": 34
        },
        "outputId": "ed521dfb-001a-4adc-eef5-2620d74c437a"
      },
      "source": [
        "# Initializing the test_loss\n",
        "sae.eval()\n",
        "with torch.no_grad():\n",
        "  test_loss = 0\n",
        "  s = 0.\n",
        "  for id_user in range(nb_users):\n",
        "      input = Variable(training_set[id_user]).unsqueeze(0)\n",
        "      target = Variable(test_set[id_user]).unsqueeze(0)\n",
        "      if torch.sum(target.data > 0) > 0:\n",
        "          output = sae(input)\n",
        "          target.require_grad = False\n",
        "          output[(target == 0)] = 0\n",
        "          loss = criterion(output, target)\n",
        "  \n",
        "          mean_corrector = nb_movies/float(torch.sum(target.data > 0) + 1e-10)\n",
        "          test_loss += np.sqrt(loss.data*mean_corrector)\n",
        "          s += 1.\n",
        "          pred = sae(target)\n",
        "  print('test_loss: '+str(test_loss/s))\n",
        "\n",
        "\n",
        "\n"
      ],
      "execution_count": null,
      "outputs": [
        {
          "output_type": "stream",
          "text": [
            "test_loss: tensor(0.9407)\n"
          ],
          "name": "stdout"
        }
      ]
    },
    {
      "cell_type": "code",
      "metadata": {
        "id": "_TI01_6XF5a7",
        "colab_type": "code",
        "colab": {}
      },
      "source": [
        "from math import sqrt\n"
      ],
      "execution_count": null,
      "outputs": []
    },
    {
      "cell_type": "code",
      "metadata": {
        "id": "oDDia2UdE3gU",
        "colab_type": "code",
        "colab": {
          "base_uri": "https://localhost:8080/",
          "height": 34
        },
        "outputId": "4ada4ddd-8b0a-42aa-8f12-cd4b3ce92717"
      },
      "source": [
        "RMSE = sqrt(0.9407)\n",
        "\n",
        "RMSE"
      ],
      "execution_count": null,
      "outputs": [
        {
          "output_type": "execute_result",
          "data": {
            "text/plain": [
              "0.9698969017374991"
            ]
          },
          "metadata": {
            "tags": []
          },
          "execution_count": 24
        }
      ]
    },
    {
      "cell_type": "code",
      "metadata": {
        "id": "LkALeHJXotMq",
        "colab_type": "code",
        "colab": {}
      },
      "source": [
        ""
      ],
      "execution_count": null,
      "outputs": []
    },
    {
      "cell_type": "markdown",
      "metadata": {
        "id": "mo5fjh-0PgqJ",
        "colab_type": "text"
      },
      "source": [
        "#Model architecture: nb_movies,20,20,nb_movies\n",
        "\n",
        "* TRAINING LOSS: 0.7062\n",
        "* TEST LOSS: 1.0230\n",
        "* RMSE: 1.0220"
      ]
    },
    {
      "cell_type": "code",
      "metadata": {
        "id": "LfeMGQt_otYa",
        "colab_type": "code",
        "colab": {}
      },
      "source": [
        ""
      ],
      "execution_count": null,
      "outputs": []
    },
    {
      "cell_type": "code",
      "metadata": {
        "colab_type": "code",
        "id": "gFC2wIKIo06i",
        "colab": {}
      },
      "source": [
        "training = ['user_id', 'movie_id', 'rating', 'timestamp' ] #Create each column\n",
        "test = ['user_id', 'movie_id', 'rating', 'timestamp' ]     #Create each column"
      ],
      "execution_count": null,
      "outputs": []
    },
    {
      "cell_type": "code",
      "metadata": {
        "colab_type": "code",
        "id": "TPsIleXYo06n",
        "colab": {}
      },
      "source": [
        "# Preparing the training set and the test set \n",
        "training_set = pd.read_csv('u1.base', names=training, delimiter = '\\t') # Read the file\n",
        "test_set = pd.read_csv('u1.test', names=test, delimiter = '\\t') #Read the file"
      ],
      "execution_count": null,
      "outputs": []
    },
    {
      "cell_type": "code",
      "metadata": {
        "colab_type": "code",
        "id": "Ii9lf6zTo06q",
        "colab": {}
      },
      "source": [
        "#Drop 'timestamp' column\n",
        "training_set= training_set.drop([\"timestamp\"], axis=1)"
      ],
      "execution_count": null,
      "outputs": []
    },
    {
      "cell_type": "code",
      "metadata": {
        "colab_type": "code",
        "id": "nuHWNe3vo06s",
        "colab": {}
      },
      "source": [
        "#Drop 'timestamp' column\n",
        "test_set= test_set.drop([\"timestamp\"], axis=1)"
      ],
      "execution_count": null,
      "outputs": []
    },
    {
      "cell_type": "code",
      "metadata": {
        "colab_type": "code",
        "id": "DavDt1INo06w",
        "colab": {
          "base_uri": "https://localhost:8080/",
          "height": 204
        },
        "outputId": "aa3b1070-cd05-4b8b-b055-2aef43bdbe7e"
      },
      "source": [
        "# Visualizing the first elements of the training_set\n",
        "training_set.head()"
      ],
      "execution_count": null,
      "outputs": [
        {
          "output_type": "execute_result",
          "data": {
            "text/html": [
              "<div>\n",
              "<style scoped>\n",
              "    .dataframe tbody tr th:only-of-type {\n",
              "        vertical-align: middle;\n",
              "    }\n",
              "\n",
              "    .dataframe tbody tr th {\n",
              "        vertical-align: top;\n",
              "    }\n",
              "\n",
              "    .dataframe thead th {\n",
              "        text-align: right;\n",
              "    }\n",
              "</style>\n",
              "<table border=\"1\" class=\"dataframe\">\n",
              "  <thead>\n",
              "    <tr style=\"text-align: right;\">\n",
              "      <th></th>\n",
              "      <th>user_id</th>\n",
              "      <th>movie_id</th>\n",
              "      <th>rating</th>\n",
              "    </tr>\n",
              "  </thead>\n",
              "  <tbody>\n",
              "    <tr>\n",
              "      <th>0</th>\n",
              "      <td>1</td>\n",
              "      <td>1</td>\n",
              "      <td>5</td>\n",
              "    </tr>\n",
              "    <tr>\n",
              "      <th>1</th>\n",
              "      <td>1</td>\n",
              "      <td>2</td>\n",
              "      <td>3</td>\n",
              "    </tr>\n",
              "    <tr>\n",
              "      <th>2</th>\n",
              "      <td>1</td>\n",
              "      <td>3</td>\n",
              "      <td>4</td>\n",
              "    </tr>\n",
              "    <tr>\n",
              "      <th>3</th>\n",
              "      <td>1</td>\n",
              "      <td>4</td>\n",
              "      <td>3</td>\n",
              "    </tr>\n",
              "    <tr>\n",
              "      <th>4</th>\n",
              "      <td>1</td>\n",
              "      <td>5</td>\n",
              "      <td>3</td>\n",
              "    </tr>\n",
              "  </tbody>\n",
              "</table>\n",
              "</div>"
            ],
            "text/plain": [
              "   user_id  movie_id  rating\n",
              "0        1         1       5\n",
              "1        1         2       3\n",
              "2        1         3       4\n",
              "3        1         4       3\n",
              "4        1         5       3"
            ]
          },
          "metadata": {
            "tags": []
          },
          "execution_count": 29
        }
      ]
    },
    {
      "cell_type": "code",
      "metadata": {
        "colab_type": "code",
        "id": "OuzWyVJSo06z",
        "colab": {}
      },
      "source": [
        "# Converting the training and test sets into numpy arrays\n",
        "training_set = np.array(training_set, dtype = 'int')\n",
        "test_set = np.array(test_set, dtype = 'int')"
      ],
      "execution_count": null,
      "outputs": []
    },
    {
      "cell_type": "code",
      "metadata": {
        "colab_type": "code",
        "id": "iY9Ox80Lo062",
        "colab": {}
      },
      "source": [
        "# Getting the number of users and movies\n",
        "nb_users = int(max(max(training_set[:, 0]), max(test_set[:, 0])))\n",
        "nb_movies = int(max(max(training_set[:, 1]), max(test_set[:, 1])))"
      ],
      "execution_count": null,
      "outputs": []
    },
    {
      "cell_type": "code",
      "metadata": {
        "colab_type": "code",
        "id": "WeV9EAmLo066",
        "colab": {
          "base_uri": "https://localhost:8080/",
          "height": 51
        },
        "outputId": "af7ee522-563d-4689-bbfe-90139180c4ec"
      },
      "source": [
        "print(\"Number of users: {}\".format(nb_users))\n",
        "print(\"Number of movies: {}\".format(nb_movies))"
      ],
      "execution_count": null,
      "outputs": [
        {
          "output_type": "stream",
          "text": [
            "Number of users: 943\n",
            "Number of movies: 1682\n"
          ],
          "name": "stdout"
        }
      ]
    },
    {
      "cell_type": "code",
      "metadata": {
        "colab_type": "code",
        "id": "T0wfufs0o069",
        "colab": {}
      },
      "source": [
        "def convert(data):\n",
        "    # Initializing an empty list that will take the list of ratings given by a specific user\n",
        "    new_data = []\n",
        "    # Looping over all the users\n",
        "    for id_users in range(1, nb_users + 1):\n",
        "        # We get the id of the movies rated by the current user\n",
        "        id_movies = data[:, 1][data[:, 0] == id_users]\n",
        "        # We get the id of the ratings given by the current_user\n",
        "        id_ratings = data[:, 2][data[:, 0] == id_users]\n",
        "        # \n",
        "        ratings = np.zeros(nb_movies)\n",
        "        # For movies rated by the current user, we replace 0 with the rating\n",
        "        # The first element of ratings is at index 0. However, id_movies start at index 1.\n",
        "        # Therefore, ratings[id_movies - 1] will correspond to the location of the movie we're considering\n",
        "        ratings[id_movies - 1] = id_ratings\n",
        "        new_data.append(list(ratings))\n",
        "    return new_data"
      ],
      "execution_count": null,
      "outputs": []
    },
    {
      "cell_type": "code",
      "metadata": {
        "colab_type": "code",
        "id": "PiWaBih2o06_",
        "colab": {}
      },
      "source": [
        "# Applying the convert function to the training and test set.\n",
        "training_set = convert(training_set)\n",
        "test_set = convert(test_set)"
      ],
      "execution_count": null,
      "outputs": []
    },
    {
      "cell_type": "code",
      "metadata": {
        "colab_type": "code",
        "id": "asVNcEHuo07B",
        "colab": {}
      },
      "source": [
        "# Convert the data into Torch tensors\n",
        "training_set = torch.FloatTensor(training_set)\n",
        "test_set = torch.FloatTensor(test_set)"
      ],
      "execution_count": null,
      "outputs": []
    },
    {
      "cell_type": "code",
      "metadata": {
        "colab_type": "code",
        "id": "X37HN1ZQo07E",
        "colab": {}
      },
      "source": [
        "# Create the SAE (stack autoencoder) class, which is inherited from nn.Module(Pytorch library)\n",
        "class SAE(nn.Module):\n",
        "    # Initializing the class\n",
        "    def __init__(self, ):\n",
        "        # making the class get all the functions from the parent class nn.Module\n",
        "        super(SAE, self).__init__()\n",
        "        # Creating the first encoding layer. The number of input corresponds to the number of movies\n",
        "        #  Decide to encode it into 20 outputs\n",
        "        self.fc1 = nn.Linear(nb_movies, 20)    \n",
        "        # Creating the second hidden layer. From 20 inputs to nb_movies outputs\n",
        "        self.fc4 = nn.Linear(20, nb_movies)\n",
        "\n",
        "        #####  Activation Function: Sigmoid   #######\n",
        "\n",
        "        # Creating the activation fucntion which will fire up specific neurons \n",
        "        self.activation = nn.Sigmoid()\n",
        "        \n",
        "        # Creating the function for forward propagation\n",
        "    def forward(self, x):\n",
        "        x = self.activation(self.fc1(x))\n",
        "        # With autoencoder, we don't need an activation function for the last decoding part\n",
        "        x = self.fc4(x)\n",
        "        return x\n",
        "\n",
        "    def predict(self, x): # x: visible nodes\n",
        "        x = self.forward(x)\n",
        "        return x\n",
        "\n",
        "  \n",
        "\n",
        "\n",
        "  "
      ],
      "execution_count": null,
      "outputs": []
    },
    {
      "cell_type": "code",
      "metadata": {
        "colab_type": "code",
        "id": "sxlUpY1Jo07I",
        "colab": {}
      },
      "source": [
        " #Creating an instance of our SAE class\n",
        "sae = SAE()\n",
        "\n",
        "\n",
        " #Defining a criterion which specifies the metric to minimize.\n",
        " #In this case, we want to minimize the MSE (Mean Squared Error)\n",
        "\n",
        "criterion = nn.MSELoss()\n",
        "\n",
        "# Defining the algorithm used to minimize the loss function. \n",
        "#In this case, we'll use RMSprop\n",
        "\n",
        "optimizer = optim.RMSprop(sae.parameters(), lr = 0.01, weight_decay = 0.5)\n"
      ],
      "execution_count": null,
      "outputs": []
    },
    {
      "cell_type": "code",
      "metadata": {
        "colab_type": "code",
        "id": "XF0FmwcNo07M",
        "colab": {
          "base_uri": "https://localhost:8080/",
          "height": 1000
        },
        "outputId": "6e74cd77-faee-4e59-f3ac-0b41a8615d51"
      },
      "source": [
        "\n",
        "#time\n",
        "time_start = time.time()\n",
        "# Setting the number of epochs\n",
        "nb_epoch = 200\n",
        "\n",
        "# storing the  traning loss calculations\n",
        "alosses = [] \n",
        "\n",
        "# Iterating over each epoch\n",
        "for epoch in range(1, nb_epoch + 1):\n",
        "    # Initializing the train_loss which will be updated\n",
        "    train_loss = 0\n",
        "    # Initializing a counter\n",
        "    s = 0.\n",
        "    # Iterating over each user\n",
        "    for id_user in range(nb_users):\n",
        "        # The input corresponds to the ratings given by the current user for each movie\n",
        "        input = Variable(training_set[id_user]).unsqueeze(0)\n",
        "        target = input.clone()\n",
        "        # We don't consider movies NOT rated by the current user. So we specify a conditional statement\n",
        "        if torch.sum(target.data > 0) > 0:\n",
        "            # We use our SAE to get the output from the \n",
        "            output = sae(input)\n",
        "            target.require_grad = False\n",
        "            output[target == 0] = 0\n",
        "            # Defining our loss function, comparing the output with the target\n",
        "            loss = criterion(output, target)\n",
        "            mean_corrector = nb_movies/float(torch.sum(target.data > 0) + 1e-10)\n",
        "            # Computing the gradients necessary to adjust the weights\n",
        "            loss.backward()\n",
        "            # Updating the train_loss\n",
        "            train_loss += np.sqrt(loss.data*mean_corrector)\n",
        "            s += 1.\n",
        "            # Updating the weights of the neural network\n",
        "            optimizer.step()\n",
        "\n",
        "    epoch_loss = train_loss / len(training_set[id_user])\n",
        "    alosses.append(epoch_loss)  \n",
        "    print('epoch: '+str(epoch)+' loss: '+str(train_loss/s))\n",
        "time_end = time.time()\n",
        "print('Stacked-Autoencoder(SAE) Training Time : ' +str(round((time_end-time_start)/60,0))+' Minutes. ')"
      ],
      "execution_count": null,
      "outputs": [
        {
          "output_type": "stream",
          "text": [
            "epoch: 1 loss: tensor(1.6976)\n",
            "epoch: 2 loss: tensor(1.0970)\n",
            "epoch: 3 loss: tensor(1.0543)\n",
            "epoch: 4 loss: tensor(1.0385)\n",
            "epoch: 5 loss: tensor(1.0305)\n",
            "epoch: 6 loss: tensor(1.0258)\n",
            "epoch: 7 loss: tensor(1.0227)\n",
            "epoch: 8 loss: tensor(1.0201)\n",
            "epoch: 9 loss: tensor(1.0183)\n",
            "epoch: 10 loss: tensor(1.0168)\n",
            "epoch: 11 loss: tensor(1.0157)\n",
            "epoch: 12 loss: tensor(1.0147)\n",
            "epoch: 13 loss: tensor(1.0140)\n",
            "epoch: 14 loss: tensor(1.0133)\n",
            "epoch: 15 loss: tensor(1.0129)\n",
            "epoch: 16 loss: tensor(1.0122)\n",
            "epoch: 17 loss: tensor(1.0115)\n",
            "epoch: 18 loss: tensor(1.0113)\n",
            "epoch: 19 loss: tensor(1.0107)\n",
            "epoch: 20 loss: tensor(1.0104)\n",
            "epoch: 21 loss: tensor(1.0096)\n",
            "epoch: 22 loss: tensor(1.0092)\n",
            "epoch: 23 loss: tensor(1.0089)\n",
            "epoch: 24 loss: tensor(1.0080)\n",
            "epoch: 25 loss: tensor(1.0076)\n",
            "epoch: 26 loss: tensor(1.0069)\n",
            "epoch: 27 loss: tensor(1.0052)\n",
            "epoch: 28 loss: tensor(1.0029)\n",
            "epoch: 29 loss: tensor(1.0012)\n",
            "epoch: 30 loss: tensor(0.9991)\n",
            "epoch: 31 loss: tensor(0.9970)\n",
            "epoch: 32 loss: tensor(0.9953)\n",
            "epoch: 33 loss: tensor(0.9976)\n",
            "epoch: 34 loss: tensor(0.9929)\n",
            "epoch: 35 loss: tensor(0.9866)\n",
            "epoch: 36 loss: tensor(0.9828)\n",
            "epoch: 37 loss: tensor(0.9767)\n",
            "epoch: 38 loss: tensor(0.9739)\n",
            "epoch: 39 loss: tensor(0.9714)\n",
            "epoch: 40 loss: tensor(0.9667)\n",
            "epoch: 41 loss: tensor(0.9672)\n",
            "epoch: 42 loss: tensor(0.9662)\n",
            "epoch: 43 loss: tensor(0.9603)\n",
            "epoch: 44 loss: tensor(0.9578)\n",
            "epoch: 45 loss: tensor(0.9540)\n",
            "epoch: 46 loss: tensor(0.9596)\n",
            "epoch: 47 loss: tensor(0.9505)\n",
            "epoch: 48 loss: tensor(0.9471)\n",
            "epoch: 49 loss: tensor(0.9433)\n",
            "epoch: 50 loss: tensor(0.9416)\n",
            "epoch: 51 loss: tensor(0.9402)\n",
            "epoch: 52 loss: tensor(0.9366)\n",
            "epoch: 53 loss: tensor(0.9328)\n",
            "epoch: 54 loss: tensor(0.9346)\n",
            "epoch: 55 loss: tensor(0.9339)\n",
            "epoch: 56 loss: tensor(0.9387)\n",
            "epoch: 57 loss: tensor(0.9365)\n",
            "epoch: 58 loss: tensor(0.9292)\n",
            "epoch: 59 loss: tensor(0.9198)\n",
            "epoch: 60 loss: tensor(0.9169)\n",
            "epoch: 61 loss: tensor(0.9124)\n",
            "epoch: 62 loss: tensor(0.9103)\n",
            "epoch: 63 loss: tensor(0.9071)\n",
            "epoch: 64 loss: tensor(0.9044)\n",
            "epoch: 65 loss: tensor(0.9003)\n",
            "epoch: 66 loss: tensor(0.9002)\n",
            "epoch: 67 loss: tensor(0.8962)\n",
            "epoch: 68 loss: tensor(0.8951)\n",
            "epoch: 69 loss: tensor(0.8920)\n",
            "epoch: 70 loss: tensor(0.8959)\n",
            "epoch: 71 loss: tensor(0.8958)\n",
            "epoch: 72 loss: tensor(0.8934)\n",
            "epoch: 73 loss: tensor(0.8926)\n",
            "epoch: 74 loss: tensor(0.8945)\n",
            "epoch: 75 loss: tensor(0.8894)\n",
            "epoch: 76 loss: tensor(0.8867)\n",
            "epoch: 77 loss: tensor(0.8886)\n",
            "epoch: 78 loss: tensor(0.8919)\n",
            "epoch: 79 loss: tensor(0.8862)\n",
            "epoch: 80 loss: tensor(0.8843)\n",
            "epoch: 81 loss: tensor(0.8807)\n",
            "epoch: 82 loss: tensor(0.8784)\n",
            "epoch: 83 loss: tensor(0.8751)\n",
            "epoch: 84 loss: tensor(0.8728)\n",
            "epoch: 85 loss: tensor(0.8705)\n",
            "epoch: 86 loss: tensor(0.8663)\n",
            "epoch: 87 loss: tensor(0.8632)\n",
            "epoch: 88 loss: tensor(0.8613)\n",
            "epoch: 89 loss: tensor(0.8575)\n",
            "epoch: 90 loss: tensor(0.8562)\n",
            "epoch: 91 loss: tensor(0.8526)\n",
            "epoch: 92 loss: tensor(0.8517)\n",
            "epoch: 93 loss: tensor(0.8488)\n",
            "epoch: 94 loss: tensor(0.8467)\n",
            "epoch: 95 loss: tensor(0.8434)\n",
            "epoch: 96 loss: tensor(0.8437)\n",
            "epoch: 97 loss: tensor(0.8402)\n",
            "epoch: 98 loss: tensor(0.8395)\n",
            "epoch: 99 loss: tensor(0.8357)\n",
            "epoch: 100 loss: tensor(0.8348)\n",
            "epoch: 101 loss: tensor(0.8315)\n",
            "epoch: 102 loss: tensor(0.8306)\n",
            "epoch: 103 loss: tensor(0.8272)\n",
            "epoch: 104 loss: tensor(0.8261)\n",
            "epoch: 105 loss: tensor(0.8234)\n",
            "epoch: 106 loss: tensor(0.8225)\n",
            "epoch: 107 loss: tensor(0.8191)\n",
            "epoch: 108 loss: tensor(0.8187)\n",
            "epoch: 109 loss: tensor(0.8163)\n",
            "epoch: 110 loss: tensor(0.8147)\n",
            "epoch: 111 loss: tensor(0.8121)\n",
            "epoch: 112 loss: tensor(0.8106)\n",
            "epoch: 113 loss: tensor(0.8083)\n",
            "epoch: 114 loss: tensor(0.8072)\n",
            "epoch: 115 loss: tensor(0.8048)\n",
            "epoch: 116 loss: tensor(0.8034)\n",
            "epoch: 117 loss: tensor(0.8012)\n",
            "epoch: 118 loss: tensor(0.7994)\n",
            "epoch: 119 loss: tensor(0.7976)\n",
            "epoch: 120 loss: tensor(0.7964)\n",
            "epoch: 121 loss: tensor(0.7943)\n",
            "epoch: 122 loss: tensor(0.7937)\n",
            "epoch: 123 loss: tensor(0.7919)\n",
            "epoch: 124 loss: tensor(0.7900)\n",
            "epoch: 125 loss: tensor(0.7878)\n",
            "epoch: 126 loss: tensor(0.7869)\n",
            "epoch: 127 loss: tensor(0.7849)\n",
            "epoch: 128 loss: tensor(0.7837)\n",
            "epoch: 129 loss: tensor(0.7814)\n",
            "epoch: 130 loss: tensor(0.7806)\n",
            "epoch: 131 loss: tensor(0.7783)\n",
            "epoch: 132 loss: tensor(0.7780)\n",
            "epoch: 133 loss: tensor(0.7755)\n",
            "epoch: 134 loss: tensor(0.7755)\n",
            "epoch: 135 loss: tensor(0.7738)\n",
            "epoch: 136 loss: tensor(0.7723)\n",
            "epoch: 137 loss: tensor(0.7702)\n",
            "epoch: 138 loss: tensor(0.7695)\n",
            "epoch: 139 loss: tensor(0.7671)\n",
            "epoch: 140 loss: tensor(0.7668)\n",
            "epoch: 141 loss: tensor(0.7646)\n",
            "epoch: 142 loss: tensor(0.7638)\n",
            "epoch: 143 loss: tensor(0.7614)\n",
            "epoch: 144 loss: tensor(0.7612)\n",
            "epoch: 145 loss: tensor(0.7590)\n",
            "epoch: 146 loss: tensor(0.7587)\n",
            "epoch: 147 loss: tensor(0.7575)\n",
            "epoch: 148 loss: tensor(0.7567)\n",
            "epoch: 149 loss: tensor(0.7548)\n",
            "epoch: 150 loss: tensor(0.7568)\n",
            "epoch: 151 loss: tensor(0.7533)\n",
            "epoch: 152 loss: tensor(0.7518)\n",
            "epoch: 153 loss: tensor(0.7499)\n",
            "epoch: 154 loss: tensor(0.7495)\n",
            "epoch: 155 loss: tensor(0.7473)\n",
            "epoch: 156 loss: tensor(0.7471)\n",
            "epoch: 157 loss: tensor(0.7464)\n",
            "epoch: 158 loss: tensor(0.7462)\n",
            "epoch: 159 loss: tensor(0.7441)\n",
            "epoch: 160 loss: tensor(0.7434)\n",
            "epoch: 161 loss: tensor(0.7404)\n",
            "epoch: 162 loss: tensor(0.7407)\n",
            "epoch: 163 loss: tensor(0.7387)\n",
            "epoch: 164 loss: tensor(0.7390)\n",
            "epoch: 165 loss: tensor(0.7372)\n",
            "epoch: 166 loss: tensor(0.7361)\n",
            "epoch: 167 loss: tensor(0.7344)\n",
            "epoch: 168 loss: tensor(0.7341)\n",
            "epoch: 169 loss: tensor(0.7326)\n",
            "epoch: 170 loss: tensor(0.7329)\n",
            "epoch: 171 loss: tensor(0.7313)\n",
            "epoch: 172 loss: tensor(0.7307)\n",
            "epoch: 173 loss: tensor(0.7281)\n",
            "epoch: 174 loss: tensor(0.7282)\n",
            "epoch: 175 loss: tensor(0.7259)\n",
            "epoch: 176 loss: tensor(0.7274)\n",
            "epoch: 177 loss: tensor(0.7251)\n",
            "epoch: 178 loss: tensor(0.7245)\n",
            "epoch: 179 loss: tensor(0.7228)\n",
            "epoch: 180 loss: tensor(0.7227)\n",
            "epoch: 181 loss: tensor(0.7204)\n",
            "epoch: 182 loss: tensor(0.7210)\n",
            "epoch: 183 loss: tensor(0.7189)\n",
            "epoch: 184 loss: tensor(0.7187)\n",
            "epoch: 185 loss: tensor(0.7167)\n",
            "epoch: 186 loss: tensor(0.7174)\n",
            "epoch: 187 loss: tensor(0.7159)\n",
            "epoch: 188 loss: tensor(0.7159)\n",
            "epoch: 189 loss: tensor(0.7139)\n",
            "epoch: 190 loss: tensor(0.7137)\n",
            "epoch: 191 loss: tensor(0.7114)\n",
            "epoch: 192 loss: tensor(0.7124)\n",
            "epoch: 193 loss: tensor(0.7118)\n",
            "epoch: 194 loss: tensor(0.7113)\n",
            "epoch: 195 loss: tensor(0.7091)\n",
            "epoch: 196 loss: tensor(0.7094)\n",
            "epoch: 197 loss: tensor(0.7081)\n",
            "epoch: 198 loss: tensor(0.7077)\n",
            "epoch: 199 loss: tensor(0.7054)\n",
            "epoch: 200 loss: tensor(0.7062)\n",
            "Stacked-Autoencoder(SAE) Training Time : 4.0 Minutes. \n"
          ],
          "name": "stdout"
        }
      ]
    },
    {
      "cell_type": "code",
      "metadata": {
        "colab_type": "code",
        "id": "JiTeD326o07P",
        "colab": {
          "base_uri": "https://localhost:8080/",
          "height": 295
        },
        "outputId": "625d5bff-cadf-4406-9401-06ccb15f572b"
      },
      "source": [
        "epochs = range(1,201)\n",
        "plt.plot(epochs, alosses, 'b', label=' [nb_movies,20, 20, nb_movies] ') # 'g' = color green\n",
        "plt.title('Model architecture - epoch =200')\n",
        "plt.xlabel('Epochs')\n",
        "plt.ylabel('Training  Loss')\n",
        "\n",
        "plt.legend()\n",
        "plt.show()"
      ],
      "execution_count": null,
      "outputs": [
        {
          "output_type": "display_data",
          "data": {
            "image/png": "[encoded data removed]",
            "text/plain": [
              "<Figure size 432x288 with 1 Axes>"
            ]
          },
          "metadata": {
            "tags": [],
            "needs_background": "light"
          }
        }
      ]
    },
    {
      "cell_type": "code",
      "metadata": {
        "colab_type": "code",
        "id": "QvtMSGhOo07S",
        "colab": {
          "base_uri": "https://localhost:8080/",
          "height": 34
        },
        "outputId": "881ca4fe-17f7-45f2-daed-6e9771af0a94"
      },
      "source": [
        "# Initializing the test_loss\n",
        "sae.eval()\n",
        "with torch.no_grad():\n",
        "  test_loss = 0\n",
        "  s = 0.\n",
        "  for id_user in range(nb_users):\n",
        "      input = Variable(training_set[id_user]).unsqueeze(0)\n",
        "      target = Variable(test_set[id_user]).unsqueeze(0)\n",
        "      if torch.sum(target.data > 0) > 0:\n",
        "          output = sae(input)\n",
        "          target.require_grad = False\n",
        "          output[(target == 0)] = 0\n",
        "          loss = criterion(output, target)\n",
        "  \n",
        "          mean_corrector = nb_movies/float(torch.sum(target.data > 0) + 1e-10)\n",
        "          test_loss += np.sqrt(loss.data*mean_corrector)\n",
        "          s += 1.\n",
        "          pred = sae(target)\n",
        "  print('test_loss: '+str(test_loss/s))\n",
        "\n",
        "\n",
        "\n"
      ],
      "execution_count": null,
      "outputs": [
        {
          "output_type": "stream",
          "text": [
            "test_loss: tensor(1.0220)\n"
          ],
          "name": "stdout"
        }
      ]
    },
    {
      "cell_type": "code",
      "metadata": {
        "colab_type": "code",
        "id": "sta_1871o07V",
        "colab": {}
      },
      "source": [
        "from math import sqrt\n"
      ],
      "execution_count": null,
      "outputs": []
    },
    {
      "cell_type": "code",
      "metadata": {
        "colab_type": "code",
        "id": "NyYAUI30o07Y",
        "colab": {
          "base_uri": "https://localhost:8080/",
          "height": 34
        },
        "outputId": "7b63efa1-a0d7-4f9c-d6df-f2a19ca5bdd2"
      },
      "source": [
        "RMSE = sqrt(1.0220)\n",
        "\n",
        "RMSE"
      ],
      "execution_count": null,
      "outputs": [
        {
          "output_type": "execute_result",
          "data": {
            "text/plain": [
              "1.010940156488009"
            ]
          },
          "metadata": {
            "tags": []
          },
          "execution_count": 41
        }
      ]
    },
    {
      "cell_type": "code",
      "metadata": {
        "id": "LDwMsQiBuNmj",
        "colab_type": "code",
        "colab": {
          "base_uri": "https://localhost:8080/",
          "height": 295
        },
        "outputId": "b5b9af7e-6ac5-496a-ca3a-fc42393f041e"
      },
      "source": [
        "epochs = range(1,201)\n",
        "plt.plot(epochs, losses, 'g', label=' [nb_movies,20,10,10,20,nb_movies] ') \n",
        "plt.plot(epochs, rlosses, 'r', label=' [nb_movies,25,12,12,25,nb_movies] ') \n",
        "plt.plot(epochs, alosses, 'b', label=' [nb_movies,20,20,nb_movies] ') \n",
        "\n",
        "plt.title('Model architecture - epoch =200')\n",
        "plt.xlabel('Epochs')\n",
        "plt.ylabel('Training  Loss')\n",
        "\n",
        "plt.legend()\n",
        "plt.show()"
      ],
      "execution_count": null,
      "outputs": [
        {
          "output_type": "display_data",
          "data": {
            "image/png": "[encoded data removed]",
            "text/plain": [
              "<Figure size 432x288 with 1 Axes>"
            ]
          },
          "metadata": {
            "tags": [],
            "needs_background": "light"
          }
        }
      ]
    }
  ]
}