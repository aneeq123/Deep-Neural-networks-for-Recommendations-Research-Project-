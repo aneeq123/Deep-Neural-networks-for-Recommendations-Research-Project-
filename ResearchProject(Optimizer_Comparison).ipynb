{
  "nbformat": 4,
  "nbformat_minor": 0,
  "metadata": {
    "colab": {
      "name": "ResearchProject(Optimizer Comparison).ipynb",
      "provenance": []
    },
    "kernelspec": {
      "name": "python3",
      "display_name": "Python 3"
    }
  },
  "cells": [
    {
      "cell_type": "code",
      "metadata": {
        "id": "-zRO3mzGGX-I",
        "colab_type": "code",
        "colab": {}
      },
      "source": [
        ""
      ],
      "execution_count": null,
      "outputs": []
    },
    {
      "cell_type": "markdown",
      "metadata": {
        "id": "oOdOOm3SunmD",
        "colab_type": "text"
      },
      "source": [
        "\n",
        "# **Building A Movie Recommandation System With Pytorch(Optimizers)**\n",
        "In this project, we are trying to predict the ratings that a user will give to an unseen movie, based on the ratings he gave to other movies. We will use the movielens dataset.The Main folder, which is ml-100k contains informations about 100 000 movies. We will use AutoEncoders to create our recommandation system. Let's start by importing the required libraries.\n",
        "\n",
        "\n",
        "\n"
      ]
    },
    {
      "cell_type": "code",
      "metadata": {
        "id": "cJFk78Otshgl",
        "colab_type": "code",
        "colab": {}
      },
      "source": [
        ""
      ],
      "execution_count": null,
      "outputs": []
    },
    {
      "cell_type": "code",
      "metadata": {
        "id": "WHjISKiVSRpf",
        "colab_type": "code",
        "colab": {}
      },
      "source": [
        "# AutoEncoders\n",
        "\n",
        "# Importing the libraries\n",
        "\n",
        "import numpy as np\n",
        "import pandas as pd\n",
        "import torch\n",
        "import torch.nn as nn\n",
        "import torch.nn.parallel\n",
        "import torch.optim as optim\n",
        "import torch.utils.data\n",
        "from torch.autograd import Variable\n",
        "from torchvision import datasets, transforms\n",
        "from torch.utils.data import Dataset\n",
        "import time\n",
        "\n",
        "import matplotlib.pyplot as plt\n"
      ],
      "execution_count": null,
      "outputs": []
    },
    {
      "cell_type": "markdown",
      "metadata": {
        "id": "TPL0uZf7C7pp",
        "colab_type": "text"
      },
      "source": [
        ""
      ]
    },
    {
      "cell_type": "code",
      "metadata": {
        "id": "O9kM0xA6ncI6",
        "colab_type": "code",
        "colab": {
          "resources": {
            "http://localhost:8080/nbextensions/google.colab/files.js": {
              "data": "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",
              "ok": true,
              "headers": [
                [
                  "content-type",
                  "application/javascript"
                ]
              ],
              "status": 200,
              "status_text": ""
            }
          },
          "base_uri": "https://localhost:8080/",
          "height": 72
        },
        "outputId": "06149fae-9eb2-4d3f-ef6f-6ad6e1c9c18b"
      },
      "source": [
        "from google.colab import files\n",
        "uploaded = files.upload()"
      ],
      "execution_count": null,
      "outputs": [
        {
          "output_type": "display_data",
          "data": {
            "text/html": [
              "\n",
              "     <input type=\"file\" id=\"files-56c347ed-7574-4b61-9308-01b45280c714\" name=\"files[]\" multiple disabled\n",
              "        style=\"border:none\" />\n",
              "     <output id=\"result-56c347ed-7574-4b61-9308-01b45280c714\">\n",
              "      Upload widget is only available when the cell has been executed in the\n",
              "      current browser session. Please rerun this cell to enable.\n",
              "      </output>\n",
              "      <script src=\"/nbextensions/google.colab/files.js\"></script> "
            ],
            "text/plain": [
              "<IPython.core.display.HTML object>"
            ]
          },
          "metadata": {
            "tags": []
          }
        },
        {
          "output_type": "stream",
          "text": [
            "Saving u1.base to u1.base\n"
          ],
          "name": "stdout"
        }
      ]
    },
    {
      "cell_type": "code",
      "metadata": {
        "id": "qZqjzECzoDeV",
        "colab_type": "code",
        "colab": {
          "resources": {
            "http://localhost:8080/nbextensions/google.colab/files.js": {
              "data": "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",
              "ok": true,
              "headers": [
                [
                  "content-type",
                  "application/javascript"
                ]
              ],
              "status": 200,
              "status_text": ""
            }
          },
          "base_uri": "https://localhost:8080/",
          "height": 72
        },
        "outputId": "a2e4decc-af28-49c0-a33c-32635c1f76cc"
      },
      "source": [
        "from google.colab import files\n",
        "uploaded = files.upload()"
      ],
      "execution_count": null,
      "outputs": [
        {
          "output_type": "display_data",
          "data": {
            "text/html": [
              "\n",
              "     <input type=\"file\" id=\"files-70ae1448-1c97-4534-8fd3-86409c87108f\" name=\"files[]\" multiple disabled\n",
              "        style=\"border:none\" />\n",
              "     <output id=\"result-70ae1448-1c97-4534-8fd3-86409c87108f\">\n",
              "      Upload widget is only available when the cell has been executed in the\n",
              "      current browser session. Please rerun this cell to enable.\n",
              "      </output>\n",
              "      <script src=\"/nbextensions/google.colab/files.js\"></script> "
            ],
            "text/plain": [
              "<IPython.core.display.HTML object>"
            ]
          },
          "metadata": {
            "tags": []
          }
        },
        {
          "output_type": "stream",
          "text": [
            "Saving u1.test to u1.test\n"
          ],
          "name": "stdout"
        }
      ]
    },
    {
      "cell_type": "code",
      "metadata": {
        "id": "rgh6k70JKKsw",
        "colab_type": "code",
        "colab": {}
      },
      "source": [
        ""
      ],
      "execution_count": null,
      "outputs": []
    },
    {
      "cell_type": "markdown",
      "metadata": {
        "colab_type": "text",
        "id": "UQ_tTufmKK8l"
      },
      "source": [
        "# RMSprop\n",
        "\n",
        "* TRAINING LOSS: 0.9147\n",
        "* TEST LOSS: 0.9498\n",
        "* RMSE: 0.9745"
      ]
    },
    {
      "cell_type": "code",
      "metadata": {
        "id": "-sMFWkXK2sjp",
        "colab_type": "code",
        "colab": {}
      },
      "source": [
        "training = ['user_id', 'movie_id', 'rating', 'timestamp' ] #Create each column\n",
        "test = ['user_id', 'movie_id', 'rating', 'timestamp' ]     #Create each column"
      ],
      "execution_count": null,
      "outputs": []
    },
    {
      "cell_type": "code",
      "metadata": {
        "id": "XTAgirYi2inu",
        "colab_type": "code",
        "colab": {}
      },
      "source": [
        "# Preparing the training set and the test set \n",
        "training_set = pd.read_csv('u1.base', names=training, delimiter = '\\t') # Read the file\n",
        "test_set = pd.read_csv('u1.test', names=test, delimiter = '\\t') #Read the file"
      ],
      "execution_count": null,
      "outputs": []
    },
    {
      "cell_type": "code",
      "metadata": {
        "id": "O19NYNPjR9ep",
        "colab_type": "code",
        "colab": {}
      },
      "source": [
        "#Drop 'timestamp' column\n",
        "training_set= training_set.drop([\"timestamp\"], axis=1)"
      ],
      "execution_count": null,
      "outputs": []
    },
    {
      "cell_type": "code",
      "metadata": {
        "id": "OZJv2_-rR-J3",
        "colab_type": "code",
        "colab": {}
      },
      "source": [
        "#Drop 'timestamp' column\n",
        "test_set= test_set.drop([\"timestamp\"], axis=1)"
      ],
      "execution_count": null,
      "outputs": []
    },
    {
      "cell_type": "code",
      "metadata": {
        "id": "3eIY02qj0tlY",
        "colab_type": "code",
        "colab": {
          "base_uri": "https://localhost:8080/",
          "height": 204
        },
        "outputId": "e3817561-343a-41f0-8127-7a698e4874f2"
      },
      "source": [
        "# Visualizing the first elements of the training_set\n",
        "training_set.head()"
      ],
      "execution_count": null,
      "outputs": [
        {
          "output_type": "execute_result",
          "data": {
            "text/html": [
              "<div>\n",
              "<style scoped>\n",
              "    .dataframe tbody tr th:only-of-type {\n",
              "        vertical-align: middle;\n",
              "    }\n",
              "\n",
              "    .dataframe tbody tr th {\n",
              "        vertical-align: top;\n",
              "    }\n",
              "\n",
              "    .dataframe thead th {\n",
              "        text-align: right;\n",
              "    }\n",
              "</style>\n",
              "<table border=\"1\" class=\"dataframe\">\n",
              "  <thead>\n",
              "    <tr style=\"text-align: right;\">\n",
              "      <th></th>\n",
              "      <th>user_id</th>\n",
              "      <th>movie_id</th>\n",
              "      <th>rating</th>\n",
              "    </tr>\n",
              "  </thead>\n",
              "  <tbody>\n",
              "    <tr>\n",
              "      <th>0</th>\n",
              "      <td>1</td>\n",
              "      <td>1</td>\n",
              "      <td>5</td>\n",
              "    </tr>\n",
              "    <tr>\n",
              "      <th>1</th>\n",
              "      <td>1</td>\n",
              "      <td>2</td>\n",
              "      <td>3</td>\n",
              "    </tr>\n",
              "    <tr>\n",
              "      <th>2</th>\n",
              "      <td>1</td>\n",
              "      <td>3</td>\n",
              "      <td>4</td>\n",
              "    </tr>\n",
              "    <tr>\n",
              "      <th>3</th>\n",
              "      <td>1</td>\n",
              "      <td>4</td>\n",
              "      <td>3</td>\n",
              "    </tr>\n",
              "    <tr>\n",
              "      <th>4</th>\n",
              "      <td>1</td>\n",
              "      <td>5</td>\n",
              "      <td>3</td>\n",
              "    </tr>\n",
              "  </tbody>\n",
              "</table>\n",
              "</div>"
            ],
            "text/plain": [
              "   user_id  movie_id  rating\n",
              "0        1         1       5\n",
              "1        1         2       3\n",
              "2        1         3       4\n",
              "3        1         4       3\n",
              "4        1         5       3"
            ]
          },
          "metadata": {
            "tags": []
          },
          "execution_count": 8
        }
      ]
    },
    {
      "cell_type": "code",
      "metadata": {
        "id": "6Ss0o3S01S7W",
        "colab_type": "code",
        "colab": {}
      },
      "source": [
        "# Converting the training and test sets into numpy arrays\n",
        "training_set = np.array(training_set, dtype = 'int')\n",
        "test_set = np.array(test_set, dtype = 'int')"
      ],
      "execution_count": null,
      "outputs": []
    },
    {
      "cell_type": "code",
      "metadata": {
        "id": "MMwVu2i-1cUz",
        "colab_type": "code",
        "colab": {}
      },
      "source": [
        "# Getting the number of users and movies\n",
        "nb_users = int(max(max(training_set[:, 0]), max(test_set[:, 0])))\n",
        "nb_movies = int(max(max(training_set[:, 1]), max(test_set[:, 1])))"
      ],
      "execution_count": null,
      "outputs": []
    },
    {
      "cell_type": "code",
      "metadata": {
        "id": "yyQtN8gg1fPn",
        "colab_type": "code",
        "colab": {
          "base_uri": "https://localhost:8080/",
          "height": 51
        },
        "outputId": "4ba76dfc-8915-4d45-f5b0-f5aa653243de"
      },
      "source": [
        "print(\"Number of users: {}\".format(nb_users))\n",
        "print(\"Number of movies: {}\".format(nb_movies))"
      ],
      "execution_count": null,
      "outputs": [
        {
          "output_type": "stream",
          "text": [
            "Number of users: 943\n",
            "Number of movies: 1682\n"
          ],
          "name": "stdout"
        }
      ]
    },
    {
      "cell_type": "code",
      "metadata": {
        "id": "gFG9B7JH1m5k",
        "colab_type": "code",
        "colab": {}
      },
      "source": [
        "def convert(data):\n",
        "    # Initializing an empty list that will take the list of ratings given by a specific user\n",
        "    new_data = []\n",
        "    # Looping over all the users\n",
        "    for id_users in range(1, nb_users + 1):\n",
        "        # We get the id of the movies rated by the current user\n",
        "        id_movies = data[:, 1][data[:, 0] == id_users]\n",
        "        # We get the id of the ratings given by the current_user\n",
        "        id_ratings = data[:, 2][data[:, 0] == id_users]\n",
        "        # \n",
        "        ratings = np.zeros(nb_movies)\n",
        "        # For movies rated by the current user, we replace 0 with the rating\n",
        "        # The first element of ratings is at index 0. However, id_movies start at index 1.\n",
        "        # Therefore, ratings[id_movies - 1] will correspond to the location of the movie we're considering\n",
        "        ratings[id_movies - 1] = id_ratings\n",
        "        new_data.append(list(ratings))\n",
        "    return new_data"
      ],
      "execution_count": null,
      "outputs": []
    },
    {
      "cell_type": "code",
      "metadata": {
        "colab_type": "code",
        "id": "upg5gJ0On0Q-",
        "colab": {}
      },
      "source": [
        "# Applying the convert function to the training and test set.\n",
        "training_set = convert(training_set)\n",
        "test_set = convert(test_set)"
      ],
      "execution_count": null,
      "outputs": []
    },
    {
      "cell_type": "code",
      "metadata": {
        "colab_type": "code",
        "id": "IXYenOehn0RB",
        "colab": {}
      },
      "source": [
        "# Convert the data into Torch tensors\n",
        "training_set = torch.FloatTensor(training_set)\n",
        "test_set = torch.FloatTensor(test_set)"
      ],
      "execution_count": null,
      "outputs": []
    },
    {
      "cell_type": "code",
      "metadata": {
        "colab_type": "code",
        "id": "uysToQPboWH1",
        "colab": {}
      },
      "source": [
        "# Create the SAE (stack autoencoder) class, which is inherited from nn.Module(Pytorch library)\n",
        "class SAE(nn.Module):\n",
        "    # Initializing the class\n",
        "    def __init__(self, ):\n",
        "        # making the class get all the functions from the parent class nn.Module\n",
        "        super(SAE, self).__init__()\n",
        "        # Creating the first encoding layer. The number of input corresponds to the number of movies\n",
        "        #  Decide to encode it into 20 outputs\n",
        "        self.fc1 = nn.Linear(nb_movies, 20)\n",
        "        # Creating the second encoding layer. From 20 inputs to 10 outputs\n",
        "        self.fc2 = nn.Linear(20, 10)\n",
        "        # Creating the first decoding layer. From 10 inputs to 20 outputs\n",
        "        self.fc3 = nn.Linear(10, 20)\n",
        "        # Creating the second hidden layer. From 20 inputs to nb_movies outputs\n",
        "        self.fc4 = nn.Linear(20, nb_movies)\n",
        "\n",
        "        #####  Activation Function: Sigmoid   #######\n",
        "\n",
        "        # Creating the activation fucntion which will fire up specific neurons \n",
        "        self.activation = nn.Sigmoid()\n",
        "        \n",
        "        # Creating the function for forward propagation\n",
        "    def forward(self, x):\n",
        "        x = self.activation(self.fc1(x))\n",
        "        x = self.activation(self.fc2(x))\n",
        "        x = self.activation(self.fc3(x))\n",
        "        # With autoencoder, we don't need an activation function for the last decoding part\n",
        "        x = self.fc4(x)\n",
        "        return x\n",
        "\n",
        "    def predict(self, x): # x: visible nodes\n",
        "        x = self.forward(x)\n",
        "        return x\n",
        "\n",
        "  \n",
        "\n",
        "\n",
        "  "
      ],
      "execution_count": null,
      "outputs": []
    },
    {
      "cell_type": "code",
      "metadata": {
        "colab_type": "code",
        "id": "8DeqfnSfoWH6",
        "colab": {}
      },
      "source": [
        " #Creating an instance of our SAE class\n",
        "sae = SAE()\n",
        "\n",
        "\n",
        " #Defining a criterion which specifies the metric to minimize.\n",
        " #In this case, we want to minimize the MSE (Mean Squared Error)\n",
        "\n",
        "criterion = nn.MSELoss()\n",
        "\n",
        "# Defining the algorithm used to minimize the loss function. \n",
        "#In this case, we'll use RMSprop\n",
        "\n",
        "optimizer = optim.RMSprop(sae.parameters(), lr = 0.01, weight_decay = 0.5)\n"
      ],
      "execution_count": null,
      "outputs": []
    },
    {
      "cell_type": "code",
      "metadata": {
        "id": "vyhwJ6lNG-b5",
        "colab_type": "code",
        "colab": {}
      },
      "source": [
        ""
      ],
      "execution_count": null,
      "outputs": []
    },
    {
      "cell_type": "code",
      "metadata": {
        "colab_type": "code",
        "id": "Cv16v3JuG-xa",
        "colab": {
          "base_uri": "https://localhost:8080/",
          "height": 1000
        },
        "outputId": "79cf7894-2d54-4b2b-f7d9-9b6a3d25b85b"
      },
      "source": [
        "\n",
        "\n",
        "#time\n",
        "time_start = time.time()\n",
        "# Setting the number of epochs\n",
        "nb_epoch = 200\n",
        "\n",
        "# storing the  traning loss calculations\n",
        "losses = [] \n",
        "\n",
        "# Iterating over each epoch\n",
        "for epoch in range(1, nb_epoch + 1):\n",
        "    # Initializing the train_loss which will be updated\n",
        "    train_loss = 0\n",
        "    # Initializing a counter\n",
        "    s = 0.\n",
        "    # Iterating over each user\n",
        "    for id_user in range(nb_users):\n",
        "        # The input corresponds to the ratings given by the current user for each movie\n",
        "        input = Variable(training_set[id_user]).unsqueeze(0)\n",
        "        target = input.clone()\n",
        "        # We don't consider movies NOT rated by the current user. So we specify a conditional statement\n",
        "        if torch.sum(target.data > 0) > 0:\n",
        "            # We use our SAE to get the output from the \n",
        "            output = sae(input)\n",
        "            target.require_grad = False\n",
        "            output[target == 0] = 0\n",
        "            # Defining our loss function, comparing the output with the target\n",
        "            loss = criterion(output, target)\n",
        "            mean_corrector = nb_movies/float(torch.sum(target.data > 0) + 1e-10)\n",
        "            # Computing the gradients necessary to adjust the weights\n",
        "            loss.backward()\n",
        "            # Updating the train_loss\n",
        "            train_loss += np.sqrt(loss.data*mean_corrector)\n",
        "            s += 1.\n",
        "            # Updating the weights of the neural network\n",
        "            optimizer.step()\n",
        "\n",
        "    epoch_loss = train_loss / len(training_set[id_user])\n",
        "    losses.append(epoch_loss)  \n",
        "    print('epoch: '+str(epoch)+' loss: '+str(train_loss/s))\n",
        "time_end = time.time()\n",
        "print('Stacked-Autoencoder(SAE) Training Time : ' +str(round((time_end-time_start)/60,0))+' Minutes. ')"
      ],
      "execution_count": null,
      "outputs": [
        {
          "output_type": "stream",
          "text": [
            "epoch: 1 loss: tensor(1.7720)\n",
            "epoch: 2 loss: tensor(1.0967)\n",
            "epoch: 3 loss: tensor(1.0535)\n",
            "epoch: 4 loss: tensor(1.0383)\n",
            "epoch: 5 loss: tensor(1.0308)\n",
            "epoch: 6 loss: tensor(1.0266)\n",
            "epoch: 7 loss: tensor(1.0242)\n",
            "epoch: 8 loss: tensor(1.0220)\n",
            "epoch: 9 loss: tensor(1.0208)\n",
            "epoch: 10 loss: tensor(1.0194)\n",
            "epoch: 11 loss: tensor(1.0189)\n",
            "epoch: 12 loss: tensor(1.0183)\n",
            "epoch: 13 loss: tensor(1.0181)\n",
            "epoch: 14 loss: tensor(1.0174)\n",
            "epoch: 15 loss: tensor(1.0174)\n",
            "epoch: 16 loss: tensor(1.0169)\n",
            "epoch: 17 loss: tensor(1.0167)\n",
            "epoch: 18 loss: tensor(1.0166)\n",
            "epoch: 19 loss: tensor(1.0163)\n",
            "epoch: 20 loss: tensor(1.0162)\n",
            "epoch: 21 loss: tensor(1.0160)\n",
            "epoch: 22 loss: tensor(1.0157)\n",
            "epoch: 23 loss: tensor(1.0158)\n",
            "epoch: 24 loss: tensor(1.0159)\n",
            "epoch: 25 loss: tensor(1.0157)\n",
            "epoch: 26 loss: tensor(1.0155)\n",
            "epoch: 27 loss: tensor(1.0152)\n",
            "epoch: 28 loss: tensor(1.0149)\n",
            "epoch: 29 loss: tensor(1.0136)\n",
            "epoch: 30 loss: tensor(1.0117)\n",
            "epoch: 31 loss: tensor(1.0095)\n",
            "epoch: 32 loss: tensor(1.0092)\n",
            "epoch: 33 loss: tensor(1.0050)\n",
            "epoch: 34 loss: tensor(1.0049)\n",
            "epoch: 35 loss: tensor(1.0010)\n",
            "epoch: 36 loss: tensor(0.9993)\n",
            "epoch: 37 loss: tensor(0.9967)\n",
            "epoch: 38 loss: tensor(0.9952)\n",
            "epoch: 39 loss: tensor(0.9907)\n",
            "epoch: 40 loss: tensor(0.9923)\n",
            "epoch: 41 loss: tensor(0.9911)\n",
            "epoch: 42 loss: tensor(0.9858)\n",
            "epoch: 43 loss: tensor(0.9846)\n",
            "epoch: 44 loss: tensor(0.9871)\n",
            "epoch: 45 loss: tensor(0.9825)\n",
            "epoch: 46 loss: tensor(0.9799)\n",
            "epoch: 47 loss: tensor(0.9765)\n",
            "epoch: 48 loss: tensor(0.9754)\n",
            "epoch: 49 loss: tensor(0.9720)\n",
            "epoch: 50 loss: tensor(0.9703)\n",
            "epoch: 51 loss: tensor(0.9669)\n",
            "epoch: 52 loss: tensor(0.9695)\n",
            "epoch: 53 loss: tensor(0.9664)\n",
            "epoch: 54 loss: tensor(0.9689)\n",
            "epoch: 55 loss: tensor(0.9665)\n",
            "epoch: 56 loss: tensor(0.9640)\n",
            "epoch: 57 loss: tensor(0.9624)\n",
            "epoch: 58 loss: tensor(0.9634)\n",
            "epoch: 59 loss: tensor(0.9618)\n",
            "epoch: 60 loss: tensor(0.9589)\n",
            "epoch: 61 loss: tensor(0.9582)\n",
            "epoch: 62 loss: tensor(0.9576)\n",
            "epoch: 63 loss: tensor(0.9531)\n",
            "epoch: 64 loss: tensor(0.9539)\n",
            "epoch: 65 loss: tensor(0.9527)\n",
            "epoch: 66 loss: tensor(0.9536)\n",
            "epoch: 67 loss: tensor(0.9532)\n",
            "epoch: 68 loss: tensor(0.9498)\n",
            "epoch: 69 loss: tensor(0.9479)\n",
            "epoch: 70 loss: tensor(0.9489)\n",
            "epoch: 71 loss: tensor(0.9465)\n",
            "epoch: 72 loss: tensor(0.9465)\n",
            "epoch: 73 loss: tensor(0.9437)\n",
            "epoch: 74 loss: tensor(0.9448)\n",
            "epoch: 75 loss: tensor(0.9425)\n",
            "epoch: 76 loss: tensor(0.9439)\n",
            "epoch: 77 loss: tensor(0.9420)\n",
            "epoch: 78 loss: tensor(0.9432)\n",
            "epoch: 79 loss: tensor(0.9407)\n",
            "epoch: 80 loss: tensor(0.9420)\n",
            "epoch: 81 loss: tensor(0.9399)\n",
            "epoch: 82 loss: tensor(0.9415)\n",
            "epoch: 83 loss: tensor(0.9381)\n",
            "epoch: 84 loss: tensor(0.9396)\n",
            "epoch: 85 loss: tensor(0.9372)\n",
            "epoch: 86 loss: tensor(0.9388)\n",
            "epoch: 87 loss: tensor(0.9363)\n",
            "epoch: 88 loss: tensor(0.9383)\n",
            "epoch: 89 loss: tensor(0.9356)\n",
            "epoch: 90 loss: tensor(0.9367)\n",
            "epoch: 91 loss: tensor(0.9347)\n",
            "epoch: 92 loss: tensor(0.9352)\n",
            "epoch: 93 loss: tensor(0.9340)\n",
            "epoch: 94 loss: tensor(0.9351)\n",
            "epoch: 95 loss: tensor(0.9327)\n",
            "epoch: 96 loss: tensor(0.9348)\n",
            "epoch: 97 loss: tensor(0.9328)\n",
            "epoch: 98 loss: tensor(0.9341)\n",
            "epoch: 99 loss: tensor(0.9321)\n",
            "epoch: 100 loss: tensor(0.9334)\n",
            "epoch: 101 loss: tensor(0.9322)\n",
            "epoch: 102 loss: tensor(0.9320)\n",
            "epoch: 103 loss: tensor(0.9306)\n",
            "epoch: 104 loss: tensor(0.9321)\n",
            "epoch: 105 loss: tensor(0.9310)\n",
            "epoch: 106 loss: tensor(0.9323)\n",
            "epoch: 107 loss: tensor(0.9306)\n",
            "epoch: 108 loss: tensor(0.9313)\n",
            "epoch: 109 loss: tensor(0.9297)\n",
            "epoch: 110 loss: tensor(0.9309)\n",
            "epoch: 111 loss: tensor(0.9293)\n",
            "epoch: 112 loss: tensor(0.9307)\n",
            "epoch: 113 loss: tensor(0.9290)\n",
            "epoch: 114 loss: tensor(0.9306)\n",
            "epoch: 115 loss: tensor(0.9282)\n",
            "epoch: 116 loss: tensor(0.9295)\n",
            "epoch: 117 loss: tensor(0.9277)\n",
            "epoch: 118 loss: tensor(0.9287)\n",
            "epoch: 119 loss: tensor(0.9275)\n",
            "epoch: 120 loss: tensor(0.9285)\n",
            "epoch: 121 loss: tensor(0.9269)\n",
            "epoch: 122 loss: tensor(0.9283)\n",
            "epoch: 123 loss: tensor(0.9264)\n",
            "epoch: 124 loss: tensor(0.9280)\n",
            "epoch: 125 loss: tensor(0.9260)\n",
            "epoch: 126 loss: tensor(0.9273)\n",
            "epoch: 127 loss: tensor(0.9257)\n",
            "epoch: 128 loss: tensor(0.9268)\n",
            "epoch: 129 loss: tensor(0.9253)\n",
            "epoch: 130 loss: tensor(0.9263)\n",
            "epoch: 131 loss: tensor(0.9248)\n",
            "epoch: 132 loss: tensor(0.9258)\n",
            "epoch: 133 loss: tensor(0.9242)\n",
            "epoch: 134 loss: tensor(0.9253)\n",
            "epoch: 135 loss: tensor(0.9239)\n",
            "epoch: 136 loss: tensor(0.9247)\n",
            "epoch: 137 loss: tensor(0.9233)\n",
            "epoch: 138 loss: tensor(0.9242)\n",
            "epoch: 139 loss: tensor(0.9228)\n",
            "epoch: 140 loss: tensor(0.9239)\n",
            "epoch: 141 loss: tensor(0.9225)\n",
            "epoch: 142 loss: tensor(0.9238)\n",
            "epoch: 143 loss: tensor(0.9218)\n",
            "epoch: 144 loss: tensor(0.9223)\n",
            "epoch: 145 loss: tensor(0.9213)\n",
            "epoch: 146 loss: tensor(0.9221)\n",
            "epoch: 147 loss: tensor(0.9214)\n",
            "epoch: 148 loss: tensor(0.9222)\n",
            "epoch: 149 loss: tensor(0.9205)\n",
            "epoch: 150 loss: tensor(0.9258)\n",
            "epoch: 151 loss: tensor(0.9205)\n",
            "epoch: 152 loss: tensor(0.9214)\n",
            "epoch: 153 loss: tensor(0.9204)\n",
            "epoch: 154 loss: tensor(0.9212)\n",
            "epoch: 155 loss: tensor(0.9200)\n",
            "epoch: 156 loss: tensor(0.9214)\n",
            "epoch: 157 loss: tensor(0.9198)\n",
            "epoch: 158 loss: tensor(0.9207)\n",
            "epoch: 159 loss: tensor(0.9195)\n",
            "epoch: 160 loss: tensor(0.9202)\n",
            "epoch: 161 loss: tensor(0.9190)\n",
            "epoch: 162 loss: tensor(0.9197)\n",
            "epoch: 163 loss: tensor(0.9180)\n",
            "epoch: 164 loss: tensor(0.9191)\n",
            "epoch: 165 loss: tensor(0.9181)\n",
            "epoch: 166 loss: tensor(0.9189)\n",
            "epoch: 167 loss: tensor(0.9176)\n",
            "epoch: 168 loss: tensor(0.9189)\n",
            "epoch: 169 loss: tensor(0.9175)\n",
            "epoch: 170 loss: tensor(0.9182)\n",
            "epoch: 171 loss: tensor(0.9172)\n",
            "epoch: 172 loss: tensor(0.9181)\n",
            "epoch: 173 loss: tensor(0.9170)\n",
            "epoch: 174 loss: tensor(0.9177)\n",
            "epoch: 175 loss: tensor(0.9165)\n",
            "epoch: 176 loss: tensor(0.9174)\n",
            "epoch: 177 loss: tensor(0.9163)\n",
            "epoch: 178 loss: tensor(0.9173)\n",
            "epoch: 179 loss: tensor(0.9162)\n",
            "epoch: 180 loss: tensor(0.9170)\n",
            "epoch: 181 loss: tensor(0.9156)\n",
            "epoch: 182 loss: tensor(0.9167)\n",
            "epoch: 183 loss: tensor(0.9157)\n",
            "epoch: 184 loss: tensor(0.9167)\n",
            "epoch: 185 loss: tensor(0.9154)\n",
            "epoch: 186 loss: tensor(0.9160)\n",
            "epoch: 187 loss: tensor(0.9150)\n",
            "epoch: 188 loss: tensor(0.9157)\n",
            "epoch: 189 loss: tensor(0.9148)\n",
            "epoch: 190 loss: tensor(0.9156)\n",
            "epoch: 191 loss: tensor(0.9147)\n",
            "epoch: 192 loss: tensor(0.9155)\n",
            "epoch: 193 loss: tensor(0.9143)\n",
            "epoch: 194 loss: tensor(0.9154)\n",
            "epoch: 195 loss: tensor(0.9142)\n",
            "epoch: 196 loss: tensor(0.9151)\n",
            "epoch: 197 loss: tensor(0.9141)\n",
            "epoch: 198 loss: tensor(0.9150)\n",
            "epoch: 199 loss: tensor(0.9140)\n",
            "epoch: 200 loss: tensor(0.9147)\n",
            "Stacked-Autoencoder(SAE) Training Time : 5.0 Minutes. \n"
          ],
          "name": "stdout"
        }
      ]
    },
    {
      "cell_type": "code",
      "metadata": {
        "id": "Hjzm4_-Hp-BL",
        "colab_type": "code",
        "colab": {
          "base_uri": "https://localhost:8080/",
          "height": 295
        },
        "outputId": "d5d79d4b-a77f-4b7f-d94c-1cf63806ad15"
      },
      "source": [
        "epochs = range(1,201)\n",
        "plt.plot(epochs, losses, 'g', label=' RMSprop ') # 'g' = color green\n",
        "plt.title('Optimzer Loss - epoch =200')\n",
        "plt.xlabel('Epochs')\n",
        "plt.ylabel('Training  Loss')\n",
        "\n",
        "plt.legend()\n",
        "plt.show()"
      ],
      "execution_count": null,
      "outputs": [
        {
          "output_type": "display_data",
          "data": {
            "image/png": "[encoded data removed]",
            "text/plain": [
              "<Figure size 432x288 with 1 Axes>"
            ]
          },
          "metadata": {
            "tags": [],
            "needs_background": "light"
          }
        }
      ]
    },
    {
      "cell_type": "code",
      "metadata": {
        "colab_type": "code",
        "id": "UuFbaJsbHMBw",
        "colab": {
          "base_uri": "https://localhost:8080/",
          "height": 34
        },
        "outputId": "252f58b2-fe5f-493b-dcad-01d478feb307"
      },
      "source": [
        "# Initializing the test_loss\n",
        "sae.eval()\n",
        "with torch.no_grad():\n",
        "  test_loss = 0\n",
        "  s = 0.\n",
        "  for id_user in range(nb_users):\n",
        "      input = Variable(training_set[id_user]).unsqueeze(0)\n",
        "      target = Variable(test_set[id_user]).unsqueeze(0)\n",
        "      if torch.sum(target.data > 0) > 0:\n",
        "          output = sae(input)\n",
        "          target.require_grad = False\n",
        "          output[(target == 0)] = 0\n",
        "          loss = criterion(output, target)\n",
        "  \n",
        "          mean_corrector = nb_movies/float(torch.sum(target.data > 0) + 1e-10)\n",
        "          test_loss += np.sqrt(loss.data*mean_corrector)\n",
        "          s += 1.\n",
        "  print('test_loss: '+str(test_loss/s))\n",
        "\n",
        "\n",
        "\n"
      ],
      "execution_count": null,
      "outputs": [
        {
          "output_type": "stream",
          "text": [
            "test_loss: tensor(0.9498)\n"
          ],
          "name": "stdout"
        }
      ]
    },
    {
      "cell_type": "code",
      "metadata": {
        "colab_type": "code",
        "id": "TmPwKTn3HMBy",
        "colab": {}
      },
      "source": [
        "from math import sqrt\n"
      ],
      "execution_count": null,
      "outputs": []
    },
    {
      "cell_type": "code",
      "metadata": {
        "colab_type": "code",
        "id": "y5r3KTOXHMB0",
        "colab": {
          "base_uri": "https://localhost:8080/",
          "height": 34
        },
        "outputId": "fb1eb12d-e6d7-4278-bf0c-ee9df70f4fa8"
      },
      "source": [
        "RMSE = sqrt(0.9498)\n",
        "\n",
        "RMSE"
      ],
      "execution_count": null,
      "outputs": [
        {
          "output_type": "execute_result",
          "data": {
            "text/plain": [
              "0.9745768312452333"
            ]
          },
          "metadata": {
            "tags": []
          },
          "execution_count": 57
        }
      ]
    },
    {
      "cell_type": "markdown",
      "metadata": {
        "id": "Trr2MqqhH02c",
        "colab_type": "text"
      },
      "source": [
        "#  Optimizer: ADAM\n",
        "\n",
        "* TRAINING LOSS: 0.8985\n",
        "* TEST LOSS: 0.9395\n",
        "* RMSE: 0.9692"
      ]
    },
    {
      "cell_type": "code",
      "metadata": {
        "id": "_3THNADiICYY",
        "colab_type": "code",
        "colab": {}
      },
      "source": [
        ""
      ],
      "execution_count": null,
      "outputs": []
    },
    {
      "cell_type": "code",
      "metadata": {
        "colab_type": "code",
        "id": "srArPRJAIR_-",
        "colab": {}
      },
      "source": [
        "# AutoEncoders\n",
        "\n",
        "# Importing the libraries\n",
        "\n",
        "import numpy as np\n",
        "import pandas as pd\n",
        "import torch\n",
        "import torch.nn as nn\n",
        "import torch.nn.parallel\n",
        "import torch.optim as optim\n",
        "import torch.utils.data\n",
        "from torch.autograd import Variable\n",
        "from torchvision import datasets, transforms\n",
        "from torch.utils.data import Dataset\n",
        "import time\n",
        "\n",
        "import matplotlib.pyplot as plt\n"
      ],
      "execution_count": null,
      "outputs": []
    },
    {
      "cell_type": "code",
      "metadata": {
        "colab_type": "code",
        "id": "sqg6vCHvISAJ",
        "colab": {}
      },
      "source": [
        "training = ['user_id', 'movie_id', 'rating', 'timestamp' ] #Create each column\n",
        "test = ['user_id', 'movie_id', 'rating', 'timestamp' ]     #Create each column"
      ],
      "execution_count": null,
      "outputs": []
    },
    {
      "cell_type": "code",
      "metadata": {
        "colab_type": "code",
        "id": "VN6YBfgnISAM",
        "colab": {}
      },
      "source": [
        "# Preparing the training set and the test set \n",
        "training_set = pd.read_csv('u1.base', names=training, delimiter = '\\t') # Read the file\n",
        "test_set = pd.read_csv('u1.test', names=test, delimiter = '\\t') #Read the file"
      ],
      "execution_count": null,
      "outputs": []
    },
    {
      "cell_type": "code",
      "metadata": {
        "colab_type": "code",
        "id": "UoaAYD-FISAQ",
        "colab": {}
      },
      "source": [
        "#Drop 'timestamp' column\n",
        "training_set= training_set.drop([\"timestamp\"], axis=1)"
      ],
      "execution_count": null,
      "outputs": []
    },
    {
      "cell_type": "code",
      "metadata": {
        "colab_type": "code",
        "id": "tCx1GjkiISAT",
        "colab": {}
      },
      "source": [
        "#Drop 'timestamp' column\n",
        "test_set= test_set.drop([\"timestamp\"], axis=1)"
      ],
      "execution_count": null,
      "outputs": []
    },
    {
      "cell_type": "code",
      "metadata": {
        "colab_type": "code",
        "id": "y_z7MK23ISAY",
        "colab": {
          "base_uri": "https://localhost:8080/",
          "height": 204
        },
        "outputId": "6c206a8d-fe83-4132-9821-1ba8352a2d34"
      },
      "source": [
        "# Visualizing the first elements of the training_set\n",
        "training_set.head()"
      ],
      "execution_count": null,
      "outputs": [
        {
          "output_type": "execute_result",
          "data": {
            "text/html": [
              "<div>\n",
              "<style scoped>\n",
              "    .dataframe tbody tr th:only-of-type {\n",
              "        vertical-align: middle;\n",
              "    }\n",
              "\n",
              "    .dataframe tbody tr th {\n",
              "        vertical-align: top;\n",
              "    }\n",
              "\n",
              "    .dataframe thead th {\n",
              "        text-align: right;\n",
              "    }\n",
              "</style>\n",
              "<table border=\"1\" class=\"dataframe\">\n",
              "  <thead>\n",
              "    <tr style=\"text-align: right;\">\n",
              "      <th></th>\n",
              "      <th>user_id</th>\n",
              "      <th>movie_id</th>\n",
              "      <th>rating</th>\n",
              "    </tr>\n",
              "  </thead>\n",
              "  <tbody>\n",
              "    <tr>\n",
              "      <th>0</th>\n",
              "      <td>1</td>\n",
              "      <td>1</td>\n",
              "      <td>5</td>\n",
              "    </tr>\n",
              "    <tr>\n",
              "      <th>1</th>\n",
              "      <td>1</td>\n",
              "      <td>2</td>\n",
              "      <td>3</td>\n",
              "    </tr>\n",
              "    <tr>\n",
              "      <th>2</th>\n",
              "      <td>1</td>\n",
              "      <td>3</td>\n",
              "      <td>4</td>\n",
              "    </tr>\n",
              "    <tr>\n",
              "      <th>3</th>\n",
              "      <td>1</td>\n",
              "      <td>4</td>\n",
              "      <td>3</td>\n",
              "    </tr>\n",
              "    <tr>\n",
              "      <th>4</th>\n",
              "      <td>1</td>\n",
              "      <td>5</td>\n",
              "      <td>3</td>\n",
              "    </tr>\n",
              "  </tbody>\n",
              "</table>\n",
              "</div>"
            ],
            "text/plain": [
              "   user_id  movie_id  rating\n",
              "0        1         1       5\n",
              "1        1         2       3\n",
              "2        1         3       4\n",
              "3        1         4       3\n",
              "4        1         5       3"
            ]
          },
          "metadata": {
            "tags": []
          },
          "execution_count": 31
        }
      ]
    },
    {
      "cell_type": "code",
      "metadata": {
        "colab_type": "code",
        "id": "2KiqbSOqISAc",
        "colab": {}
      },
      "source": [
        "# Converting the training and test sets into numpy arrays\n",
        "training_set = np.array(training_set, dtype = 'int')\n",
        "test_set = np.array(test_set, dtype = 'int')"
      ],
      "execution_count": null,
      "outputs": []
    },
    {
      "cell_type": "code",
      "metadata": {
        "colab_type": "code",
        "id": "bHjC0YvlISAe",
        "colab": {}
      },
      "source": [
        "# Getting the number of users and movies\n",
        "nb_users = int(max(max(training_set[:, 0]), max(test_set[:, 0])))\n",
        "nb_movies = int(max(max(training_set[:, 1]), max(test_set[:, 1])))"
      ],
      "execution_count": null,
      "outputs": []
    },
    {
      "cell_type": "code",
      "metadata": {
        "colab_type": "code",
        "id": "Dvu5kjB3ISAg",
        "colab": {
          "base_uri": "https://localhost:8080/",
          "height": 51
        },
        "outputId": "19f51165-9bfa-415a-a21b-2e31ef311403"
      },
      "source": [
        "print(\"Number of users: {}\".format(nb_users))\n",
        "print(\"Number of movies: {}\".format(nb_movies))"
      ],
      "execution_count": null,
      "outputs": [
        {
          "output_type": "stream",
          "text": [
            "Number of users: 943\n",
            "Number of movies: 1682\n"
          ],
          "name": "stdout"
        }
      ]
    },
    {
      "cell_type": "code",
      "metadata": {
        "colab_type": "code",
        "id": "x57oppZyISAl",
        "colab": {}
      },
      "source": [
        "def convert(data):\n",
        "    # Initializing an empty list that will take the list of ratings given by a specific user\n",
        "    new_data = []\n",
        "    # Looping over all the users\n",
        "    for id_users in range(1, nb_users + 1):\n",
        "        # We get the id of the movies rated by the current user\n",
        "        id_movies = data[:, 1][data[:, 0] == id_users]\n",
        "        # We get the id of the ratings given by the current_user\n",
        "        id_ratings = data[:, 2][data[:, 0] == id_users]\n",
        "        # \n",
        "        ratings = np.zeros(nb_movies)\n",
        "        # For movies rated by the current user, we replace 0 with the rating\n",
        "        # The first element of ratings is at index 0. However, id_movies start at index 1.\n",
        "        # Therefore, ratings[id_movies - 1] will correspond to the location of the movie we're considering\n",
        "        ratings[id_movies - 1] = id_ratings\n",
        "        new_data.append(list(ratings))\n",
        "    return new_data"
      ],
      "execution_count": null,
      "outputs": []
    },
    {
      "cell_type": "code",
      "metadata": {
        "colab_type": "code",
        "id": "WH3u_yMYISAn",
        "colab": {}
      },
      "source": [
        "# Applying the convert function to the training and test set.\n",
        "training_set = convert(training_set)\n",
        "test_set = convert(test_set)"
      ],
      "execution_count": null,
      "outputs": []
    },
    {
      "cell_type": "code",
      "metadata": {
        "colab_type": "code",
        "id": "yDmOuLgCISAr",
        "colab": {}
      },
      "source": [
        "# Convert the data into Torch tensors\n",
        "training_set = torch.FloatTensor(training_set)\n",
        "test_set = torch.FloatTensor(test_set)"
      ],
      "execution_count": null,
      "outputs": []
    },
    {
      "cell_type": "code",
      "metadata": {
        "colab_type": "code",
        "id": "aw7dOo6-ISAw",
        "colab": {}
      },
      "source": [
        "# Create the SAE (stack autoencoder) class, which is inherited from nn.Module(Pytorch library)\n",
        "class SAE(nn.Module):\n",
        "    # Initializing the class\n",
        "    def __init__(self, ):\n",
        "        # making the class get all the functions from the parent class nn.Module\n",
        "        super(SAE, self).__init__()\n",
        "        # Creating the first encoding layer. The number of input corresponds to the number of movies\n",
        "        #  Decide to encode it into 20 outputs\n",
        "        self.fc1 = nn.Linear(nb_movies, 20)\n",
        "        # Creating the second encoding layer. From 20 inputs to 10 outputs\n",
        "        self.fc2 = nn.Linear(20, 10)\n",
        "        # Creating the first decoding layer. From 10 inputs to 20 outputs\n",
        "        self.fc3 = nn.Linear(10, 20)\n",
        "        # Creating the second hidden layer. From 20 inputs to nb_movies outputs\n",
        "        self.fc4 = nn.Linear(20, nb_movies)\n",
        "\n",
        "        #####  Activation Function: Sigmoid   #######\n",
        "\n",
        "        # Creating the activation fucntion which will fire up specific neurons \n",
        "        self.activation = nn.Sigmoid()\n",
        "        \n",
        "        # Creating the function for forward propagation\n",
        "    def forward(self, x):\n",
        "        x = self.activation(self.fc1(x))\n",
        "        x = self.activation(self.fc2(x))\n",
        "        x = self.activation(self.fc3(x))\n",
        "        # With autoencoder, we don't need an activation function for the last decoding part\n",
        "        x = self.fc4(x)\n",
        "        return x\n",
        "\n",
        "  \n",
        "\n",
        "\n",
        "  "
      ],
      "execution_count": null,
      "outputs": []
    },
    {
      "cell_type": "code",
      "metadata": {
        "colab_type": "code",
        "id": "nl5oaUYFISAy",
        "colab": {}
      },
      "source": [
        " #Creating an instance of our SAE class\n",
        "sae = SAE()\n",
        "\n",
        "\n",
        " #Defining a criterion which specifies the metric to minimize.\n",
        " #In this case, we want to minimize the MSE (Mean Squared Error)\n",
        "\n",
        "criterion = nn.MSELoss()\n",
        "\n",
        "# Defining the algorithm used to minimize the loss function. \n",
        "#In this case, we'll use Adam\n",
        "\n",
        "optimizer = optim.Adam(sae.parameters(), lr = 0.01, weight_decay = 0.5)\n"
      ],
      "execution_count": null,
      "outputs": []
    },
    {
      "cell_type": "code",
      "metadata": {
        "colab_type": "code",
        "id": "kA3Jpkc_ISA0",
        "colab": {
          "base_uri": "https://localhost:8080/",
          "height": 1000
        },
        "outputId": "af748173-25c1-4ace-a6a3-e873350fc48d"
      },
      "source": [
        "\n",
        "\n",
        "#time\n",
        "time_start = time.time()\n",
        "# Setting the number of epochs\n",
        "nb_epoch = 200\n",
        "\n",
        "# storing the  traning loss calculations\n",
        "alosses = [] \n",
        "\n",
        "# Iterating over each epoch\n",
        "for epoch in range(1, nb_epoch + 1):\n",
        "    # Initializing the train_loss which will be updated\n",
        "    train_loss = 0\n",
        "    # Initializing a counter\n",
        "    s = 0.\n",
        "    # Iterating over each user\n",
        "    for id_user in range(nb_users):\n",
        "        # The input corresponds to the ratings given by the current user for each movie\n",
        "        input = Variable(training_set[id_user]).unsqueeze(0)\n",
        "        target = input.clone()\n",
        "        # We don't consider movies NOT rated by the current user. So we specify a conditional statement\n",
        "        if torch.sum(target.data > 0) > 0:\n",
        "            # We use our SAE to get the output from the \n",
        "            output = sae(input)\n",
        "            target.require_grad = False\n",
        "            output[target == 0] = 0\n",
        "            # Defining our loss function, comparing the output with the target\n",
        "            loss = criterion(output, target)\n",
        "            mean_corrector = nb_movies/float(torch.sum(target.data > 0) + 1e-10)\n",
        "            # Computing the gradients necessary to adjust the weights\n",
        "            loss.backward()\n",
        "            # Updating the train_loss\n",
        "            train_loss += np.sqrt(loss.data*mean_corrector)\n",
        "            s += 1.\n",
        "            # Updating the weights of the neural network\n",
        "            optimizer.step()\n",
        "\n",
        "    epoch_loss = train_loss / len(training_set[id_user])\n",
        "    alosses.append(epoch_loss)  \n",
        "    print('epoch: '+str(epoch)+' loss: '+str(train_loss/s))\n",
        "time_end = time.time()\n",
        "print('Stacked-Autoencoder(SAE) Training Time : ' +str(round((time_end-time_start)/60,0))+' Minutes. ')"
      ],
      "execution_count": null,
      "outputs": [
        {
          "output_type": "stream",
          "text": [
            "epoch: 1 loss: tensor(1.7777)\n",
            "epoch: 2 loss: tensor(1.0921)\n",
            "epoch: 3 loss: tensor(1.0489)\n",
            "epoch: 4 loss: tensor(1.0342)\n",
            "epoch: 5 loss: tensor(1.0269)\n",
            "epoch: 6 loss: tensor(1.0226)\n",
            "epoch: 7 loss: tensor(1.0197)\n",
            "epoch: 8 loss: tensor(1.0178)\n",
            "epoch: 9 loss: tensor(1.0164)\n",
            "epoch: 10 loss: tensor(1.0153)\n",
            "epoch: 11 loss: tensor(1.0145)\n",
            "epoch: 12 loss: tensor(1.0139)\n",
            "epoch: 13 loss: tensor(1.0134)\n",
            "epoch: 14 loss: tensor(1.0130)\n",
            "epoch: 15 loss: tensor(1.0127)\n",
            "epoch: 16 loss: tensor(1.0124)\n",
            "epoch: 17 loss: tensor(1.0122)\n",
            "epoch: 18 loss: tensor(1.0120)\n",
            "epoch: 19 loss: tensor(1.0118)\n",
            "epoch: 20 loss: tensor(1.0117)\n",
            "epoch: 21 loss: tensor(1.0116)\n",
            "epoch: 22 loss: tensor(1.0115)\n",
            "epoch: 23 loss: tensor(1.0114)\n",
            "epoch: 24 loss: tensor(1.0113)\n",
            "epoch: 25 loss: tensor(1.0112)\n",
            "epoch: 26 loss: tensor(1.0112)\n",
            "epoch: 27 loss: tensor(1.0111)\n",
            "epoch: 28 loss: tensor(1.0110)\n",
            "epoch: 29 loss: tensor(1.0109)\n",
            "epoch: 30 loss: tensor(1.0108)\n",
            "epoch: 31 loss: tensor(1.0103)\n",
            "epoch: 32 loss: tensor(1.0084)\n",
            "epoch: 33 loss: tensor(1.0067)\n",
            "epoch: 34 loss: tensor(1.0046)\n",
            "epoch: 35 loss: tensor(1.0015)\n",
            "epoch: 36 loss: tensor(0.9980)\n",
            "epoch: 37 loss: tensor(0.9951)\n",
            "epoch: 38 loss: tensor(0.9911)\n",
            "epoch: 39 loss: tensor(0.9864)\n",
            "epoch: 40 loss: tensor(0.9834)\n",
            "epoch: 41 loss: tensor(0.9822)\n",
            "epoch: 42 loss: tensor(0.9786)\n",
            "epoch: 43 loss: tensor(0.9763)\n",
            "epoch: 44 loss: tensor(0.9728)\n",
            "epoch: 45 loss: tensor(0.9711)\n",
            "epoch: 46 loss: tensor(0.9697)\n",
            "epoch: 47 loss: tensor(0.9665)\n",
            "epoch: 48 loss: tensor(0.9644)\n",
            "epoch: 49 loss: tensor(0.9626)\n",
            "epoch: 50 loss: tensor(0.9616)\n",
            "epoch: 51 loss: tensor(0.9615)\n",
            "epoch: 52 loss: tensor(0.9577)\n",
            "epoch: 53 loss: tensor(0.9587)\n",
            "epoch: 54 loss: tensor(0.9583)\n",
            "epoch: 55 loss: tensor(0.9593)\n",
            "epoch: 56 loss: tensor(0.9649)\n",
            "epoch: 57 loss: tensor(0.9728)\n",
            "epoch: 58 loss: tensor(0.9740)\n",
            "epoch: 59 loss: tensor(0.9735)\n",
            "epoch: 60 loss: tensor(0.9672)\n",
            "epoch: 61 loss: tensor(0.9638)\n",
            "epoch: 62 loss: tensor(0.9583)\n",
            "epoch: 63 loss: tensor(0.9580)\n",
            "epoch: 64 loss: tensor(0.9605)\n",
            "epoch: 65 loss: tensor(0.9611)\n",
            "epoch: 66 loss: tensor(0.9519)\n",
            "epoch: 67 loss: tensor(0.9551)\n",
            "epoch: 68 loss: tensor(0.9589)\n",
            "epoch: 69 loss: tensor(0.9586)\n",
            "epoch: 70 loss: tensor(0.9610)\n",
            "epoch: 71 loss: tensor(0.9648)\n",
            "epoch: 72 loss: tensor(0.9649)\n",
            "epoch: 73 loss: tensor(0.9609)\n",
            "epoch: 74 loss: tensor(0.9610)\n",
            "epoch: 75 loss: tensor(0.9535)\n",
            "epoch: 76 loss: tensor(0.9507)\n",
            "epoch: 77 loss: tensor(0.9504)\n",
            "epoch: 78 loss: tensor(0.9498)\n",
            "epoch: 79 loss: tensor(0.9484)\n",
            "epoch: 80 loss: tensor(0.9447)\n",
            "epoch: 81 loss: tensor(0.9414)\n",
            "epoch: 82 loss: tensor(0.9439)\n",
            "epoch: 83 loss: tensor(0.9433)\n",
            "epoch: 84 loss: tensor(0.9411)\n",
            "epoch: 85 loss: tensor(0.9393)\n",
            "epoch: 86 loss: tensor(0.9384)\n",
            "epoch: 87 loss: tensor(0.9364)\n",
            "epoch: 88 loss: tensor(0.9345)\n",
            "epoch: 89 loss: tensor(0.9334)\n",
            "epoch: 90 loss: tensor(0.9332)\n",
            "epoch: 91 loss: tensor(0.9325)\n",
            "epoch: 92 loss: tensor(0.9307)\n",
            "epoch: 93 loss: tensor(0.9302)\n",
            "epoch: 94 loss: tensor(0.9285)\n",
            "epoch: 95 loss: tensor(0.9280)\n",
            "epoch: 96 loss: tensor(0.9284)\n",
            "epoch: 97 loss: tensor(0.9277)\n",
            "epoch: 98 loss: tensor(0.9273)\n",
            "epoch: 99 loss: tensor(0.9256)\n",
            "epoch: 100 loss: tensor(0.9255)\n",
            "epoch: 101 loss: tensor(0.9243)\n",
            "epoch: 102 loss: tensor(0.9237)\n",
            "epoch: 103 loss: tensor(0.9231)\n",
            "epoch: 104 loss: tensor(0.9227)\n",
            "epoch: 105 loss: tensor(0.9221)\n",
            "epoch: 106 loss: tensor(0.9221)\n",
            "epoch: 107 loss: tensor(0.9235)\n",
            "epoch: 108 loss: tensor(0.9218)\n",
            "epoch: 109 loss: tensor(0.9207)\n",
            "epoch: 110 loss: tensor(0.9206)\n",
            "epoch: 111 loss: tensor(0.9202)\n",
            "epoch: 112 loss: tensor(0.9201)\n",
            "epoch: 113 loss: tensor(0.9197)\n",
            "epoch: 114 loss: tensor(0.9197)\n",
            "epoch: 115 loss: tensor(0.9190)\n",
            "epoch: 116 loss: tensor(0.9189)\n",
            "epoch: 117 loss: tensor(0.9185)\n",
            "epoch: 118 loss: tensor(0.9182)\n",
            "epoch: 119 loss: tensor(0.9181)\n",
            "epoch: 120 loss: tensor(0.9177)\n",
            "epoch: 121 loss: tensor(0.9173)\n",
            "epoch: 122 loss: tensor(0.9171)\n",
            "epoch: 123 loss: tensor(0.9170)\n",
            "epoch: 124 loss: tensor(0.9168)\n",
            "epoch: 125 loss: tensor(0.9165)\n",
            "epoch: 126 loss: tensor(0.9162)\n",
            "epoch: 127 loss: tensor(0.9160)\n",
            "epoch: 128 loss: tensor(0.9158)\n",
            "epoch: 129 loss: tensor(0.9158)\n",
            "epoch: 130 loss: tensor(0.9157)\n",
            "epoch: 131 loss: tensor(0.9151)\n",
            "epoch: 132 loss: tensor(0.9148)\n",
            "epoch: 133 loss: tensor(0.9147)\n",
            "epoch: 134 loss: tensor(0.9146)\n",
            "epoch: 135 loss: tensor(0.9143)\n",
            "epoch: 136 loss: tensor(0.9195)\n",
            "epoch: 137 loss: tensor(0.9183)\n",
            "epoch: 138 loss: tensor(0.9167)\n",
            "epoch: 139 loss: tensor(0.9153)\n",
            "epoch: 140 loss: tensor(0.9142)\n",
            "epoch: 141 loss: tensor(0.9137)\n",
            "epoch: 142 loss: tensor(0.9134)\n",
            "epoch: 143 loss: tensor(0.9127)\n",
            "epoch: 144 loss: tensor(0.9125)\n",
            "epoch: 145 loss: tensor(0.9123)\n",
            "epoch: 146 loss: tensor(0.9121)\n",
            "epoch: 147 loss: tensor(0.9120)\n",
            "epoch: 148 loss: tensor(0.9120)\n",
            "epoch: 149 loss: tensor(0.9118)\n",
            "epoch: 150 loss: tensor(0.9116)\n",
            "epoch: 151 loss: tensor(0.9112)\n",
            "epoch: 152 loss: tensor(0.9110)\n",
            "epoch: 153 loss: tensor(0.9107)\n",
            "epoch: 154 loss: tensor(0.9105)\n",
            "epoch: 155 loss: tensor(0.9104)\n",
            "epoch: 156 loss: tensor(0.9104)\n",
            "epoch: 157 loss: tensor(0.9100)\n",
            "epoch: 158 loss: tensor(0.9098)\n",
            "epoch: 159 loss: tensor(0.9099)\n",
            "epoch: 160 loss: tensor(0.9096)\n",
            "epoch: 161 loss: tensor(0.9096)\n",
            "epoch: 162 loss: tensor(0.9095)\n",
            "epoch: 163 loss: tensor(0.9092)\n",
            "epoch: 164 loss: tensor(0.9091)\n",
            "epoch: 165 loss: tensor(0.9089)\n",
            "epoch: 166 loss: tensor(0.9087)\n",
            "epoch: 167 loss: tensor(0.9088)\n",
            "epoch: 168 loss: tensor(0.9092)\n",
            "epoch: 169 loss: tensor(0.9085)\n",
            "epoch: 170 loss: tensor(0.9083)\n",
            "epoch: 171 loss: tensor(0.9083)\n",
            "epoch: 172 loss: tensor(0.9084)\n",
            "epoch: 173 loss: tensor(0.9079)\n",
            "epoch: 174 loss: tensor(0.9076)\n",
            "epoch: 175 loss: tensor(0.9075)\n",
            "epoch: 176 loss: tensor(0.9073)\n",
            "epoch: 177 loss: tensor(0.9073)\n",
            "epoch: 178 loss: tensor(0.9071)\n",
            "epoch: 179 loss: tensor(0.9069)\n",
            "epoch: 180 loss: tensor(0.9068)\n",
            "epoch: 181 loss: tensor(0.9065)\n",
            "epoch: 182 loss: tensor(0.9064)\n",
            "epoch: 183 loss: tensor(0.9064)\n",
            "epoch: 184 loss: tensor(0.9061)\n",
            "epoch: 185 loss: tensor(0.9059)\n",
            "epoch: 186 loss: tensor(0.9057)\n",
            "epoch: 187 loss: tensor(0.9052)\n",
            "epoch: 188 loss: tensor(0.9050)\n",
            "epoch: 189 loss: tensor(0.9048)\n",
            "epoch: 190 loss: tensor(0.9044)\n",
            "epoch: 191 loss: tensor(0.9040)\n",
            "epoch: 192 loss: tensor(0.9037)\n",
            "epoch: 193 loss: tensor(0.9032)\n",
            "epoch: 194 loss: tensor(0.9025)\n",
            "epoch: 195 loss: tensor(0.9018)\n",
            "epoch: 196 loss: tensor(0.9011)\n",
            "epoch: 197 loss: tensor(0.9005)\n",
            "epoch: 198 loss: tensor(0.9000)\n",
            "epoch: 199 loss: tensor(0.8993)\n",
            "epoch: 200 loss: tensor(0.8985)\n",
            "Stacked-Autoencoder(SAE) Training Time : 6.0 Minutes. \n"
          ],
          "name": "stdout"
        }
      ]
    },
    {
      "cell_type": "code",
      "metadata": {
        "colab_type": "code",
        "id": "lj8qC_R4ISA2",
        "colab": {
          "base_uri": "https://localhost:8080/",
          "height": 295
        },
        "outputId": "028f5384-3152-4f8f-d71a-449cd9f5153e"
      },
      "source": [
        "epochs = range(1,201)\n",
        "plt.plot(epochs, alosses, 'b', label=' ADAM ') # 'g' = color green\n",
        "plt.title('Optimizer - epoch =200')\n",
        "plt.xlabel('Epochs')\n",
        "plt.ylabel('Training  Loss')\n",
        "\n",
        "plt.legend()\n",
        "plt.show()"
      ],
      "execution_count": null,
      "outputs": [
        {
          "output_type": "display_data",
          "data": {
            "image/png": "[encoded data removed]",
            "text/plain": [
              "<Figure size 432x288 with 1 Axes>"
            ]
          },
          "metadata": {
            "tags": [],
            "needs_background": "light"
          }
        }
      ]
    },
    {
      "cell_type": "code",
      "metadata": {
        "colab_type": "code",
        "id": "EQ4i2eu7ISA4",
        "colab": {
          "base_uri": "https://localhost:8080/",
          "height": 34
        },
        "outputId": "39254bfa-3a7e-4a56-a72a-54491cffe342"
      },
      "source": [
        "# Initializing the test_loss\n",
        "sae.eval()\n",
        "with torch.no_grad():\n",
        "  test_loss = 0\n",
        "  s = 0.\n",
        "  for id_user in range(nb_users):\n",
        "      input = Variable(training_set[id_user]).unsqueeze(0)\n",
        "      target = Variable(test_set[id_user]).unsqueeze(0)\n",
        "      if torch.sum(target.data > 0) > 0:\n",
        "          output = sae(input)\n",
        "          target.require_grad = False\n",
        "          output[(target == 0)] = 0\n",
        "          loss = criterion(output, target)\n",
        "  \n",
        "          mean_corrector = nb_movies/float(torch.sum(target.data > 0) + 1e-10)\n",
        "          test_loss += np.sqrt(loss.data*mean_corrector)\n",
        "          s += 1.\n",
        "  print('test_loss: '+str(test_loss/s))\n",
        "\n",
        "\n",
        "\n"
      ],
      "execution_count": null,
      "outputs": [
        {
          "output_type": "stream",
          "text": [
            "test_loss: tensor(0.9395)\n"
          ],
          "name": "stdout"
        }
      ]
    },
    {
      "cell_type": "code",
      "metadata": {
        "colab_type": "code",
        "id": "GTzm8M-aISA7",
        "colab": {}
      },
      "source": [
        "from math import sqrt\n"
      ],
      "execution_count": null,
      "outputs": []
    },
    {
      "cell_type": "code",
      "metadata": {
        "colab_type": "code",
        "id": "taHe3hMlISA9",
        "colab": {
          "base_uri": "https://localhost:8080/",
          "height": 34
        },
        "outputId": "81242e99-d730-4bf0-a0f2-57809a8c0839"
      },
      "source": [
        "RMSE = sqrt(0.9395)\n",
        "\n",
        "RMSE"
      ],
      "execution_count": null,
      "outputs": [
        {
          "output_type": "execute_result",
          "data": {
            "text/plain": [
              "0.9692780818733084"
            ]
          },
          "metadata": {
            "tags": []
          },
          "execution_count": 42
        }
      ]
    },
    {
      "cell_type": "code",
      "metadata": {
        "id": "6GGmbRuLLj4M",
        "colab_type": "code",
        "colab": {
          "base_uri": "https://localhost:8080/",
          "height": 295
        },
        "outputId": "718fc1d7-efcb-47ab-f7ad-816ccdc04c31"
      },
      "source": [
        "\n",
        "epochs = range(1,201)\n",
        "plt.plot(epochs, slosses, 'g', label=' RMSprop ')\n",
        "plt.plot(epochs, alosses, 'b', label='ADAM') # 'r' = color green\n",
        "\n",
        "plt.title('Optimizer - epoch =200')\n",
        "plt.xlabel('Epochs')\n",
        "plt.ylabel('Training  Loss')\n",
        "\n",
        "plt.legend()\n",
        "plt.show()"
      ],
      "execution_count": null,
      "outputs": [
        {
          "output_type": "display_data",
          "data": {
            "image/png": "[encoded data removed]",
            "text/plain": [
              "<Figure size 432x288 with 1 Axes>"
            ]
          },
          "metadata": {
            "tags": [],
            "needs_background": "light"
          }
        }
      ]
    },
    {
      "cell_type": "code",
      "metadata": {
        "id": "PB0Dy3plMhuv",
        "colab_type": "code",
        "colab": {}
      },
      "source": [
        ""
      ],
      "execution_count": null,
      "outputs": []
    },
    {
      "cell_type": "markdown",
      "metadata": {
        "id": "ENZshNtBMuPW",
        "colab_type": "text"
      },
      "source": [
        "# Optimizer: SGD\n",
        "\n",
        "* TRAINING LOSS: 1.0119\n",
        "* TEST LOSS: 1.0189\n",
        "* RMSE: 1.0094"
      ]
    },
    {
      "cell_type": "code",
      "metadata": {
        "id": "dBI0_AmxMutV",
        "colab_type": "code",
        "colab": {}
      },
      "source": [
        ""
      ],
      "execution_count": null,
      "outputs": []
    },
    {
      "cell_type": "code",
      "metadata": {
        "colab_type": "code",
        "id": "_G6kQ8RcMvMa",
        "colab": {}
      },
      "source": [
        "training = ['user_id', 'movie_id', 'rating', 'timestamp' ] #Create each column\n",
        "test = ['user_id', 'movie_id', 'rating', 'timestamp' ]     #Create each column"
      ],
      "execution_count": null,
      "outputs": []
    },
    {
      "cell_type": "code",
      "metadata": {
        "colab_type": "code",
        "id": "Sx8UG8FIMvMc",
        "colab": {}
      },
      "source": [
        "# Preparing the training set and the test set \n",
        "training_set = pd.read_csv('u1.base', names=training, delimiter = '\\t') # Read the file\n",
        "test_set = pd.read_csv('u1.test', names=test, delimiter = '\\t') #Read the file"
      ],
      "execution_count": null,
      "outputs": []
    },
    {
      "cell_type": "code",
      "metadata": {
        "colab_type": "code",
        "id": "ZOIT2gUMMvMe",
        "colab": {}
      },
      "source": [
        "#Drop 'timestamp' column\n",
        "training_set= training_set.drop([\"timestamp\"], axis=1)"
      ],
      "execution_count": null,
      "outputs": []
    },
    {
      "cell_type": "code",
      "metadata": {
        "colab_type": "code",
        "id": "Uy0aIRKJMvMh",
        "colab": {}
      },
      "source": [
        "#Drop 'timestamp' column\n",
        "test_set= test_set.drop([\"timestamp\"], axis=1)"
      ],
      "execution_count": null,
      "outputs": []
    },
    {
      "cell_type": "code",
      "metadata": {
        "colab_type": "code",
        "id": "bxrO69lcMvMj",
        "colab": {
          "base_uri": "https://localhost:8080/",
          "height": 204
        },
        "outputId": "c9ec8bf7-3089-43b3-ade6-f0026419a869"
      },
      "source": [
        "# Visualizing the first elements of the training_set\n",
        "training_set.head()"
      ],
      "execution_count": null,
      "outputs": [
        {
          "output_type": "execute_result",
          "data": {
            "text/html": [
              "<div>\n",
              "<style scoped>\n",
              "    .dataframe tbody tr th:only-of-type {\n",
              "        vertical-align: middle;\n",
              "    }\n",
              "\n",
              "    .dataframe tbody tr th {\n",
              "        vertical-align: top;\n",
              "    }\n",
              "\n",
              "    .dataframe thead th {\n",
              "        text-align: right;\n",
              "    }\n",
              "</style>\n",
              "<table border=\"1\" class=\"dataframe\">\n",
              "  <thead>\n",
              "    <tr style=\"text-align: right;\">\n",
              "      <th></th>\n",
              "      <th>user_id</th>\n",
              "      <th>movie_id</th>\n",
              "      <th>rating</th>\n",
              "    </tr>\n",
              "  </thead>\n",
              "  <tbody>\n",
              "    <tr>\n",
              "      <th>0</th>\n",
              "      <td>1</td>\n",
              "      <td>1</td>\n",
              "      <td>5</td>\n",
              "    </tr>\n",
              "    <tr>\n",
              "      <th>1</th>\n",
              "      <td>1</td>\n",
              "      <td>2</td>\n",
              "      <td>3</td>\n",
              "    </tr>\n",
              "    <tr>\n",
              "      <th>2</th>\n",
              "      <td>1</td>\n",
              "      <td>3</td>\n",
              "      <td>4</td>\n",
              "    </tr>\n",
              "    <tr>\n",
              "      <th>3</th>\n",
              "      <td>1</td>\n",
              "      <td>4</td>\n",
              "      <td>3</td>\n",
              "    </tr>\n",
              "    <tr>\n",
              "      <th>4</th>\n",
              "      <td>1</td>\n",
              "      <td>5</td>\n",
              "      <td>3</td>\n",
              "    </tr>\n",
              "  </tbody>\n",
              "</table>\n",
              "</div>"
            ],
            "text/plain": [
              "   user_id  movie_id  rating\n",
              "0        1         1       5\n",
              "1        1         2       3\n",
              "2        1         3       4\n",
              "3        1         4       3\n",
              "4        1         5       3"
            ]
          },
          "metadata": {
            "tags": []
          },
          "execution_count": 48
        }
      ]
    },
    {
      "cell_type": "code",
      "metadata": {
        "colab_type": "code",
        "id": "Uvlwl5cGMvMo",
        "colab": {}
      },
      "source": [
        "# Converting the training and test sets into numpy arrays\n",
        "training_set = np.array(training_set, dtype = 'int')\n",
        "test_set = np.array(test_set, dtype = 'int')"
      ],
      "execution_count": null,
      "outputs": []
    },
    {
      "cell_type": "code",
      "metadata": {
        "colab_type": "code",
        "id": "uv_LMzeSMvMr",
        "colab": {}
      },
      "source": [
        "# Getting the number of users and movies\n",
        "nb_users = int(max(max(training_set[:, 0]), max(test_set[:, 0])))\n",
        "nb_movies = int(max(max(training_set[:, 1]), max(test_set[:, 1])))"
      ],
      "execution_count": null,
      "outputs": []
    },
    {
      "cell_type": "code",
      "metadata": {
        "colab_type": "code",
        "id": "pqkaZw8rMvMu",
        "colab": {
          "base_uri": "https://localhost:8080/",
          "height": 51
        },
        "outputId": "4610e564-311a-4eeb-da74-297159fa7da7"
      },
      "source": [
        "print(\"Number of users: {}\".format(nb_users))\n",
        "print(\"Number of movies: {}\".format(nb_movies))"
      ],
      "execution_count": null,
      "outputs": [
        {
          "output_type": "stream",
          "text": [
            "Number of users: 943\n",
            "Number of movies: 1682\n"
          ],
          "name": "stdout"
        }
      ]
    },
    {
      "cell_type": "code",
      "metadata": {
        "colab_type": "code",
        "id": "3xhBda74MvMw",
        "colab": {}
      },
      "source": [
        "def convert(data):\n",
        "    # Initializing an empty list that will take the list of ratings given by a specific user\n",
        "    new_data = []\n",
        "    # Looping over all the users\n",
        "    for id_users in range(1, nb_users + 1):\n",
        "        # We get the id of the movies rated by the current user\n",
        "        id_movies = data[:, 1][data[:, 0] == id_users]\n",
        "        # We get the id of the ratings given by the current_user\n",
        "        id_ratings = data[:, 2][data[:, 0] == id_users]\n",
        "        # \n",
        "        ratings = np.zeros(nb_movies)\n",
        "        # For movies rated by the current user, we replace 0 with the rating\n",
        "        # The first element of ratings is at index 0. However, id_movies start at index 1.\n",
        "        # Therefore, ratings[id_movies - 1] will correspond to the location of the movie we're considering\n",
        "        ratings[id_movies - 1] = id_ratings\n",
        "        new_data.append(list(ratings))\n",
        "    return new_data"
      ],
      "execution_count": null,
      "outputs": []
    },
    {
      "cell_type": "code",
      "metadata": {
        "colab_type": "code",
        "id": "8ZRH8KRHMvM0",
        "colab": {}
      },
      "source": [
        "# Applying the convert function to the training and test set.\n",
        "training_set = convert(training_set)\n",
        "test_set = convert(test_set)"
      ],
      "execution_count": null,
      "outputs": []
    },
    {
      "cell_type": "code",
      "metadata": {
        "colab_type": "code",
        "id": "Xrz9kjwrMvM3",
        "colab": {}
      },
      "source": [
        "# Convert the data into Torch tensors\n",
        "training_set = torch.FloatTensor(training_set)\n",
        "test_set = torch.FloatTensor(test_set)"
      ],
      "execution_count": null,
      "outputs": []
    },
    {
      "cell_type": "code",
      "metadata": {
        "colab_type": "code",
        "id": "VyzGgiTuMvM5",
        "colab": {}
      },
      "source": [
        "# Create the SAE (stack autoencoder) class, which is inherited from nn.Module(Pytorch library)\n",
        "class SAE(nn.Module):\n",
        "    # Initializing the class\n",
        "    def __init__(self, ):\n",
        "        # making the class get all the functions from the parent class nn.Module\n",
        "        super(SAE, self).__init__()\n",
        "        # Creating the first encoding layer. The number of input corresponds to the number of movies\n",
        "        #  Decide to encode it into 20 outputs\n",
        "        self.fc1 = nn.Linear(nb_movies, 20)\n",
        "        # Creating the second encoding layer. From 20 inputs to 10 outputs\n",
        "        self.fc2 = nn.Linear(20, 10)\n",
        "        # Creating the first decoding layer. From 10 inputs to 20 outputs\n",
        "        self.fc3 = nn.Linear(10, 20)\n",
        "        # Creating the second hidden layer. From 20 inputs to nb_movies outputs\n",
        "        self.fc4 = nn.Linear(20, nb_movies)\n",
        "\n",
        "        #####  Activation Function: Sigmoid   #######\n",
        "\n",
        "        # Creating the activation fucntion which will fire up specific neurons \n",
        "        self.activation = nn.Sigmoid()\n",
        "        \n",
        "        # Creating the function for forward propagation\n",
        "    def forward(self, x):\n",
        "        x = self.activation(self.fc1(x))\n",
        "        x = self.activation(self.fc2(x))\n",
        "        x = self.activation(self.fc3(x))\n",
        "        # With autoencoder, we don't need an activation function for the last decoding part\n",
        "        x = self.fc4(x)\n",
        "        return x\n",
        "\n",
        "  \n",
        "\n",
        "\n",
        "  "
      ],
      "execution_count": null,
      "outputs": []
    },
    {
      "cell_type": "code",
      "metadata": {
        "colab_type": "code",
        "id": "z2Ppv4uvMvM7",
        "colab": {}
      },
      "source": [
        " #Creating an instance of our SAE class\n",
        "sae = SAE()\n",
        "\n",
        "\n",
        " #Defining a criterion which specifies the metric to minimize.\n",
        " #In this case, we want to minimize the MSE (Mean Squared Error)\n",
        "\n",
        "criterion = nn.MSELoss()\n",
        "\n",
        "# Defining the algorithm used to minimize the loss function. \n",
        "#In this case, we'll use SGD\n",
        "\n",
        "optimizer = optim.SGD(sae.parameters(), lr = 0.01, weight_decay = 0.5)\n"
      ],
      "execution_count": null,
      "outputs": []
    },
    {
      "cell_type": "code",
      "metadata": {
        "colab_type": "code",
        "id": "kzv87tp4MvM-",
        "colab": {
          "base_uri": "https://localhost:8080/",
          "height": 1000
        },
        "outputId": "5a1e7267-c68b-4a71-c60e-9478abb7a430"
      },
      "source": [
        "\n",
        "\n",
        "#time\n",
        "time_start = time.time()\n",
        "# Setting the number of epochs\n",
        "nb_epoch = 200\n",
        "\n",
        "# storing the  traning loss calculations\n",
        "slosses = [] \n",
        "\n",
        "# Iterating over each epoch\n",
        "for epoch in range(1, nb_epoch + 1):\n",
        "    # Initializing the train_loss which will be updated\n",
        "    train_loss = 0\n",
        "    # Initializing a counter\n",
        "    s = 0.\n",
        "    # Iterating over each user\n",
        "    for id_user in range(nb_users):\n",
        "        # The input corresponds to the ratings given by the current user for each movie\n",
        "        input = Variable(training_set[id_user]).unsqueeze(0)\n",
        "        target = input.clone()\n",
        "        # We don't consider movies NOT rated by the current user. So we specify a conditional statement\n",
        "        if torch.sum(target.data > 0) > 0:\n",
        "            # We use our SAE to get the output from the \n",
        "            output = sae(input)\n",
        "            target.require_grad = False\n",
        "            output[target == 0] = 0\n",
        "            # Defining our loss function, comparing the output with the target\n",
        "            loss = criterion(output, target)\n",
        "            mean_corrector = nb_movies/float(torch.sum(target.data > 0) + 1e-10)\n",
        "            # Computing the gradients necessary to adjust the weights\n",
        "            loss.backward()\n",
        "            # Updating the train_loss\n",
        "            train_loss += np.sqrt(loss.data*mean_corrector)\n",
        "            s += 1.\n",
        "            # Updating the weights of the neural network\n",
        "            optimizer.step()\n",
        "\n",
        "    epoch_loss = train_loss / len(training_set[id_user])\n",
        "    slosses.append(epoch_loss)  \n",
        "    print('epoch: '+str(epoch)+' loss: '+str(train_loss/s))\n",
        "time_end = time.time()\n",
        "print('Stacked-Autoencoder(SAE) Training Time : ' +str(round((time_end-time_start)/60,0))+' Minutes. ')"
      ],
      "execution_count": null,
      "outputs": [
        {
          "output_type": "stream",
          "text": [
            "epoch: 1 loss: tensor(2.2518)\n",
            "epoch: 2 loss: tensor(1.1102)\n",
            "epoch: 3 loss: tensor(1.0506)\n",
            "epoch: 4 loss: tensor(1.0352)\n",
            "epoch: 5 loss: tensor(1.0278)\n",
            "epoch: 6 loss: tensor(1.0234)\n",
            "epoch: 7 loss: tensor(1.0206)\n",
            "epoch: 8 loss: tensor(1.0187)\n",
            "epoch: 9 loss: tensor(1.0173)\n",
            "epoch: 10 loss: tensor(1.0163)\n",
            "epoch: 11 loss: tensor(1.0155)\n",
            "epoch: 12 loss: tensor(1.0149)\n",
            "epoch: 13 loss: tensor(1.0145)\n",
            "epoch: 14 loss: tensor(1.0141)\n",
            "epoch: 15 loss: tensor(1.0138)\n",
            "epoch: 16 loss: tensor(1.0135)\n",
            "epoch: 17 loss: tensor(1.0133)\n",
            "epoch: 18 loss: tensor(1.0131)\n",
            "epoch: 19 loss: tensor(1.0130)\n",
            "epoch: 20 loss: tensor(1.0129)\n",
            "epoch: 21 loss: tensor(1.0128)\n",
            "epoch: 22 loss: tensor(1.0127)\n",
            "epoch: 23 loss: tensor(1.0126)\n",
            "epoch: 24 loss: tensor(1.0125)\n",
            "epoch: 25 loss: tensor(1.0124)\n",
            "epoch: 26 loss: tensor(1.0124)\n",
            "epoch: 27 loss: tensor(1.0123)\n",
            "epoch: 28 loss: tensor(1.0123)\n",
            "epoch: 29 loss: tensor(1.0123)\n",
            "epoch: 30 loss: tensor(1.0122)\n",
            "epoch: 31 loss: tensor(1.0122)\n",
            "epoch: 32 loss: tensor(1.0122)\n",
            "epoch: 33 loss: tensor(1.0122)\n",
            "epoch: 34 loss: tensor(1.0121)\n",
            "epoch: 35 loss: tensor(1.0121)\n",
            "epoch: 36 loss: tensor(1.0121)\n",
            "epoch: 37 loss: tensor(1.0121)\n",
            "epoch: 38 loss: tensor(1.0121)\n",
            "epoch: 39 loss: tensor(1.0121)\n",
            "epoch: 40 loss: tensor(1.0121)\n",
            "epoch: 41 loss: tensor(1.0120)\n",
            "epoch: 42 loss: tensor(1.0120)\n",
            "epoch: 43 loss: tensor(1.0120)\n",
            "epoch: 44 loss: tensor(1.0120)\n",
            "epoch: 45 loss: tensor(1.0120)\n",
            "epoch: 46 loss: tensor(1.0120)\n",
            "epoch: 47 loss: tensor(1.0120)\n",
            "epoch: 48 loss: tensor(1.0120)\n",
            "epoch: 49 loss: tensor(1.0120)\n",
            "epoch: 50 loss: tensor(1.0120)\n",
            "epoch: 51 loss: tensor(1.0120)\n",
            "epoch: 52 loss: tensor(1.0120)\n",
            "epoch: 53 loss: tensor(1.0120)\n",
            "epoch: 54 loss: tensor(1.0120)\n",
            "epoch: 55 loss: tensor(1.0120)\n",
            "epoch: 56 loss: tensor(1.0120)\n",
            "epoch: 57 loss: tensor(1.0120)\n",
            "epoch: 58 loss: tensor(1.0120)\n",
            "epoch: 59 loss: tensor(1.0120)\n",
            "epoch: 60 loss: tensor(1.0120)\n",
            "epoch: 61 loss: tensor(1.0120)\n",
            "epoch: 62 loss: tensor(1.0120)\n",
            "epoch: 63 loss: tensor(1.0120)\n",
            "epoch: 64 loss: tensor(1.0120)\n",
            "epoch: 65 loss: tensor(1.0120)\n",
            "epoch: 66 loss: tensor(1.0120)\n",
            "epoch: 67 loss: tensor(1.0120)\n",
            "epoch: 68 loss: tensor(1.0120)\n",
            "epoch: 69 loss: tensor(1.0120)\n",
            "epoch: 70 loss: tensor(1.0120)\n",
            "epoch: 71 loss: tensor(1.0120)\n",
            "epoch: 72 loss: tensor(1.0120)\n",
            "epoch: 73 loss: tensor(1.0120)\n",
            "epoch: 74 loss: tensor(1.0120)\n",
            "epoch: 75 loss: tensor(1.0120)\n",
            "epoch: 76 loss: tensor(1.0120)\n",
            "epoch: 77 loss: tensor(1.0120)\n",
            "epoch: 78 loss: tensor(1.0120)\n",
            "epoch: 79 loss: tensor(1.0120)\n",
            "epoch: 80 loss: tensor(1.0120)\n",
            "epoch: 81 loss: tensor(1.0120)\n",
            "epoch: 82 loss: tensor(1.0120)\n",
            "epoch: 83 loss: tensor(1.0120)\n",
            "epoch: 84 loss: tensor(1.0120)\n",
            "epoch: 85 loss: tensor(1.0120)\n",
            "epoch: 86 loss: tensor(1.0120)\n",
            "epoch: 87 loss: tensor(1.0120)\n",
            "epoch: 88 loss: tensor(1.0120)\n",
            "epoch: 89 loss: tensor(1.0120)\n",
            "epoch: 90 loss: tensor(1.0120)\n",
            "epoch: 91 loss: tensor(1.0120)\n",
            "epoch: 92 loss: tensor(1.0120)\n",
            "epoch: 93 loss: tensor(1.0120)\n",
            "epoch: 94 loss: tensor(1.0120)\n",
            "epoch: 95 loss: tensor(1.0120)\n",
            "epoch: 96 loss: tensor(1.0120)\n",
            "epoch: 97 loss: tensor(1.0120)\n",
            "epoch: 98 loss: tensor(1.0120)\n",
            "epoch: 99 loss: tensor(1.0120)\n",
            "epoch: 100 loss: tensor(1.0120)\n",
            "epoch: 101 loss: tensor(1.0120)\n",
            "epoch: 102 loss: tensor(1.0120)\n",
            "epoch: 103 loss: tensor(1.0120)\n",
            "epoch: 104 loss: tensor(1.0120)\n",
            "epoch: 105 loss: tensor(1.0120)\n",
            "epoch: 106 loss: tensor(1.0120)\n",
            "epoch: 107 loss: tensor(1.0120)\n",
            "epoch: 108 loss: tensor(1.0120)\n",
            "epoch: 109 loss: tensor(1.0120)\n",
            "epoch: 110 loss: tensor(1.0120)\n",
            "epoch: 111 loss: tensor(1.0120)\n",
            "epoch: 112 loss: tensor(1.0120)\n",
            "epoch: 113 loss: tensor(1.0120)\n",
            "epoch: 114 loss: tensor(1.0120)\n",
            "epoch: 115 loss: tensor(1.0120)\n",
            "epoch: 116 loss: tensor(1.0120)\n",
            "epoch: 117 loss: tensor(1.0120)\n",
            "epoch: 118 loss: tensor(1.0120)\n",
            "epoch: 119 loss: tensor(1.0120)\n",
            "epoch: 120 loss: tensor(1.0120)\n",
            "epoch: 121 loss: tensor(1.0120)\n",
            "epoch: 122 loss: tensor(1.0120)\n",
            "epoch: 123 loss: tensor(1.0120)\n",
            "epoch: 124 loss: tensor(1.0120)\n",
            "epoch: 125 loss: tensor(1.0120)\n",
            "epoch: 126 loss: tensor(1.0120)\n",
            "epoch: 127 loss: tensor(1.0120)\n",
            "epoch: 128 loss: tensor(1.0120)\n",
            "epoch: 129 loss: tensor(1.0120)\n",
            "epoch: 130 loss: tensor(1.0120)\n",
            "epoch: 131 loss: tensor(1.0120)\n",
            "epoch: 132 loss: tensor(1.0120)\n",
            "epoch: 133 loss: tensor(1.0120)\n",
            "epoch: 134 loss: tensor(1.0120)\n",
            "epoch: 135 loss: tensor(1.0120)\n",
            "epoch: 136 loss: tensor(1.0120)\n",
            "epoch: 137 loss: tensor(1.0120)\n",
            "epoch: 138 loss: tensor(1.0120)\n",
            "epoch: 139 loss: tensor(1.0120)\n",
            "epoch: 140 loss: tensor(1.0120)\n",
            "epoch: 141 loss: tensor(1.0120)\n",
            "epoch: 142 loss: tensor(1.0120)\n",
            "epoch: 143 loss: tensor(1.0120)\n",
            "epoch: 144 loss: tensor(1.0120)\n",
            "epoch: 145 loss: tensor(1.0120)\n",
            "epoch: 146 loss: tensor(1.0120)\n",
            "epoch: 147 loss: tensor(1.0120)\n",
            "epoch: 148 loss: tensor(1.0120)\n",
            "epoch: 149 loss: tensor(1.0120)\n",
            "epoch: 150 loss: tensor(1.0120)\n",
            "epoch: 151 loss: tensor(1.0120)\n",
            "epoch: 152 loss: tensor(1.0120)\n",
            "epoch: 153 loss: tensor(1.0120)\n",
            "epoch: 154 loss: tensor(1.0120)\n",
            "epoch: 155 loss: tensor(1.0120)\n",
            "epoch: 156 loss: tensor(1.0120)\n",
            "epoch: 157 loss: tensor(1.0120)\n",
            "epoch: 158 loss: tensor(1.0120)\n",
            "epoch: 159 loss: tensor(1.0120)\n",
            "epoch: 160 loss: tensor(1.0120)\n",
            "epoch: 161 loss: tensor(1.0120)\n",
            "epoch: 162 loss: tensor(1.0120)\n",
            "epoch: 163 loss: tensor(1.0120)\n",
            "epoch: 164 loss: tensor(1.0120)\n",
            "epoch: 165 loss: tensor(1.0120)\n",
            "epoch: 166 loss: tensor(1.0120)\n",
            "epoch: 167 loss: tensor(1.0120)\n",
            "epoch: 168 loss: tensor(1.0120)\n",
            "epoch: 169 loss: tensor(1.0120)\n",
            "epoch: 170 loss: tensor(1.0120)\n",
            "epoch: 171 loss: tensor(1.0119)\n",
            "epoch: 172 loss: tensor(1.0119)\n",
            "epoch: 173 loss: tensor(1.0119)\n",
            "epoch: 174 loss: tensor(1.0119)\n",
            "epoch: 175 loss: tensor(1.0119)\n",
            "epoch: 176 loss: tensor(1.0119)\n",
            "epoch: 177 loss: tensor(1.0119)\n",
            "epoch: 178 loss: tensor(1.0119)\n",
            "epoch: 179 loss: tensor(1.0119)\n",
            "epoch: 180 loss: tensor(1.0119)\n",
            "epoch: 181 loss: tensor(1.0119)\n",
            "epoch: 182 loss: tensor(1.0119)\n",
            "epoch: 183 loss: tensor(1.0119)\n",
            "epoch: 184 loss: tensor(1.0119)\n",
            "epoch: 185 loss: tensor(1.0119)\n",
            "epoch: 186 loss: tensor(1.0119)\n",
            "epoch: 187 loss: tensor(1.0119)\n",
            "epoch: 188 loss: tensor(1.0119)\n",
            "epoch: 189 loss: tensor(1.0119)\n",
            "epoch: 190 loss: tensor(1.0119)\n",
            "epoch: 191 loss: tensor(1.0119)\n",
            "epoch: 192 loss: tensor(1.0119)\n",
            "epoch: 193 loss: tensor(1.0119)\n",
            "epoch: 194 loss: tensor(1.0119)\n",
            "epoch: 195 loss: tensor(1.0119)\n",
            "epoch: 196 loss: tensor(1.0119)\n",
            "epoch: 197 loss: tensor(1.0119)\n",
            "epoch: 198 loss: tensor(1.0119)\n",
            "epoch: 199 loss: tensor(1.0119)\n",
            "epoch: 200 loss: tensor(1.0119)\n",
            "Stacked-Autoencoder(SAE) Training Time : 3.0 Minutes. \n"
          ],
          "name": "stdout"
        }
      ]
    },
    {
      "cell_type": "code",
      "metadata": {
        "colab_type": "code",
        "id": "JfPL9Pi2MvNA",
        "colab": {
          "base_uri": "https://localhost:8080/",
          "height": 295
        },
        "outputId": "714afc59-db20-4f6b-f7cc-2fc3e0c3f06c"
      },
      "source": [
        "epochs = range(1,201)\n",
        "plt.plot(epochs, slosses, 'r', label=' SGD ') # 'g' = color green\n",
        "plt.title('Optimizer - epoch =200')\n",
        "plt.xlabel('Epochs')\n",
        "plt.ylabel('Training  Loss')\n",
        "\n",
        "plt.legend()\n",
        "plt.show()"
      ],
      "execution_count": null,
      "outputs": [
        {
          "output_type": "display_data",
          "data": {
            "image/png": "[encoded data removed]",
            "text/plain": [
              "<Figure size 432x288 with 1 Axes>"
            ]
          },
          "metadata": {
            "tags": [],
            "needs_background": "light"
          }
        }
      ]
    },
    {
      "cell_type": "code",
      "metadata": {
        "colab_type": "code",
        "id": "CLLCu3BqMvND",
        "colab": {
          "base_uri": "https://localhost:8080/",
          "height": 34
        },
        "outputId": "a9bb1df0-8158-49fc-c3a0-537c65c4f243"
      },
      "source": [
        "# Initializing the test_loss\n",
        "sae.eval()\n",
        "with torch.no_grad():\n",
        "  test_loss = 0\n",
        "  s = 0.\n",
        "  for id_user in range(nb_users):\n",
        "      input = Variable(training_set[id_user]).unsqueeze(0)\n",
        "      target = Variable(test_set[id_user]).unsqueeze(0)\n",
        "      if torch.sum(target.data > 0) > 0:\n",
        "          output = sae(input)\n",
        "          target.require_grad = False\n",
        "          output[(target == 0)] = 0\n",
        "          loss = criterion(output, target)\n",
        "  \n",
        "          mean_corrector = nb_movies/float(torch.sum(target.data > 0) + 1e-10)\n",
        "          test_loss += np.sqrt(loss.data*mean_corrector)\n",
        "          s += 1.\n",
        "          pred = sae(target)\n",
        "  print('test_loss: '+str(test_loss/s))\n",
        "\n",
        "\n",
        "\n"
      ],
      "execution_count": null,
      "outputs": [
        {
          "output_type": "stream",
          "text": [
            "test_loss: tensor(1.0189)\n"
          ],
          "name": "stdout"
        }
      ]
    },
    {
      "cell_type": "code",
      "metadata": {
        "colab_type": "code",
        "id": "4rlfCggvMvNF",
        "colab": {}
      },
      "source": [
        "from math import sqrt\n"
      ],
      "execution_count": null,
      "outputs": []
    },
    {
      "cell_type": "code",
      "metadata": {
        "colab_type": "code",
        "id": "HSvPJpfOMvNH",
        "colab": {
          "base_uri": "https://localhost:8080/",
          "height": 34
        },
        "outputId": "86637feb-7c3f-406a-f221-ddb6de519a95"
      },
      "source": [
        "RMSE = sqrt(1.0189)\n",
        "\n",
        "RMSE"
      ],
      "execution_count": null,
      "outputs": [
        {
          "output_type": "execute_result",
          "data": {
            "text/plain": [
              "1.0094057657849989"
            ]
          },
          "metadata": {
            "tags": []
          },
          "execution_count": 60
        }
      ]
    },
    {
      "cell_type": "code",
      "metadata": {
        "colab_type": "code",
        "id": "t-35UeYLMvNJ",
        "colab": {
          "base_uri": "https://localhost:8080/",
          "height": 295
        },
        "outputId": "f0f7a823-85ab-45ff-bf6b-91265e169b90"
      },
      "source": [
        "\n",
        "epochs = range(1,201)\n",
        "plt.plot(epochs, losses, 'g', label='RMSprop')\n",
        "plt.plot(epochs, alosses, 'b', label='ADAM')\n",
        "plt.plot(epochs, slosses, 'r', label=' SGD ')\n",
        "\n",
        "\n",
        "plt.title('Optimizer - epoch =200')\n",
        "plt.xlabel('Epochs')\n",
        "plt.ylabel('Training  Loss')\n",
        "\n",
        "plt.legend()\n",
        "plt.show()"
      ],
      "execution_count": null,
      "outputs": [
        {
          "output_type": "display_data",
          "data": {
            "image/png": "[encoded data removed]",
            "text/plain": [
              "<Figure size 432x288 with 1 Axes>"
            ]
          },
          "metadata": {
            "tags": [],
            "needs_background": "light"
          }
        }
      ]
    },
    {
      "cell_type": "markdown",
      "metadata": {
        "id": "EZmfqu89Ppv7",
        "colab_type": "text"
      },
      "source": [
        "#  Optimizer: ADAGRAD\n",
        "\n",
        "* TRAINING LOSS: 0.9117\n",
        "* TEST LOSS: 0.9515\n",
        "* RMSE: 0.9754"
      ]
    },
    {
      "cell_type": "code",
      "metadata": {
        "id": "Uz2bclMPPp_s",
        "colab_type": "code",
        "colab": {}
      },
      "source": [
        ""
      ],
      "execution_count": null,
      "outputs": []
    },
    {
      "cell_type": "code",
      "metadata": {
        "colab_type": "code",
        "id": "bU7VNBQmPqV6",
        "colab": {}
      },
      "source": [
        "training = ['user_id', 'movie_id', 'rating', 'timestamp' ] #Create each column\n",
        "test = ['user_id', 'movie_id', 'rating', 'timestamp' ]     #Create each column"
      ],
      "execution_count": null,
      "outputs": []
    },
    {
      "cell_type": "code",
      "metadata": {
        "colab_type": "code",
        "id": "OfpsJYLnPqV9",
        "colab": {}
      },
      "source": [
        "# Preparing the training set and the test set \n",
        "training_set = pd.read_csv('u1.base', names=training, delimiter = '\\t') # Read the file\n",
        "test_set = pd.read_csv('u1.test', names=test, delimiter = '\\t') #Read the file"
      ],
      "execution_count": null,
      "outputs": []
    },
    {
      "cell_type": "code",
      "metadata": {
        "colab_type": "code",
        "id": "NtGqsJU5PqWD",
        "colab": {}
      },
      "source": [
        "#Drop 'timestamp' column\n",
        "training_set= training_set.drop([\"timestamp\"], axis=1)"
      ],
      "execution_count": null,
      "outputs": []
    },
    {
      "cell_type": "code",
      "metadata": {
        "colab_type": "code",
        "id": "05wr5jOlPqWF",
        "colab": {}
      },
      "source": [
        "#Drop 'timestamp' column\n",
        "test_set= test_set.drop([\"timestamp\"], axis=1)"
      ],
      "execution_count": null,
      "outputs": []
    },
    {
      "cell_type": "code",
      "metadata": {
        "colab_type": "code",
        "id": "lcjEofh0PqWJ",
        "colab": {
          "base_uri": "https://localhost:8080/",
          "height": 204
        },
        "outputId": "86bd4896-041e-46ae-b19d-f6964961dd38"
      },
      "source": [
        "# Visualizing the first elements of the training_set\n",
        "training_set.head()"
      ],
      "execution_count": null,
      "outputs": [
        {
          "output_type": "execute_result",
          "data": {
            "text/html": [
              "<div>\n",
              "<style scoped>\n",
              "    .dataframe tbody tr th:only-of-type {\n",
              "        vertical-align: middle;\n",
              "    }\n",
              "\n",
              "    .dataframe tbody tr th {\n",
              "        vertical-align: top;\n",
              "    }\n",
              "\n",
              "    .dataframe thead th {\n",
              "        text-align: right;\n",
              "    }\n",
              "</style>\n",
              "<table border=\"1\" class=\"dataframe\">\n",
              "  <thead>\n",
              "    <tr style=\"text-align: right;\">\n",
              "      <th></th>\n",
              "      <th>user_id</th>\n",
              "      <th>movie_id</th>\n",
              "      <th>rating</th>\n",
              "    </tr>\n",
              "  </thead>\n",
              "  <tbody>\n",
              "    <tr>\n",
              "      <th>0</th>\n",
              "      <td>1</td>\n",
              "      <td>1</td>\n",
              "      <td>5</td>\n",
              "    </tr>\n",
              "    <tr>\n",
              "      <th>1</th>\n",
              "      <td>1</td>\n",
              "      <td>2</td>\n",
              "      <td>3</td>\n",
              "    </tr>\n",
              "    <tr>\n",
              "      <th>2</th>\n",
              "      <td>1</td>\n",
              "      <td>3</td>\n",
              "      <td>4</td>\n",
              "    </tr>\n",
              "    <tr>\n",
              "      <th>3</th>\n",
              "      <td>1</td>\n",
              "      <td>4</td>\n",
              "      <td>3</td>\n",
              "    </tr>\n",
              "    <tr>\n",
              "      <th>4</th>\n",
              "      <td>1</td>\n",
              "      <td>5</td>\n",
              "      <td>3</td>\n",
              "    </tr>\n",
              "  </tbody>\n",
              "</table>\n",
              "</div>"
            ],
            "text/plain": [
              "   user_id  movie_id  rating\n",
              "0        1         1       5\n",
              "1        1         2       3\n",
              "2        1         3       4\n",
              "3        1         4       3\n",
              "4        1         5       3"
            ]
          },
          "metadata": {
            "tags": []
          },
          "execution_count": 67
        }
      ]
    },
    {
      "cell_type": "code",
      "metadata": {
        "colab_type": "code",
        "id": "fto-9QQXPqWL",
        "colab": {}
      },
      "source": [
        "# Converting the training and test sets into numpy arrays\n",
        "training_set = np.array(training_set, dtype = 'int')\n",
        "test_set = np.array(test_set, dtype = 'int')"
      ],
      "execution_count": null,
      "outputs": []
    },
    {
      "cell_type": "code",
      "metadata": {
        "colab_type": "code",
        "id": "zq84ReE_PqWO",
        "colab": {}
      },
      "source": [
        "# Getting the number of users and movies\n",
        "nb_users = int(max(max(training_set[:, 0]), max(test_set[:, 0])))\n",
        "nb_movies = int(max(max(training_set[:, 1]), max(test_set[:, 1])))"
      ],
      "execution_count": null,
      "outputs": []
    },
    {
      "cell_type": "code",
      "metadata": {
        "colab_type": "code",
        "id": "ODqJYS4-PqWQ",
        "colab": {
          "base_uri": "https://localhost:8080/",
          "height": 51
        },
        "outputId": "3da9e556-9e9c-4b29-8cb3-88205f5cdaf9"
      },
      "source": [
        "print(\"Number of users: {}\".format(nb_users))\n",
        "print(\"Number of movies: {}\".format(nb_movies))"
      ],
      "execution_count": null,
      "outputs": [
        {
          "output_type": "stream",
          "text": [
            "Number of users: 943\n",
            "Number of movies: 1682\n"
          ],
          "name": "stdout"
        }
      ]
    },
    {
      "cell_type": "code",
      "metadata": {
        "colab_type": "code",
        "id": "6JXbFUsrPqWY",
        "colab": {}
      },
      "source": [
        "def convert(data):\n",
        "    # Initializing an empty list that will take the list of ratings given by a specific user\n",
        "    new_data = []\n",
        "    # Looping over all the users\n",
        "    for id_users in range(1, nb_users + 1):\n",
        "        # We get the id of the movies rated by the current user\n",
        "        id_movies = data[:, 1][data[:, 0] == id_users]\n",
        "        # We get the id of the ratings given by the current_user\n",
        "        id_ratings = data[:, 2][data[:, 0] == id_users]\n",
        "        # \n",
        "        ratings = np.zeros(nb_movies)\n",
        "        # For movies rated by the current user, we replace 0 with the rating\n",
        "        # The first element of ratings is at index 0. However, id_movies start at index 1.\n",
        "        # Therefore, ratings[id_movies - 1] will correspond to the location of the movie we're considering\n",
        "        ratings[id_movies - 1] = id_ratings\n",
        "        new_data.append(list(ratings))\n",
        "    return new_data"
      ],
      "execution_count": null,
      "outputs": []
    },
    {
      "cell_type": "code",
      "metadata": {
        "colab_type": "code",
        "id": "gpaQxa2GPqWb",
        "colab": {}
      },
      "source": [
        "# Applying the convert function to the training and test set.\n",
        "training_set = convert(training_set)\n",
        "test_set = convert(test_set)"
      ],
      "execution_count": null,
      "outputs": []
    },
    {
      "cell_type": "code",
      "metadata": {
        "colab_type": "code",
        "id": "7EJZIEiJPqWd",
        "colab": {}
      },
      "source": [
        "# Convert the data into Torch tensors\n",
        "training_set = torch.FloatTensor(training_set)\n",
        "test_set = torch.FloatTensor(test_set)"
      ],
      "execution_count": null,
      "outputs": []
    },
    {
      "cell_type": "code",
      "metadata": {
        "colab_type": "code",
        "id": "5jryj-dCPqWg",
        "colab": {}
      },
      "source": [
        "# Create the SAE (stack autoencoder) class, which is inherited from nn.Module(Pytorch library)\n",
        "class SAE(nn.Module):\n",
        "    # Initializing the class\n",
        "    def __init__(self, ):\n",
        "        # making the class get all the functions from the parent class nn.Module\n",
        "        super(SAE, self).__init__()\n",
        "        # Creating the first encoding layer. The number of input corresponds to the number of movies\n",
        "        #  Decide to encode it into 20 outputs\n",
        "        self.fc1 = nn.Linear(nb_movies, 20)\n",
        "        # Creating the second encoding layer. From 20 inputs to 10 outputs\n",
        "        self.fc2 = nn.Linear(20, 10)\n",
        "        # Creating the first decoding layer. From 10 inputs to 20 outputs\n",
        "        self.fc3 = nn.Linear(10, 20)\n",
        "        # Creating the second hidden layer. From 20 inputs to nb_movies outputs\n",
        "        self.fc4 = nn.Linear(20, nb_movies)\n",
        "\n",
        "        #####  Activation Function: Sigmoid   #######\n",
        "\n",
        "        # Creating the activation fucntion which will fire up specific neurons \n",
        "        self.activation = nn.Sigmoid()\n",
        "        \n",
        "        # Creating the function for forward propagation\n",
        "    def forward(self, x):\n",
        "        x = self.activation(self.fc1(x))\n",
        "        x = self.activation(self.fc2(x))\n",
        "        x = self.activation(self.fc3(x))\n",
        "        # With autoencoder, we don't need an activation function for the last decoding part\n",
        "        x = self.fc4(x)\n",
        "        return x\n",
        "\n",
        "  \n",
        "\n",
        "\n",
        "  "
      ],
      "execution_count": null,
      "outputs": []
    },
    {
      "cell_type": "code",
      "metadata": {
        "colab_type": "code",
        "id": "bEHIoD9aPqWi",
        "colab": {}
      },
      "source": [
        " #Creating an instance of our SAE class\n",
        "sae = SAE()\n",
        "\n",
        "\n",
        " #Defining a criterion which specifies the metric to minimize.\n",
        " #In this case, we want to minimize the MSE (Mean Squared Error)\n",
        "\n",
        "criterion = nn.MSELoss()\n",
        "\n",
        "# Defining the algorithm used to minimize the loss function. \n",
        "#In this case, we'll use Adagrad\n",
        "\n",
        "optimizer = optim.Adagrad(sae.parameters(), lr = 0.01, weight_decay = 0.5)\n"
      ],
      "execution_count": null,
      "outputs": []
    },
    {
      "cell_type": "code",
      "metadata": {
        "colab_type": "code",
        "id": "xSf1rgLKPqWl",
        "colab": {
          "base_uri": "https://localhost:8080/",
          "height": 1000
        },
        "outputId": "2e407c2d-59c1-4da3-c960-381563b31a91"
      },
      "source": [
        "\n",
        "\n",
        "#time\n",
        "time_start = time.time()\n",
        "# Setting the number of epochs\n",
        "nb_epoch = 200\n",
        "\n",
        "# storing the  traning loss calculations\n",
        "adlosses = [] \n",
        "\n",
        "# Iterating over each epoch\n",
        "for epoch in range(1, nb_epoch + 1):\n",
        "    # Initializing the train_loss which will be updated\n",
        "    train_loss = 0\n",
        "    # Initializing a counter\n",
        "    s = 0.\n",
        "    # Iterating over each user\n",
        "    for id_user in range(nb_users):\n",
        "        # The input corresponds to the ratings given by the current user for each movie\n",
        "        input = Variable(training_set[id_user]).unsqueeze(0)\n",
        "        target = input.clone()\n",
        "        # We don't consider movies NOT rated by the current user. So we specify a conditional statement\n",
        "        if torch.sum(target.data > 0) > 0:\n",
        "            # We use our SAE to get the output from the \n",
        "            output = sae(input)\n",
        "            target.require_grad = False\n",
        "            output[target == 0] = 0\n",
        "            # Defining our loss function, comparing the output with the target\n",
        "            loss = criterion(output, target)\n",
        "            mean_corrector = nb_movies/float(torch.sum(target.data > 0) + 1e-10)\n",
        "            # Computing the gradients necessary to adjust the weights\n",
        "            loss.backward()\n",
        "            # Updating the train_loss\n",
        "            train_loss += np.sqrt(loss.data*mean_corrector)\n",
        "            s += 1.\n",
        "            # Updating the weights of the neural network\n",
        "            optimizer.step()\n",
        "\n",
        "    epoch_loss = train_loss / len(training_set[id_user])\n",
        "    adlosses.append(epoch_loss)  \n",
        "    print('epoch: '+str(epoch)+' loss: '+str(train_loss/s))\n",
        "time_end = time.time()\n",
        "print('Stacked-Autoencoder(SAE) Training Time : ' +str(round((time_end-time_start)/60,0))+' Minutes. ')"
      ],
      "execution_count": null,
      "outputs": [
        {
          "output_type": "stream",
          "text": [
            "epoch: 1 loss: tensor(1.9130)\n",
            "epoch: 2 loss: tensor(1.0906)\n",
            "epoch: 3 loss: tensor(1.0480)\n",
            "epoch: 4 loss: tensor(1.0332)\n",
            "epoch: 5 loss: tensor(1.0258)\n",
            "epoch: 6 loss: tensor(1.0215)\n",
            "epoch: 7 loss: tensor(1.0188)\n",
            "epoch: 8 loss: tensor(1.0169)\n",
            "epoch: 9 loss: tensor(1.0156)\n",
            "epoch: 10 loss: tensor(1.0146)\n",
            "epoch: 11 loss: tensor(1.0139)\n",
            "epoch: 12 loss: tensor(1.0134)\n",
            "epoch: 13 loss: tensor(1.0130)\n",
            "epoch: 14 loss: tensor(1.0127)\n",
            "epoch: 15 loss: tensor(1.0125)\n",
            "epoch: 16 loss: tensor(1.0124)\n",
            "epoch: 17 loss: tensor(1.0123)\n",
            "epoch: 18 loss: tensor(1.0123)\n",
            "epoch: 19 loss: tensor(1.0123)\n",
            "epoch: 20 loss: tensor(1.0125)\n",
            "epoch: 21 loss: tensor(1.0127)\n",
            "epoch: 22 loss: tensor(1.0129)\n",
            "epoch: 23 loss: tensor(1.0131)\n",
            "epoch: 24 loss: tensor(1.0134)\n",
            "epoch: 25 loss: tensor(1.0137)\n",
            "epoch: 26 loss: tensor(1.0139)\n",
            "epoch: 27 loss: tensor(1.0142)\n",
            "epoch: 28 loss: tensor(1.0143)\n",
            "epoch: 29 loss: tensor(1.0141)\n",
            "epoch: 30 loss: tensor(1.0139)\n",
            "epoch: 31 loss: tensor(1.0139)\n",
            "epoch: 32 loss: tensor(1.0140)\n",
            "epoch: 33 loss: tensor(1.0140)\n",
            "epoch: 34 loss: tensor(1.0141)\n",
            "epoch: 35 loss: tensor(1.0141)\n",
            "epoch: 36 loss: tensor(1.0142)\n",
            "epoch: 37 loss: tensor(1.0143)\n",
            "epoch: 38 loss: tensor(1.0143)\n",
            "epoch: 39 loss: tensor(1.0144)\n",
            "epoch: 40 loss: tensor(1.0145)\n",
            "epoch: 41 loss: tensor(1.0145)\n",
            "epoch: 42 loss: tensor(1.0145)\n",
            "epoch: 43 loss: tensor(1.0146)\n",
            "epoch: 44 loss: tensor(1.0146)\n",
            "epoch: 45 loss: tensor(1.0147)\n",
            "epoch: 46 loss: tensor(1.0146)\n",
            "epoch: 47 loss: tensor(1.0146)\n",
            "epoch: 48 loss: tensor(1.0145)\n",
            "epoch: 49 loss: tensor(1.0145)\n",
            "epoch: 50 loss: tensor(1.0145)\n",
            "epoch: 51 loss: tensor(1.0145)\n",
            "epoch: 52 loss: tensor(1.0146)\n",
            "epoch: 53 loss: tensor(1.0146)\n",
            "epoch: 54 loss: tensor(1.0146)\n",
            "epoch: 55 loss: tensor(1.0145)\n",
            "epoch: 56 loss: tensor(1.0145)\n",
            "epoch: 57 loss: tensor(1.0144)\n",
            "epoch: 58 loss: tensor(1.0143)\n",
            "epoch: 59 loss: tensor(1.0143)\n",
            "epoch: 60 loss: tensor(1.0142)\n",
            "epoch: 61 loss: tensor(1.0142)\n",
            "epoch: 62 loss: tensor(1.0141)\n",
            "epoch: 63 loss: tensor(1.0140)\n",
            "epoch: 64 loss: tensor(1.0139)\n",
            "epoch: 65 loss: tensor(1.0139)\n",
            "epoch: 66 loss: tensor(1.0138)\n",
            "epoch: 67 loss: tensor(1.0137)\n",
            "epoch: 68 loss: tensor(1.0136)\n",
            "epoch: 69 loss: tensor(1.0135)\n",
            "epoch: 70 loss: tensor(1.0134)\n",
            "epoch: 71 loss: tensor(1.0133)\n",
            "epoch: 72 loss: tensor(1.0132)\n",
            "epoch: 73 loss: tensor(1.0131)\n",
            "epoch: 74 loss: tensor(1.0131)\n",
            "epoch: 75 loss: tensor(1.0130)\n",
            "epoch: 76 loss: tensor(1.0129)\n",
            "epoch: 77 loss: tensor(1.0128)\n",
            "epoch: 78 loss: tensor(1.0127)\n",
            "epoch: 79 loss: tensor(1.0126)\n",
            "epoch: 80 loss: tensor(1.0125)\n",
            "epoch: 81 loss: tensor(1.0125)\n",
            "epoch: 82 loss: tensor(1.0124)\n",
            "epoch: 83 loss: tensor(1.0122)\n",
            "epoch: 84 loss: tensor(1.0121)\n",
            "epoch: 85 loss: tensor(1.0117)\n",
            "epoch: 86 loss: tensor(1.0100)\n",
            "epoch: 87 loss: tensor(1.0089)\n",
            "epoch: 88 loss: tensor(1.0080)\n",
            "epoch: 89 loss: tensor(1.0061)\n",
            "epoch: 90 loss: tensor(1.0031)\n",
            "epoch: 91 loss: tensor(0.9991)\n",
            "epoch: 92 loss: tensor(0.9939)\n",
            "epoch: 93 loss: tensor(0.9890)\n",
            "epoch: 94 loss: tensor(0.9851)\n",
            "epoch: 95 loss: tensor(0.9815)\n",
            "epoch: 96 loss: tensor(0.9802)\n",
            "epoch: 97 loss: tensor(0.9780)\n",
            "epoch: 98 loss: tensor(0.9754)\n",
            "epoch: 99 loss: tensor(0.9732)\n",
            "epoch: 100 loss: tensor(0.9742)\n",
            "epoch: 101 loss: tensor(0.9723)\n",
            "epoch: 102 loss: tensor(0.9731)\n",
            "epoch: 103 loss: tensor(0.9736)\n",
            "epoch: 104 loss: tensor(0.9723)\n",
            "epoch: 105 loss: tensor(0.9733)\n",
            "epoch: 106 loss: tensor(0.9752)\n",
            "epoch: 107 loss: tensor(0.9723)\n",
            "epoch: 108 loss: tensor(0.9700)\n",
            "epoch: 109 loss: tensor(0.9740)\n",
            "epoch: 110 loss: tensor(0.9747)\n",
            "epoch: 111 loss: tensor(0.9736)\n",
            "epoch: 112 loss: tensor(0.9697)\n",
            "epoch: 113 loss: tensor(0.9672)\n",
            "epoch: 114 loss: tensor(0.9680)\n",
            "epoch: 115 loss: tensor(0.9682)\n",
            "epoch: 116 loss: tensor(0.9652)\n",
            "epoch: 117 loss: tensor(0.9653)\n",
            "epoch: 118 loss: tensor(0.9660)\n",
            "epoch: 119 loss: tensor(0.9635)\n",
            "epoch: 120 loss: tensor(0.9610)\n",
            "epoch: 121 loss: tensor(0.9552)\n",
            "epoch: 122 loss: tensor(0.9551)\n",
            "epoch: 123 loss: tensor(0.9550)\n",
            "epoch: 124 loss: tensor(0.9520)\n",
            "epoch: 125 loss: tensor(0.9500)\n",
            "epoch: 126 loss: tensor(0.9459)\n",
            "epoch: 127 loss: tensor(0.9470)\n",
            "epoch: 128 loss: tensor(0.9439)\n",
            "epoch: 129 loss: tensor(0.9409)\n",
            "epoch: 130 loss: tensor(0.9401)\n",
            "epoch: 131 loss: tensor(0.9396)\n",
            "epoch: 132 loss: tensor(0.9397)\n",
            "epoch: 133 loss: tensor(0.9430)\n",
            "epoch: 134 loss: tensor(0.9451)\n",
            "epoch: 135 loss: tensor(0.9413)\n",
            "epoch: 136 loss: tensor(0.9407)\n",
            "epoch: 137 loss: tensor(0.9403)\n",
            "epoch: 138 loss: tensor(0.9429)\n",
            "epoch: 139 loss: tensor(0.9474)\n",
            "epoch: 140 loss: tensor(0.9452)\n",
            "epoch: 141 loss: tensor(0.9412)\n",
            "epoch: 142 loss: tensor(0.9400)\n",
            "epoch: 143 loss: tensor(0.9404)\n",
            "epoch: 144 loss: tensor(0.9413)\n",
            "epoch: 145 loss: tensor(0.9419)\n",
            "epoch: 146 loss: tensor(0.9411)\n",
            "epoch: 147 loss: tensor(0.9412)\n",
            "epoch: 148 loss: tensor(0.9440)\n",
            "epoch: 149 loss: tensor(0.9433)\n",
            "epoch: 150 loss: tensor(0.9453)\n",
            "epoch: 151 loss: tensor(0.9485)\n",
            "epoch: 152 loss: tensor(0.9496)\n",
            "epoch: 153 loss: tensor(0.9492)\n",
            "epoch: 154 loss: tensor(0.9400)\n",
            "epoch: 155 loss: tensor(0.9381)\n",
            "epoch: 156 loss: tensor(0.9335)\n",
            "epoch: 157 loss: tensor(0.9311)\n",
            "epoch: 158 loss: tensor(0.9289)\n",
            "epoch: 159 loss: tensor(0.9265)\n",
            "epoch: 160 loss: tensor(0.9248)\n",
            "epoch: 161 loss: tensor(0.9231)\n",
            "epoch: 162 loss: tensor(0.9222)\n",
            "epoch: 163 loss: tensor(0.9216)\n",
            "epoch: 164 loss: tensor(0.9207)\n",
            "epoch: 165 loss: tensor(0.9205)\n",
            "epoch: 166 loss: tensor(0.9198)\n",
            "epoch: 167 loss: tensor(0.9195)\n",
            "epoch: 168 loss: tensor(0.9189)\n",
            "epoch: 169 loss: tensor(0.9239)\n",
            "epoch: 170 loss: tensor(0.9279)\n",
            "epoch: 171 loss: tensor(0.9236)\n",
            "epoch: 172 loss: tensor(0.9232)\n",
            "epoch: 173 loss: tensor(0.9236)\n",
            "epoch: 174 loss: tensor(0.9240)\n",
            "epoch: 175 loss: tensor(0.9229)\n",
            "epoch: 176 loss: tensor(0.9217)\n",
            "epoch: 177 loss: tensor(0.9211)\n",
            "epoch: 178 loss: tensor(0.9222)\n",
            "epoch: 179 loss: tensor(0.9199)\n",
            "epoch: 180 loss: tensor(0.9186)\n",
            "epoch: 181 loss: tensor(0.9175)\n",
            "epoch: 182 loss: tensor(0.9170)\n",
            "epoch: 183 loss: tensor(0.9165)\n",
            "epoch: 184 loss: tensor(0.9163)\n",
            "epoch: 185 loss: tensor(0.9163)\n",
            "epoch: 186 loss: tensor(0.9162)\n",
            "epoch: 187 loss: tensor(0.9154)\n",
            "epoch: 188 loss: tensor(0.9150)\n",
            "epoch: 189 loss: tensor(0.9141)\n",
            "epoch: 190 loss: tensor(0.9138)\n",
            "epoch: 191 loss: tensor(0.9134)\n",
            "epoch: 192 loss: tensor(0.9133)\n",
            "epoch: 193 loss: tensor(0.9130)\n",
            "epoch: 194 loss: tensor(0.9129)\n",
            "epoch: 195 loss: tensor(0.9125)\n",
            "epoch: 196 loss: tensor(0.9124)\n",
            "epoch: 197 loss: tensor(0.9126)\n",
            "epoch: 198 loss: tensor(0.9121)\n",
            "epoch: 199 loss: tensor(0.9118)\n",
            "epoch: 200 loss: tensor(0.9117)\n",
            "Stacked-Autoencoder(SAE) Training Time : 4.0 Minutes. \n"
          ],
          "name": "stdout"
        }
      ]
    },
    {
      "cell_type": "code",
      "metadata": {
        "colab_type": "code",
        "id": "23CkCw50PqWn",
        "colab": {
          "base_uri": "https://localhost:8080/",
          "height": 295
        },
        "outputId": "0a2ab75a-ca02-467c-8d99-1c76d1cf7479"
      },
      "source": [
        "epochs = range(1,201)\n",
        "plt.plot(epochs, adlosses, 'y', label=' Adagrad') # 'g' = color green\n",
        "plt.title('Optimizer - epoch =200')\n",
        "plt.xlabel('Epochs')\n",
        "plt.ylabel('Training  Loss')\n",
        "\n",
        "plt.legend()\n",
        "plt.show()"
      ],
      "execution_count": null,
      "outputs": [
        {
          "output_type": "display_data",
          "data": {
            "image/png": "[encoded data removed]",
            "text/plain": [
              "<Figure size 432x288 with 1 Axes>"
            ]
          },
          "metadata": {
            "tags": [],
            "needs_background": "light"
          }
        }
      ]
    },
    {
      "cell_type": "code",
      "metadata": {
        "colab_type": "code",
        "id": "aCm6hxKTPqWr",
        "colab": {
          "base_uri": "https://localhost:8080/",
          "height": 34
        },
        "outputId": "9ac9a4bb-2ebc-4a47-f134-e32b33f25a6a"
      },
      "source": [
        "# Initializing the test_loss\n",
        "sae.eval()\n",
        "with torch.no_grad():\n",
        "  test_loss = 0\n",
        "  s = 0.\n",
        "  for id_user in range(nb_users):\n",
        "      input = Variable(training_set[id_user]).unsqueeze(0)\n",
        "      target = Variable(test_set[id_user]).unsqueeze(0)\n",
        "      if torch.sum(target.data > 0) > 0:\n",
        "          output = sae(input)\n",
        "          target.require_grad = False\n",
        "          output[(target == 0)] = 0\n",
        "          loss = criterion(output, target)\n",
        "  \n",
        "          mean_corrector = nb_movies/float(torch.sum(target.data > 0) + 1e-10)\n",
        "          test_loss += np.sqrt(loss.data*mean_corrector)\n",
        "          s += 1.\n",
        "          pred = sae(target)\n",
        "  print('test_loss: '+str(test_loss/s))\n",
        "\n",
        "\n",
        "\n"
      ],
      "execution_count": null,
      "outputs": [
        {
          "output_type": "stream",
          "text": [
            "test_loss: tensor(0.9515)\n"
          ],
          "name": "stdout"
        }
      ]
    },
    {
      "cell_type": "code",
      "metadata": {
        "colab_type": "code",
        "id": "swEp40OzPqWt",
        "colab": {}
      },
      "source": [
        "from math import sqrt\n"
      ],
      "execution_count": null,
      "outputs": []
    },
    {
      "cell_type": "code",
      "metadata": {
        "colab_type": "code",
        "id": "Gvsc5pS6PqWu",
        "colab": {
          "base_uri": "https://localhost:8080/",
          "height": 34
        },
        "outputId": "e8375585-00be-48c1-98e6-014627c2ad20"
      },
      "source": [
        "RMSE = sqrt(0.9515)\n",
        "\n",
        "RMSE"
      ],
      "execution_count": null,
      "outputs": [
        {
          "output_type": "execute_result",
          "data": {
            "text/plain": [
              "0.9754486147409304"
            ]
          },
          "metadata": {
            "tags": []
          },
          "execution_count": 79
        }
      ]
    },
    {
      "cell_type": "code",
      "metadata": {
        "colab_type": "code",
        "id": "Oq4H5gZrPqWw",
        "colab": {
          "base_uri": "https://localhost:8080/",
          "height": 295
        },
        "outputId": "c3c68781-5ffa-4467-9940-78b48b624ae7"
      },
      "source": [
        "epochs = range(1,201)\n",
        "plt.plot(epochs, losses, 'g', label='RMSprop')\n",
        "plt.plot(epochs, alosses, 'b', label='ADAM')\n",
        "plt.plot(epochs, slosses, 'r', label=' SGD ')\n",
        "plt.plot(epochs, adlosses, 'y', label=' Adagrad ')\n",
        "\n",
        "\n",
        "\n",
        "plt.title('Optimizer - epoch =200')\n",
        "plt.xlabel('Epochs')\n",
        "plt.ylabel('Training  Loss')\n",
        "\n",
        "plt.legend()\n",
        "plt.show()"
      ],
      "execution_count": null,
      "outputs": [
        {
          "output_type": "display_data",
          "data": {
            "image/png": "[encoded data removed]",
            "text/plain": [
              "<Figure size 432x288 with 1 Axes>"
            ]
          },
          "metadata": {
            "tags": [],
            "needs_background": "light"
          }
        }
      ]
    },
    {
      "cell_type": "code",
      "metadata": {
        "id": "ROPVua55S5o6",
        "colab_type": "code",
        "colab": {}
      },
      "source": [
        ""
      ],
      "execution_count": null,
      "outputs": []
    },
    {
      "cell_type": "markdown",
      "metadata": {
        "id": "VxyV2duiTEmx",
        "colab_type": "text"
      },
      "source": [
        "# Optimizer: AdaDelta\n",
        "\n",
        "* TRAINING LOSS: 1.0142\n",
        "* TEST LOSS: 1.0216\n",
        "* RMSE: 1.0107"
      ]
    },
    {
      "cell_type": "code",
      "metadata": {
        "id": "O8br18G_TFDx",
        "colab_type": "code",
        "colab": {}
      },
      "source": [
        ""
      ],
      "execution_count": null,
      "outputs": []
    },
    {
      "cell_type": "code",
      "metadata": {
        "colab_type": "code",
        "id": "CjmGUvxuTFWd",
        "colab": {}
      },
      "source": [
        "training = ['user_id', 'movie_id', 'rating', 'timestamp' ] #Create each column\n",
        "test = ['user_id', 'movie_id', 'rating', 'timestamp' ]     #Create each column"
      ],
      "execution_count": null,
      "outputs": []
    },
    {
      "cell_type": "code",
      "metadata": {
        "colab_type": "code",
        "id": "ewe5obzJTFWj",
        "colab": {}
      },
      "source": [
        "# Preparing the training set and the test set \n",
        "training_set = pd.read_csv('u1.base', names=training, delimiter = '\\t') # Read the file\n",
        "test_set = pd.read_csv('u1.test', names=test, delimiter = '\\t') #Read the file"
      ],
      "execution_count": null,
      "outputs": []
    },
    {
      "cell_type": "code",
      "metadata": {
        "colab_type": "code",
        "id": "Thub8QCLTFWq",
        "colab": {}
      },
      "source": [
        "#Drop 'timestamp' column\n",
        "training_set= training_set.drop([\"timestamp\"], axis=1)"
      ],
      "execution_count": null,
      "outputs": []
    },
    {
      "cell_type": "code",
      "metadata": {
        "colab_type": "code",
        "id": "YyDd8-t0TFWt",
        "colab": {}
      },
      "source": [
        "#Drop 'timestamp' column\n",
        "test_set= test_set.drop([\"timestamp\"], axis=1)"
      ],
      "execution_count": null,
      "outputs": []
    },
    {
      "cell_type": "code",
      "metadata": {
        "colab_type": "code",
        "id": "qU7LOOiiTFWw",
        "colab": {
          "base_uri": "https://localhost:8080/",
          "height": 204
        },
        "outputId": "94ec3885-15c2-4678-d75b-4474d6d1f9d0"
      },
      "source": [
        "# Visualizing the first elements of the training_set\n",
        "training_set.head()"
      ],
      "execution_count": null,
      "outputs": [
        {
          "output_type": "execute_result",
          "data": {
            "text/html": [
              "<div>\n",
              "<style scoped>\n",
              "    .dataframe tbody tr th:only-of-type {\n",
              "        vertical-align: middle;\n",
              "    }\n",
              "\n",
              "    .dataframe tbody tr th {\n",
              "        vertical-align: top;\n",
              "    }\n",
              "\n",
              "    .dataframe thead th {\n",
              "        text-align: right;\n",
              "    }\n",
              "</style>\n",
              "<table border=\"1\" class=\"dataframe\">\n",
              "  <thead>\n",
              "    <tr style=\"text-align: right;\">\n",
              "      <th></th>\n",
              "      <th>user_id</th>\n",
              "      <th>movie_id</th>\n",
              "      <th>rating</th>\n",
              "    </tr>\n",
              "  </thead>\n",
              "  <tbody>\n",
              "    <tr>\n",
              "      <th>0</th>\n",
              "      <td>1</td>\n",
              "      <td>1</td>\n",
              "      <td>5</td>\n",
              "    </tr>\n",
              "    <tr>\n",
              "      <th>1</th>\n",
              "      <td>1</td>\n",
              "      <td>2</td>\n",
              "      <td>3</td>\n",
              "    </tr>\n",
              "    <tr>\n",
              "      <th>2</th>\n",
              "      <td>1</td>\n",
              "      <td>3</td>\n",
              "      <td>4</td>\n",
              "    </tr>\n",
              "    <tr>\n",
              "      <th>3</th>\n",
              "      <td>1</td>\n",
              "      <td>4</td>\n",
              "      <td>3</td>\n",
              "    </tr>\n",
              "    <tr>\n",
              "      <th>4</th>\n",
              "      <td>1</td>\n",
              "      <td>5</td>\n",
              "      <td>3</td>\n",
              "    </tr>\n",
              "  </tbody>\n",
              "</table>\n",
              "</div>"
            ],
            "text/plain": [
              "   user_id  movie_id  rating\n",
              "0        1         1       5\n",
              "1        1         2       3\n",
              "2        1         3       4\n",
              "3        1         4       3\n",
              "4        1         5       3"
            ]
          },
          "metadata": {
            "tags": []
          },
          "execution_count": 85
        }
      ]
    },
    {
      "cell_type": "code",
      "metadata": {
        "colab_type": "code",
        "id": "Fwe5I1tVTFWy",
        "colab": {}
      },
      "source": [
        "# Converting the training and test sets into numpy arrays\n",
        "training_set = np.array(training_set, dtype = 'int')\n",
        "test_set = np.array(test_set, dtype = 'int')"
      ],
      "execution_count": null,
      "outputs": []
    },
    {
      "cell_type": "code",
      "metadata": {
        "colab_type": "code",
        "id": "kKj_0ca8TFW0",
        "colab": {}
      },
      "source": [
        "# Getting the number of users and movies\n",
        "nb_users = int(max(max(training_set[:, 0]), max(test_set[:, 0])))\n",
        "nb_movies = int(max(max(training_set[:, 1]), max(test_set[:, 1])))"
      ],
      "execution_count": null,
      "outputs": []
    },
    {
      "cell_type": "code",
      "metadata": {
        "colab_type": "code",
        "id": "NsGTvNFYTFW5",
        "colab": {
          "base_uri": "https://localhost:8080/",
          "height": 51
        },
        "outputId": "1dee3be5-1952-4d54-86a7-6f894606f84b"
      },
      "source": [
        "print(\"Number of users: {}\".format(nb_users))\n",
        "print(\"Number of movies: {}\".format(nb_movies))"
      ],
      "execution_count": null,
      "outputs": [
        {
          "output_type": "stream",
          "text": [
            "Number of users: 943\n",
            "Number of movies: 1682\n"
          ],
          "name": "stdout"
        }
      ]
    },
    {
      "cell_type": "code",
      "metadata": {
        "colab_type": "code",
        "id": "xaNjza2STFW_",
        "colab": {}
      },
      "source": [
        "def convert(data):\n",
        "    # Initializing an empty list that will take the list of ratings given by a specific user\n",
        "    new_data = []\n",
        "    # Looping over all the users\n",
        "    for id_users in range(1, nb_users + 1):\n",
        "        # We get the id of the movies rated by the current user\n",
        "        id_movies = data[:, 1][data[:, 0] == id_users]\n",
        "        # We get the id of the ratings given by the current_user\n",
        "        id_ratings = data[:, 2][data[:, 0] == id_users]\n",
        "        # \n",
        "        ratings = np.zeros(nb_movies)\n",
        "        # For movies rated by the current user, we replace 0 with the rating\n",
        "        # The first element of ratings is at index 0. However, id_movies start at index 1.\n",
        "        # Therefore, ratings[id_movies - 1] will correspond to the location of the movie we're considering\n",
        "        ratings[id_movies - 1] = id_ratings\n",
        "        new_data.append(list(ratings))\n",
        "    return new_data"
      ],
      "execution_count": null,
      "outputs": []
    },
    {
      "cell_type": "code",
      "metadata": {
        "colab_type": "code",
        "id": "L_y6qNqETFXB",
        "colab": {}
      },
      "source": [
        "# Applying the convert function to the training and test set.\n",
        "training_set = convert(training_set)\n",
        "test_set = convert(test_set)"
      ],
      "execution_count": null,
      "outputs": []
    },
    {
      "cell_type": "code",
      "metadata": {
        "colab_type": "code",
        "id": "RvcLPsRFTFXD",
        "colab": {}
      },
      "source": [
        "# Convert the data into Torch tensors\n",
        "training_set = torch.FloatTensor(training_set)\n",
        "test_set = torch.FloatTensor(test_set)"
      ],
      "execution_count": null,
      "outputs": []
    },
    {
      "cell_type": "code",
      "metadata": {
        "colab_type": "code",
        "id": "4bishNqyTFXF",
        "colab": {}
      },
      "source": [
        "# Create the SAE (stack autoencoder) class, which is inherited from nn.Module(Pytorch library)\n",
        "class SAE(nn.Module):\n",
        "    # Initializing the class\n",
        "    def __init__(self, ):\n",
        "        # making the class get all the functions from the parent class nn.Module\n",
        "        super(SAE, self).__init__()\n",
        "        # Creating the first encoding layer. The number of input corresponds to the number of movies\n",
        "        #  Decide to encode it into 20 outputs\n",
        "        self.fc1 = nn.Linear(nb_movies, 20)\n",
        "        # Creating the second encoding layer. From 20 inputs to 10 outputs\n",
        "        self.fc2 = nn.Linear(20, 10)\n",
        "        # Creating the first decoding layer. From 10 inputs to 20 outputs\n",
        "        self.fc3 = nn.Linear(10, 20)\n",
        "        # Creating the second hidden layer. From 20 inputs to nb_movies outputs\n",
        "        self.fc4 = nn.Linear(20, nb_movies)\n",
        "\n",
        "        #####  Activation Function: Sigmoid   #######\n",
        "\n",
        "        # Creating the activation fucntion which will fire up specific neurons \n",
        "        self.activation = nn.Sigmoid()\n",
        "        \n",
        "        # Creating the function for forward propagation\n",
        "    def forward(self, x):\n",
        "        x = self.activation(self.fc1(x))\n",
        "        x = self.activation(self.fc2(x))\n",
        "        x = self.activation(self.fc3(x))\n",
        "        # With autoencoder, we don't need an activation function for the last decoding part\n",
        "        x = self.fc4(x)\n",
        "        return x\n",
        "\n",
        "  \n",
        "\n",
        "\n",
        "  "
      ],
      "execution_count": null,
      "outputs": []
    },
    {
      "cell_type": "code",
      "metadata": {
        "colab_type": "code",
        "id": "rv9DAvJxTFXI",
        "colab": {}
      },
      "source": [
        " #Creating an instance of our SAE class\n",
        "sae = SAE()\n",
        "\n",
        "\n",
        " #Defining a criterion which specifies the metric to minimize.\n",
        " #In this case, we want to minimize the MSE (Mean Squared Error)\n",
        "\n",
        "criterion = nn.MSELoss()\n",
        "\n",
        "# Defining the algorithm used to minimize the loss function. \n",
        "#In this case, we'll use Adadelta\n",
        "\n",
        "optimizer = optim.Adadelta(sae.parameters(), lr = 0.01, weight_decay = 0.5)\n"
      ],
      "execution_count": null,
      "outputs": []
    },
    {
      "cell_type": "code",
      "metadata": {
        "colab_type": "code",
        "id": "7D5l-X02TFXK",
        "colab": {
          "base_uri": "https://localhost:8080/",
          "height": 1000
        },
        "outputId": "9f209558-700e-4b63-9746-4d3473cb4e84"
      },
      "source": [
        "\n",
        "\n",
        "#time\n",
        "time_start = time.time()\n",
        "# Setting the number of epochs\n",
        "nb_epoch = 200\n",
        "\n",
        "# storing the  traning loss calculations\n",
        "addlosses = [] \n",
        "\n",
        "# Iterating over each epoch\n",
        "for epoch in range(1, nb_epoch + 1):\n",
        "    # Initializing the train_loss which will be updated\n",
        "    train_loss = 0\n",
        "    # Initializing a counter\n",
        "    s = 0.\n",
        "    # Iterating over each user\n",
        "    for id_user in range(nb_users):\n",
        "        # The input corresponds to the ratings given by the current user for each movie\n",
        "        input = Variable(training_set[id_user]).unsqueeze(0)\n",
        "        target = input.clone()\n",
        "        # We don't consider movies NOT rated by the current user. So we specify a conditional statement\n",
        "        if torch.sum(target.data > 0) > 0:\n",
        "            # We use our SAE to get the output from the \n",
        "            output = sae(input)\n",
        "            target.require_grad = False\n",
        "            output[target == 0] = 0\n",
        "            # Defining our loss function, comparing the output with the target\n",
        "            loss = criterion(output, target)\n",
        "            mean_corrector = nb_movies/float(torch.sum(target.data > 0) + 1e-10)\n",
        "            # Computing the gradients necessary to adjust the weights\n",
        "            loss.backward()\n",
        "            # Updating the train_loss\n",
        "            train_loss += np.sqrt(loss.data*mean_corrector)\n",
        "            s += 1.\n",
        "            # Updating the weights of the neural network\n",
        "            optimizer.step()\n",
        "\n",
        "    epoch_loss = train_loss / len(training_set[id_user])\n",
        "    addlosses.append(epoch_loss)  \n",
        "    print('epoch: '+str(epoch)+' loss: '+str(train_loss/s))\n",
        "time_end = time.time()\n",
        "print('Stacked-Autoencoder(SAE) Training Time : ' +str(round((time_end-time_start)/60,0))+' Minutes. ')"
      ],
      "execution_count": null,
      "outputs": [
        {
          "output_type": "stream",
          "text": [
            "epoch: 1 loss: tensor(3.0223)\n",
            "epoch: 2 loss: tensor(1.7616)\n",
            "epoch: 3 loss: tensor(1.3280)\n",
            "epoch: 4 loss: tensor(1.1059)\n",
            "epoch: 5 loss: tensor(1.0425)\n",
            "epoch: 6 loss: tensor(1.0279)\n",
            "epoch: 7 loss: tensor(1.0240)\n",
            "epoch: 8 loss: tensor(1.0223)\n",
            "epoch: 9 loss: tensor(1.0210)\n",
            "epoch: 10 loss: tensor(1.0198)\n",
            "epoch: 11 loss: tensor(1.0190)\n",
            "epoch: 12 loss: tensor(1.0184)\n",
            "epoch: 13 loss: tensor(1.0180)\n",
            "epoch: 14 loss: tensor(1.0176)\n",
            "epoch: 15 loss: tensor(1.0173)\n",
            "epoch: 16 loss: tensor(1.0170)\n",
            "epoch: 17 loss: tensor(1.0168)\n",
            "epoch: 18 loss: tensor(1.0167)\n",
            "epoch: 19 loss: tensor(1.0165)\n",
            "epoch: 20 loss: tensor(1.0164)\n",
            "epoch: 21 loss: tensor(1.0163)\n",
            "epoch: 22 loss: tensor(1.0162)\n",
            "epoch: 23 loss: tensor(1.0161)\n",
            "epoch: 24 loss: tensor(1.0160)\n",
            "epoch: 25 loss: tensor(1.0160)\n",
            "epoch: 26 loss: tensor(1.0159)\n",
            "epoch: 27 loss: tensor(1.0158)\n",
            "epoch: 28 loss: tensor(1.0158)\n",
            "epoch: 29 loss: tensor(1.0158)\n",
            "epoch: 30 loss: tensor(1.0157)\n",
            "epoch: 31 loss: tensor(1.0157)\n",
            "epoch: 32 loss: tensor(1.0157)\n",
            "epoch: 33 loss: tensor(1.0157)\n",
            "epoch: 34 loss: tensor(1.0156)\n",
            "epoch: 35 loss: tensor(1.0156)\n",
            "epoch: 36 loss: tensor(1.0156)\n",
            "epoch: 37 loss: tensor(1.0156)\n",
            "epoch: 38 loss: tensor(1.0156)\n",
            "epoch: 39 loss: tensor(1.0156)\n",
            "epoch: 40 loss: tensor(1.0155)\n",
            "epoch: 41 loss: tensor(1.0155)\n",
            "epoch: 42 loss: tensor(1.0155)\n",
            "epoch: 43 loss: tensor(1.0155)\n",
            "epoch: 44 loss: tensor(1.0155)\n",
            "epoch: 45 loss: tensor(1.0155)\n",
            "epoch: 46 loss: tensor(1.0155)\n",
            "epoch: 47 loss: tensor(1.0155)\n",
            "epoch: 48 loss: tensor(1.0155)\n",
            "epoch: 49 loss: tensor(1.0155)\n",
            "epoch: 50 loss: tensor(1.0155)\n",
            "epoch: 51 loss: tensor(1.0155)\n",
            "epoch: 52 loss: tensor(1.0155)\n",
            "epoch: 53 loss: tensor(1.0155)\n",
            "epoch: 54 loss: tensor(1.0155)\n",
            "epoch: 55 loss: tensor(1.0155)\n",
            "epoch: 56 loss: tensor(1.0155)\n",
            "epoch: 57 loss: tensor(1.0155)\n",
            "epoch: 58 loss: tensor(1.0155)\n",
            "epoch: 59 loss: tensor(1.0154)\n",
            "epoch: 60 loss: tensor(1.0154)\n",
            "epoch: 61 loss: tensor(1.0154)\n",
            "epoch: 62 loss: tensor(1.0154)\n",
            "epoch: 63 loss: tensor(1.0154)\n",
            "epoch: 64 loss: tensor(1.0154)\n",
            "epoch: 65 loss: tensor(1.0154)\n",
            "epoch: 66 loss: tensor(1.0154)\n",
            "epoch: 67 loss: tensor(1.0154)\n",
            "epoch: 68 loss: tensor(1.0154)\n",
            "epoch: 69 loss: tensor(1.0154)\n",
            "epoch: 70 loss: tensor(1.0154)\n",
            "epoch: 71 loss: tensor(1.0154)\n",
            "epoch: 72 loss: tensor(1.0154)\n",
            "epoch: 73 loss: tensor(1.0154)\n",
            "epoch: 74 loss: tensor(1.0154)\n",
            "epoch: 75 loss: tensor(1.0154)\n",
            "epoch: 76 loss: tensor(1.0154)\n",
            "epoch: 77 loss: tensor(1.0153)\n",
            "epoch: 78 loss: tensor(1.0153)\n",
            "epoch: 79 loss: tensor(1.0153)\n",
            "epoch: 80 loss: tensor(1.0153)\n",
            "epoch: 81 loss: tensor(1.0153)\n",
            "epoch: 82 loss: tensor(1.0152)\n",
            "epoch: 83 loss: tensor(1.0152)\n",
            "epoch: 84 loss: tensor(1.0151)\n",
            "epoch: 85 loss: tensor(1.0151)\n",
            "epoch: 86 loss: tensor(1.0150)\n",
            "epoch: 87 loss: tensor(1.0150)\n",
            "epoch: 88 loss: tensor(1.0149)\n",
            "epoch: 89 loss: tensor(1.0148)\n",
            "epoch: 90 loss: tensor(1.0147)\n",
            "epoch: 91 loss: tensor(1.0147)\n",
            "epoch: 92 loss: tensor(1.0146)\n",
            "epoch: 93 loss: tensor(1.0145)\n",
            "epoch: 94 loss: tensor(1.0145)\n",
            "epoch: 95 loss: tensor(1.0145)\n",
            "epoch: 96 loss: tensor(1.0144)\n",
            "epoch: 97 loss: tensor(1.0144)\n",
            "epoch: 98 loss: tensor(1.0144)\n",
            "epoch: 99 loss: tensor(1.0144)\n",
            "epoch: 100 loss: tensor(1.0143)\n",
            "epoch: 101 loss: tensor(1.0143)\n",
            "epoch: 102 loss: tensor(1.0143)\n",
            "epoch: 103 loss: tensor(1.0143)\n",
            "epoch: 104 loss: tensor(1.0143)\n",
            "epoch: 105 loss: tensor(1.0143)\n",
            "epoch: 106 loss: tensor(1.0143)\n",
            "epoch: 107 loss: tensor(1.0143)\n",
            "epoch: 108 loss: tensor(1.0143)\n",
            "epoch: 109 loss: tensor(1.0143)\n",
            "epoch: 110 loss: tensor(1.0143)\n",
            "epoch: 111 loss: tensor(1.0143)\n",
            "epoch: 112 loss: tensor(1.0143)\n",
            "epoch: 113 loss: tensor(1.0143)\n",
            "epoch: 114 loss: tensor(1.0142)\n",
            "epoch: 115 loss: tensor(1.0143)\n",
            "epoch: 116 loss: tensor(1.0142)\n",
            "epoch: 117 loss: tensor(1.0143)\n",
            "epoch: 118 loss: tensor(1.0142)\n",
            "epoch: 119 loss: tensor(1.0143)\n",
            "epoch: 120 loss: tensor(1.0142)\n",
            "epoch: 121 loss: tensor(1.0142)\n",
            "epoch: 122 loss: tensor(1.0142)\n",
            "epoch: 123 loss: tensor(1.0142)\n",
            "epoch: 124 loss: tensor(1.0142)\n",
            "epoch: 125 loss: tensor(1.0142)\n",
            "epoch: 126 loss: tensor(1.0142)\n",
            "epoch: 127 loss: tensor(1.0142)\n",
            "epoch: 128 loss: tensor(1.0142)\n",
            "epoch: 129 loss: tensor(1.0142)\n",
            "epoch: 130 loss: tensor(1.0142)\n",
            "epoch: 131 loss: tensor(1.0142)\n",
            "epoch: 132 loss: tensor(1.0142)\n",
            "epoch: 133 loss: tensor(1.0142)\n",
            "epoch: 134 loss: tensor(1.0142)\n",
            "epoch: 135 loss: tensor(1.0142)\n",
            "epoch: 136 loss: tensor(1.0142)\n",
            "epoch: 137 loss: tensor(1.0142)\n",
            "epoch: 138 loss: tensor(1.0142)\n",
            "epoch: 139 loss: tensor(1.0142)\n",
            "epoch: 140 loss: tensor(1.0142)\n",
            "epoch: 141 loss: tensor(1.0142)\n",
            "epoch: 142 loss: tensor(1.0142)\n",
            "epoch: 143 loss: tensor(1.0142)\n",
            "epoch: 144 loss: tensor(1.0142)\n",
            "epoch: 145 loss: tensor(1.0142)\n",
            "epoch: 146 loss: tensor(1.0142)\n",
            "epoch: 147 loss: tensor(1.0142)\n",
            "epoch: 148 loss: tensor(1.0142)\n",
            "epoch: 149 loss: tensor(1.0142)\n",
            "epoch: 150 loss: tensor(1.0142)\n",
            "epoch: 151 loss: tensor(1.0142)\n",
            "epoch: 152 loss: tensor(1.0142)\n",
            "epoch: 153 loss: tensor(1.0142)\n",
            "epoch: 154 loss: tensor(1.0142)\n",
            "epoch: 155 loss: tensor(1.0142)\n",
            "epoch: 156 loss: tensor(1.0142)\n",
            "epoch: 157 loss: tensor(1.0142)\n",
            "epoch: 158 loss: tensor(1.0142)\n",
            "epoch: 159 loss: tensor(1.0142)\n",
            "epoch: 160 loss: tensor(1.0142)\n",
            "epoch: 161 loss: tensor(1.0142)\n",
            "epoch: 162 loss: tensor(1.0142)\n",
            "epoch: 163 loss: tensor(1.0142)\n",
            "epoch: 164 loss: tensor(1.0142)\n",
            "epoch: 165 loss: tensor(1.0142)\n",
            "epoch: 166 loss: tensor(1.0142)\n",
            "epoch: 167 loss: tensor(1.0142)\n",
            "epoch: 168 loss: tensor(1.0142)\n",
            "epoch: 169 loss: tensor(1.0142)\n",
            "epoch: 170 loss: tensor(1.0142)\n",
            "epoch: 171 loss: tensor(1.0142)\n",
            "epoch: 172 loss: tensor(1.0142)\n",
            "epoch: 173 loss: tensor(1.0142)\n",
            "epoch: 174 loss: tensor(1.0142)\n",
            "epoch: 175 loss: tensor(1.0142)\n",
            "epoch: 176 loss: tensor(1.0142)\n",
            "epoch: 177 loss: tensor(1.0142)\n",
            "epoch: 178 loss: tensor(1.0142)\n",
            "epoch: 179 loss: tensor(1.0142)\n",
            "epoch: 180 loss: tensor(1.0142)\n",
            "epoch: 181 loss: tensor(1.0142)\n",
            "epoch: 182 loss: tensor(1.0142)\n",
            "epoch: 183 loss: tensor(1.0142)\n",
            "epoch: 184 loss: tensor(1.0142)\n",
            "epoch: 185 loss: tensor(1.0142)\n",
            "epoch: 186 loss: tensor(1.0142)\n",
            "epoch: 187 loss: tensor(1.0142)\n",
            "epoch: 188 loss: tensor(1.0142)\n",
            "epoch: 189 loss: tensor(1.0142)\n",
            "epoch: 190 loss: tensor(1.0142)\n",
            "epoch: 191 loss: tensor(1.0142)\n",
            "epoch: 192 loss: tensor(1.0142)\n",
            "epoch: 193 loss: tensor(1.0142)\n",
            "epoch: 194 loss: tensor(1.0142)\n",
            "epoch: 195 loss: tensor(1.0142)\n",
            "epoch: 196 loss: tensor(1.0142)\n",
            "epoch: 197 loss: tensor(1.0142)\n",
            "epoch: 198 loss: tensor(1.0142)\n",
            "epoch: 199 loss: tensor(1.0142)\n",
            "epoch: 200 loss: tensor(1.0142)\n",
            "Stacked-Autoencoder(SAE) Training Time : 6.0 Minutes. \n"
          ],
          "name": "stdout"
        }
      ]
    },
    {
      "cell_type": "code",
      "metadata": {
        "colab_type": "code",
        "id": "AZy3FcgzTFXM",
        "colab": {
          "base_uri": "https://localhost:8080/",
          "height": 295
        },
        "outputId": "123b3fe4-ebcd-4cc9-dcb2-158be5b3801c"
      },
      "source": [
        "epochs = range(1,201)\n",
        "plt.plot(epochs, addlosses, 'c', label=' Adadelta ') # 'g' = color green\n",
        "plt.title('Optimizer - epoch =200')\n",
        "plt.xlabel('Epochs')\n",
        "plt.ylabel('Training  Loss')\n",
        "\n",
        "plt.legend()\n",
        "plt.show()"
      ],
      "execution_count": null,
      "outputs": [
        {
          "output_type": "display_data",
          "data": {
            "image/png": "[encoded data removed]",
            "text/plain": [
              "<Figure size 432x288 with 1 Axes>"
            ]
          },
          "metadata": {
            "tags": [],
            "needs_background": "light"
          }
        }
      ]
    },
    {
      "cell_type": "code",
      "metadata": {
        "colab_type": "code",
        "id": "Zbkv6_ZTTFXP",
        "colab": {
          "base_uri": "https://localhost:8080/",
          "height": 34
        },
        "outputId": "a1d350fa-b281-41f4-f043-86bb4e9d6188"
      },
      "source": [
        "# Initializing the test_loss\n",
        "sae.eval()\n",
        "with torch.no_grad():\n",
        "  test_loss = 0\n",
        "  s = 0.\n",
        "  for id_user in range(nb_users):\n",
        "      input = Variable(training_set[id_user]).unsqueeze(0)\n",
        "      target = Variable(test_set[id_user]).unsqueeze(0)\n",
        "      if torch.sum(target.data > 0) > 0:\n",
        "          output = sae(input)\n",
        "          target.require_grad = False\n",
        "          output[(target == 0)] = 0\n",
        "          loss = criterion(output, target)\n",
        "  \n",
        "          mean_corrector = nb_movies/float(torch.sum(target.data > 0) + 1e-10)\n",
        "          test_loss += np.sqrt(loss.data*mean_corrector)\n",
        "          s += 1.\n",
        "          pred = sae(target)\n",
        "  print('test_loss: '+str(test_loss/s))\n",
        "\n",
        "\n",
        "\n"
      ],
      "execution_count": null,
      "outputs": [
        {
          "output_type": "stream",
          "text": [
            "test_loss: tensor(1.0216)\n"
          ],
          "name": "stdout"
        }
      ]
    },
    {
      "cell_type": "code",
      "metadata": {
        "id": "ng6nAJ5NY7eI",
        "colab_type": "code",
        "colab": {}
      },
      "source": [
        ""
      ],
      "execution_count": null,
      "outputs": []
    },
    {
      "cell_type": "code",
      "metadata": {
        "colab_type": "code",
        "id": "ssZ--bV1TFXR",
        "colab": {}
      },
      "source": [
        "from math import sqrt\n"
      ],
      "execution_count": null,
      "outputs": []
    },
    {
      "cell_type": "code",
      "metadata": {
        "colab_type": "code",
        "id": "Yp2mgdYCTFXV",
        "colab": {
          "base_uri": "https://localhost:8080/",
          "height": 34
        },
        "outputId": "722a8c84-75c1-4931-d24b-047eee785996"
      },
      "source": [
        "RMSE = sqrt(1.0216)\n",
        "\n",
        "RMSE"
      ],
      "execution_count": null,
      "outputs": [
        {
          "output_type": "execute_result",
          "data": {
            "text/plain": [
              "1.0107423014794623"
            ]
          },
          "metadata": {
            "tags": []
          },
          "execution_count": 102
        }
      ]
    },
    {
      "cell_type": "code",
      "metadata": {
        "colab_type": "code",
        "id": "F9fC2x2hTFXX",
        "colab": {
          "base_uri": "https://localhost:8080/",
          "height": 295
        },
        "outputId": "ae9509ce-9d62-4367-ce80-5ddf4b1444f4"
      },
      "source": [
        "\n",
        "epochs = range(1,201)\n",
        "plt.plot(epochs, losses, 'g', label='RMSprop')\n",
        "plt.plot(epochs, alosses, 'b', label='ADAM')\n",
        "plt.plot(epochs, slosses, 'r', label=' SGD ')\n",
        "plt.plot(epochs, adlosses, 'y', label=' Adagrad ')\n",
        "plt.plot(epochs, addlosses, 'c', label=' Adadelta ')\n",
        "\n",
        "\n",
        "plt.title('Optimizer - epoch =200')\n",
        "plt.xlabel('Epochs')\n",
        "plt.ylabel('Training  Loss')\n",
        "\n",
        "plt.legend()\n",
        "plt.show()"
      ],
      "execution_count": null,
      "outputs": [
        {
          "output_type": "display_data",
          "data": {
            "image/png": "[encoded data removed]",
            "text/plain": [
              "<Figure size 432x288 with 1 Axes>"
            ]
          },
          "metadata": {
            "tags": [],
            "needs_background": "light"
          }
        }
      ]
    }
  ]
}